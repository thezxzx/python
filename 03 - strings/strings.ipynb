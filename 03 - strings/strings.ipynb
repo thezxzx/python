{
 "cells": [
  {
   "cell_type": "markdown",
   "metadata": {},
   "source": [
    "# Strings en `Python`"
   ]
  },
  {
   "cell_type": "markdown",
   "metadata": {},
   "source": [
    "#### Variable string\n",
    "\n",
    "**String.** Cadena ordenaa de caracteres.\n",
    "Una variable de tipo string es quella que guarda un string. Cuando queremos que una variable se trate de una variable de tipo string `str` en `Python`, a la hora de declararla, el contenido de la variable debe ir o bien entre comillas dobles `\" \"`, o bien entre comillas simples `' '`."
   ]
  },
  {
   "cell_type": "code",
   "execution_count": null,
   "metadata": {},
   "outputs": [
    {
     "data": {
      "text/plain": [
       "str"
      ]
     },
     "execution_count": 1,
     "metadata": {},
     "output_type": "execute_result"
    }
   ],
   "source": [
    "s1 = \"Esto es un string entre comillas dobles\"\n",
    "type(s1)"
   ]
  },
  {
   "cell_type": "code",
   "execution_count": null,
   "metadata": {},
   "outputs": [
    {
     "data": {
      "text/plain": [
       "str"
      ]
     },
     "execution_count": 2,
     "metadata": {},
     "output_type": "execute_result"
    }
   ],
   "source": [
    "s2 = 'Esto es un string entre comillas simples'\n",
    "type(s2)"
   ]
  },
  {
   "cell_type": "markdown",
   "metadata": {},
   "source": [
    "**¡Cuidado!** `Python` no trabaja bien con los acentos. Por tanto, aunque no esté del todo bien escrito, mejor evitarlos, pues nos ahorraremos muchos problemas."
   ]
  },
  {
   "cell_type": "markdown",
   "metadata": {},
   "source": [
    "#### String literals\n",
    "\n",
    "El hecho de que el contenido de las variables de tipo `str` vaya entre comillas, ya sean simples o dobles, conlleva a que algunos caracteres deban ser tratados de forma especial.\n",
    "\n",
    "Aquí entran en juego los string literals. Algunos de los mśa utilizados se muestran en la siguiente tabla:\n",
    "\n",
    "<table>\n",
    "  <tr>\n",
    "    <th>Código</th>\n",
    "    <th>Significado</th>\n",
    "  </tr>\n",
    "  <tr>\n",
    "    <td>\\\\</td>\n",
    "    <td>Backslash, \\</td>\n",
    "  </tr>\n",
    "  <tr>\n",
    "    <td>\\'</td>\n",
    "    <td>Comilla simple, '</td>\n",
    "  </tr>\n",
    "  <tr>\n",
    "    <td>\\\"</td>\n",
    "    <td>Comilla doble, \"</td>\n",
    "  </tr>\n",
    "  <tr>\n",
    "    <td>\\n</td>\n",
    "    <td>Salto de línea</td>\n",
    "  </tr>\n",
    "  <tr>\n",
    "    <td>\\t</td>\n",
    "    <td>Tabulación horizontal</td>\n",
    "  </tr>\n",
    "</table>\n",
    "\n",
    "Para tener más información de los string literals ir a la documentación.\n",
    "\n",
    "___\n",
    "\n",
    "##### Ejemplo 1\n",
    "\n",
    "Si queremos guardar en una variable el siguiente texto,\n",
    "\n",
    "`Juan dijo: \"me gusta el chocolate\"`\n",
    "\n",
    "lo tendremos que hacer del siguiente modo"
   ]
  },
  {
   "cell_type": "code",
   "execution_count": null,
   "metadata": {},
   "outputs": [
    {
     "data": {
      "text/plain": [
       "'Juan dijo: \"me gusta el chocolate\"'"
      ]
     },
     "execution_count": 3,
     "metadata": {},
     "output_type": "execute_result"
    }
   ],
   "source": [
    "s1 = \"Juan dijo: \\\"me gusta el chocolate\\\"\"\n",
    "s1"
   ]
  },
  {
   "cell_type": "markdown",
   "metadata": {},
   "source": [
    "**Observación.** Si usamos comillasdobles, para guardar la frase de este ejmplo necesitaremos usar string literals, ya que si no nos saltará error. Sin embargo, si usamos comilla simples, para guardar la frase de este ejemplo en una variable no hace falta que cambiemos nada.\n",
    "\n",
    "___\n",
    "___\n",
    "\n",
    "##### Ejemplo 2\n",
    "\n",
    "Si queremos guardar en una variable el siguiente texto,\n",
    "\n",
    "`Ricardo dijo: 'me gusta la playa'`\n",
    "\n",
    "lo tendremos que hacer del siguiente modo"
   ]
  },
  {
   "cell_type": "code",
   "execution_count": null,
   "metadata": {},
   "outputs": [
    {
     "data": {
      "text/plain": [
       "\"Ricardo dijo: 'me gusta la playa'\""
      ]
     },
     "execution_count": 7,
     "metadata": {},
     "output_type": "execute_result"
    }
   ],
   "source": [
    "s1 = \"Ricardo dijo: 'me gusta la playa'\"\n",
    "s1"
   ]
  },
  {
   "cell_type": "code",
   "execution_count": null,
   "metadata": {},
   "outputs": [
    {
     "data": {
      "text/plain": [
       "\"Ricardo dijo: 'me gusta la playa'\""
      ]
     },
     "execution_count": 8,
     "metadata": {},
     "output_type": "execute_result"
    }
   ],
   "source": [
    "s2 = 'Ricardo dijo: \\'me gusta la playa\\''\n",
    "s2"
   ]
  },
  {
   "cell_type": "markdown",
   "metadata": {},
   "source": [
    "**Observación.** Si usamos comillas dobles, para guardar la frase de este ejemplo no necesitaremos usar string literals. Sin embargo, si usamos comillas simples, para guardar la frase de este ejemplo en una variable tendremos que usar string literals, porque si no nos saltará un error.\n",
    "\n",
    "___\n",
    "___\n",
    "\n",
    "##### Ejemplo 3\n",
    "\n",
    "Si queremos guardar en una variable el siguiente texto y que se convserve el salto de línea\n",
    "```\n",
    "Con diez cañones por banda,\n",
    "viento en popa a toda vela\n",
    "```\n",
    "\n",
    "lo tendremos que hacer del siguiente modo"
   ]
  },
  {
   "cell_type": "code",
   "execution_count": null,
   "metadata": {},
   "outputs": [
    {
     "data": {
      "text/plain": [
       "'Con diez cañones por banda, \\nviento en popa a toda vela'"
      ]
     },
     "execution_count": 10,
     "metadata": {},
     "output_type": "execute_result"
    }
   ],
   "source": [
    "s3 = \"Con diez cañones por banda, \\nviento en popa a toda vela\"\n",
    "s3"
   ]
  },
  {
   "cell_type": "markdown",
   "metadata": {},
   "source": [
    "**Observación.** El resultado con el salto de línea aplicado lo veremos cuando hablemos de la función `print()`, cosa que haremos más adelante en esta sección."
   ]
  },
  {
   "cell_type": "markdown",
   "metadata": {},
   "source": [
    "#### Concatenación de strings\n",
    "\n",
    "La concatenación es una operación que une dos o más strings en uno solo.\n",
    "\n",
    "En `Python`, para concatenar dos variables de tipo string usamos la función `+`."
   ]
  },
  {
   "cell_type": "code",
   "execution_count": null,
   "metadata": {},
   "outputs": [
    {
     "data": {
      "text/plain": [
       "'Hola, Juan'"
      ]
     },
     "execution_count": 2,
     "metadata": {},
     "output_type": "execute_result"
    }
   ],
   "source": [
    "s1 = \"Hola, \"\n",
    "s2 = \"Juan\"\n",
    "s1 + s2"
   ]
  },
  {
   "cell_type": "markdown",
   "metadata": {},
   "source": [
    "**Observación.** La concatenación viene a ser como pegar el final del primer string con el principio del segundo. Entonces, conviene poner un espacio al final de la primera variable a concatenar, o bien al principio de la segunda para que así, al realizar la concatenación, exista ese espacio entre las palabras.\n",
    "\n",
    "De no añadir espacios adicionales, obtendríamos resultados como el mostrado en el siguiente chunk:"
   ]
  },
  {
   "cell_type": "code",
   "execution_count": null,
   "metadata": {},
   "outputs": [
    {
     "data": {
      "text/plain": [
       "'Bienvenidoal curso.'"
      ]
     },
     "execution_count": 3,
     "metadata": {},
     "output_type": "execute_result"
    }
   ],
   "source": [
    "s1 = \"Bienvenido\"\n",
    "s2 = \"al curso.\"\n",
    "s1 + s2"
   ]
  },
  {
   "cell_type": "markdown",
   "metadata": {},
   "source": [
    "Si dejamos un espacio adicional al final del string `s1`, obtenemos"
   ]
  },
  {
   "cell_type": "code",
   "execution_count": null,
   "metadata": {},
   "outputs": [
    {
     "data": {
      "text/plain": [
       "'Bienvenido al curso.'"
      ]
     },
     "execution_count": 4,
     "metadata": {},
     "output_type": "execute_result"
    }
   ],
   "source": [
    "s1 = \"Bienvenido\"\n",
    "s2 = \" al curso.\"\n",
    "s1 + s2"
   ]
  },
  {
   "cell_type": "markdown",
   "metadata": {},
   "source": [
    "Si dejamos un espacio adicional tanto al final del `s1` como al principio del string `s2` obtenemos"
   ]
  },
  {
   "cell_type": "code",
   "execution_count": null,
   "metadata": {},
   "outputs": [
    {
     "data": {
      "text/plain": [
       "'Bienvenido  al curso.'"
      ]
     },
     "execution_count": 5,
     "metadata": {},
     "output_type": "execute_result"
    }
   ],
   "source": [
    "s1 = \"Bienvenido \"\n",
    "s2 = \" al curso.\"\n",
    "s1 + s2"
   ]
  },
  {
   "cell_type": "markdown",
   "metadata": {},
   "source": [
    "Si dejamos más de un espacio adicional ya sea al final del string `s1` como al principio del string `s2` obtenemos"
   ]
  },
  {
   "cell_type": "code",
   "execution_count": null,
   "metadata": {},
   "outputs": [
    {
     "data": {
      "text/plain": [
       "'Bienvenido   al curso.'"
      ]
     },
     "execution_count": 6,
     "metadata": {},
     "output_type": "execute_result"
    }
   ],
   "source": [
    "s1 = \"Bienvenido   \" # Se han dejado 3 espacios adicionales\n",
    "s2 = \"al curso.\"\n",
    "s1 + s2"
   ]
  },
  {
   "cell_type": "markdown",
   "metadata": {},
   "source": [
    "**Observación.** El número de espacios añadidos se conserva. Más adelante en esta sección veremos como eliminar los espacios en blanco sobrantes."
   ]
  },
  {
   "cell_type": "markdown",
   "metadata": {},
   "source": [
    "#### Repetición de strings\n",
    "\n",
    "La repetición es una operación que repite la variable string tantas veces como indiquemos.\n",
    "\n",
    "En `Python`, para repetir una variable de tipo string usamos la función `*`. El orden de los factores no altera el producto. Es decir, tanto da usar la sintaxis `num_repeticiones * variable_str` como `variable_str * num_repeticiones`."
   ]
  },
  {
   "cell_type": "code",
   "execution_count": null,
   "metadata": {},
   "outputs": [
    {
     "data": {
      "text/plain": [
       "'¿Falta mucho? ¿Falta mucho? ¿Falta mucho? ¿Falta mucho? ¿Falta mucho? '"
      ]
     },
     "execution_count": 7,
     "metadata": {},
     "output_type": "execute_result"
    }
   ],
   "source": [
    "s1 = \"¿Falta mucho? \"\n",
    "s1 * 5"
   ]
  },
  {
   "cell_type": "code",
   "execution_count": null,
   "metadata": {},
   "outputs": [
    {
     "data": {
      "text/plain": [
       "' ¿Hemos llegado ya? ¿Hemos llegado ya? ¿Hemos llegado ya? ¿Hemos llegado ya? ¿Hemos llegado ya?'"
      ]
     },
     "execution_count": 8,
     "metadata": {},
     "output_type": "execute_result"
    }
   ],
   "source": [
    "s2 = \" ¿Hemos llegado ya?\"\n",
    "5 * s2"
   ]
  },
  {
   "cell_type": "markdown",
   "metadata": {},
   "source": [
    "**Observación.** Al igual que ocurría con la concatenación, hay que añadir manualmente uno o más espacios en blanco al principio o al final del string para que las repeticiones no estén pegadas las unas a las otras, tal y como ocurre en el siguiente chunk de código."
   ]
  },
  {
   "cell_type": "code",
   "execution_count": null,
   "metadata": {},
   "outputs": [
    {
     "data": {
      "text/plain": [
       "'Había una vez un barquito chiquitoHabía una vez un barquito chiquito'"
      ]
     },
     "execution_count": 9,
     "metadata": {},
     "output_type": "execute_result"
    }
   ],
   "source": [
    "s3 = \"Había una vez un barquito chiquito\"\n",
    "s3 * 2"
   ]
  },
  {
   "cell_type": "markdown",
   "metadata": {},
   "source": [
    "#### La función `print()`\n",
    "\n",
    "Hasta ahora, cada vez que mostrábamos strings por pantalla, estos salían entre comillas simples.\n",
    "\n",
    "La función `print()` nos sirve, entre otras muchas cosas, para mostrar strings por pantalla."
   ]
  },
  {
   "cell_type": "code",
   "execution_count": null,
   "metadata": {},
   "outputs": [
    {
     "data": {
      "text/plain": [
       "'Hello World'"
      ]
     },
     "execution_count": 10,
     "metadata": {},
     "output_type": "execute_result"
    }
   ],
   "source": [
    "s = \"Hello World\"\n",
    "s"
   ]
  },
  {
   "cell_type": "code",
   "execution_count": null,
   "metadata": {},
   "outputs": [
    {
     "name": "stdout",
     "output_type": "stream",
     "text": [
      "Hello World\n"
     ]
    }
   ],
   "source": [
    "print(s)"
   ]
  },
  {
   "cell_type": "markdown",
   "metadata": {},
   "source": [
    "**Observación.** Como ven, una de las principales diferencias entre usar la función `print()` o no usarla es que a la hora de mostrar la cadena de caracteres por pantalla, ésta no va entre comillas simples y el formato en que se imprime también es diferente.\n",
    "\n",
    "No solamente podemos imprimir strings, sino que podemos mostrar el resultado de cualquier variable (númerica o de tipo string)."
   ]
  },
  {
   "cell_type": "code",
   "execution_count": null,
   "metadata": {},
   "outputs": [
    {
     "name": "stdout",
     "output_type": "stream",
     "text": [
      "Vivo en una isla\n"
     ]
    }
   ],
   "source": [
    "x = \"Vivo en una isla\"\n",
    "print(x)"
   ]
  },
  {
   "cell_type": "code",
   "execution_count": null,
   "metadata": {},
   "outputs": [
    {
     "name": "stdout",
     "output_type": "stream",
     "text": [
      "2.0\n"
     ]
    }
   ],
   "source": [
    "y = 2.0\n",
    "print(y)"
   ]
  },
  {
   "cell_type": "markdown",
   "metadata": {},
   "source": [
    "Al igual que podíamos concatenar strings con la función `+`, combinando ésta junto con la función `print()` podemos concatenar strings con variables que almacenan strings."
   ]
  },
  {
   "cell_type": "code",
   "execution_count": null,
   "metadata": {},
   "outputs": [
    {
     "name": "stdout",
     "output_type": "stream",
     "text": [
      "¡Buenos días, Don Pepito!\n"
     ]
    }
   ],
   "source": [
    "name = \"Don Pepito\"\n",
    "print(\"¡Buenos días, \" + name + \"!\")"
   ]
  },
  {
   "cell_type": "markdown",
   "metadata": {},
   "source": [
    "**Observación.** Recordar introducir un espacio adicional siempre que vayan a concatenar cualquier cosa (strings con strings, strings con variables...), para que así el resultado quede legible.\n",
    "\n",
    "**Observación.** Utilizando la función `print()`, el uso de acentos o de algunos caracteres especiales como `¿` o `¡` ya no dan problemas a la hora de mostrarse por pantalla.\n",
    "\n",
    "**Observación.** Podemos obtener exactamente el mismo resultatdo utilizando comas (`,`) en vez de la funciój `+`. Eso sí, después de cada coma se nos añade automáticamente un espacio en blanco que no siempre buscamos, como ocurre a continuaciónj después del resultado de la variable `name`."
   ]
  },
  {
   "cell_type": "code",
   "execution_count": null,
   "metadata": {},
   "outputs": [
    {
     "name": "stdout",
     "output_type": "stream",
     "text": [
      "¡Buenos días, Don Pepito !\n"
     ]
    }
   ],
   "source": [
    "name = \"Don Pepito\"\n",
    "print(\"¡Buenos días,\", name, \"!\")"
   ]
  },
  {
   "cell_type": "markdown",
   "metadata": {},
   "source": [
    "Al igual que podíamos repetir un mismo string un número cualquiera de veces con la función `*`, combinando ésta junto con la función `print()` podemos multiplicar un string  o variables que contengan string."
   ]
  },
  {
   "cell_type": "code",
   "execution_count": null,
   "metadata": {},
   "outputs": [
    {
     "name": "stdout",
     "output_type": "stream",
     "text": [
      "¿Falta mucho? ¿Falta mucho? ¿Falta mucho? ¿Falta mucho? ¿Falta mucho? \n"
     ]
    }
   ],
   "source": [
    "print('¿Falta mucho? ' * 5)"
   ]
  },
  {
   "cell_type": "code",
   "execution_count": null,
   "metadata": {},
   "outputs": [
    {
     "name": "stdout",
     "output_type": "stream",
     "text": [
      "¿Falta mucho? ¿Falta mucho? ¿Falta mucho? ¿Falta mucho? ¿Falta mucho? \n"
     ]
    }
   ],
   "source": [
    "pregunta = '¿Falta mucho? '\n",
    "print(pregunta * 5)"
   ]
  },
  {
   "cell_type": "markdown",
   "metadata": {},
   "source": [
    "#### La función `str()`\n",
    "\n",
    "Con la funciój `str()`, podemos concatenar strings y variables de cualquier tipo dentro de un `print()`:"
   ]
  },
  {
   "cell_type": "code",
   "execution_count": null,
   "metadata": {},
   "outputs": [
    {
     "name": "stdout",
     "output_type": "stream",
     "text": [
      "Mi hermana se llama Maria y su edad es 22\n"
     ]
    }
   ],
   "source": [
    "nombre = 'Maria'\n",
    "edad = 22\n",
    "print('Mi hermana se llama ' + nombre + ' y su edad es ' + str(edad))"
   ]
  },
  {
   "cell_type": "markdown",
   "metadata": {},
   "source": [
    "#### El método `.format()`\n",
    "\n",
    "Existe otra forma de concatenar strings y variables de cualquier tipo dentro de un `print()` y es gracias al método `.format()`. Lo que hay que hacer es indicar con llaves `{}`, donde queremos situar el resultado de las variables y luego, dentro de los paréntesis del método `.format()`, indicar las variables en su respectivo orden"
   ]
  },
  {
   "cell_type": "code",
   "execution_count": null,
   "metadata": {},
   "outputs": [
    {
     "name": "stdout",
     "output_type": "stream",
     "text": [
      "Mi abuelo se llama Ricardo y tiene 3 gatos\n"
     ]
    }
   ],
   "source": [
    "nombre = 'Ricardo'\n",
    "numero_gatos = 3\n",
    "print('Mi abuelo se llama {} y tiene {} gatos'.format(nombre, numero_gatos))"
   ]
  },
  {
   "cell_type": "markdown",
   "metadata": {},
   "source": [
    "#### Saltos de línea y tabulaciones\n",
    "\n",
    "Si recuerdan el ejemplo 3, teníamos la variable `s3`, que contenía un salto de línea"
   ]
  },
  {
   "cell_type": "code",
   "execution_count": null,
   "metadata": {},
   "outputs": [],
   "source": [
    "s3 = 'Con diez cañones por banda, \\nviento en popa a toda vela'"
   ]
  },
  {
   "cell_type": "markdown",
   "metadata": {},
   "source": [
    "Con la función `print()`, seremos capaces de visualizar dicho salto de línea"
   ]
  },
  {
   "cell_type": "code",
   "execution_count": null,
   "metadata": {},
   "outputs": [
    {
     "name": "stdout",
     "output_type": "stream",
     "text": [
      "Con diez cañones por banda, \n",
      "viento en popa a toda vela\n"
     ]
    }
   ],
   "source": [
    "print(s3)"
   ]
  },
  {
   "cell_type": "markdown",
   "metadata": {},
   "source": [
    "Y lo mismo ocurriría con la tabulación horizontal."
   ]
  },
  {
   "cell_type": "code",
   "execution_count": null,
   "metadata": {},
   "outputs": [
    {
     "data": {
      "text/plain": [
       "'La string literal \\\\t producía \\t una tabulación horizontal'"
      ]
     },
     "execution_count": 25,
     "metadata": {},
     "output_type": "execute_result"
    }
   ],
   "source": [
    "s4 = 'La string literal \\\\t producía \\t una tabulación horizontal'\n",
    "s4"
   ]
  },
  {
   "cell_type": "code",
   "execution_count": null,
   "metadata": {},
   "outputs": [
    {
     "name": "stdout",
     "output_type": "stream",
     "text": [
      "La string literal \\t producía \t una tabulación horizontal\n"
     ]
    }
   ],
   "source": [
    "print(s4)"
   ]
  },
  {
   "cell_type": "markdown",
   "metadata": {},
   "source": [
    "#### Substrings\n",
    "\n",
    "Para acceder a un caracter de una variable string usamos la sintaxis de `[]`"
   ]
  },
  {
   "cell_type": "code",
   "execution_count": null,
   "metadata": {},
   "outputs": [],
   "source": [
    "s = 'Soy fan de los videojuegos'"
   ]
  },
  {
   "cell_type": "code",
   "execution_count": null,
   "metadata": {},
   "outputs": [
    {
     "data": {
      "text/plain": [
       "'S'"
      ]
     },
     "execution_count": 27,
     "metadata": {},
     "output_type": "execute_result"
    }
   ],
   "source": [
    "s[0] # Primer caracter"
   ]
  },
  {
   "cell_type": "code",
   "execution_count": null,
   "metadata": {},
   "outputs": [
    {
     "data": {
      "text/plain": [
       "'a'"
      ]
     },
     "execution_count": 28,
     "metadata": {},
     "output_type": "execute_result"
    }
   ],
   "source": [
    "s[5] # Sexto caracter"
   ]
  },
  {
   "cell_type": "markdown",
   "metadata": {},
   "source": [
    "**¡Cuidado!** En `Python`, los índices siempre empiezan en 0, al contrario de lo que ocurre con otros lenguajes de programación, como por ejemplo `R`.\n",
    "\n",
    "Si precedemos el índie por un `-`, entonces empezamos desde el final"
   ]
  },
  {
   "cell_type": "code",
   "execution_count": null,
   "metadata": {},
   "outputs": [
    {
     "data": {
      "text/plain": [
       "'s'"
      ]
     },
     "execution_count": 29,
     "metadata": {},
     "output_type": "execute_result"
    }
   ],
   "source": [
    "s[-1] # Último elemento"
   ]
  },
  {
   "cell_type": "code",
   "execution_count": null,
   "metadata": {},
   "outputs": [
    {
     "data": {
      "text/plain": [
       "'o'"
      ]
     },
     "execution_count": 30,
     "metadata": {},
     "output_type": "execute_result"
    }
   ],
   "source": [
    "s[-7] # Séptimo elemento empezando por el final"
   ]
  },
  {
   "cell_type": "markdown",
   "metadata": {},
   "source": [
    "Si queremos acceder a varios caracteres seguidos, podemos utilizar la función `:`"
   ]
  },
  {
   "cell_type": "code",
   "execution_count": null,
   "metadata": {},
   "outputs": [
    {
     "data": {
      "text/plain": [
       "'fan'"
      ]
     },
     "execution_count": 31,
     "metadata": {},
     "output_type": "execute_result"
    }
   ],
   "source": [
    "s[4:7] # Del quinto al séptimo"
   ]
  },
  {
   "cell_type": "code",
   "execution_count": null,
   "metadata": {},
   "outputs": [
    {
     "data": {
      "text/plain": [
       "'Soy fan'"
      ]
     },
     "execution_count": 32,
     "metadata": {},
     "output_type": "execute_result"
    }
   ],
   "source": [
    "s[:7] # Del primero al séptimo"
   ]
  },
  {
   "cell_type": "code",
   "execution_count": null,
   "metadata": {},
   "outputs": [
    {
     "data": {
      "text/plain": [
       "'de los videojuegos'"
      ]
     },
     "execution_count": 33,
     "metadata": {},
     "output_type": "execute_result"
    }
   ],
   "source": [
    "s[8:] # Del noveno al final"
   ]
  },
  {
   "cell_type": "markdown",
   "metadata": {},
   "source": [
    "**¡Cuidado!** En `Python`, siempre que usemos la función `:`, el índice que se encuentre a la derecha nunca es incluido, tal y como hemos visto en los ejemplos anteriores.\n",
    "\n",
    "Si precedemos por `-` al índice de la izquierda de `:` y no ponemos ninguno a su derecha, lo que hacemos es obtener los últimos elementos"
   ]
  },
  {
   "cell_type": "code",
   "execution_count": null,
   "metadata": {},
   "outputs": [
    {
     "data": {
      "text/plain": [
       "'ideojuegos'"
      ]
     },
     "execution_count": 34,
     "metadata": {},
     "output_type": "execute_result"
    }
   ],
   "source": [
    "s[-10:] # Diez últimos elementos"
   ]
  },
  {
   "cell_type": "markdown",
   "metadata": {},
   "source": [
    "Si al contrario, precedemos por `-` al índice de la derecha sin poner ningún índice a la izquierda de `:`, obtendremos los elementos salvo el número de elementos indicados por el índice (recordemos que si precedíamos por `-`, los índices empezaban desde el final)."
   ]
  },
  {
   "cell_type": "code",
   "execution_count": null,
   "metadata": {},
   "outputs": [
    {
     "data": {
      "text/plain": [
       "'Soy fan de los v'"
      ]
     },
     "execution_count": 35,
     "metadata": {},
     "output_type": "execute_result"
    }
   ],
   "source": [
    "s[:-10]"
   ]
  },
  {
   "cell_type": "markdown",
   "metadata": {},
   "source": [
    "#### Métodos para trabajar con strings\n",
    "\n",
    "El método `.lower()` nos transforma el string que indiquemos a minúsculas."
   ]
  },
  {
   "cell_type": "code",
   "execution_count": null,
   "metadata": {},
   "outputs": [
    {
     "data": {
      "text/plain": [
       "'me encantan el chocolate y las galletas'"
      ]
     },
     "execution_count": 36,
     "metadata": {},
     "output_type": "execute_result"
    }
   ],
   "source": [
    "s = 'Me ENCANTAN el chocolate y las galletas'\n",
    "s.lower()"
   ]
  },
  {
   "cell_type": "markdown",
   "metadata": {},
   "source": [
    "El método `.upper()`, por el contrario, lo transforma a mayúsculas."
   ]
  },
  {
   "cell_type": "code",
   "execution_count": null,
   "metadata": {},
   "outputs": [
    {
     "data": {
      "text/plain": [
       "'ME ENCANTAN EL CHOCOLATE Y LAS GALLETAS'"
      ]
     },
     "execution_count": 37,
     "metadata": {},
     "output_type": "execute_result"
    }
   ],
   "source": [
    "s.upper()"
   ]
  },
  {
   "cell_type": "markdown",
   "metadata": {},
   "source": [
    "El método `.count()` cuenta cuántas veces aparece una letra o un string dentro del string al cuál le aplicamos dicho método."
   ]
  },
  {
   "cell_type": "code",
   "execution_count": null,
   "metadata": {},
   "outputs": [
    {
     "data": {
      "text/plain": [
       "2"
      ]
     },
     "execution_count": 38,
     "metadata": {},
     "output_type": "execute_result"
    }
   ],
   "source": [
    "s.count(\"o\")"
   ]
  },
  {
   "cell_type": "code",
   "execution_count": null,
   "metadata": {},
   "outputs": [
    {
     "data": {
      "text/plain": [
       "2"
      ]
     },
     "execution_count": 39,
     "metadata": {},
     "output_type": "execute_result"
    }
   ],
   "source": [
    "s.count(\"la\")"
   ]
  },
  {
   "cell_type": "markdown",
   "metadata": {},
   "source": [
    "El método `.capitalize()` convierte a mayúscula el primer caracter de un string."
   ]
  },
  {
   "cell_type": "code",
   "execution_count": null,
   "metadata": {},
   "outputs": [
    {
     "data": {
      "text/plain": [
       "'Me encanta aprender con udemy'"
      ]
     },
     "execution_count": 40,
     "metadata": {},
     "output_type": "execute_result"
    }
   ],
   "source": [
    "s = 'me encanta aprender con udemy'\n",
    "s.capitalize()"
   ]
  },
  {
   "cell_type": "markdown",
   "metadata": {},
   "source": [
    "El método `.title()` convierte a mayúscula el primer caracter de cada palabra de un string."
   ]
  },
  {
   "cell_type": "code",
   "execution_count": null,
   "metadata": {},
   "outputs": [
    {
     "data": {
      "text/plain": [
       "'Me Encanta Aprender Con Udemy'"
      ]
     },
     "execution_count": 41,
     "metadata": {},
     "output_type": "execute_result"
    }
   ],
   "source": [
    "s.title()"
   ]
  },
  {
   "cell_type": "markdown",
   "metadata": {},
   "source": [
    "El método `.swapcase()` convierte a mayúscula las minúsculas y viceversa."
   ]
  },
  {
   "cell_type": "code",
   "execution_count": null,
   "metadata": {},
   "outputs": [
    {
     "data": {
      "text/plain": [
       "'ME ENCANTA APRENDER CON UDEMY'"
      ]
     },
     "execution_count": 44,
     "metadata": {},
     "output_type": "execute_result"
    }
   ],
   "source": [
    "s.swapcase()"
   ]
  },
  {
   "cell_type": "markdown",
   "metadata": {},
   "source": [
    "El método `.replace()` reemplaza el caracter (o caracteres) que le indiquemos por el string que queramos."
   ]
  },
  {
   "cell_type": "code",
   "execution_count": null,
   "metadata": {},
   "outputs": [
    {
     "data": {
      "text/plain": [
       "'Los tomberis son malos'"
      ]
     },
     "execution_count": 45,
     "metadata": {},
     "output_type": "execute_result"
    }
   ],
   "source": [
    "s = 'Los tomberis son buenos'\n",
    "s.replace('buenos', 'malos')"
   ]
  },
  {
   "cell_type": "markdown",
   "metadata": {},
   "source": [
    "El método `.split()` rompe el string en el caracter que le indiquemos y elimina dicho caracter."
   ]
  },
  {
   "cell_type": "code",
   "execution_count": null,
   "metadata": {},
   "outputs": [
    {
     "data": {
      "text/plain": [
       "['El ', 'l', 'fant', ' ti', 'n', ' las or', 'jas muy grand', 's']"
      ]
     },
     "execution_count": 1,
     "metadata": {},
     "output_type": "execute_result"
    }
   ],
   "source": [
    "s = 'El elefante tiene las orejas muy grandes'\n",
    "s.split('e') # Rompemos por la letra e minúscula"
   ]
  },
  {
   "cell_type": "code",
   "execution_count": null,
   "metadata": {},
   "outputs": [
    {
     "data": {
      "text/plain": [
       "['El', 'elefante', 'tiene', 'las', 'orejas', 'muy', 'grandes']"
      ]
     },
     "execution_count": 2,
     "metadata": {},
     "output_type": "execute_result"
    }
   ],
   "source": [
    "s.split(' ') # Rompemos por los espacios"
   ]
  },
  {
   "cell_type": "markdown",
   "metadata": {},
   "source": [
    "El método `.rstrip()` elimina los espacios sobrantes al final del string."
   ]
  },
  {
   "cell_type": "code",
   "execution_count": null,
   "metadata": {},
   "outputs": [
    {
     "data": {
      "text/plain": [
       "'El elefante tiene las orejas muy grandes'"
      ]
     },
     "execution_count": 3,
     "metadata": {},
     "output_type": "execute_result"
    }
   ],
   "source": [
    "s.strip()"
   ]
  },
  {
   "cell_type": "markdown",
   "metadata": {},
   "source": [
    "El método `.lstrip()` elimina los espacios sobrantes al principio del string."
   ]
  },
  {
   "cell_type": "code",
   "execution_count": null,
   "metadata": {},
   "outputs": [
    {
     "data": {
      "text/plain": [
       "'El elefante tiene las orejas muy grandes'"
      ]
     },
     "execution_count": 4,
     "metadata": {},
     "output_type": "execute_result"
    }
   ],
   "source": [
    "s.lstrip()"
   ]
  },
  {
   "cell_type": "markdown",
   "metadata": {},
   "source": [
    "El método `.find()` busca el caracter que indiquemos y nos devuelve la primera posición en la que aparece."
   ]
  },
  {
   "cell_type": "code",
   "execution_count": null,
   "metadata": {},
   "outputs": [
    {
     "data": {
      "text/plain": [
       "3"
      ]
     },
     "execution_count": 5,
     "metadata": {},
     "output_type": "execute_result"
    }
   ],
   "source": [
    "s = 'Este es un curso de Python para hacer en casa o en cualquier lado'\n",
    "s.find('e')"
   ]
  },
  {
   "cell_type": "markdown",
   "metadata": {},
   "source": [
    "El método `.find()` tiene otros dos parámetros de uso opciona: `start` y `end`, que sirven para indicar donde queremos que empiece la búsqueda y donde queremos que acabe."
   ]
  },
  {
   "cell_type": "code",
   "execution_count": null,
   "metadata": {},
   "outputs": [
    {
     "data": {
      "text/plain": [
       "18"
      ]
     },
     "execution_count": 6,
     "metadata": {},
     "output_type": "execute_result"
    }
   ],
   "source": [
    "s.find('e', 10) # Solamente indicamos start"
   ]
  },
  {
   "cell_type": "code",
   "execution_count": null,
   "metadata": {},
   "outputs": [
    {
     "data": {
      "text/plain": [
       "35"
      ]
     },
     "execution_count": 7,
     "metadata": {},
     "output_type": "execute_result"
    }
   ],
   "source": [
    "s.find('e', 30, 40) # Indicamos start y end"
   ]
  },
  {
   "cell_type": "markdown",
   "metadata": {},
   "source": [
    "El método `.index()` busca el caracter que indiquemos y nos devuelve la primera posición en la que aparece."
   ]
  },
  {
   "cell_type": "code",
   "execution_count": null,
   "metadata": {},
   "outputs": [
    {
     "data": {
      "text/plain": [
       "3"
      ]
     },
     "execution_count": 8,
     "metadata": {},
     "output_type": "execute_result"
    }
   ],
   "source": [
    "s = 'Este es un curso de Python para hacer en casa o en cualquier lado'\n",
    "s.index('e')"
   ]
  },
  {
   "cell_type": "markdown",
   "metadata": {},
   "source": [
    "Si le pedimos buscar un conjunto de caracteres, nos devuelve la posición del primer caracter de dicho conjunto"
   ]
  },
  {
   "cell_type": "code",
   "execution_count": null,
   "metadata": {},
   "outputs": [
    {
     "data": {
      "text/plain": [
       "41"
      ]
     },
     "execution_count": 9,
     "metadata": {},
     "output_type": "execute_result"
    }
   ],
   "source": [
    "s.index('casa')"
   ]
  },
  {
   "cell_type": "markdown",
   "metadata": {},
   "source": [
    "El método `.index()` tiene otros dos parámetros de uso opcional: `start` y `end`, que sirven para indicar donde queremos que empiece la búsqueda y donde queremos que acabe."
   ]
  },
  {
   "cell_type": "code",
   "execution_count": null,
   "metadata": {},
   "outputs": [
    {
     "data": {
      "text/plain": [
       "18"
      ]
     },
     "execution_count": 10,
     "metadata": {},
     "output_type": "execute_result"
    }
   ],
   "source": [
    "s.index('e', 10) # Solamente indicamos start"
   ]
  },
  {
   "cell_type": "code",
   "execution_count": null,
   "metadata": {},
   "outputs": [
    {
     "data": {
      "text/plain": [
       "35"
      ]
     },
     "execution_count": 11,
     "metadata": {},
     "output_type": "execute_result"
    }
   ],
   "source": [
    "s.index('e', 30, 40) # Indicamos start y end"
   ]
  },
  {
   "cell_type": "markdown",
   "metadata": {},
   "source": [
    "**Observación.** Observemos que los métodos `.index()` y `.find()` son casi idénticos. El único punto en que difieren es que si el caracter indicado no se encuentra en el metodo string, el método `.index()` arroja error, mientras que `.find()` arroja el índice -1.\n",
    "\n",
    "El método `.rindex()` busca el caracter que indiquemos y devuelve el último indice en el que fue encontrado."
   ]
  },
  {
   "cell_type": "code",
   "execution_count": null,
   "metadata": {},
   "outputs": [
    {
     "data": {
      "text/plain": [
       "58"
      ]
     },
     "execution_count": 12,
     "metadata": {},
     "output_type": "execute_result"
    }
   ],
   "source": [
    "s.rindex('e')"
   ]
  },
  {
   "cell_type": "markdown",
   "metadata": {},
   "source": [
    "También consta de los dos parámetros de uso opcional: `start` y `end`, que sirven para indicar donde queremos que empiece la búsqueda y donde queremos que acabe"
   ]
  },
  {
   "cell_type": "markdown",
   "metadata": {},
   "source": [
    "#### Otras funciones a tener en cuenta\n",
    "\n",
    "La función `len()` nos devuelve el número de caracteres del string."
   ]
  },
  {
   "cell_type": "code",
   "execution_count": null,
   "metadata": {},
   "outputs": [
    {
     "data": {
      "text/plain": [
       "12"
      ]
     },
     "execution_count": 13,
     "metadata": {},
     "output_type": "execute_result"
    }
   ],
   "source": [
    "s = 'Tengo hambre'\n",
    "len(s)"
   ]
  },
  {
   "cell_type": "markdown",
   "metadata": {},
   "source": [
    "**Observación.** Los espacios en blanco también son caracteres, por lo que éstos también son incluidos al contar el número de caracteres de los que consta un string.\n",
    "\n",
    "Si tenemos un número en formato string, por mucho que sea un número para nosotros, en realidad `Python` no lo ve así. El gran problema es que cuando queremos operar con un número que se encuentra en formato string. Ahí es donde entran en juego las funciones `int()` y `float()`, que lo que hacen es convertir a formato integer o float, respectivamente."
   ]
  },
  {
   "cell_type": "code",
   "execution_count": null,
   "metadata": {},
   "outputs": [
    {
     "data": {
      "text/plain": [
       "str"
      ]
     },
     "execution_count": 14,
     "metadata": {},
     "output_type": "execute_result"
    }
   ],
   "source": [
    "numero = '5'\n",
    "type(numero)"
   ]
  },
  {
   "cell_type": "markdown",
   "metadata": {},
   "source": [
    "En este caso, pasamos a formato integer:"
   ]
  },
  {
   "cell_type": "code",
   "execution_count": null,
   "metadata": {},
   "outputs": [
    {
     "data": {
      "text/plain": [
       "5"
      ]
     },
     "execution_count": 15,
     "metadata": {},
     "output_type": "execute_result"
    }
   ],
   "source": [
    "numero_int = int(numero)\n",
    "numero_int"
   ]
  },
  {
   "cell_type": "code",
   "execution_count": null,
   "metadata": {},
   "outputs": [
    {
     "data": {
      "text/plain": [
       "25"
      ]
     },
     "execution_count": 16,
     "metadata": {},
     "output_type": "execute_result"
    }
   ],
   "source": [
    "numero_int ** 2"
   ]
  },
  {
   "cell_type": "code",
   "execution_count": null,
   "metadata": {},
   "outputs": [
    {
     "data": {
      "text/plain": [
       "int"
      ]
     },
     "execution_count": 17,
     "metadata": {},
     "output_type": "execute_result"
    }
   ],
   "source": [
    "type(numero_int)"
   ]
  },
  {
   "cell_type": "markdown",
   "metadata": {},
   "source": [
    "En este otro caso, pasamos a formato float:"
   ]
  },
  {
   "cell_type": "code",
   "execution_count": null,
   "metadata": {},
   "outputs": [
    {
     "data": {
      "text/plain": [
       "5.0"
      ]
     },
     "execution_count": 18,
     "metadata": {},
     "output_type": "execute_result"
    }
   ],
   "source": [
    "numero_float = float(numero)\n",
    "numero_float"
   ]
  },
  {
   "cell_type": "code",
   "execution_count": null,
   "metadata": {},
   "outputs": [
    {
     "data": {
      "text/plain": [
       "20.0"
      ]
     },
     "execution_count": 19,
     "metadata": {},
     "output_type": "execute_result"
    }
   ],
   "source": [
    "numero_float ** 2 - numero_float"
   ]
  },
  {
   "cell_type": "code",
   "execution_count": null,
   "metadata": {},
   "outputs": [
    {
     "data": {
      "text/plain": [
       "float"
      ]
     },
     "execution_count": 20,
     "metadata": {},
     "output_type": "execute_result"
    }
   ],
   "source": [
    "type(numero_float)"
   ]
  },
  {
   "cell_type": "markdown",
   "metadata": {},
   "source": [
    "La función `input()` sirve para que el usaurio introduzca un string por consola:"
   ]
  },
  {
   "cell_type": "code",
   "execution_count": 1,
   "metadata": {},
   "outputs": [
    {
     "name": "stdout",
     "output_type": "stream",
     "text": [
      "Introduce tu nombre: \n"
     ]
    }
   ],
   "source": [
    "print(\"Introduce tu nombre: \")\n",
    "name = input('Nombre: ')"
   ]
  },
  {
   "cell_type": "code",
   "execution_count": 2,
   "metadata": {},
   "outputs": [
    {
     "data": {
      "text/plain": [
       "'zxzx'"
      ]
     },
     "execution_count": 2,
     "metadata": {},
     "output_type": "execute_result"
    }
   ],
   "source": [
    "name"
   ]
  },
  {
   "cell_type": "markdown",
   "metadata": {},
   "source": [
    "Aquí también nos serán útiles las funciones `int()` y `float()`, pues si en vez del nombre queremos que el usuario nos indique su edad o su altura, querremos tratar dichos valores como números. entonces, haríamos lo siguiente"
   ]
  },
  {
   "cell_type": "code",
   "execution_count": 3,
   "metadata": {},
   "outputs": [
    {
     "name": "stdout",
     "output_type": "stream",
     "text": [
      "Introduce tu edad: \n"
     ]
    }
   ],
   "source": [
    "print('Introduce tu edad: ')\n",
    "age = int(input('Edad: '))"
   ]
  },
  {
   "cell_type": "code",
   "execution_count": 5,
   "metadata": {},
   "outputs": [
    {
     "name": "stdout",
     "output_type": "stream",
     "text": [
      "Introduce tu altura: \n"
     ]
    }
   ],
   "source": [
    "print('Introduce tu altura: ')\n",
    "height = float(input('Altura (en m): '))"
   ]
  },
  {
   "cell_type": "code",
   "execution_count": 6,
   "metadata": {},
   "outputs": [
    {
     "name": "stdout",
     "output_type": "stream",
     "text": [
      "La edad de zxzx es 20 y mide 1.79m\n"
     ]
    }
   ],
   "source": [
    "print('La edad de {} es {} y mide {}m'.format(name, age, height))"
   ]
  },
  {
   "cell_type": "markdown",
   "metadata": {},
   "source": [
    "#### Ejercicio 1\n",
    "\n",
    "Dado un string, vamos a pedir al usuario que introduzca una palabra perteneciente a dicho string y vamos a obtener el substring sin la palabra indicada por el usuario utilizado el método .find() y la función .len()"
   ]
  },
  {
   "cell_type": "code",
   "execution_count": 13,
   "metadata": {},
   "outputs": [
    {
     "name": "stdout",
     "output_type": "stream",
     "text": [
      "Este es el string original: El camino está cerrado pero seguro que podemos encontrar una alternativa\n",
      "Introduce la palabra que quieras eliminar del string original: \n",
      "El camino está cerrado pero \n",
      "que podemos encontrar una alternativa\n"
     ]
    }
   ],
   "source": [
    "string = 'El camino está cerrado pero seguro que podemos encontrar una alternativa'\n",
    "print( 'Este es el string original:', end=' ' )\n",
    "print( string )\n",
    "\n",
    "print('Introduce la palabra que quieras eliminar del string original: ')\n",
    "word = input('Palabra: ')\n",
    "# print( word )\n",
    "\n",
    "idx = string.find( word )\n",
    "# print( string[:idx] )\n",
    "# print( string[idx + len(word) + 1:] )\n",
    "substr = string[:idx] + string[idx + len(word) + 1:]\n",
    "print(substr)\n"
   ]
  },
  {
   "cell_type": "markdown",
   "metadata": {},
   "source": [
    "#### Ejercicio 2\n",
    "\n",
    "Vamos a pedirle al usuario palabras o frases y le vamos a devolver el mismo string modificado con alguno de los métodos aprendidos según se indique:\n",
    "\n",
    "1. Devolver la palabra en mayúscula.\n",
    "2. Devolver la frase con todas las palabras empezando en mayúscula.\n",
    "3. Devolver la palabra (con 3 o más letras) con todas las letras en minúsculas salvo la tercera letra.\n",
    "4. Devolver la palabra con todas las letras en mayúsculas salvo la primera y la última.\n",
    "5. Devolver la frase donde cada vez que aparezcan las dos primeras letras de la primera palabra, sean substituidas por cualquiera de las otras dos letras."
   ]
  },
  {
   "cell_type": "markdown",
   "metadata": {},
   "source": [
    "##### Apartado 1"
   ]
  },
  {
   "cell_type": "code",
   "execution_count": 14,
   "metadata": {},
   "outputs": [
    {
     "name": "stdout",
     "output_type": "stream",
     "text": [
      "Introduce una palabra y yo te la devuelvo en mayúsculas\n",
      "PALABRA\n"
     ]
    }
   ],
   "source": [
    "print('Introduce una palabra y yo te la devuelvo en mayúsculas')\n",
    "word = input()\n",
    "print(word.upper())"
   ]
  },
  {
   "cell_type": "markdown",
   "metadata": {},
   "source": [
    "##### Apartado 2"
   ]
  },
  {
   "cell_type": "code",
   "execution_count": 16,
   "metadata": {},
   "outputs": [
    {
     "name": "stdout",
     "output_type": "stream",
     "text": [
      "Introduce una frase y yo te devuelvo t odas las palabras empezando en mayúscula\n",
      "Anita Lava La Tina\n"
     ]
    }
   ],
   "source": [
    "print('Introduce una frase y yo te devuelvo t odas las palabras empezando en mayúscula')\n",
    "s = input()\n",
    "print( s.title() )"
   ]
  },
  {
   "cell_type": "markdown",
   "metadata": {},
   "source": [
    "##### Apartado 3"
   ]
  },
  {
   "cell_type": "code",
   "execution_count": 18,
   "metadata": {},
   "outputs": [
    {
     "name": "stdout",
     "output_type": "stream",
     "text": [
      "Introduce una palabra con 3 letras o más y yo te devuelvo todas sus letras en minúscula salvo la tercera\n",
      "paLabra\n"
     ]
    }
   ],
   "source": [
    "print('Introduce una palabra con 3 letras o más y yo te devuelvo todas sus letras en minúscula salvo la tercera')\n",
    "word = input()\n",
    "word = word[:2].lower() + word[2].upper() + word[3:].lower()\n",
    "print( word )"
   ]
  },
  {
   "cell_type": "markdown",
   "metadata": {},
   "source": [
    "##### Apartado 4"
   ]
  },
  {
   "cell_type": "code",
   "execution_count": 19,
   "metadata": {},
   "outputs": [
    {
     "name": "stdout",
     "output_type": "stream",
     "text": [
      "Introduce una palabra y yo te devuelvo todas sus letras en mayúsculas salvo la primera y la última\n",
      "pALABRAa\n"
     ]
    }
   ],
   "source": [
    "print('Introduce una palabra y yo te devuelvo todas sus letras en mayúsculas salvo la primera y la última')\n",
    "word = input()\n",
    "word = word[0].lower() + word[1:].upper() + word[-1].lower()\n",
    "print( word )"
   ]
  },
  {
   "cell_type": "markdown",
   "metadata": {},
   "source": [
    "##### Apartado 5"
   ]
  },
  {
   "cell_type": "code",
   "execution_count": 21,
   "metadata": {},
   "outputs": [
    {
     "name": "stdout",
     "output_type": "stream",
     "text": [
      "Introduce una frase y yo te la devuelvo sustituyendo las dos primeras letras de la primera palabra por las letras pi\n",
      "pies piistes tigres piagaban piigo en un piigal\n"
     ]
    }
   ],
   "source": [
    "subs = 'pi'\n",
    "print('Introduce una frase y yo te la devuelvo sustituyendo las dos primeras letras de la primera palabra por las letras {}'.format( subs ))\n",
    "s = input()\n",
    "print(s.replace(s[:2], subs))"
   ]
  },
  {
   "cell_type": "code",
   "execution_count": null,
   "metadata": {},
   "outputs": [],
   "source": []
  }
 ],
 "metadata": {
  "kernelspec": {
   "display_name": "Python 3.10.6 64-bit",
   "language": "python",
   "name": "python3"
  },
  "language_info": {
   "codemirror_mode": {
    "name": "ipython",
    "version": 3
   },
   "file_extension": ".py",
   "mimetype": "text/x-python",
   "name": "python",
   "nbconvert_exporter": "python",
   "pygments_lexer": "ipython3",
   "version": "3.10.6"
  },
  "orig_nbformat": 4,
  "vscode": {
   "interpreter": {
    "hash": "916dbcbb3f70747c44a77c7bcd40155683ae19c65e1c03b4aa3499c5328201f1"
   }
  }
 },
 "nbformat": 4,
 "nbformat_minor": 2
}
