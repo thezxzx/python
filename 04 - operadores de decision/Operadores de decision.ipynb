{
 "cells": [
  {
   "cell_type": "markdown",
   "metadata": {},
   "source": [
    "### Variables booleanas y operadores de decisión"
   ]
  },
  {
   "cell_type": "markdown",
   "metadata": {},
   "source": [
    "#### Booleanos\n",
    "\n",
    "**Dato booleano.** Es un tipo de dato que solamente puede tomar 2 valores: `True` (verdadero) o `False` (falso).\n",
    "\n",
    "**Variable lógica.** Variable que almacena datos booleanos."
   ]
  },
  {
   "cell_type": "code",
   "execution_count": 33,
   "metadata": {},
   "outputs": [
    {
     "data": {
      "text/plain": [
       "bool"
      ]
     },
     "execution_count": 33,
     "metadata": {},
     "output_type": "execute_result"
    }
   ],
   "source": [
    "is_adult = True\n",
    "type(is_adult)"
   ]
  },
  {
   "cell_type": "markdown",
   "metadata": {},
   "source": [
    "**Observación.** Tanto `True` como `False` únicamente tienen la primera letra mayúscula. Además, a diferencia de otros lenguajes de programación, como por ejemplo `R`, `Python` solamente admite los booleanos escritos de esta forma:\n",
    "`True` o `False`."
   ]
  },
  {
   "cell_type": "markdown",
   "metadata": {},
   "source": [
    "#### Tablas de verdad\n",
    "\n",
    "Dadas dos variables lógicas, A y B, podemos definir los operados básicos mediante tablas de verdad, donde el valor verdadero se representa con la letra V o bien con un 1, mientras que el valor falso se representa mediante la letra F o bien con un 0.\n",
    "\n",
    "La tabla de verdad para la variable A sería\n",
    "\n",
    "<table>\n",
    "  <tr>\n",
    "    <td>A</td>\n",
    "  </tr>\n",
    "  <tr>\n",
    "    <td>V</td>\n",
    "  </tr>\n",
    "  <tr>\n",
    "    <td>F</td>\n",
    "  </tr>\n",
    "</table>\n",
    "\n",
    "La tabla de verdad para la variable B sería\n",
    "\n",
    "<table>\n",
    "  <tr>\n",
    "    <td>B</td>\n",
    "  </tr>\n",
    "  <tr>\n",
    "    <td>V</td>\n",
    "  </tr>\n",
    "  <tr>\n",
    "    <td>F</td>\n",
    "  </tr>\n",
    "</table>"
   ]
  },
  {
   "cell_type": "markdown",
   "metadata": {},
   "source": [
    "#### Negación\n",
    "\n",
    "El operador negación aplicado a una variable se representa con ¬ y devuelve el valor contrario.\n",
    "\n",
    "<table>\n",
    "  <tr>\n",
    "    <td>A</td>\n",
    "    <td>¬A</td>\n",
    "  </tr>\n",
    "  <tr>\n",
    "    <td>V</td>\n",
    "    <td>F</td>\n",
    "  </tr>\n",
    "  <tr>\n",
    "    <td>F</td>\n",
    "    <td>V</td>\n",
    "  </tr>\n",
    "</table>"
   ]
  },
  {
   "cell_type": "markdown",
   "metadata": {},
   "source": [
    "#### Conjunción\n",
    "\n",
    "La conjunción entre dos variables se representa con ^ y devuelve verdadero únicamente cuando ambas variables valen verdadero.\n",
    "\n",
    "<table>\n",
    "  <tr>\n",
    "    <td>A</td>\n",
    "    <td>B</td>\n",
    "    <td>A^B</td>\n",
    "  </tr>\n",
    "  <tr>\n",
    "    <td>V</td>\n",
    "    <td>V</td>\n",
    "    <td>V</td>\n",
    "  </tr>\n",
    "  <tr>\n",
    "    <td>V</td>\n",
    "    <td>F</td>\n",
    "    <td>F</td>\n",
    "  </tr>\n",
    "  <tr>\n",
    "    <td>F</td>\n",
    "    <td>V</td>\n",
    "    <td>F</td>\n",
    "  </tr>\n",
    "  <tr>\n",
    "    <td>F</td>\n",
    "    <td>F</td>\n",
    "    <td>F</td>\n",
    "  </tr>\n",
    "</table>"
   ]
  },
  {
   "cell_type": "markdown",
   "metadata": {},
   "source": [
    "#### Disyunción\n",
    "\n",
    "La disyunción entre dos variables se representa con v y devuelve verdadero cuando almenos una de las variables lógicas vale verdadero.\n",
    "\n",
    "<table>\n",
    "  <tr>\n",
    "    <td>A</td>\n",
    "    <td>B</td>\n",
    "    <td>AvB</td>\n",
    "  </tr>\n",
    "  <tr>\n",
    "    <td>V</td>\n",
    "    <td>V</td>\n",
    "    <td>V</td>\n",
    "  </tr>\n",
    "  <tr>\n",
    "    <td>V</td>\n",
    "    <td>F</td>\n",
    "    <td>V</td>\n",
    "  </tr>\n",
    "  <tr>\n",
    "    <td>F</td>\n",
    "    <td>V</td>\n",
    "    <td>V</td>\n",
    "  </tr>\n",
    "  <tr>\n",
    "    <td>F</td>\n",
    "    <td>F</td>\n",
    "    <td>F</td>\n",
    "  </tr>\n",
    "</table>"
   ]
  },
  {
   "cell_type": "markdown",
   "metadata": {},
   "source": [
    "#### Operadores lógicos en `Python`\n",
    "\n",
    "Para hacer la negación, utilizamos el operador `not`"
   ]
  },
  {
   "cell_type": "code",
   "execution_count": 2,
   "metadata": {},
   "outputs": [
    {
     "data": {
      "text/plain": [
       "False"
      ]
     },
     "execution_count": 2,
     "metadata": {},
     "output_type": "execute_result"
    }
   ],
   "source": [
    "A = True\n",
    "not A"
   ]
  },
  {
   "cell_type": "markdown",
   "metadata": {},
   "source": [
    "Para hacer la conjunción entre dos variables lógicas, utilizamos el operador `and`."
   ]
  },
  {
   "cell_type": "code",
   "execution_count": 3,
   "metadata": {},
   "outputs": [
    {
     "data": {
      "text/plain": [
       "True"
      ]
     },
     "execution_count": 3,
     "metadata": {},
     "output_type": "execute_result"
    }
   ],
   "source": [
    "A, B = True, True\n",
    "A and B"
   ]
  },
  {
   "cell_type": "code",
   "execution_count": 4,
   "metadata": {},
   "outputs": [
    {
     "data": {
      "text/plain": [
       "False"
      ]
     },
     "execution_count": 4,
     "metadata": {},
     "output_type": "execute_result"
    }
   ],
   "source": [
    "A and (not B)"
   ]
  },
  {
   "cell_type": "markdown",
   "metadata": {},
   "source": [
    "Para hacer la disyunción entre dos variables lógicas, utilizamos el opreador `or`."
   ]
  },
  {
   "cell_type": "code",
   "execution_count": 5,
   "metadata": {},
   "outputs": [
    {
     "data": {
      "text/plain": [
       "False"
      ]
     },
     "execution_count": 5,
     "metadata": {},
     "output_type": "execute_result"
    }
   ],
   "source": [
    "A, B = False, False\n",
    "A or B"
   ]
  },
  {
   "cell_type": "code",
   "execution_count": 6,
   "metadata": {},
   "outputs": [
    {
     "data": {
      "text/plain": [
       "True"
      ]
     },
     "execution_count": 6,
     "metadata": {},
     "output_type": "execute_result"
    }
   ],
   "source": [
    "(not A) or B"
   ]
  },
  {
   "cell_type": "markdown",
   "metadata": {},
   "source": [
    "#### Operadores de comparación\n",
    "\n",
    "En `Python` podemos comparar datos y obtener un resultado booleano. Los operadores de comparación disponibles son.\n",
    "\n",
    "<table>\n",
    "  <tr>\n",
    "    <th>Operador</th>\n",
    "    <th>Significado</th>\n",
    "  </tr>\n",
    "  <tr>\n",
    "    <td>></td>\n",
    "    <td>Estrictamente mayor</td>\n",
    "  </tr>\n",
    "  <tr>\n",
    "    <td>>=</td>\n",
    "    <td>Mayor o igual</td>\n",
    "  </tr>\n",
    "  <tr>\n",
    "    <td><</td>\n",
    "    <td>Estrictamente menor</td>\n",
    "  </tr>\n",
    "  <tr>\n",
    "    <td><=</td>\n",
    "    <td>Menor o igual</td>\n",
    "  </tr>\n",
    "  <tr>\n",
    "    <td>==</td>\n",
    "    <td>Igual</td>\n",
    "  </tr>\n",
    "  <tr>\n",
    "    <td>!=</td>\n",
    "    <td>Diferente</td>\n",
    "  </tr>\n",
    "</table>"
   ]
  },
  {
   "cell_type": "code",
   "execution_count": 1,
   "metadata": {},
   "outputs": [
    {
     "data": {
      "text/plain": [
       "True"
      ]
     },
     "execution_count": 1,
     "metadata": {},
     "output_type": "execute_result"
    }
   ],
   "source": [
    "7 == 7.0"
   ]
  },
  {
   "cell_type": "code",
   "execution_count": 2,
   "metadata": {},
   "outputs": [
    {
     "data": {
      "text/plain": [
       "False"
      ]
     },
     "execution_count": 2,
     "metadata": {},
     "output_type": "execute_result"
    }
   ],
   "source": [
    "3.14 > 9"
   ]
  },
  {
   "cell_type": "code",
   "execution_count": 3,
   "metadata": {},
   "outputs": [
    {
     "data": {
      "text/plain": [
       "True"
      ]
     },
     "execution_count": 3,
     "metadata": {},
     "output_type": "execute_result"
    }
   ],
   "source": [
    "7 != '7'"
   ]
  },
  {
   "cell_type": "code",
   "execution_count": 4,
   "metadata": {},
   "outputs": [
    {
     "data": {
      "text/plain": [
       "True"
      ]
     },
     "execution_count": 4,
     "metadata": {},
     "output_type": "execute_result"
    }
   ],
   "source": [
    "0.01 <= 1"
   ]
  },
  {
   "cell_type": "markdown",
   "metadata": {},
   "source": [
    "**Observación.** Cuando hemos comparado el número 7 en formato integer y en formato float, hemos obtenido que eran iguales, mientras que al haber comparado el número 7 en formato integer con el mismo número, pero en formato string, nos ha devuelvo que son diferentes. Esto lo que nos viene a decir es que numéricamente, `Python` considera iguales los números enteros tanto si están en formato integer como en formato float. No obstante, nunca considerará iguales dos datos donde uno esté en formato numérico y el otro, en formato string."
   ]
  },
  {
   "cell_type": "markdown",
   "metadata": {},
   "source": [
    "#### Múltiples comparaciones simultáneas\n",
    "\n",
    "Podemos realizar múltiples comparaciones a la vez.\n",
    "\n",
    "Supongamos que tenemos que tener 16 años o más, pero menos de 40 para poder concertar una entrevista y aspirar a ser miembros de la tripulación del pirata Pyratilla.\n",
    "\n",
    "Queremos saber si nos concederá una entrevista si tenemos 17 años."
   ]
  },
  {
   "cell_type": "code",
   "execution_count": 5,
   "metadata": {},
   "outputs": [
    {
     "data": {
      "text/plain": [
       "True"
      ]
     },
     "execution_count": 5,
     "metadata": {},
     "output_type": "execute_result"
    }
   ],
   "source": [
    "edad = 17\n",
    "(edad >= 16) and (edad <= 40)"
   ]
  },
  {
   "cell_type": "markdown",
   "metadata": {},
   "source": [
    "Hemos obtenido `True`, por tanto podemos concertar una entrevista. Que nos admita o no en su tripulación tras la entrevista ya es otra cosa."
   ]
  },
  {
   "cell_type": "markdown",
   "metadata": {},
   "source": [
    "#### Comparación de strings\n",
    "\n",
    "No solamente podemos comparar datos numéricos, sino que también podemos comparar strings en relación al orden alfabético."
   ]
  },
  {
   "cell_type": "code",
   "execution_count": 6,
   "metadata": {},
   "outputs": [
    {
     "data": {
      "text/plain": [
       "False"
      ]
     },
     "execution_count": 6,
     "metadata": {},
     "output_type": "execute_result"
    }
   ],
   "source": [
    "'Mallorca' < 'Dubai'"
   ]
  },
  {
   "cell_type": "markdown",
   "metadata": {},
   "source": [
    "El resultado que obtenemos no se debe a que Mallorca sea mejor que Dubai, sino a que la primera letra de la primera palabra, M, no se encuentra antes en el abecedario que la primera letra de la segunda palabra, D.\n",
    "\n",
    "**Observación.** En caso de que la primera letra de cada una de las palabras comparadas coincidan, se comparan los caracteres que se encuentran en la siguiente posición. En caso de empate, seguiríamos comparando los caracteres de la tercera posición y así sucesivamente."
   ]
  },
  {
   "cell_type": "code",
   "execution_count": 7,
   "metadata": {},
   "outputs": [
    {
     "data": {
      "text/plain": [
       "True"
      ]
     },
     "execution_count": 7,
     "metadata": {},
     "output_type": "execute_result"
    }
   ],
   "source": [
    "'Mallorca' > 'Madrid'"
   ]
  },
  {
   "cell_type": "markdown",
   "metadata": {},
   "source": [
    "#### Más métodos de string\n",
    "\n",
    "El método `.startswith()` nos devuelve verdadero si el string empieza con el caracter o la cadena de caracteres indicado."
   ]
  },
  {
   "cell_type": "code",
   "execution_count": 8,
   "metadata": {},
   "outputs": [
    {
     "data": {
      "text/plain": [
       "False"
      ]
     },
     "execution_count": 8,
     "metadata": {},
     "output_type": "execute_result"
    }
   ],
   "source": [
    "s = 'Mallorca es una isla preciosa'\n",
    "s.startswith('m')"
   ]
  },
  {
   "cell_type": "code",
   "execution_count": 9,
   "metadata": {},
   "outputs": [
    {
     "data": {
      "text/plain": [
       "True"
      ]
     },
     "execution_count": 9,
     "metadata": {},
     "output_type": "execute_result"
    }
   ],
   "source": [
    "s.startswith('Mallorca')"
   ]
  },
  {
   "cell_type": "markdown",
   "metadata": {},
   "source": [
    "**Observación.** Como pueden observar, `Python` diferencia entre letras mayúsculas y letras minúsculas. Por eso es que obtenemos falso al preguntar si el string empieza por m, en vez de M.\n",
    "\n",
    "El método `.endswith()` nos devuelve verdadero si el string acaba con el caracter o la cadena de caracteres indicado."
   ]
  },
  {
   "cell_type": "code",
   "execution_count": 10,
   "metadata": {},
   "outputs": [
    {
     "data": {
      "text/plain": [
       "True"
      ]
     },
     "execution_count": 10,
     "metadata": {},
     "output_type": "execute_result"
    }
   ],
   "source": [
    "s = 'Mallorca es una isla preciosa'\n",
    "s.endswith('a')"
   ]
  },
  {
   "cell_type": "code",
   "execution_count": 11,
   "metadata": {},
   "outputs": [
    {
     "data": {
      "text/plain": [
       "False"
      ]
     },
     "execution_count": 11,
     "metadata": {},
     "output_type": "execute_result"
    }
   ],
   "source": [
    "s.endswith('bonita')"
   ]
  },
  {
   "cell_type": "markdown",
   "metadata": {},
   "source": [
    "**¡Cuidado!** No se consideran caracteres alfanuméricos los siguientes: espacio en blanco, !, %, ?, & y un largo etcétera.\n",
    "\n",
    "El método `.isalpha()` nos devuelve verdader si todos los caracteres del string son del alfabeto."
   ]
  },
  {
   "cell_type": "code",
   "execution_count": 12,
   "metadata": {},
   "outputs": [
    {
     "data": {
      "text/plain": [
       "True"
      ]
     },
     "execution_count": 12,
     "metadata": {},
     "output_type": "execute_result"
    }
   ],
   "source": [
    "s = 'Cachalote'\n",
    "s.isalpha()"
   ]
  },
  {
   "cell_type": "markdown",
   "metadata": {},
   "source": [
    "El método `.isdigit()` nos devuelve verdadero si todos los caracteres del string son dígitos."
   ]
  },
  {
   "cell_type": "code",
   "execution_count": 13,
   "metadata": {},
   "outputs": [
    {
     "data": {
      "text/plain": [
       "True"
      ]
     },
     "execution_count": 13,
     "metadata": {},
     "output_type": "execute_result"
    }
   ],
   "source": [
    "s = \"365\"\n",
    "s.isdigit()"
   ]
  },
  {
   "cell_type": "code",
   "execution_count": 14,
   "metadata": {},
   "outputs": [
    {
     "data": {
      "text/plain": [
       "False"
      ]
     },
     "execution_count": 14,
     "metadata": {},
     "output_type": "execute_result"
    }
   ],
   "source": [
    "s = 'Pyo365'\n",
    "s.isdigit()"
   ]
  },
  {
   "cell_type": "markdown",
   "metadata": {},
   "source": [
    "El método `isspace()` nos devuelve verdadero si todos los caracteres del string son espacios en blanco."
   ]
  },
  {
   "cell_type": "code",
   "execution_count": 15,
   "metadata": {},
   "outputs": [
    {
     "data": {
      "text/plain": [
       "True"
      ]
     },
     "execution_count": 15,
     "metadata": {},
     "output_type": "execute_result"
    }
   ],
   "source": [
    "s = \"         \"\n",
    "s.isspace()"
   ]
  },
  {
   "cell_type": "markdown",
   "metadata": {},
   "source": [
    "El método `.islower()` nos devuelve verdadero si todos los caracteres del string están en minúsculas."
   ]
  },
  {
   "cell_type": "code",
   "execution_count": 16,
   "metadata": {},
   "outputs": [
    {
     "data": {
      "text/plain": [
       "False"
      ]
     },
     "execution_count": 16,
     "metadata": {},
     "output_type": "execute_result"
    }
   ],
   "source": [
    "s = 'Mi gato se llama Bigotes'\n",
    "s.islower()"
   ]
  },
  {
   "cell_type": "code",
   "execution_count": 17,
   "metadata": {},
   "outputs": [
    {
     "data": {
      "text/plain": [
       "True"
      ]
     },
     "execution_count": 17,
     "metadata": {},
     "output_type": "execute_result"
    }
   ],
   "source": [
    "s = 'me gusta hacer puzzles'\n",
    "s.islower()"
   ]
  },
  {
   "cell_type": "markdown",
   "metadata": {},
   "source": [
    "El método `.isupper()` nos devuelve verdadero si todos los caracteres del string están en mayúscula."
   ]
  },
  {
   "cell_type": "code",
   "execution_count": 18,
   "metadata": {},
   "outputs": [
    {
     "data": {
      "text/plain": [
       "False"
      ]
     },
     "execution_count": 18,
     "metadata": {},
     "output_type": "execute_result"
    }
   ],
   "source": [
    "s = 'Mi gato se llama Bigotes'\n",
    "s.isupper()"
   ]
  },
  {
   "cell_type": "code",
   "execution_count": 19,
   "metadata": {},
   "outputs": [
    {
     "data": {
      "text/plain": [
       "True"
      ]
     },
     "execution_count": 19,
     "metadata": {},
     "output_type": "execute_result"
    }
   ],
   "source": [
    "s = 'ME GUSTA HACER PUZZLES'\n",
    "s.isupper()"
   ]
  },
  {
   "cell_type": "markdown",
   "metadata": {},
   "source": [
    "El método `.istitle()` nos devuelve verdadero si todas las palabras del string empiezan en mayúscula y el resto de letras de la palabra están en minúsculas."
   ]
  },
  {
   "cell_type": "code",
   "execution_count": 20,
   "metadata": {},
   "outputs": [
    {
     "data": {
      "text/plain": [
       "True"
      ]
     },
     "execution_count": 20,
     "metadata": {},
     "output_type": "execute_result"
    }
   ],
   "source": [
    "s = 'Platero Y Yo'\n",
    "s.istitle()"
   ]
  },
  {
   "cell_type": "code",
   "execution_count": 21,
   "metadata": {},
   "outputs": [
    {
     "data": {
      "text/plain": [
       "False"
      ]
     },
     "execution_count": 21,
     "metadata": {},
     "output_type": "execute_result"
    }
   ],
   "source": [
    "s = 'PLATERO Y YO'\n",
    "s.istitle()"
   ]
  },
  {
   "cell_type": "markdown",
   "metadata": {},
   "source": [
    "#### Operadores de decisión"
   ]
  },
  {
   "cell_type": "markdown",
   "metadata": {},
   "source": [
    "##### `if`\n",
    "\n",
    "Cuando queremos comprobar si se cumple alguna condición, utilizamos el operador de decisión `if`. La sintaxis que debemos seguir es la siguiente:"
   ]
  },
  {
   "cell_type": "code",
   "execution_count": null,
   "metadata": {},
   "outputs": [],
   "source": [
    "if condicion:\n",
    "  consecuencia"
   ]
  },
  {
   "cell_type": "markdown",
   "metadata": {},
   "source": [
    "**¡Cuidado!** La sintaxis de los dos puntos después de la condición y la indentación (equivalente a una tabulación, un total de 4 espacios en blanco) que precede a la consecuencia es muy importante. De hecho, si se omite alguna de las dos cosas o bien nos pasamos de indentación, nos saltará un error.\n",
    "\n",
    "* Si quieres hacer una tabuluación, debes presionar el tabulador una vez.\n",
    "* Pueden hacer tabulaciones en bloque seleccionando las líneas de código que quieras indentar y, a continuación, pulsando el tabulador.\n",
    "* Puedes deshacer tabulaciones pulsando Shift + Tab.\n",
    "* Puedes deshacer tabulaciones en bloque seleccionando las líneas de código que quieras desidentar y, a continuación, pulsando Shift + Tab.\n",
    "\n",
    "Siguiendo con nuestro ejemplo, si el usuario tiene más de 16 años, pero menos de 40, entonces puede formar parte de la tripulación de Pyratilla."
   ]
  },
  {
   "cell_type": "code",
   "execution_count": 22,
   "metadata": {},
   "outputs": [
    {
     "name": "stdout",
     "output_type": "stream",
     "text": [
      "Puedes formar parte de la tripulación de Pyratilla\n"
     ]
    }
   ],
   "source": [
    "age = 23\n",
    "if (age >= 16 and age <= 40):\n",
    "  print('Puedes formar parte de la tripulación de Pyratilla')"
   ]
  },
  {
   "cell_type": "markdown",
   "metadata": {},
   "source": [
    "#### Ejercicio\n",
    "\n",
    "Dado un string, vamos a comprobar si contiene espacios en blanco y, en caso de ser cierto, contaremos cuántos tiene.\n",
    "\n",
    "PISTA: Investiga el operador `in`"
   ]
  },
  {
   "cell_type": "code",
   "execution_count": 24,
   "metadata": {},
   "outputs": [
    {
     "name": "stdout",
     "output_type": "stream",
     "text": [
      "El string tien 3 espacios en blanco\n"
     ]
    }
   ],
   "source": [
    "s = 'Mi gato mola mucho'\n",
    "c = ' '\n",
    "if( c in s):\n",
    "  print('El string tien {} espacios en blanco'.format(s.count(c)))"
   ]
  },
  {
   "cell_type": "markdown",
   "metadata": {},
   "source": [
    "##### `else`\n",
    "\n",
    "Ahora, nos podríamos preguntar qué le podríamos decir al usuario en el caso en que no satisfaga la condición. Ahí es donde entra en juego el operador de decisión `else`. Esta vez, la sintaxis a seguir es la siguiente:"
   ]
  },
  {
   "cell_type": "code",
   "execution_count": null,
   "metadata": {},
   "outputs": [],
   "source": [
    "if condición:\n",
    "  consecuencia\n",
    "else:\n",
    "  consecuencia"
   ]
  },
  {
   "cell_type": "markdown",
   "metadata": {},
   "source": [
    "Siguiendo el ejemplo anterior, si el usuario tiene 16 años o más, pero menos de 40, entonces puede formar parte de la tripulación de Pyratilla. Si no, le diremos que no satisface una necesidad básica para ser miembro."
   ]
  },
  {
   "cell_type": "code",
   "execution_count": 25,
   "metadata": {},
   "outputs": [
    {
     "name": "stdout",
     "output_type": "stream",
     "text": [
      "No satisfaces una necesidad básica para pertenecer a la tripulación del gran Pyratilla\n"
     ]
    }
   ],
   "source": [
    "age = 13\n",
    "if( age >= 16 and age <= 40 ):\n",
    "  print('Puedes formar parte de la tripulación de Pyratilla')\n",
    "else:\n",
    "  print('No satisfaces una necesidad básica para pertenecer a la tripulación del gran Pyratilla')"
   ]
  },
  {
   "cell_type": "markdown",
   "metadata": {},
   "source": [
    "#### Ejercicio 2\n",
    "\n",
    "Vamos a hacer un programa que resuelva ecuaciones de primer grado de la forma Ax + B = 0 proporcionadas por el usuario donde A ≠ 0."
   ]
  },
  {
   "cell_type": "code",
   "execution_count": 26,
   "metadata": {},
   "outputs": [
    {
     "name": "stdout",
     "output_type": "stream",
     "text": [
      "La solución es x = -1.0\n"
     ]
    }
   ],
   "source": [
    "A = float(input('Coeficiente A = '))\n",
    "B = float(input('Coeficiente B = '))\n",
    "\n",
    "if A != 0:\n",
    "  sol = -B / A\n",
    "  print('La solución es x =', sol)\n",
    "else:\n",
    "  print('No hay ecuación que resolver, porque A = 0')"
   ]
  },
  {
   "cell_type": "markdown",
   "metadata": {},
   "source": [
    "##### `elif`\n",
    "\n",
    "Ahora, en vez de comprobar si se cumple o no una condición, nos podríamos preguntar cómo haríamos para comprobar más de una condición. Podríamos hacerlo a lo bruto anidando operadores `if`, esto es, metiendo un `if` dentro de otro; o bien podríamos hacerlo utilizando el operador de decisión `elif`.\n",
    "\n",
    "El operador `elfi` funciona del siguiente modo: se empieza con un operador `if`; si la condición de este no se cumple pasamos a la siguiente condición posible precedida de un `elif`; si esta tampoco se cumple, pasamos al siguiente `elif`; seguimos así hasta que o bien se satisface alguna condición y realizamos su consecuencia, o hasta llegar al `else`, que implica que no se ha satisfecho ninguna de las condiciones anteriores.\n",
    "\n",
    "La sintaxis del operador de decisión `elif` es la siguiente:"
   ]
  },
  {
   "cell_type": "code",
   "execution_count": null,
   "metadata": {},
   "outputs": [],
   "source": [
    "if condicion_1:\n",
    "  consecuencia\n",
    "elif condicion_2:\n",
    "  consecuencia\n",
    "elif condicion_3:\n",
    "  consecuencia\n",
    "\n",
    "else:\n",
    "  consecuencia"
   ]
  },
  {
   "cell_type": "markdown",
   "metadata": {},
   "source": [
    "Recuperemos el ejemplo de que tenemos que tener 16 años o más, pero menos de 40 para ser miembros de la tripulación del pirata Pyratilla. Vamos a mejorar lo que habíamos conseguido con el `if` y el `else`, añadiendo el operador `elif`.\n",
    "\n",
    "Además, veremos que nos dice con la edad de 20 años."
   ]
  },
  {
   "cell_type": "code",
   "execution_count": 27,
   "metadata": {},
   "outputs": [
    {
     "name": "stdout",
     "output_type": "stream",
     "text": [
      "Podrás optar a pertenecer la tripulación. Aún te queda superar la entrevista con el capitán.\n"
     ]
    }
   ],
   "source": [
    "age = 20\n",
    "\n",
    "if age > 40:\n",
    "  print('No puedes pertenecer a la tripulación, te pasas de la edad límite que ha puesto del gran capitán Pyratilla.')\n",
    "elif age >= 16:\n",
    "  print('Podrás optar a pertenecer la tripulación. Aún te queda superar la entrevista con el capitán.')\n",
    "else:\n",
    "  print('Eres muy pequeño todavía para la vida pirata!')"
   ]
  },
  {
   "cell_type": "markdown",
   "metadata": {},
   "source": [
    "El funcionamiento del código anterior es el siguiente:\n",
    "\n",
    "* El `if` comprueba si la edad introducidad es mayor a 40.\n",
    "* el `elif` comprueba si la edad se encuentra en el intervalo [16, 40].\n",
    "* El `else` implica que la edad introducida es menor a 16."
   ]
  },
  {
   "cell_type": "markdown",
   "metadata": {},
   "source": [
    "#### Operador ternario\n",
    "\n",
    "Si queremos hacer un simple `if` / `else` en una sola línea de código, podemos utilizar el operador ternario, que tiene la siguiente estructura:"
   ]
  },
  {
   "cell_type": "code",
   "execution_count": null,
   "metadata": {},
   "outputs": [],
   "source": [
    "consecuencia_cierto if condicion else consecuencia_falso"
   ]
  },
  {
   "cell_type": "markdown",
   "metadata": {},
   "source": [
    "Por ejemplo, hagamos el caso de mayor de edad. Si la edad es mayor o igual a 18, entonces es mayor de edad en España. Si no, entonces es menor de edad en España."
   ]
  },
  {
   "cell_type": "code",
   "execution_count": 28,
   "metadata": {},
   "outputs": [
    {
     "name": "stdout",
     "output_type": "stream",
     "text": [
      "Eres mayor de edad en España\n"
     ]
    }
   ],
   "source": [
    "age = 20\n",
    "texto_mayor = 'Eres mayor de edad en España'\n",
    "texto_menor = 'Eres menor de edad en España'\n",
    "\n",
    "print(texto_mayor) if age >= 18 else print(texto_menor)"
   ]
  },
  {
   "cell_type": "code",
   "execution_count": 29,
   "metadata": {},
   "outputs": [
    {
     "name": "stdout",
     "output_type": "stream",
     "text": [
      "Eres mayor de edad pues tienes 20 años y tu nombre, que es Martín, empieza por M\n"
     ]
    }
   ],
   "source": [
    "age = 20\n",
    "name = 'Martín'\n",
    "\n",
    "if age >= 18:\n",
    "  if name.startswith('M') or name.startswith('m'):\n",
    "    print('Eres mayor de edad pues tienes {} años y tu nombre, que es {}, empieza por M'.format(age, name))\n",
    "  else:\n",
    "    print('Eres mayor de edad pues tienes {} años'.format(age))\n",
    "else:\n",
    "  print('Eres muy joven')"
   ]
  },
  {
   "cell_type": "markdown",
   "metadata": {},
   "source": [
    "#### Ejercicio 3\n",
    "\n",
    "Vamos a comprobar si un número es par o impar haciendo uso del operador ternario."
   ]
  },
  {
   "cell_type": "code",
   "execution_count": 31,
   "metadata": {},
   "outputs": [
    {
     "name": "stdout",
     "output_type": "stream",
     "text": [
      "El número es par\n"
     ]
    }
   ],
   "source": [
    "# A if condición else B\n",
    "n = 8\n",
    "message = 'El número es par' if n % 2 == 0 else 'El número es impar'\n",
    "print( message )"
   ]
  },
  {
   "cell_type": "markdown",
   "metadata": {},
   "source": [
    "#### Ejercicio 4\n",
    "\n",
    "Vamos a comprobar si un año es bisiesto o no\n",
    "\n",
    "Un año es bisiesto si es divisible entre cuatro pero no es múltiplo de cien a no ser que lo sea de 400."
   ]
  },
  {
   "cell_type": "code",
   "execution_count": 32,
   "metadata": {},
   "outputs": [
    {
     "name": "stdout",
     "output_type": "stream",
     "text": [
      "El año 2004 es bisiesto\n"
     ]
    }
   ],
   "source": [
    "year = int(input('Año: '))\n",
    "\n",
    "if year % 4 == 0:\n",
    "  if year % 100:\n",
    "    if year % 400:\n",
    "      print('El año {} es bisiesto'.format(year))\n",
    "    else:\n",
    "      print('El año {} no es bisiesto'.format(year))\n",
    "  else:\n",
    "    print('El año {} es bisieso'.format(year))\n",
    "else:\n",
    "  print('El año {} no es bisiesto'.format(year))"
   ]
  }
 ],
 "metadata": {
  "kernelspec": {
   "display_name": "Python 3.10.6 64-bit",
   "language": "python",
   "name": "python3"
  },
  "language_info": {
   "codemirror_mode": {
    "name": "ipython",
    "version": 3
   },
   "file_extension": ".py",
   "mimetype": "text/x-python",
   "name": "python",
   "nbconvert_exporter": "python",
   "pygments_lexer": "ipython3",
   "version": "3.10.6"
  },
  "orig_nbformat": 4,
  "vscode": {
   "interpreter": {
    "hash": "916dbcbb3f70747c44a77c7bcd40155683ae19c65e1c03b4aa3499c5328201f1"
   }
  }
 },
 "nbformat": 4,
 "nbformat_minor": 2
}
