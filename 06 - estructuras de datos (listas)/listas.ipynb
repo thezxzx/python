{
 "cells": [
  {
   "cell_type": "markdown",
   "metadata": {},
   "source": [
    "## Estructuras de datos: Listas"
   ]
  },
  {
   "cell_type": "markdown",
   "metadata": {},
   "source": [
    "#### Lista\n",
    "\n",
    "La primera estructura de datos que veremos son las **listas**. Éstas son un conjunto de elementos separados por comas y escritos entre corchetes, `[]`.\n",
    "\n",
    "Las listas son:\n",
    "  * heterogéneas: los elementos pueden ser de distinto tipo en una misma lista.\n",
    "  * mutables: los elementos pueden ser modificados.\n",
    "\n",
    "Un ejemplo de lista sería"
   ]
  },
  {
   "cell_type": "code",
   "execution_count": 1,
   "metadata": {},
   "outputs": [
    {
     "name": "stdout",
     "output_type": "stream",
     "text": [
      "['Juan', 31, 172.32, True]\n"
     ]
    }
   ],
   "source": [
    "l = ['Juan', 31, 172.32, True]\n",
    "print(l)"
   ]
  },
  {
   "cell_type": "code",
   "execution_count": 2,
   "metadata": {},
   "outputs": [
    {
     "data": {
      "text/plain": [
       "list"
      ]
     },
     "execution_count": 2,
     "metadata": {},
     "output_type": "execute_result"
    }
   ],
   "source": [
    "type(l)"
   ]
  },
  {
   "cell_type": "markdown",
   "metadata": {},
   "source": [
    "##### Tamaño de una lista\n",
    "\n",
    "Para saber la longitud o el tamaño de una lista, podemos hacer uso de la función `len()`"
   ]
  },
  {
   "cell_type": "code",
   "execution_count": 3,
   "metadata": {},
   "outputs": [
    {
     "data": {
      "text/plain": [
       "9"
      ]
     },
     "execution_count": 3,
     "metadata": {},
     "output_type": "execute_result"
    }
   ],
   "source": [
    "l = [1, 2, 3, 4, 5, 6, 7, 8, 9]\n",
    "len(l)"
   ]
  },
  {
   "cell_type": "code",
   "execution_count": 4,
   "metadata": {},
   "outputs": [
    {
     "data": {
      "text/plain": [
       "4"
      ]
     },
     "execution_count": 4,
     "metadata": {},
     "output_type": "execute_result"
    }
   ],
   "source": [
    "l = ['Zoe', 'Pablo', 'Miguel', 'Silvia']\n",
    "len(l)"
   ]
  },
  {
   "cell_type": "markdown",
   "metadata": {},
   "source": [
    "##### Elementos de una lista\n",
    "\n",
    "Cada elemento en una lista tiene su propio índice"
   ]
  },
  {
   "cell_type": "code",
   "execution_count": 5,
   "metadata": {},
   "outputs": [],
   "source": [
    "names = ['Maria', 'Juan', 'Claudia', 'Jorge', 'Avelina']"
   ]
  },
  {
   "cell_type": "markdown",
   "metadata": {},
   "source": [
    "A `María` le corresponde el índice 0; a `Juan`, el 1; a `Claudia` el 2; a `Jorge`, el 3; y a `Avelina, el 4.\n",
    "\n",
    "**¡Cuidado!** En `Python`, los índices siempre empiezan en 0. De este modo, al primer elemento le corresponde el índice 0; al segundo el índice 1; y al n-ésimo, le corresponde el índice n - 1.\n",
    "\n",
    "Dada una lista, podemos acceder a sus elementos utilizando la sintaxis `[]`."
   ]
  },
  {
   "cell_type": "code",
   "execution_count": 6,
   "metadata": {},
   "outputs": [
    {
     "name": "stdout",
     "output_type": "stream",
     "text": [
      "Maria\n"
     ]
    }
   ],
   "source": [
    "print(names[0])"
   ]
  },
  {
   "cell_type": "code",
   "execution_count": 7,
   "metadata": {},
   "outputs": [
    {
     "name": "stdout",
     "output_type": "stream",
     "text": [
      "Jorge\n"
     ]
    }
   ],
   "source": [
    "print(names[3])"
   ]
  },
  {
   "cell_type": "code",
   "execution_count": 8,
   "metadata": {},
   "outputs": [
    {
     "ename": "IndexError",
     "evalue": "list index out of range",
     "output_type": "error",
     "traceback": [
      "\u001b[0;31m---------------------------------------------------------------------------\u001b[0m",
      "\u001b[0;31mIndexError\u001b[0m                                Traceback (most recent call last)",
      "Cell \u001b[0;32mIn [8], line 1\u001b[0m\n\u001b[0;32m----> 1\u001b[0m \u001b[39mprint\u001b[39m(names[\u001b[39m5\u001b[39;49m])\n",
      "\u001b[0;31mIndexError\u001b[0m: list index out of range"
     ]
    }
   ],
   "source": [
    "print(names[5])"
   ]
  },
  {
   "cell_type": "markdown",
   "metadata": {},
   "source": [
    "**¡Cuidado!** Si dada una lista llamamos a un elemento cuyo índice no existe para dicha lista, `Python` automáticamente nos devolverá un error.\n",
    "\n",
    "Podemos acceder a los últimos elementos de la lista haciendo uso de índices negativos."
   ]
  },
  {
   "cell_type": "code",
   "execution_count": 9,
   "metadata": {},
   "outputs": [
    {
     "name": "stdout",
     "output_type": "stream",
     "text": [
      "Avelina\n"
     ]
    }
   ],
   "source": [
    "print(names[-1]) # Último elemento"
   ]
  },
  {
   "cell_type": "code",
   "execution_count": 10,
   "metadata": {},
   "outputs": [
    {
     "name": "stdout",
     "output_type": "stream",
     "text": [
      "Claudia\n"
     ]
    }
   ],
   "source": [
    "print(names[-3]) # Tercer elemento empezando por el final"
   ]
  },
  {
   "cell_type": "markdown",
   "metadata": {},
   "source": [
    "Si en vez de querer acceder a los elementos uno por uno estamos interesados en acceder a varios elementos a la vez, podemos hacer uso de la función `:`"
   ]
  },
  {
   "cell_type": "code",
   "execution_count": 11,
   "metadata": {},
   "outputs": [
    {
     "name": "stdout",
     "output_type": "stream",
     "text": [
      "['Claudia', 'Jorge']\n"
     ]
    }
   ],
   "source": [
    "print(names[2:4])"
   ]
  },
  {
   "cell_type": "code",
   "execution_count": 12,
   "metadata": {},
   "outputs": [
    {
     "name": "stdout",
     "output_type": "stream",
     "text": [
      "['Maria', 'Juan', 'Claudia']\n"
     ]
    }
   ],
   "source": [
    "print(names[:3])"
   ]
  },
  {
   "cell_type": "code",
   "execution_count": 13,
   "metadata": {},
   "outputs": [
    {
     "name": "stdout",
     "output_type": "stream",
     "text": [
      "['Jorge', 'Avelina']\n"
     ]
    }
   ],
   "source": [
    "print(names[3:])"
   ]
  },
  {
   "cell_type": "markdown",
   "metadata": {},
   "source": [
    "**Observación.** En cuanto a la función `:`\n",
    "  * El índice indicado a la derecha de los `:` nunca es incluido.\n",
    "  * Si no indicamos elementos a la izquierda de los `:`, por defecto `Python` interpreta que se trata del 0.\n",
    "  * Si no indicamos elementos a la derecha, por defecto `Python` interpreta que debe mostrar los elementos desde el índice indicado a la izquierda hasta el último.\n",
    "\n",
    "Además de acceder, podemos modificar los elementos de una lista."
   ]
  },
  {
   "cell_type": "code",
   "execution_count": 14,
   "metadata": {},
   "outputs": [
    {
     "data": {
      "text/plain": [
       "['Marina', 'Juan', 'Claudia', 'Jaime', 'Avelina']"
      ]
     },
     "execution_count": 14,
     "metadata": {},
     "output_type": "execute_result"
    }
   ],
   "source": [
    "names[0] = 'Marina'\n",
    "names[3] = 'Jaime'\n",
    "names"
   ]
  },
  {
   "cell_type": "markdown",
   "metadata": {},
   "source": [
    "Podemos añadir nuevos elementos a una lista con el método `.append()`"
   ]
  },
  {
   "cell_type": "code",
   "execution_count": 15,
   "metadata": {},
   "outputs": [
    {
     "name": "stdout",
     "output_type": "stream",
     "text": [
      "['Maria', 'Cristina', 'Juana']\n",
      "['Maria', 'Cristina', 'Juana', 'Andrea', 'Ana']\n"
     ]
    }
   ],
   "source": [
    "names = ['Maria', 'Cristina', 'Juana']\n",
    "print( names )\n",
    "\n",
    "names.append('Andrea')\n",
    "names.append('Ana')\n",
    "print( names )"
   ]
  },
  {
   "cell_type": "markdown",
   "metadata": {},
   "source": [
    "**Observación.** Los elementos añadidos con el método `.append()`, se incluyen al final.\n",
    "\n",
    "Si quisieramos añadir un nuevo elemento a una lista, pero no lo quisiéramos al final, sino en una posición específica, entonces utilizaremos el método `.insert()` al primero le indicamos al índice donde queremos posicionar el nuevo elemento y, en segundo lugar, indicamos dicho nuevo elemento."
   ]
  },
  {
   "cell_type": "code",
   "execution_count": 16,
   "metadata": {},
   "outputs": [
    {
     "name": "stdout",
     "output_type": "stream",
     "text": [
      "['Mario', 'Cristian', 'Juan']\n",
      "['Mario', 'Andrés', 'Cristian', 'Juan']\n",
      "['Mario', 'Andrés', 'Cristian', 'Miguel', 'Juan']\n"
     ]
    }
   ],
   "source": [
    "names = ['Mario', 'Cristian', 'Juan']\n",
    "print( names )\n",
    "\n",
    "names.insert(1, 'Andrés')\n",
    "print( names )\n",
    "names.insert(3, 'Miguel')\n",
    "print(names)"
   ]
  },
  {
   "cell_type": "markdown",
   "metadata": {},
   "source": [
    "**Observación**. Cuando le indicamos que queremos el elemento `Andrés` en el índice 1, el que antes ocupaba dicho índice, `Cristian`, pasa a ocupar el siguiente, 2, y así con el resto de elementos que van a continuación."
   ]
  },
  {
   "cell_type": "markdown",
   "metadata": {},
   "source": [
    "##### Ejercicio\n",
    "\n",
    "Vamos a pedirle al usuario la longitud de una lista y haremos que introduzca por teclado tantos números enteros como haya indicado, que se guardarán en una lista. Al acabar, imprimiremos la lista."
   ]
  },
  {
   "cell_type": "code",
   "execution_count": 17,
   "metadata": {},
   "outputs": [
    {
     "name": "stdout",
     "output_type": "stream",
     "text": [
      "Tu lista es: [1, 2, 3, 4, 5]\n"
     ]
    }
   ],
   "source": [
    "n = int(input('Introduce el tamaño de la lista: '))\n",
    "l = []\n",
    "\n",
    "for i in range(n):\n",
    "  l.append(int(input()))\n",
    "\n",
    "print(f'Tu lista es: {l}')"
   ]
  },
  {
   "cell_type": "markdown",
   "metadata": {},
   "source": [
    "#### Bucles con listas\n",
    "\n",
    "Si quisieramos imprimir por pantalla todos los elementos de una lista, lo podríamos hacer mediante los índices"
   ]
  },
  {
   "cell_type": "code",
   "execution_count": 18,
   "metadata": {},
   "outputs": [
    {
     "name": "stdout",
     "output_type": "stream",
     "text": [
      "Mario\n",
      "Andrés\n",
      "Cristian\n",
      "Miguel\n",
      "Juan\n"
     ]
    }
   ],
   "source": [
    "for i in range(len(names)):\n",
    "  print(names[i])"
   ]
  },
  {
   "cell_type": "markdown",
   "metadata": {},
   "source": [
    "o mucho más fácilmente iterando la lista con un `for` con la siguiente sintaxis:"
   ]
  },
  {
   "cell_type": "code",
   "execution_count": 19,
   "metadata": {},
   "outputs": [
    {
     "name": "stdout",
     "output_type": "stream",
     "text": [
      "Mario\n",
      "Andrés\n",
      "Cristian\n",
      "Miguel\n",
      "Juan\n"
     ]
    }
   ],
   "source": [
    "for i in names:\n",
    "  print( i )"
   ]
  },
  {
   "cell_type": "markdown",
   "metadata": {},
   "source": [
    "#### Concatenación de listas\n",
    "\n",
    "Dadas dos o más listas, podemos concatenarlas haciendo uso de la función `+`"
   ]
  },
  {
   "cell_type": "code",
   "execution_count": 20,
   "metadata": {},
   "outputs": [
    {
     "name": "stdout",
     "output_type": "stream",
     "text": [
      "[True, 21, 'Marta', 22.5, False, 22, 'Rafa']\n"
     ]
    }
   ],
   "source": [
    "l1 = [True, 21, 'Marta']\n",
    "l2 = [22.5, False, 22, 'Rafa']\n",
    "print( l1 + l2 )"
   ]
  },
  {
   "cell_type": "markdown",
   "metadata": {},
   "source": [
    "#### Repetición de listas\n",
    "\n",
    "Podemos repetir una misma lista tantas veces como queramos con la función `*`"
   ]
  },
  {
   "cell_type": "code",
   "execution_count": 21,
   "metadata": {},
   "outputs": [
    {
     "name": "stdout",
     "output_type": "stream",
     "text": [
      "['A', 'B', 'C', 'A', 'B', 'C', 'A', 'B', 'C', 'A', 'B', 'C', 'A', 'B', 'C']\n"
     ]
    }
   ],
   "source": [
    "abc = ['A', 'B', 'C']\n",
    "print( abc * 5 )"
   ]
  },
  {
   "cell_type": "markdown",
   "metadata": {},
   "source": [
    "#### Lista vacía"
   ]
  },
  {
   "cell_type": "code",
   "execution_count": 22,
   "metadata": {},
   "outputs": [
    {
     "name": "stdout",
     "output_type": "stream",
     "text": [
      "0\n"
     ]
    }
   ],
   "source": [
    "empty_list = []\n",
    "print(len(empty_list))"
   ]
  },
  {
   "cell_type": "markdown",
   "metadata": {},
   "source": [
    "#### Más métodos de listas\n",
    "\n",
    "El método `.count()` recibe un elemento como argumento y cuenta la cantidad de veces que aparece en la lista"
   ]
  },
  {
   "cell_type": "code",
   "execution_count": 23,
   "metadata": {},
   "outputs": [
    {
     "name": "stdout",
     "output_type": "stream",
     "text": [
      "El element 0 aparece 1 veces\n",
      "El element 1 aparece 2 veces\n",
      "El element 2 aparece 3 veces\n",
      "El element 3 aparece 4 veces\n"
     ]
    }
   ],
   "source": [
    "numbers = [0, 1, 1, 2, 2, 2, 3, 3, 3, 3]\n",
    "\n",
    "counted = []\n",
    "for element in numbers:\n",
    "  if element not in counted:\n",
    "    counted.append(element)\n",
    "    print(f'El element {element} aparece {numbers.count(element)} veces')"
   ]
  },
  {
   "cell_type": "markdown",
   "metadata": {},
   "source": [
    "El método `.extend()` extiende la lista agregando al final el iterable indicado por parámetro."
   ]
  },
  {
   "cell_type": "code",
   "execution_count": 24,
   "metadata": {},
   "outputs": [
    {
     "name": "stdout",
     "output_type": "stream",
     "text": [
      "[1, 2, 3, 4, 5, 6, 7, 8, 9, 10, 11, 12, 13, 14, 15]\n"
     ]
    }
   ],
   "source": [
    "numbers = [1,2,3,4,5]\n",
    "numbers.extend([6])\n",
    "numbers.extend([7, 8])\n",
    "numbers.extend(range(9, 16))\n",
    "print(numbers)"
   ]
  },
  {
   "cell_type": "markdown",
   "metadata": {},
   "source": [
    "**Observación.** Un iterable es un objeto de `Python` capaz de devolver sus elementos uno por uno, permitiendo ser iterado en un bucle for. De momento solo conocemos las listas y el resultado de `range()`, pero en secciones futuras veremos los diccionarios, las tuplas y los conjuntos, que también son conjuntos iterables.\n",
    "\n",
    "El método `index()` recibe un elemento como argumento y devuelve el índice de la primera aparición en la lista."
   ]
  },
  {
   "cell_type": "code",
   "execution_count": 30,
   "metadata": {},
   "outputs": [
    {
     "name": "stdout",
     "output_type": "stream",
     "text": [
      "3\n",
      "7\n"
     ]
    }
   ],
   "source": [
    "numbers = [0, 1, 1, 2, 2, 2, 3, 4, 3, 4]\n",
    "print(numbers.index(2))\n",
    "print(numbers.index(4))"
   ]
  },
  {
   "cell_type": "code",
   "execution_count": 27,
   "metadata": {},
   "outputs": [
    {
     "ename": "ValueError",
     "evalue": "7 is not in list",
     "output_type": "error",
     "traceback": [
      "\u001b[0;31m---------------------------------------------------------------------------\u001b[0m",
      "\u001b[0;31mValueError\u001b[0m                                Traceback (most recent call last)",
      "Cell \u001b[0;32mIn [27], line 1\u001b[0m\n\u001b[0;32m----> 1\u001b[0m \u001b[39mprint\u001b[39m(numbers\u001b[39m.\u001b[39;49mindex(\u001b[39m7\u001b[39;49m))\n",
      "\u001b[0;31mValueError\u001b[0m: 7 is not in list"
     ]
    }
   ],
   "source": [
    "print(numbers.index(7))"
   ]
  },
  {
   "cell_type": "markdown",
   "metadata": {},
   "source": [
    "El método `.pop()` devuelve el último elemento de la lista y lo borra de la misma."
   ]
  },
  {
   "cell_type": "code",
   "execution_count": 31,
   "metadata": {},
   "outputs": [
    {
     "name": "stdout",
     "output_type": "stream",
     "text": [
      "[0, 1, 1, 2, 2, 2, 3, 4, 3, 4]\n",
      "4\n",
      "[0, 1, 1, 2, 2, 2, 3, 4, 3]\n",
      "3\n",
      "[0, 1, 1, 2, 2, 2, 3, 4]\n",
      "4\n",
      "[0, 1, 1, 2, 2, 2, 3]\n",
      "3\n",
      "[0, 1, 1, 2, 2, 2]\n",
      "2\n",
      "[0, 1, 1, 2, 2]\n"
     ]
    }
   ],
   "source": [
    "print( numbers )\n",
    "# print(numbers.pop())\n",
    "# print(numbers)\n",
    "\n",
    "for i in range(5):\n",
    "  print( numbers.pop() )\n",
    "  print( numbers )"
   ]
  },
  {
   "cell_type": "markdown",
   "metadata": {},
   "source": [
    "El método `.remove()` recibe como argumento un elemento y borra su primera aparación de la lista."
   ]
  },
  {
   "cell_type": "code",
   "execution_count": 32,
   "metadata": {},
   "outputs": [
    {
     "name": "stdout",
     "output_type": "stream",
     "text": [
      "[0, 1, 2, 3, 4, 5, 6, 7]\n"
     ]
    }
   ],
   "source": [
    "numbers = [0, 1, 2, 4, 3, 4, 5, 6, 7]\n",
    "numbers.remove(4)\n",
    "print(numbers)"
   ]
  },
  {
   "cell_type": "markdown",
   "metadata": {},
   "source": [
    "El método `.reverse()` devuelve la lista en orden inverso."
   ]
  },
  {
   "cell_type": "code",
   "execution_count": 34,
   "metadata": {},
   "outputs": [
    {
     "name": "stdout",
     "output_type": "stream",
     "text": [
      "[-3, 3, -2, 2, -1, 1]\n"
     ]
    }
   ],
   "source": [
    "numbers = [1, -1, 2, -2, 3, -3]\n",
    "numbers.reverse()\n",
    "print(numbers)"
   ]
  },
  {
   "cell_type": "markdown",
   "metadata": {},
   "source": [
    "El método `.sort()` devuelve la lista en orden"
   ]
  },
  {
   "cell_type": "code",
   "execution_count": 35,
   "metadata": {},
   "outputs": [
    {
     "name": "stdout",
     "output_type": "stream",
     "text": [
      "[1, 2, 3, 4, 5]\n"
     ]
    }
   ],
   "source": [
    "numbers = [1, 3, 5, 2, 4]\n",
    "numbers.sort()\n",
    "print(numbers)"
   ]
  },
  {
   "cell_type": "markdown",
   "metadata": {},
   "source": [
    "Si quisiésemos ordenar los elementos en orden decreciente, podríamos hacer uso del parámetro `reverse` del método `.sort()`:"
   ]
  },
  {
   "cell_type": "code",
   "execution_count": 36,
   "metadata": {},
   "outputs": [
    {
     "name": "stdout",
     "output_type": "stream",
     "text": [
      "[5, 4, 3, 2, 1]\n"
     ]
    }
   ],
   "source": [
    "numbers = [1, 3, 5, 2, 4]\n",
    "numbers.sort(reverse = True)\n",
    "print(numbers)"
   ]
  },
  {
   "cell_type": "markdown",
   "metadata": {},
   "source": [
    "**Observación.** De momento solo conocemos las listas y el resultado de `range()`, pero en secciones futuras veremos los diccionarios, las tuplas y los conjuntos, que también son objetos iterables."
   ]
  },
  {
   "cell_type": "markdown",
   "metadata": {},
   "source": [
    "#### Conversión a listas\n",
    "\n",
    "Para convertir un objeto iterable de `Python` a lista, hay que usar la función `list()`"
   ]
  },
  {
   "cell_type": "code",
   "execution_count": 37,
   "metadata": {},
   "outputs": [
    {
     "name": "stdout",
     "output_type": "stream",
     "text": [
      "<class 'range'>\n"
     ]
    }
   ],
   "source": [
    "print(type(range(0, 100, 10)))"
   ]
  },
  {
   "cell_type": "code",
   "execution_count": 38,
   "metadata": {},
   "outputs": [
    {
     "name": "stdout",
     "output_type": "stream",
     "text": [
      "[0, 10, 20, 30, 40, 50, 60, 70, 80, 90]\n"
     ]
    }
   ],
   "source": [
    "print(list(range(0, 100, 10)))"
   ]
  },
  {
   "cell_type": "code",
   "execution_count": 39,
   "metadata": {},
   "outputs": [
    {
     "name": "stdout",
     "output_type": "stream",
     "text": [
      "<class 'list'>\n"
     ]
    }
   ],
   "source": [
    "print(type(list(range(0, 100, 10))))"
   ]
  },
  {
   "cell_type": "markdown",
   "metadata": {},
   "source": [
    "#### Listas anidadas\n",
    "\n",
    "Las listas anidadas son listas desntro de listas. Es decir, las listas no solo pueden contener números, strings o datos booleanos, sino que también pueden contener otras listas."
   ]
  },
  {
   "cell_type": "markdown",
   "metadata": {},
   "source": [
    "##### Ejemplo 1\n",
    "\n",
    "A continuación mostramos una lista anidada, pues consta de 3 elementos:\n",
    "\n",
    "  * 1 lista de 3 strings.\n",
    "  * 1 lista heterogénea de 3 elementos que a su vez contiene una lista con 5 números.\n",
    "  * 1 número."
   ]
  },
  {
   "cell_type": "code",
   "execution_count": 40,
   "metadata": {},
   "outputs": [],
   "source": [
    "l = [['Maria', 'Santos', 'Fernández'], ['Juan', [1, 2, 3, 4, 5], 32], 2]"
   ]
  },
  {
   "cell_type": "markdown",
   "metadata": {},
   "source": [
    "Para acceder a un elemento, necesitamos indicar su índice. Si un elemento está en una lista dentro de una lista dentro de una lista dentro de una lista, en primer lugar indicamos el índice de la lista exterior dentro de `[]`; después, el índice de la siguiente lista más exterior también entre `[]`; y por último, el índice de la lista más interna, claramente también entre `[]`.\n",
    "\n",
    "Accedamos al string `Fernández` y luego al número `5`."
   ]
  },
  {
   "cell_type": "code",
   "execution_count": 41,
   "metadata": {},
   "outputs": [
    {
     "name": "stdout",
     "output_type": "stream",
     "text": [
      "Fernández\n",
      "5\n"
     ]
    }
   ],
   "source": [
    "print(l[0][2]) # Fernández\n",
    "print(l[1][1][4]) # 5"
   ]
  },
  {
   "cell_type": "markdown",
   "metadata": {},
   "source": [
    "#### Matrices\n",
    "\n",
    "Hay un tipo muy utilizado de listas anidadas. Se caracterzia por ser una lista de m listas, donde cada una de las listas tiene el mismo número de elementos, n. A este tipo de listas se les conoce como matrices."
   ]
  },
  {
   "cell_type": "code",
   "execution_count": 2,
   "metadata": {},
   "outputs": [],
   "source": [
    "matrix = [[1,2,3], [4,5,6], [7,8,9]]"
   ]
  },
  {
   "cell_type": "markdown",
   "metadata": {},
   "source": [
    "En matemáticas, las matrices, se definen del siguiente modo.\n",
    "\n",
    "**Matriz**. Una matriz de dimensiones m X n es una tabla formada por elementos dispuestos en m filas y n columnas de la forma.\n",
    "\n",
    "![](https://wikimedia.org/api/rest_v1/media/math/render/svg/6222e9f1577287b35d8c10bdb1a8018dcb46a934)\n",
    "\n",
    "Los elemtnos de la matriz se representan con doble subíndice, aij, donde el primero indica a la fila a la que pertenece y, el segundo, la columna.\n",
    "\n",
    "Entonces, la matriz que hemos definido anteriormente."
   ]
  },
  {
   "cell_type": "code",
   "execution_count": 3,
   "metadata": {},
   "outputs": [
    {
     "data": {
      "text/plain": [
       "[[1, 2, 3], [4, 5, 6], [7, 8, 9]]"
      ]
     },
     "execution_count": 3,
     "metadata": {},
     "output_type": "execute_result"
    }
   ],
   "source": [
    "matrix"
   ]
  },
  {
   "cell_type": "markdown",
   "metadata": {},
   "source": [
    "Escrita en forma de tabla sería: `matrix` = ![](https://i.ytimg.com/vi/TQK3y5eZzYo/hqdefault.jpg)\n",
    "\n",
    "Para acceder a los elementos de una matriz en `Python`, utilizamos la sintaxis `[][]`, donde primero indicamos la fila y, a continuación, la columna."
   ]
  },
  {
   "cell_type": "code",
   "execution_count": 4,
   "metadata": {},
   "outputs": [
    {
     "data": {
      "text/plain": [
       "3"
      ]
     },
     "execution_count": 4,
     "metadata": {},
     "output_type": "execute_result"
    }
   ],
   "source": [
    "matrix[0][2]"
   ]
  },
  {
   "cell_type": "code",
   "execution_count": 5,
   "metadata": {},
   "outputs": [
    {
     "data": {
      "text/plain": [
       "5"
      ]
     },
     "execution_count": 5,
     "metadata": {},
     "output_type": "execute_result"
    }
   ],
   "source": [
    "matrix[1][1]"
   ]
  },
  {
   "cell_type": "code",
   "execution_count": 6,
   "metadata": {},
   "outputs": [
    {
     "data": {
      "text/plain": [
       "7"
      ]
     },
     "execution_count": 6,
     "metadata": {},
     "output_type": "execute_result"
    }
   ],
   "source": [
    "matrix[2][0]"
   ]
  },
  {
   "cell_type": "markdown",
   "metadata": {},
   "source": [
    "Podemos mostrar una matriz de `Python` en forma de tabla con un bucle `for`, del siguiente modo"
   ]
  },
  {
   "cell_type": "code",
   "execution_count": 7,
   "metadata": {},
   "outputs": [
    {
     "name": "stdout",
     "output_type": "stream",
     "text": [
      "[1, 2, 3]\n",
      "[4, 5, 6]\n",
      "[7, 8, 9]\n"
     ]
    }
   ],
   "source": [
    "for row in matrix: # Acedemos a las filas de la matrix\n",
    "  print(row)"
   ]
  },
  {
   "cell_type": "markdown",
   "metadata": {},
   "source": [
    "Si lo que queremos es mostrar todos los elementos de la matriz en columna, podemos utilizar dos bucles `for` anidados del siguiente modo:"
   ]
  },
  {
   "cell_type": "code",
   "execution_count": 10,
   "metadata": {},
   "outputs": [
    {
     "name": "stdout",
     "output_type": "stream",
     "text": [
      "1\n",
      "2\n",
      "3\n",
      "4\n",
      "5\n",
      "6\n",
      "7\n",
      "8\n",
      "9\n"
     ]
    }
   ],
   "source": [
    "for row in matrix: # Accedemos a las filas\n",
    "  for element in row: # Accedemos a los elementos de las filas\n",
    "    print(element)"
   ]
  },
  {
   "cell_type": "markdown",
   "metadata": {},
   "source": [
    "Si lo que queremos es mostrar la matriz en forma de tabla, sin comas, ni corchetes por en medio, lo podemos hacer de dos formas:\n",
    "\n",
    "  * Haciendo uso de las dimensiones de la matriz, y por tanto, de la función `range()`\n",
    "  * Sin hacer uso de las dimensiones\n",
    "\n",
    "La primera forma sería:"
   ]
  },
  {
   "cell_type": "code",
   "execution_count": 11,
   "metadata": {},
   "outputs": [
    {
     "name": "stdout",
     "output_type": "stream",
     "text": [
      "1 2 3 \n",
      "4 5 6 \n",
      "7 8 9 \n"
     ]
    }
   ],
   "source": [
    "# m es el número de filas y n, el de columnas\n",
    "m = len(matrix)\n",
    "n = len(matrix[0])\n",
    "\n",
    "for i in range(m):\n",
    "  for j in range(n):\n",
    "    print(matrix[i][j], end = ' ')\n",
    "  print('')"
   ]
  },
  {
   "cell_type": "markdown",
   "metadata": {},
   "source": [
    "**Observación.**\n",
    "\n",
    "  1. Como todas las filas tienen el mismo número de elementos, nos da igual si calculamos n con la primera fila o con cualquiera otra.\n",
    "  2. Hemos hecho uso del parámetro `end` de la función `print()` para indicar si, en vez de un salto de línea como ocurre por defecto, queremos que suceda otra cosa inmediatamente después de ejecutar la función `print()`. En este caso, hemos indicado que queremos un espacio en blanco.\n",
    "\n",
    "Y la segunda forma, es la siguiente:"
   ]
  },
  {
   "cell_type": "code",
   "execution_count": 12,
   "metadata": {},
   "outputs": [
    {
     "name": "stdout",
     "output_type": "stream",
     "text": [
      "1 2 3 \n",
      "4 5 6 \n",
      "7 8 9 \n"
     ]
    }
   ],
   "source": [
    "for row in matrix:\n",
    "  for element in row:\n",
    "    print(element, end = ' ')\n",
    "  print('')"
   ]
  },
  {
   "cell_type": "markdown",
   "metadata": {},
   "source": [
    "#### Suma de matrices\n",
    "\n",
    "Para poder sumar dos matrices, necesitamos que tengan la misma dimensión. Entonces, dadas A y B dos matrices con dimensión m X n, su suma será una matriz de dimensión m X n y sus elementos se obtienen del siguiente modo:\n",
    "\n",
    "![](https://cdn.discordapp.com/attachments/973427374077141022/1039674872932093962/image.png)\n",
    "\n",
    "Dadas dos matrices con la misma dimensión, las podemos usar haciendo uso de bucles `for` anidados."
   ]
  },
  {
   "cell_type": "code",
   "execution_count": 1,
   "metadata": {},
   "outputs": [
    {
     "name": "stdout",
     "output_type": "stream",
     "text": [
      "[[0, -2, -3], [0, 3, 1], [-1, -1, -3]]\n"
     ]
    }
   ],
   "source": [
    "A = [[1, 0, -3], [2, 0, 1], [-1, -1, 0]]\n",
    "B = [[-1, -2, 0], [-2, 3, 0], [0, 0, -3]]\n",
    "\n",
    "m = len(A)\n",
    "n = len(A[0])\n",
    "\n",
    "if len(A) == len(B) and len(A[0]) == len(B[0]):\n",
    "  C =[]\n",
    "\n",
    "  for i in range(m):\n",
    "    C.append([])\n",
    "    for j in range(n):\n",
    "      C[i].append(A[i][j] + B[i][j])\n",
    "\n",
    "  print(C)\n",
    "\n",
    "else:\n",
    "  print('No se puede realizar la suma, pues las dimensiones de las matrices no coinciden')"
   ]
  },
  {
   "cell_type": "markdown",
   "metadata": {},
   "source": [
    "El resultado de sumas las atrices A y B ha sido\n",
    "\n",
    "![](https://cdn.discordapp.com/attachments/973427374077141022/1039787530905714708/image.png)"
   ]
  },
  {
   "cell_type": "code",
   "execution_count": 2,
   "metadata": {},
   "outputs": [
    {
     "name": "stdout",
     "output_type": "stream",
     "text": [
      "[0, -2, -3]\n",
      "[0, 3, 1]\n",
      "[-1, -1, -3]\n"
     ]
    }
   ],
   "source": [
    "for row in C:\n",
    "  print(row)"
   ]
  },
  {
   "cell_type": "markdown",
   "metadata": {},
   "source": [
    "**Observación.** Hemos puesto un `if` que, suponiendo que tanto A como B son matrices, comprueba si sus dimensiones coinciden. De ser cierto, procede a hacer la suma. De lo contrario, devuelve un mensaje indicando que la suma no puede llevarse a cabo."
   ]
  },
  {
   "cell_type": "markdown",
   "metadata": {},
   "source": [
    "#### Producto de matrices\n",
    "\n",
    "Para poder multiplicar matrices, necesitamos que la matriz de la izquierda tenga el mismo número de columnas que número de columnas que número de filas tiene la matriz de la derecha. Entonces, dadas las matrices A y B de dimensiones m X n y n X p respectivamente, su producto será una matriz de dimensión m X p y se obtiene del siguiente modo:\n",
    "\n",
    "![](https://cdn.discordapp.com/attachments/973427374077141022/1039788371054166016/image.png)\n",
    "\n",
    "Dadas dos matrices, la primera con el mismo número de columnas que filas tiene la segunda, podemos multiplicarlas del siguiente modo:"
   ]
  },
  {
   "cell_type": "code",
   "execution_count": 3,
   "metadata": {},
   "outputs": [],
   "source": [
    "A = [[1, 0, -3, 2], [2, 0, 1, 1], [-1, 0, -1, 0]]\n",
    "B = [[-1, -2, 0], [-2, 3, 0], [0, 0, -3], [1, 1, -1]]\n",
    "\n",
    "m, n, p = len(A), len(B), len(B[0])\n",
    "\n",
    "C = []\n",
    "\n",
    "for i in range(m):\n",
    "  C.append([])\n",
    "  for j in range(p):\n",
    "    elemento = 0\n",
    "    for k in range(n):\n",
    "      elemento = elemento + A[i][k] * B[k][j]\n",
    "    C[i].append(elemento)"
   ]
  },
  {
   "cell_type": "markdown",
   "metadata": {},
   "source": [
    "El resultado de multiplicar las matrices A y B ha sido:\n",
    "\n",
    "![](https://cdn.discordapp.com/attachments/973427374077141022/1039790228006768681/image.png)"
   ]
  },
  {
   "cell_type": "code",
   "execution_count": 4,
   "metadata": {},
   "outputs": [
    {
     "name": "stdout",
     "output_type": "stream",
     "text": [
      "[1, 0, 7]\n",
      "[-1, -3, -4]\n",
      "[1, 2, 3]\n"
     ]
    }
   ],
   "source": [
    "for row in C:\n",
    "  print( row )"
   ]
  },
  {
   "cell_type": "markdown",
   "metadata": {},
   "source": [
    "#### Matrices con `numpy`\n",
    "\n",
    "Existe una forma más sencilla de trabajar con matrices y es gracias a la librería `numpy`. Para importarla, simplemente hay que ejecutar la siguiente línea de código."
   ]
  },
  {
   "cell_type": "code",
   "execution_count": 2,
   "metadata": {},
   "outputs": [],
   "source": [
    "import numpy as np"
   ]
  },
  {
   "cell_type": "markdown",
   "metadata": {},
   "source": [
    "Para crear una matriz vacía, usamos el método `.empty()`, al que le indicamos por parámetro las dimensiones."
   ]
  },
  {
   "cell_type": "code",
   "execution_count": 3,
   "metadata": {},
   "outputs": [
    {
     "name": "stdout",
     "output_type": "stream",
     "text": [
      "[[4.6406002e-310 0.0000000e+000 0.0000000e+000]\n",
      " [0.0000000e+000 0.0000000e+000 0.0000000e+000]]\n"
     ]
    }
   ],
   "source": [
    "A = np.empty((2, 3)) # 2 filas y 3 columnas\n",
    "print( A )"
   ]
  },
  {
   "cell_type": "markdown",
   "metadata": {},
   "source": [
    "Para crear una matriz vacía con las mismas dimensiones de otra matriz definida anteriormente, usamos el método `.empty_like()`, al que le indicamos por parámetro la matriz existente"
   ]
  },
  {
   "cell_type": "code",
   "execution_count": 4,
   "metadata": {},
   "outputs": [
    {
     "name": "stdout",
     "output_type": "stream",
     "text": [
      "[[4.6406002e-310 0.0000000e+000 0.0000000e+000]\n",
      " [0.0000000e+000 0.0000000e+000 0.0000000e+000]]\n"
     ]
    }
   ],
   "source": [
    "B = np.empty_like(A) # Tendrá 2 filas y 3 columnas\n",
    "print( B )"
   ]
  },
  {
   "cell_type": "markdown",
   "metadata": {},
   "source": [
    "Para crear una matriz nula, usmaos el método `.zeros()`, al que le indicamos por parámetro las dimensiones"
   ]
  },
  {
   "cell_type": "code",
   "execution_count": 5,
   "metadata": {},
   "outputs": [
    {
     "name": "stdout",
     "output_type": "stream",
     "text": [
      "[[0. 0. 0. 0. 0.]\n",
      " [0. 0. 0. 0. 0.]\n",
      " [0. 0. 0. 0. 0.]]\n"
     ]
    }
   ],
   "source": [
    "C = np.zeros((3, 5)) # Matriz nula de dimensiones 3 x 5\n",
    "print( C )"
   ]
  },
  {
   "cell_type": "markdown",
   "metadata": {},
   "source": [
    "Para crear una matriz de ceros con las mismas dimensiones de otra matriz definida anteriormente, usamos el método `.zeros_like()`, al que le indicamos por parámetro la matriz existente"
   ]
  },
  {
   "cell_type": "code",
   "execution_count": 7,
   "metadata": {},
   "outputs": [
    {
     "name": "stdout",
     "output_type": "stream",
     "text": [
      "[[0. 0. 0.]\n",
      " [0. 0. 0.]]\n"
     ]
    }
   ],
   "source": [
    "D = np.zeros_like(A) # Tendrá 2 filas y 3 columnas y todos sus elementos valdrán 0\n",
    "print( D )"
   ]
  },
  {
   "cell_type": "markdown",
   "metadata": {},
   "source": [
    "Para crear una matriz de unos con las mismas dimensiones de otra matriz definida anteriormente, usamos el método `.ones_like()`, al que le indicmoas por parámetro la matriz existente"
   ]
  },
  {
   "cell_type": "code",
   "execution_count": 8,
   "metadata": {},
   "outputs": [
    {
     "name": "stdout",
     "output_type": "stream",
     "text": [
      "[[1. 1. 1. 1. 1.]\n",
      " [1. 1. 1. 1. 1.]\n",
      " [1. 1. 1. 1. 1.]]\n"
     ]
    }
   ],
   "source": [
    "F = np.ones_like(C) # Tendrá 3 filas y 5 columnas y todos sus elementos valdrán 1\n",
    "print( F )"
   ]
  },
  {
   "cell_type": "markdown",
   "metadata": {},
   "source": [
    "Podemos crear matrices de numpy a partir de listas con el método `.matrix()`"
   ]
  },
  {
   "cell_type": "code",
   "execution_count": 9,
   "metadata": {},
   "outputs": [
    {
     "name": "stdout",
     "output_type": "stream",
     "text": [
      "[[ 1  0 -3  2]\n",
      " [ 2  0  1  1]\n",
      " [-1  0 -1  0]]\n"
     ]
    }
   ],
   "source": [
    "M = np.matrix([[1, 0, -3, 2], [2, 0, 1, 1], [-1, 0, -1, 0]])\n",
    "print( M )"
   ]
  },
  {
   "cell_type": "markdown",
   "metadata": {},
   "source": [
    "Para saber las dimensiones de una matriz, podemos utilizar el método `.shape`"
   ]
  },
  {
   "cell_type": "code",
   "execution_count": 10,
   "metadata": {},
   "outputs": [
    {
     "data": {
      "text/plain": [
       "(3, 4)"
      ]
     },
     "execution_count": 10,
     "metadata": {},
     "output_type": "execute_result"
    }
   ],
   "source": [
    "M.shape"
   ]
  },
  {
   "cell_type": "markdown",
   "metadata": {},
   "source": [
    "Ahora es más sencillo sumar matrices, pues solamente necesitamos la función `+`"
   ]
  },
  {
   "cell_type": "code",
   "execution_count": 11,
   "metadata": {},
   "outputs": [
    {
     "data": {
      "text/plain": [
       "matrix([[ 0, -2, -3],\n",
       "        [ 0,  3,  1],\n",
       "        [-1, -1, -3]])"
      ]
     },
     "execution_count": 11,
     "metadata": {},
     "output_type": "execute_result"
    }
   ],
   "source": [
    "A = np.matrix([[1, 0, -3], [2, 0, 1], [-1, -1, 0]])\n",
    "B = np.matrix([[-1, -2, 0], [-2, 3, 0], [0, 0, -3]])\n",
    "matrixSum = A + B\n",
    "matrixSum"
   ]
  },
  {
   "cell_type": "markdown",
   "metadata": {},
   "source": [
    "También es más sencillo hacer el producto matricial A * B con el método `.dot()`"
   ]
  },
  {
   "cell_type": "code",
   "execution_count": 12,
   "metadata": {},
   "outputs": [
    {
     "data": {
      "text/plain": [
       "matrix([[ 1,  0,  7],\n",
       "        [-1, -3, -4],\n",
       "        [ 1,  2,  3]])"
      ]
     },
     "execution_count": 12,
     "metadata": {},
     "output_type": "execute_result"
    }
   ],
   "source": [
    "A = np.matrix([[1, 0, -3, 2], [2, 0, 1, 1], [-1, 0, -1, 0]])\n",
    "B = np.matrix([[-1, -2, 0,], [-2, 3, 0], [0, 0, -3], [1, 1, -1]])\n",
    "\n",
    "matrixProd = A.dot(B)\n",
    "matrixProd"
   ]
  },
  {
   "cell_type": "markdown",
   "metadata": {},
   "source": [
    "Gracias a `numpy`, también es mucho más sencillo mostrar una matriz en forma de tabla, pues nos basta con hacer uso de la función `print()`:"
   ]
  },
  {
   "cell_type": "code",
   "execution_count": 14,
   "metadata": {},
   "outputs": [
    {
     "name": "stdout",
     "output_type": "stream",
     "text": [
      "[[ 0 -2 -3]\n",
      " [ 0  3  1]\n",
      " [-1 -1 -3]]\n",
      "[[ 1  0  7]\n",
      " [-1 -3 -4]\n",
      " [ 1  2  3]]\n"
     ]
    }
   ],
   "source": [
    "print(matrixSum)\n",
    "print(matrixProd)"
   ]
  },
  {
   "cell_type": "code",
   "execution_count": null,
   "metadata": {},
   "outputs": [],
   "source": []
  }
 ],
 "metadata": {
  "kernelspec": {
   "display_name": "Python 3.10.6 64-bit",
   "language": "python",
   "name": "python3"
  },
  "language_info": {
   "codemirror_mode": {
    "name": "ipython",
    "version": 3
   },
   "file_extension": ".py",
   "mimetype": "text/x-python",
   "name": "python",
   "nbconvert_exporter": "python",
   "pygments_lexer": "ipython3",
   "version": "3.10.6"
  },
  "orig_nbformat": 4,
  "vscode": {
   "interpreter": {
    "hash": "916dbcbb3f70747c44a77c7bcd40155683ae19c65e1c03b4aa3499c5328201f1"
   }
  }
 },
 "nbformat": 4,
 "nbformat_minor": 2
}
