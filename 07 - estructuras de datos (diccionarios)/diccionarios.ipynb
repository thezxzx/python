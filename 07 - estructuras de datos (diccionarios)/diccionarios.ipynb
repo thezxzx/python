{
 "cells": [
  {
   "cell_type": "markdown",
   "metadata": {},
   "source": [
    "## Estructura de datos: Diccionarios"
   ]
  },
  {
   "cell_type": "markdown",
   "metadata": {},
   "source": [
    "#### Diccionario\n",
    "\n",
    "La segunda estructura de datos que veremos son los **diccionarios**. Éstos son un conjunto de elementos no ordenados escritos entre llaves, `{}`, que constan de claves y valores.\n",
    "\n",
    "Cada conjunto `clave: valor` es separado por comas. Las claves funcionan como identificadores y preceden a `:`. A continuación los valores, que son elementos (numéricos, booleanos, strings, listas, diccionarios...) asociados a esa clave.\n",
    "\n",
    "Los diccionarios, al igual que las listas, son:\n",
    "\n",
    "  * hetereogéneos: los elementos pueden ser de distinto tipo en un mismo diccionario.\n",
    "  * mutables: los elementos pueden ser modificados.\n",
    "\n",
    "Un ejemplo de diccionario sería"
   ]
  },
  {
   "cell_type": "code",
   "execution_count": 1,
   "metadata": {},
   "outputs": [
    {
     "name": "stdout",
     "output_type": "stream",
     "text": [
      "{'Jose': 32, 'Marina': 21}\n"
     ]
    }
   ],
   "source": [
    "dicc = {'Jose': 32, 'Marina': 21}\n",
    "print( dicc )"
   ]
  },
  {
   "cell_type": "markdown",
   "metadata": {},
   "source": [
    "**¡Cuidado!** En `Python`, las claves de un diccionario deben de ser únicas. Esto es, no puede haber dos claves que sean exactamente iguales. Si se da que hay dos claves iguales, entonces `Python` se queda con el último valor asociado a dicha clave."
   ]
  },
  {
   "cell_type": "code",
   "execution_count": 2,
   "metadata": {},
   "outputs": [
    {
     "name": "stdout",
     "output_type": "stream",
     "text": [
      "{'Jose': 23, 'Marina': 21}\n"
     ]
    }
   ],
   "source": [
    "dicc = {\n",
    "  'Jose': 32,\n",
    "  'Marina': 21,\n",
    "  'Jose': 23\n",
    "}\n",
    "\n",
    "print( dicc )"
   ]
  },
  {
   "cell_type": "markdown",
   "metadata": {},
   "source": [
    "**Observación.** Al decir que los diccionarios no tienen orden, lo que ocurre es que `Python` no mantendrá el que hemos introducido, tal y como hacía con las listas, sino que reordenará todos los elementos por orden primero numérico (yendo ante los positivos que los negativos) y luego alfabético de las claves. Esto no ocurre si usamos la función `print()`."
   ]
  },
  {
   "cell_type": "code",
   "execution_count": 3,
   "metadata": {},
   "outputs": [
    {
     "data": {
      "text/plain": [
       "['Jose', 'Marina', 'Elena']"
      ]
     },
     "execution_count": 3,
     "metadata": {},
     "output_type": "execute_result"
    }
   ],
   "source": [
    "l = ['Jose', 'Marina', 'Elena']\n",
    "l"
   ]
  },
  {
   "cell_type": "code",
   "execution_count": 4,
   "metadata": {},
   "outputs": [
    {
     "data": {
      "text/plain": [
       "{'Jose': 32, 'Marina': 21, 'Elena': 12}"
      ]
     },
     "execution_count": 4,
     "metadata": {},
     "output_type": "execute_result"
    }
   ],
   "source": [
    "dicc = {\n",
    "  'Jose': 32,\n",
    "  'Marina': 21,\n",
    "  'Elena': 12\n",
    "}\n",
    "dicc"
   ]
  },
  {
   "cell_type": "code",
   "execution_count": 5,
   "metadata": {},
   "outputs": [
    {
     "data": {
      "text/plain": [
       "{'Alba': 2, 7: 'a', -5: 'b', 'Javi': 28}"
      ]
     },
     "execution_count": 5,
     "metadata": {},
     "output_type": "execute_result"
    }
   ],
   "source": [
    "dicc = {\n",
    "  'Alba': 2,\n",
    "  7: 'a',\n",
    "  -5: 'b',\n",
    "  'Javi': 28\n",
    "}\n",
    "dicc"
   ]
  },
  {
   "cell_type": "code",
   "execution_count": 6,
   "metadata": {},
   "outputs": [
    {
     "name": "stdout",
     "output_type": "stream",
     "text": [
      "{'Alba': 2, 7: 'a', -5: 'b', 'Javi': 28}\n"
     ]
    }
   ],
   "source": [
    "print( dicc )"
   ]
  },
  {
   "cell_type": "markdown",
   "metadata": {},
   "source": [
    "#### Elementos de un diccionario\n",
    "\n",
    "Anteriormente se ha comentado que los diccionarios no tienen orden. De modo que a sus elementos no se accede por posición, sino que debemos hacerlo mediante sus claves.\n",
    "\n",
    "La sintxis es `diccionario[clave]`"
   ]
  },
  {
   "cell_type": "code",
   "execution_count": 7,
   "metadata": {},
   "outputs": [
    {
     "data": {
      "text/plain": [
       "['Ana', 'Borja', 'Carmen']"
      ]
     },
     "execution_count": 7,
     "metadata": {},
     "output_type": "execute_result"
    }
   ],
   "source": [
    "dicc = {\n",
    "  'names': [\n",
    "    'Ana',\n",
    "    'Borja',\n",
    "    'Carmen'\n",
    "  ],\n",
    "  'ages': [\n",
    "    21,\n",
    "    25,\n",
    "    16\n",
    "  ]\n",
    "}\n",
    "\n",
    "dicc['names']"
   ]
  },
  {
   "cell_type": "code",
   "execution_count": 8,
   "metadata": {},
   "outputs": [
    {
     "data": {
      "text/plain": [
       "[21, 25, 16]"
      ]
     },
     "execution_count": 8,
     "metadata": {},
     "output_type": "execute_result"
    }
   ],
   "source": [
    "dicc['ages']"
   ]
  },
  {
   "cell_type": "markdown",
   "metadata": {},
   "source": [
    "Podemos acceder a todas las claves de un diccionario con el método `.keys()`"
   ]
  },
  {
   "cell_type": "code",
   "execution_count": 9,
   "metadata": {},
   "outputs": [
    {
     "data": {
      "text/plain": [
       "dict_keys(['names', 'ages'])"
      ]
     },
     "execution_count": 9,
     "metadata": {},
     "output_type": "execute_result"
    }
   ],
   "source": [
    "dicc.keys()"
   ]
  },
  {
   "cell_type": "markdown",
   "metadata": {},
   "source": [
    "También podemos acceder a todos los valores de un diccionario con el método `.values()`"
   ]
  },
  {
   "cell_type": "code",
   "execution_count": 10,
   "metadata": {},
   "outputs": [
    {
     "data": {
      "text/plain": [
       "dict_values([['Ana', 'Borja', 'Carmen'], [21, 25, 16]])"
      ]
     },
     "execution_count": 10,
     "metadata": {},
     "output_type": "execute_result"
    }
   ],
   "source": [
    "dicc.values()"
   ]
  },
  {
   "cell_type": "markdown",
   "metadata": {},
   "source": [
    "Al ser una estructura mutable, podemos modificar los valores de los diccionarios"
   ]
  },
  {
   "cell_type": "code",
   "execution_count": 11,
   "metadata": {},
   "outputs": [
    {
     "name": "stdout",
     "output_type": "stream",
     "text": [
      "{'names': ['David', 'Emilia', 'Fernando'], 'ages': [31, 25, 36]}\n"
     ]
    }
   ],
   "source": [
    "dicc = {\n",
    "  'names': [\n",
    "    'Ana',\n",
    "    'Borja',\n",
    "    'Carmen'\n",
    "  ],\n",
    "  'ages': [\n",
    "    31,\n",
    "    25,\n",
    "    16\n",
    "  ]\n",
    "}\n",
    "\n",
    "dicc['names'] = ['David', 'Emilia', 'Fernando']\n",
    "dicc['ages'][2] = 36\n",
    "print( dicc )"
   ]
  },
  {
   "cell_type": "markdown",
   "metadata": {},
   "source": [
    "También podríamos partir de un diccionario vacío e ir introduciéndole valores asociados a claves. De hecho, podemos hasta pedirle a un usuario que introduzca él los datos."
   ]
  },
  {
   "cell_type": "code",
   "execution_count": 12,
   "metadata": {},
   "outputs": [
    {
     "name": "stdout",
     "output_type": "stream",
     "text": [
      "Introduzca su nombre:\n",
      "Introduzca su edad:\n",
      "¿Es usted una mujer? Responda f en caso afirmativo y m en caso contrario\n",
      "{'name': 'zxzx', 'age': 20, 'gender': 'male'}\n"
     ]
    }
   ],
   "source": [
    "ficha_usuario = {}\n",
    "print('Introduzca su nombre:')\n",
    "ficha_usuario['name'] = str(input())\n",
    "\n",
    "print('Introduzca su edad:')\n",
    "ficha_usuario['age'] = int(input())\n",
    "\n",
    "print('¿Es usted una mujer? Responda f en caso afirmativo y m en caso contrario')\n",
    "ficha_usuario['gender'] = 'female' if input() == 'f' else 'male'\n",
    "\n",
    "print(ficha_usuario)"
   ]
  },
  {
   "cell_type": "markdown",
   "metadata": {},
   "source": [
    "**Observación.** La función `str()` impone que lo que sea que introduzcamos sea un dato de tipo `string`. Funciona exactamente del mismo modo que lo hacen las funciones `int()` y `float()` introducidas y utilizadas en temas anteriores."
   ]
  },
  {
   "cell_type": "code",
   "execution_count": 13,
   "metadata": {},
   "outputs": [
    {
     "data": {
      "text/plain": [
       "int"
      ]
     },
     "execution_count": 13,
     "metadata": {},
     "output_type": "execute_result"
    }
   ],
   "source": [
    "value = 0\n",
    "type(value)"
   ]
  },
  {
   "cell_type": "code",
   "execution_count": 14,
   "metadata": {},
   "outputs": [
    {
     "data": {
      "text/plain": [
       "str"
      ]
     },
     "execution_count": 14,
     "metadata": {},
     "output_type": "execute_result"
    }
   ],
   "source": [
    "value_string = str(0)\n",
    "type(value_string)"
   ]
  },
  {
   "cell_type": "markdown",
   "metadata": {},
   "source": [
    "####  Tamaño de un diccionario\n",
    "\n",
    "Para saber cuántos elementos contiene un diccionario, podemos usar la función `len()` del siguiente modo:"
   ]
  },
  {
   "cell_type": "code",
   "execution_count": 15,
   "metadata": {},
   "outputs": [
    {
     "name": "stdout",
     "output_type": "stream",
     "text": [
      "3\n"
     ]
    }
   ],
   "source": [
    "dicc = {\n",
    "  'fruit': [\n",
    "    'Manzana',\n",
    "    'Pera',\n",
    "    'Naranja'\n",
    "  ],\n",
    "  'price': [\n",
    "    2,\n",
    "    1.5,\n",
    "    1\n",
    "  ],\n",
    "  'color': [\n",
    "    'roja',\n",
    "    'verde',\n",
    "    'naranja'\n",
    "  ]\n",
    "}\n",
    "\n",
    "print(len(dicc))"
   ]
  },
  {
   "cell_type": "markdown",
   "metadata": {},
   "source": [
    "#### Bucles y diccionarios\n",
    "\n",
    "Para recorrer todo el diccionario, podemos hacer uso de un bucle `for`, pues el diccionario es una estructura iterable:"
   ]
  },
  {
   "cell_type": "code",
   "execution_count": 16,
   "metadata": {},
   "outputs": [
    {
     "name": "stdout",
     "output_type": "stream",
     "text": [
      "username : msf\n",
      "age : 22\n",
      "city : Palma de Mallorca\n"
     ]
    }
   ],
   "source": [
    "dicc = {\n",
    "  'username': 'msf',\n",
    "  'age': 22,\n",
    "  'city': 'Palma de Mallorca',\n",
    "}\n",
    "\n",
    "for key in dicc:\n",
    "  print(key, ':', dicc[key])"
   ]
  },
  {
   "cell_type": "markdown",
   "metadata": {},
   "source": [
    "Otra forma de recorrer el diccionario sería obteniendo una lista de tuplas de la forma `(clave, valor)` para cada elemento de un diccionario, que construimos con el método `.items()`. Al ser una lista, sabemos que es un iterable y podemos mostrar todas sus entradas haciendo uso de un bucle `for`."
   ]
  },
  {
   "cell_type": "code",
   "execution_count": 17,
   "metadata": {},
   "outputs": [
    {
     "data": {
      "text/plain": [
       "dict_items([('username', 'msf'), ('age', 22), ('city', 'Palma de Mallorca')])"
      ]
     },
     "execution_count": 17,
     "metadata": {},
     "output_type": "execute_result"
    }
   ],
   "source": [
    "dicc.items()"
   ]
  },
  {
   "cell_type": "code",
   "execution_count": 18,
   "metadata": {},
   "outputs": [
    {
     "name": "stdout",
     "output_type": "stream",
     "text": [
      "('username', 'msf')\n",
      "('age', 22)\n",
      "('city', 'Palma de Mallorca')\n"
     ]
    }
   ],
   "source": [
    "for item in dicc.items():\n",
    "  print( item )"
   ]
  },
  {
   "cell_type": "markdown",
   "metadata": {},
   "source": [
    "**Observación.** Veremos las tuplas, que son otro tipo de Estructura de datos en `Python`, en futuras secciones.\n",
    "\n",
    "Para tener clave y valor por separado, podemos hacerlo del sigueinte modo:"
   ]
  },
  {
   "cell_type": "code",
   "execution_count": 19,
   "metadata": {},
   "outputs": [
    {
     "name": "stdout",
     "output_type": "stream",
     "text": [
      "username : msf\n",
      "age : 22\n",
      "city : Palma de Mallorca\n"
     ]
    }
   ],
   "source": [
    "for key, value in dicc.items():\n",
    "  print(key, ':', value)"
   ]
  },
  {
   "cell_type": "markdown",
   "metadata": {},
   "source": [
    "#### Diccionarios y listas\n",
    "\n",
    "Como se ha mencionado antes, un diccionario puede contener listas u otros diccionarios. Por su parte, una lista también puede contener diccionarios:"
   ]
  },
  {
   "cell_type": "code",
   "execution_count": 20,
   "metadata": {},
   "outputs": [
    {
     "name": "stdout",
     "output_type": "stream",
     "text": [
      "{'name': 'Elisa', 'age': 20, 'gender': 'female', 'ID': [4, 4, 2, 1, 5, 6, 7, 2, 'L'], 'user&password': {'username': 'eli88', 'password': '1234catsareawesome'}}\n",
      "{'name': 'Henry', 'age': 27, 'ID': [1, 1, 0, 1, 3, 8, 6, 9, 'A'], 'user&password': {'username': 'superhenry', 'password': '1432superme'}}\n"
     ]
    }
   ],
   "source": [
    "dicc_1 = {\n",
    "  'name': 'Elisa',\n",
    "  'age': 20,\n",
    "  'gender': 'female',\n",
    "  'ID': [\n",
    "    4,\n",
    "    4,\n",
    "    2,\n",
    "    1,\n",
    "    5,\n",
    "    6,\n",
    "    7,\n",
    "    2,\n",
    "    'L'\n",
    "  ],\n",
    "  'user&password': {\n",
    "    'username': 'eli88',\n",
    "    'password': '1234catsareawesome'\n",
    "  }\n",
    "}\n",
    "\n",
    "dicc_2 = {\n",
    "  'name': 'Henry',\n",
    "  'age': 27,\n",
    "  'ID': [\n",
    "    1,\n",
    "    1,\n",
    "    0,\n",
    "    1,\n",
    "    3,\n",
    "    8,\n",
    "    6,\n",
    "    9,\n",
    "    'A'\n",
    "  ],\n",
    "  'user&password': {\n",
    "    'username': 'superhenry',\n",
    "    'password': '1432superme'\n",
    "  }\n",
    "}\n",
    "\n",
    "lista = [ dicc_1, dicc_2 ]\n",
    "\n",
    "for item in lista:\n",
    "  print( item )"
   ]
  },
  {
   "cell_type": "markdown",
   "metadata": {},
   "source": [
    "#### Más métodos de diccionarios\n",
    "\n",
    "El método `.clear()` elimina todos los elementos del diccionario dejándolo vacío."
   ]
  },
  {
   "cell_type": "code",
   "execution_count": 21,
   "metadata": {},
   "outputs": [
    {
     "name": "stdout",
     "output_type": "stream",
     "text": [
      "{'a': 4, 'b': 3, 'c': 2, 'd': 1}\n",
      "{}\n"
     ]
    }
   ],
   "source": [
    "dicc = {\n",
    "  'a': 4,\n",
    "  'b': 3,\n",
    "  'c': 2,\n",
    "  'd': 1\n",
    "}\n",
    "\n",
    "print( dicc )\n",
    "\n",
    "dicc.clear()\n",
    "\n",
    "print(dicc)"
   ]
  },
  {
   "cell_type": "markdown",
   "metadata": {},
   "source": [
    "El método `.copy()` devuelve una copia del diccionario original."
   ]
  },
  {
   "cell_type": "code",
   "execution_count": 22,
   "metadata": {},
   "outputs": [
    {
     "name": "stdout",
     "output_type": "stream",
     "text": [
      "{'a': 4, 'b': 3, 'c': 2, 'd': 1}\n"
     ]
    }
   ],
   "source": [
    "dicc = {\n",
    "  'a': 4,\n",
    "  'b': 3,\n",
    "  'c': 2,\n",
    "  'd': 1\n",
    "}\n",
    "\n",
    "dicc_copy = dicc.copy()\n",
    "\n",
    "print( dicc_copy )"
   ]
  },
  {
   "cell_type": "markdown",
   "metadata": {},
   "source": [
    "El método `.fromkeys()` recibe como parámetro un iterable y un valor y devuelve un diccionario que contiene como claves los elementos del iterable con el mismo valor ingresado."
   ]
  },
  {
   "cell_type": "code",
   "execution_count": 23,
   "metadata": {},
   "outputs": [
    {
     "name": "stdout",
     "output_type": "stream",
     "text": [
      "{'a': [1, 2, 3, 4], 'b': [1, 2, 3, 4], 'c': [1, 2, 3, 4], 'd': [1, 2, 3, 4], 'e': [1, 2, 3, 4]}\n"
     ]
    }
   ],
   "source": [
    "dicc = dict.fromkeys([\n",
    "  'a',\n",
    "  'b',\n",
    "  'c',\n",
    "  'd',\n",
    "  'e'\n",
    "],\n",
    "[\n",
    "  1,\n",
    "  2,\n",
    "  3,\n",
    "  4\n",
    "])\n",
    "\n",
    "print( dicc )"
   ]
  },
  {
   "cell_type": "markdown",
   "metadata": {},
   "source": [
    "**Observación.** Si el parámetro valor se deja en blanco, el método devolverá un diccionario con el valor `None` para todas las claves."
   ]
  },
  {
   "cell_type": "code",
   "execution_count": 24,
   "metadata": {},
   "outputs": [
    {
     "name": "stdout",
     "output_type": "stream",
     "text": [
      "{'a': None, 'b': None, 'c': None, 'd': None}\n"
     ]
    }
   ],
   "source": [
    "dicc = dict.fromkeys([\n",
    "  'a',\n",
    "  'b',\n",
    "  'c',\n",
    "  'd'\n",
    "])\n",
    "\n",
    "print( dicc )"
   ]
  },
  {
   "cell_type": "markdown",
   "metadata": {},
   "source": [
    "El método `.get()` recibe como parámetro una clave y devuelve el valor de dicha clave."
   ]
  },
  {
   "cell_type": "code",
   "execution_count": 25,
   "metadata": {},
   "outputs": [
    {
     "name": "stdout",
     "output_type": "stream",
     "text": [
      "1\n"
     ]
    }
   ],
   "source": [
    "dicc = {\n",
    "  'a': 1,\n",
    "  'e': 2,\n",
    "  'i': 3,\n",
    "  'o': 4,\n",
    "  'u': 5\n",
    "}\n",
    "\n",
    "print(dicc.get('a'))"
   ]
  },
  {
   "cell_type": "markdown",
   "metadata": {},
   "source": [
    "**Observación.** Si la clave no se encuentra en el diccionario, el método devuelve un objeto `None`."
   ]
  },
  {
   "cell_type": "code",
   "execution_count": 28,
   "metadata": {},
   "outputs": [
    {
     "name": "stdout",
     "output_type": "stream",
     "text": [
      "None\n"
     ]
    }
   ],
   "source": [
    "dicc = {\n",
    "  'a': 1,\n",
    "  'e': 2,\n",
    "  'i': 3,\n",
    "  'o': 4,\n",
    "  'u': 5\n",
    "}\n",
    "\n",
    "print( dicc.get('b') )"
   ]
  },
  {
   "cell_type": "markdown",
   "metadata": {},
   "source": [
    "El método `.pop()` recibe como parámetro una clave, la elimina y devuelve su valor."
   ]
  },
  {
   "cell_type": "code",
   "execution_count": 29,
   "metadata": {},
   "outputs": [
    {
     "name": "stdout",
     "output_type": "stream",
     "text": [
      "{'a': 1, 'e': 2, 'i': 3, 'o': 4, 'u': 5}\n",
      "{'a': 1, 'e': 2, 'o': 4, 'u': 5}\n"
     ]
    }
   ],
   "source": [
    "dicc = {\n",
    "  'a': 1,\n",
    "  'e': 2,\n",
    "  'i': 3,\n",
    "  'o': 4,\n",
    "  'u': 5\n",
    "}\n",
    "\n",
    "print( dicc )\n",
    "\n",
    "dicc.pop('i')\n",
    "print( dicc )"
   ]
  },
  {
   "cell_type": "markdown",
   "metadata": {},
   "source": [
    "**Observación.** Si la clave indicada por parámetro no se encuentra en el diccionario, el método devuelve error.\n",
    "\n",
    "El método `.setdefault()` puede funcionar de dos formas:\n",
    "\n",
    "  * Como el método `.get()`.\n",
    "  * Para agregar un nuevo elemento al diccionario."
   ]
  },
  {
   "cell_type": "code",
   "execution_count": 31,
   "metadata": {},
   "outputs": [
    {
     "name": "stdout",
     "output_type": "stream",
     "text": [
      "3\n",
      "6\n",
      "{'a': 1, 'e': 2, 'i': 3, 'o': 4, 'u': 5, 'ü': 6}\n"
     ]
    }
   ],
   "source": [
    "# Como .get()\n",
    "dicc = {\n",
    "  'a': 1,\n",
    "  'e': 2,\n",
    "  'i': 3,\n",
    "  'o': 4,\n",
    "  'u': 5\n",
    "}\n",
    "\n",
    "print( dicc.setdefault('i'))\n",
    "\n",
    "# Para agregar nuevo elemento\n",
    "print(dicc.setdefault('ü', 6))\n",
    "print( dicc )\n",
    "\n"
   ]
  },
  {
   "cell_type": "markdown",
   "metadata": {},
   "source": [
    "El método `.updage()` recibe como parámetro otro diccionario. En caso de tener claves iguales, actualiza el valor de la clave repetida. En caso de no haber claves iguales, el par `clave: valor` es agregado al diccionario al que es aplicado el método."
   ]
  },
  {
   "cell_type": "code",
   "execution_count": 33,
   "metadata": {},
   "outputs": [
    {
     "name": "stdout",
     "output_type": "stream",
     "text": [
      "{'a': 1, 'e': 5, 'i': 3, 'o': 4, 'u': 5, 'b': 2, 'c': 3, 'd': 4}\n"
     ]
    }
   ],
   "source": [
    "dicc1 = {\n",
    "  'a': 1,\n",
    "  'e': 2,\n",
    "  'i': 3,\n",
    "  'o': 4,\n",
    "  'u': 5\n",
    "}\n",
    "\n",
    "dicc2 = {\n",
    "  'a': 1,\n",
    "  'b': 2,\n",
    "  'c': 3,\n",
    "  'd': 4,\n",
    "  'e': 5\n",
    "}\n",
    "\n",
    "dicc1.update( dicc2 )\n",
    "\n",
    "print( dicc1 )"
   ]
  },
  {
   "cell_type": "markdown",
   "metadata": {},
   "source": [
    "#### Construyendo diccionarios con dict()\n",
    "\n",
    "Para convertir un objeto iterable de `Python` a diccionario, hay que usar la función `dict()`."
   ]
  },
  {
   "cell_type": "code",
   "execution_count": 34,
   "metadata": {},
   "outputs": [
    {
     "data": {
      "text/plain": [
       "{'x': 1, 'y': 2}"
      ]
     },
     "execution_count": 34,
     "metadata": {},
     "output_type": "execute_result"
    }
   ],
   "source": [
    "l = [['x', 1], ['y', 2]]\n",
    "dict(l)"
   ]
  },
  {
   "cell_type": "markdown",
   "metadata": {},
   "source": [
    "Aunque la función `dict()` también sirve para definir diccionarios directamente:"
   ]
  },
  {
   "cell_type": "code",
   "execution_count": 35,
   "metadata": {},
   "outputs": [
    {
     "name": "stdout",
     "output_type": "stream",
     "text": [
      "{'x': 0, 'y': 1, 'z': -1}\n"
     ]
    }
   ],
   "source": [
    "dicc1 = dict( x = 0, y = 1, z = -1)\n",
    "print( dicc1 )"
   ]
  },
  {
   "cell_type": "code",
   "execution_count": 36,
   "metadata": {},
   "outputs": [
    {
     "name": "stdout",
     "output_type": "stream",
     "text": [
      "{'x': 0, 'y': 1, 'z': -1}\n"
     ]
    }
   ],
   "source": [
    "dicc2 = dict({'x': 0, 'y': 1, 'z': -1})\n",
    "print(dicc2)"
   ]
  },
  {
   "cell_type": "code",
   "execution_count": 37,
   "metadata": {},
   "outputs": [
    {
     "name": "stdout",
     "output_type": "stream",
     "text": [
      "{'x': 0, 'y': 1, 'z': -1}\n"
     ]
    }
   ],
   "source": [
    "dicc3 = dict({'x': 0}, y = 1, z = -1)\n",
    "print( dicc3 )"
   ]
  },
  {
   "cell_type": "code",
   "execution_count": null,
   "metadata": {},
   "outputs": [],
   "source": []
  }
 ],
 "metadata": {
  "kernelspec": {
   "display_name": "Python 3.10.6 64-bit",
   "language": "python",
   "name": "python3"
  },
  "language_info": {
   "codemirror_mode": {
    "name": "ipython",
    "version": 3
   },
   "file_extension": ".py",
   "mimetype": "text/x-python",
   "name": "python",
   "nbconvert_exporter": "python",
   "pygments_lexer": "ipython3",
   "version": "3.10.6"
  },
  "orig_nbformat": 4,
  "vscode": {
   "interpreter": {
    "hash": "916dbcbb3f70747c44a77c7bcd40155683ae19c65e1c03b4aa3499c5328201f1"
   }
  }
 },
 "nbformat": 4,
 "nbformat_minor": 2
}
