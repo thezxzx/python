{
 "cells": [
  {
   "cell_type": "markdown",
   "metadata": {},
   "source": [
    "## Estructuras de datos: Conjuntos"
   ]
  },
  {
   "cell_type": "markdown",
   "metadata": {},
   "source": [
    "#### Conjutno\n",
    "\n",
    "Ahora, es el turno de los **consjuntos**. Éstos son una estructura sin orden que no admiten múltiples ocurrencias de un mismo elemento. Pueden ser definidos a partir de una lista con la función `set()`, o bien, los elementos del conjunto pueden ir entre llaves `{}`, y estar separados por comas.\n",
    "\n",
    "Los conjuntos son:\n",
    "\n",
    "  * hetereogéneos: los elementos pueden ser de distinto tipo en un mismo conjunto.\n",
    "  * no mutables: los elementos no pueden ser modificados una vez el conjunto ha sido creado.\n",
    "\n",
    "Los conjuntos pueden construirse con la función `set()` o directamente entre llaves, `{}`."
   ]
  },
  {
   "cell_type": "code",
   "execution_count": 2,
   "metadata": {},
   "outputs": [
    {
     "name": "stdout",
     "output_type": "stream",
     "text": [
      "{0, 1, 2, 4, 7}\n"
     ]
    },
    {
     "data": {
      "text/plain": [
       "set"
      ]
     },
     "execution_count": 2,
     "metadata": {},
     "output_type": "execute_result"
    }
   ],
   "source": [
    "set1 = set([1, 7, 4, 2, 0])\n",
    "print( set1 )\n",
    "type( set1 )"
   ]
  },
  {
   "cell_type": "code",
   "execution_count": 1,
   "metadata": {},
   "outputs": [
    {
     "name": "stdout",
     "output_type": "stream",
     "text": [
      "{0, 1, 2, 4, 7}\n"
     ]
    },
    {
     "data": {
      "text/plain": [
       "set"
      ]
     },
     "execution_count": 1,
     "metadata": {},
     "output_type": "execute_result"
    }
   ],
   "source": [
    "set2 = set((1, 7, 4, 2, 0))\n",
    "print( set2 )\n",
    "type( set2 )"
   ]
  },
  {
   "cell_type": "code",
   "execution_count": 3,
   "metadata": {},
   "outputs": [
    {
     "name": "stdout",
     "output_type": "stream",
     "text": [
      "{0, 1, 2, 4, 7}\n"
     ]
    },
    {
     "data": {
      "text/plain": [
       "set"
      ]
     },
     "execution_count": 3,
     "metadata": {},
     "output_type": "execute_result"
    }
   ],
   "source": [
    "set3 = {1, 7, 4, 2, 0}\n",
    "print( set3 )\n",
    "type( set3 )"
   ]
  },
  {
   "cell_type": "markdown",
   "metadata": {},
   "source": [
    "Como se ha dicho antes, los conjuntos no admiten elementos repetidos:"
   ]
  },
  {
   "cell_type": "code",
   "execution_count": 4,
   "metadata": {},
   "outputs": [
    {
     "data": {
      "text/plain": [
       "{1, 2, 3, 4}"
      ]
     },
     "execution_count": 4,
     "metadata": {},
     "output_type": "execute_result"
    }
   ],
   "source": [
    "set1 = {1, 2, 2, 3, 3, 3, 4, 4, 4, 4}\n",
    "set1"
   ]
  },
  {
   "cell_type": "markdown",
   "metadata": {},
   "source": [
    "**Observación**. Al decir que los conjuntos no tienen orden, lo que ocurre es que `Python` no mantendrá el que hemos introducido, tal y como hacía con las listas, sino que reordenará todos los elementos por orden primero numérico (yendo antes los negativos que los positivos) y luego alfabético de de las claves. Con la función `print()`, si hay elementos negativos, el conjunto no se ordena correctamente."
   ]
  },
  {
   "cell_type": "code",
   "execution_count": 5,
   "metadata": {},
   "outputs": [
    {
     "name": "stdout",
     "output_type": "stream",
     "text": [
      "{1, 2, 3, 4, 'o', 5, 'u', 'i', 'a', 'e'}\n"
     ]
    }
   ],
   "source": [
    "set1 = {1, 'a', 'i', 'o', 2, 'e', 4, 3, 5, 'u'}\n",
    "print( set1 )"
   ]
  },
  {
   "cell_type": "code",
   "execution_count": 6,
   "metadata": {},
   "outputs": [
    {
     "data": {
      "text/plain": [
       "{-1, -3, 1, 2, 3, 4, 5, 'a', 'e', 'i', 'o', 'u'}"
      ]
     },
     "execution_count": 6,
     "metadata": {},
     "output_type": "execute_result"
    }
   ],
   "source": [
    "set2 = {-1, 'a', 3, 'i', 'o', 2, 'e', 4, -3, 5, 'u', 1}\n",
    "set2"
   ]
  },
  {
   "cell_type": "code",
   "execution_count": 9,
   "metadata": {},
   "outputs": [
    {
     "name": "stdout",
     "output_type": "stream",
     "text": [
      "{1, 2, 'o', 3, 4, 5, 'u', 'i', 'a', 'e', -3, -1}\n"
     ]
    }
   ],
   "source": [
    "print( set2 )"
   ]
  },
  {
   "cell_type": "markdown",
   "metadata": {},
   "source": [
    "Por lo que hemos visto hasta ahora, podemos decir que los conjuntos en `Python` son fieles a la definición matemática de éstos, salvo por el hecho de que en `Python` un conjunto no puede contener como elemento a otro conjunto:\n",
    "\n",
    "**Conjunto**. Colección de elementos pertenecientes a la misma categoría, y cuya agrupación puede ser considerada o identificada en sí misma como un objeto. Un conjunto queda definido únicamente por sus elementos y por nada más. En particular, un conjunto puede escribirse como una lista de elementos, pero cambiar el orden de cicha lista o añadir elementos repetidos no define un conjunto nuevo."
   ]
  },
  {
   "cell_type": "markdown",
   "metadata": {},
   "source": [
    "#### Subconjuntos\n",
    "\n",
    "**Subconjunto**. Un subconjunto **B** de un conjunto **A** es un conjunto que contiene algunos de los elementos de **A** (o quizá todos). Se denota por **B ⊆ A**.\n",
    "\n",
    "**Subconjunto propio**. Un subconjunto propio **B** de un conjunto **A** es un conjunto que tiene algunos de los elementos de **A**, pero no todos. Se denota por **B ⊂ A**.\n",
    "\n",
    "Para saber si un conjunto **B** es subconjunto del conjunto **A**, podemos utilizar el método `.issubset()` o el comparador `<=`. Para saber si se trata de un subconjunto propio, tneemos el comparador `<`."
   ]
  },
  {
   "cell_type": "code",
   "execution_count": 1,
   "metadata": {},
   "outputs": [
    {
     "data": {
      "text/plain": [
       "True"
      ]
     },
     "execution_count": 1,
     "metadata": {},
     "output_type": "execute_result"
    }
   ],
   "source": [
    "A, B = { 0, 3, 7, 2, 5 }, { 2, 3, 0 }\n",
    "B.issubset( A )"
   ]
  },
  {
   "cell_type": "code",
   "execution_count": 2,
   "metadata": {},
   "outputs": [
    {
     "data": {
      "text/plain": [
       "True"
      ]
     },
     "execution_count": 2,
     "metadata": {},
     "output_type": "execute_result"
    }
   ],
   "source": [
    "B <= A"
   ]
  },
  {
   "cell_type": "code",
   "execution_count": 4,
   "metadata": {},
   "outputs": [
    {
     "data": {
      "text/plain": [
       "True"
      ]
     },
     "execution_count": 4,
     "metadata": {},
     "output_type": "execute_result"
    }
   ],
   "source": [
    "B < A"
   ]
  },
  {
   "cell_type": "markdown",
   "metadata": {},
   "source": [
    "**Superconjunto**. Un superconjunto **A** ded un conjunto **B** es un conjunto que contiene a **B**. Se denota por **A ⊇ B**.\n",
    "\n",
    "**Superconjunto propio**. Un superconjunto propio **A** de un conjunto **B** es un conjunto que contiene a **B** y consta de almenos un elemento más se denota por **A ⊃ B**.\n",
    "\n",
    "Para saber si un conjunto **A** es un superconjunto del conjunto **B**, podemos utilizar el método `.issuperset()` o el comparador `>=`. Para saber si se trata de un superconjunto propio tenemos el operador `>`."
   ]
  },
  {
   "cell_type": "code",
   "execution_count": 5,
   "metadata": {},
   "outputs": [
    {
     "data": {
      "text/plain": [
       "True"
      ]
     },
     "execution_count": 5,
     "metadata": {},
     "output_type": "execute_result"
    }
   ],
   "source": [
    "A, B = { 0, 3, 7, 2, 5 }, { 2, 3, 0 }\n",
    "A.issuperset(B)"
   ]
  },
  {
   "cell_type": "code",
   "execution_count": 6,
   "metadata": {},
   "outputs": [
    {
     "data": {
      "text/plain": [
       "True"
      ]
     },
     "execution_count": 6,
     "metadata": {},
     "output_type": "execute_result"
    }
   ],
   "source": [
    "A >= B"
   ]
  },
  {
   "cell_type": "code",
   "execution_count": 7,
   "metadata": {},
   "outputs": [
    {
     "data": {
      "text/plain": [
       "True"
      ]
     },
     "execution_count": 7,
     "metadata": {},
     "output_type": "execute_result"
    }
   ],
   "source": [
    "A > B"
   ]
  },
  {
   "cell_type": "code",
   "execution_count": 8,
   "metadata": {},
   "outputs": [],
   "source": [
    "X = {1, 2, 3}\n",
    "Y = {'a', 'b', 'c'}"
   ]
  },
  {
   "cell_type": "code",
   "execution_count": 9,
   "metadata": {},
   "outputs": [
    {
     "data": {
      "text/plain": [
       "False"
      ]
     },
     "execution_count": 9,
     "metadata": {},
     "output_type": "execute_result"
    }
   ],
   "source": [
    "X <= Y"
   ]
  },
  {
   "cell_type": "code",
   "execution_count": 10,
   "metadata": {},
   "outputs": [
    {
     "data": {
      "text/plain": [
       "False"
      ]
     },
     "execution_count": 10,
     "metadata": {},
     "output_type": "execute_result"
    }
   ],
   "source": [
    "X >= Y"
   ]
  },
  {
   "cell_type": "markdown",
   "metadata": {},
   "source": [
    "#### Operaciones con conjuntos\n",
    "\n",
    "Dados los conjunto **A** y **B**, vamos a ver una serie de operaciones que podemos hacer con ellos.\n",
    "\n",
    "![](https://cdn.discordapp.com/attachments/973427374077141022/1042142960688566373/image.png)"
   ]
  },
  {
   "cell_type": "markdown",
   "metadata": {},
   "source": [
    "**Unión**. La unión de dos conjunto **A** y **B** es un nuevo conjunto **A ∪ B** que contiene todos los elementos de **A** y/o todos los de **B**.\n",
    "\n",
    "![](https://cdn.discordapp.com/attachments/973427374077141022/1042143693534134292/image.png)\n",
    "\n",
    "En `Python`, la unión de dos conjuntos se consigue con la función `|` o bien, con el método `.union()`"
   ]
  },
  {
   "cell_type": "code",
   "execution_count": 11,
   "metadata": {},
   "outputs": [
    {
     "data": {
      "text/plain": [
       "{0, 1, 2, 3, 4, 5, 6, 7, 8, 9}"
      ]
     },
     "execution_count": 11,
     "metadata": {},
     "output_type": "execute_result"
    }
   ],
   "source": [
    "A, B = { 1, 3, 5, 7, 9 }, { 0, 2, 4, 6, 8 }\n",
    "A | B"
   ]
  },
  {
   "cell_type": "code",
   "execution_count": 12,
   "metadata": {},
   "outputs": [
    {
     "data": {
      "text/plain": [
       "{0, 1, 2, 3, 4, 5, 6, 7, 8, 9}"
      ]
     },
     "execution_count": 12,
     "metadata": {},
     "output_type": "execute_result"
    }
   ],
   "source": [
    "A.union(B)"
   ]
  },
  {
   "cell_type": "code",
   "execution_count": 13,
   "metadata": {},
   "outputs": [
    {
     "data": {
      "text/plain": [
       "{0, 1, 2, 3, 4, 5, 6, 7, 8, 9}"
      ]
     },
     "execution_count": 13,
     "metadata": {},
     "output_type": "execute_result"
    }
   ],
   "source": [
    "B.union(A)"
   ]
  },
  {
   "cell_type": "markdown",
   "metadata": {},
   "source": [
    "**Insersección**. La intersección entrte dos conjuntos **A** y **B** es un unevo conjunto **A ∩ B** que contiene todos los elementos comunes de **A** y **B**.\n",
    "\n",
    "![](https://cdn.discordapp.com/attachments/973427374077141022/1042144395220234300/image.png)\n",
    "\n",
    "En `Python`, la intersección de los conjuntos se consigue con la función `&` o bien, con el método `.intersection()`"
   ]
  },
  {
   "cell_type": "code",
   "execution_count": 14,
   "metadata": {},
   "outputs": [
    {
     "data": {
      "text/plain": [
       "{0, 8}"
      ]
     },
     "execution_count": 14,
     "metadata": {},
     "output_type": "execute_result"
    }
   ],
   "source": [
    "A, B = { 0, 1, 3, 5, 8, 13 }, { 0, 2, 4, 6, 8 }\n",
    "A & B"
   ]
  },
  {
   "cell_type": "code",
   "execution_count": 15,
   "metadata": {},
   "outputs": [
    {
     "data": {
      "text/plain": [
       "{0, 8}"
      ]
     },
     "execution_count": 15,
     "metadata": {},
     "output_type": "execute_result"
    }
   ],
   "source": [
    "A.intersection(B)"
   ]
  },
  {
   "cell_type": "code",
   "execution_count": 16,
   "metadata": {},
   "outputs": [
    {
     "data": {
      "text/plain": [
       "{0, 8}"
      ]
     },
     "execution_count": 16,
     "metadata": {},
     "output_type": "execute_result"
    }
   ],
   "source": [
    "B.intersection(A)"
   ]
  },
  {
   "cell_type": "markdown",
   "metadata": {},
   "source": [
    "**Diferencia**. La diferencia entre dos conjuntos **A** y **B** es un nuevo conjunto **A** - **B** que contiene todos los elemtnos de **A** que no están en **B**.\n",
    "\n",
    "![](https://cdn.discordapp.com/attachments/973427374077141022/1042147735152885840/image.png)\n",
    "\n",
    "En `Python`, la diferencia de dos conjuntos se consigue con la función `-` o bien, con el método `.difference()`"
   ]
  },
  {
   "cell_type": "code",
   "execution_count": 17,
   "metadata": {},
   "outputs": [
    {
     "data": {
      "text/plain": [
       "{1, 5, 13}"
      ]
     },
     "execution_count": 17,
     "metadata": {},
     "output_type": "execute_result"
    }
   ],
   "source": [
    "A, B = { 0, 1, 4, 5, 8, 13 }, { 0, 3, 4, 7, 8 }\n",
    "A - B"
   ]
  },
  {
   "cell_type": "code",
   "execution_count": 18,
   "metadata": {},
   "outputs": [
    {
     "data": {
      "text/plain": [
       "{1, 5, 13}"
      ]
     },
     "execution_count": 18,
     "metadata": {},
     "output_type": "execute_result"
    }
   ],
   "source": [
    "A.difference(B)"
   ]
  },
  {
   "cell_type": "markdown",
   "metadata": {},
   "source": [
    "**Diferencia simétrica**. La diferencia entre dos conjuntos **A** y **B** es un nuevo conjunto **A ∆ B** que contiene todos los elementos de **A ∪ B** no están en **A ∩ B**\n",
    "\n",
    "![](https://cdn.discordapp.com/attachments/973427374077141022/1042148695040331826/image.png)\n",
    "\n",
    "En `Python`, la diferencia simétrica de dos conjuntos se consigue con el método `.symmetric_difference()`"
   ]
  },
  {
   "cell_type": "code",
   "execution_count": 19,
   "metadata": {},
   "outputs": [
    {
     "data": {
      "text/plain": [
       "{1, 3, 5, 7, 13}"
      ]
     },
     "execution_count": 19,
     "metadata": {},
     "output_type": "execute_result"
    }
   ],
   "source": [
    "A, B = { 0, 1, 4, 5, 8, 13 }, { 0, 3, 4, 7, 8 }\n",
    "A.symmetric_difference(B)"
   ]
  },
  {
   "cell_type": "markdown",
   "metadata": {},
   "source": [
    "#### Elementos de un conjunto\n",
    "\n",
    "Podemos añadir un elemento a un conjunto con el método `.add()`"
   ]
  },
  {
   "cell_type": "code",
   "execution_count": 20,
   "metadata": {},
   "outputs": [
    {
     "name": "stdout",
     "output_type": "stream",
     "text": [
      "{1, 2, 3, 4, 5, -1}\n",
      "{0, 1, 2, 3, 4, 5, -1}\n"
     ]
    }
   ],
   "source": [
    "set1 = { 1, 2, 3, 4, 5 }\n",
    "set1.add( -1 )\n",
    "print( set1 )\n",
    "\n",
    "set1.add( 0 )\n",
    "print( set1 )"
   ]
  },
  {
   "cell_type": "markdown",
   "metadata": {},
   "source": [
    "Para añadir elementos de otro conjunto en el conjunto actual, podemos usar el método `.update()`"
   ]
  },
  {
   "cell_type": "code",
   "execution_count": 21,
   "metadata": {},
   "outputs": [
    {
     "name": "stdout",
     "output_type": "stream",
     "text": [
      "{1, 2, 3, 4, 5}\n",
      "{1, 2, 3, 4, 5, -1, -5, -4, -3, -2}\n"
     ]
    }
   ],
   "source": [
    "set1 = { 1, 2, 3, 4, 5 }\n",
    "set2 = { -1, -2, -3, -4, -5 }\n",
    "\n",
    "print( set1 )\n",
    "\n",
    "set1.update( set2 )\n",
    "print( set1 )"
   ]
  },
  {
   "cell_type": "markdown",
   "metadata": {},
   "source": [
    "**Observación**. El método `.update()` nos permite añadir los elementos de un iterable al conjunto actual."
   ]
  },
  {
   "cell_type": "code",
   "execution_count": 22,
   "metadata": {},
   "outputs": [
    {
     "name": "stdout",
     "output_type": "stream",
     "text": [
      "{1, 2, 3, 4, 5, -1, -5, -4, -3, -2}\n"
     ]
    }
   ],
   "source": [
    "set1 = { 1, 2, 3, 4, 5 }\n",
    "l = [ -1, -2, -3, -4, -5 ]\n",
    "\n",
    "set1.update( l )\n",
    "print( set1 )"
   ]
  },
  {
   "cell_type": "markdown",
   "metadata": {},
   "source": [
    "Podemos averiguar si un elemento pertenece a un conjunto con el operador `in`"
   ]
  },
  {
   "cell_type": "code",
   "execution_count": 23,
   "metadata": {},
   "outputs": [
    {
     "name": "stdout",
     "output_type": "stream",
     "text": [
      "True\n",
      "False\n"
     ]
    }
   ],
   "source": [
    "set1 = { 1, -1, 2, -2, 3, -3 }\n",
    "print( 3 in set1 )\n",
    "print( 0 in set1 )"
   ]
  },
  {
   "cell_type": "markdown",
   "metadata": {},
   "source": [
    "También podemos eliminar elementos de un conjunto con los métodos `.remove()` o `.discard()`"
   ]
  },
  {
   "cell_type": "code",
   "execution_count": 25,
   "metadata": {},
   "outputs": [
    {
     "name": "stdout",
     "output_type": "stream",
     "text": [
      "{'e', 'i', 'u'}\n",
      "False\n",
      "False\n"
     ]
    }
   ],
   "source": [
    "set1 = { 'a', 'e', 'i', 'o', 'u' }\n",
    "set1.remove('a')\n",
    "set1.discard('o')\n",
    "\n",
    "print( set1 )\n",
    "\n",
    "print( 'a' in set1 )\n",
    "print( 'o' in set1 )"
   ]
  },
  {
   "cell_type": "markdown",
   "metadata": {},
   "source": [
    "**Observación**. Si intentamos eliminar un elemento que no existe ya de por sí en el conjunto con el método `.remove()`, `Python` nos devolverá un error, mientras que con el método `.discard()` no devolverá ningún error,"
   ]
  },
  {
   "cell_type": "code",
   "execution_count": 28,
   "metadata": {},
   "outputs": [],
   "source": [
    "# Error con remove\n",
    "# set1.remove( 'a' )\n",
    "\n",
    "# No devuelve nada con discard\n",
    "set1.discard( 'a' )"
   ]
  },
  {
   "cell_type": "markdown",
   "metadata": {},
   "source": [
    "#### Tamaño de un conjunto\n",
    "\n",
    "Para saber cuántos elementos contiene un conjunto, podemos usar la función `len()` del siguiente modo:"
   ]
  },
  {
   "cell_type": "code",
   "execution_count": 1,
   "metadata": {},
   "outputs": [
    {
     "name": "stdout",
     "output_type": "stream",
     "text": [
      "10\n"
     ]
    }
   ],
   "source": [
    "set1 = { 1, 'a', 'i', 'o', 2, 'e', 4, 3, 5, 'u' }\n",
    "print(len(set1))"
   ]
  },
  {
   "cell_type": "markdown",
   "metadata": {},
   "source": [
    "#### Bucles y conjuntos\n",
    "\n",
    "Podemos acceder a todos los elementos de un conjunto mediante un bucle `for`"
   ]
  },
  {
   "cell_type": "code",
   "execution_count": 2,
   "metadata": {},
   "outputs": [
    {
     "name": "stdout",
     "output_type": "stream",
     "text": [
      "pera\n",
      "melón\n",
      "manzana\n"
     ]
    }
   ],
   "source": [
    "set1 = { 'manzana', 'pera', 'melón' }\n",
    "for item in set1:\n",
    "  print( item )"
   ]
  },
  {
   "cell_type": "markdown",
   "metadata": {},
   "source": [
    "#### Más métodos de conjuntos\n",
    "\n",
    "El método `.pop()` nos devuelve un objeto del conjunto (como no hay orden, no sabemos cuál es) y lo elimina de éste."
   ]
  },
  {
   "cell_type": "code",
   "execution_count": 3,
   "metadata": {},
   "outputs": [
    {
     "data": {
      "text/plain": [
       "{-3, 5, 'a', 'b', 'u'}"
      ]
     },
     "execution_count": 3,
     "metadata": {},
     "output_type": "execute_result"
    }
   ],
   "source": [
    "set1 = { 'u', 5, -3, 'a', 'b' }\n",
    "set1"
   ]
  },
  {
   "cell_type": "code",
   "execution_count": 4,
   "metadata": {},
   "outputs": [
    {
     "data": {
      "text/plain": [
       "5"
      ]
     },
     "execution_count": 4,
     "metadata": {},
     "output_type": "execute_result"
    }
   ],
   "source": [
    "set1.pop()"
   ]
  },
  {
   "cell_type": "code",
   "execution_count": 5,
   "metadata": {},
   "outputs": [
    {
     "data": {
      "text/plain": [
       "{-3, 'a', 'b', 'u'}"
      ]
     },
     "execution_count": 5,
     "metadata": {},
     "output_type": "execute_result"
    }
   ],
   "source": [
    "set1"
   ]
  },
  {
   "cell_type": "markdown",
   "metadata": {},
   "source": [
    "El método `clear()` vacía el conjunto."
   ]
  },
  {
   "cell_type": "code",
   "execution_count": 6,
   "metadata": {},
   "outputs": [
    {
     "name": "stdout",
     "output_type": "stream",
     "text": [
      "set()\n"
     ]
    }
   ],
   "source": [
    "set1 = { 'a', 'e', 'i', 'o', 'u' }\n",
    "set1.clear()\n",
    "print( set1 )"
   ]
  },
  {
   "cell_type": "code",
   "execution_count": null,
   "metadata": {},
   "outputs": [],
   "source": []
  }
 ],
 "metadata": {
  "kernelspec": {
   "display_name": "Python 3.10.6 64-bit",
   "language": "python",
   "name": "python3"
  },
  "language_info": {
   "codemirror_mode": {
    "name": "ipython",
    "version": 3
   },
   "file_extension": ".py",
   "mimetype": "text/x-python",
   "name": "python",
   "nbconvert_exporter": "python",
   "pygments_lexer": "ipython3",
   "version": "3.10.6"
  },
  "orig_nbformat": 4,
  "vscode": {
   "interpreter": {
    "hash": "916dbcbb3f70747c44a77c7bcd40155683ae19c65e1c03b4aa3499c5328201f1"
   }
  }
 },
 "nbformat": 4,
 "nbformat_minor": 2
}
