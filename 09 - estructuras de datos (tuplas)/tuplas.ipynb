{
 "cells": [
  {
   "cell_type": "markdown",
   "metadata": {},
   "source": [
    "## Estructuras de datos: Tuplas"
   ]
  },
  {
   "cell_type": "markdown",
   "metadata": {},
   "source": [
    "#### Tupla\n",
    "\n",
    "La última estructura que veremos son las tuplas. Éstas son un conjunto de elementos, que pueden ser de distintos tipos, separados por comas y escritos entre paréntesis, `()`.\n",
    "\n",
    "Las tuplas son:\n",
    "\n",
    "  * hetereogéneas: los elementos pueden ser de distinto tipo en una misma tupla.\n",
    "  * no mutables: los elementos no pueden ser modificados una vez la tupla ha sido creado.\n",
    "\n",
    "Un ejemplo de tupla sería:"
   ]
  },
  {
   "cell_type": "code",
   "execution_count": 1,
   "metadata": {},
   "outputs": [
    {
     "name": "stdout",
     "output_type": "stream",
     "text": [
      "('Juan', 32, 'profesor', True)\n"
     ]
    }
   ],
   "source": [
    "t = ('Juan', 32, 'profesor', True)\n",
    "print(t)"
   ]
  },
  {
   "cell_type": "markdown",
   "metadata": {},
   "source": [
    "Podemos declarar una tupla sin necesidad de indicar sus elementos entre paréntesis"
   ]
  },
  {
   "cell_type": "code",
   "execution_count": 2,
   "metadata": {},
   "outputs": [
    {
     "data": {
      "text/plain": [
       "tuple"
      ]
     },
     "execution_count": 2,
     "metadata": {},
     "output_type": "execute_result"
    }
   ],
   "source": [
    "t = \"Juan\", 32, \"profesor\", True\n",
    "type(t)"
   ]
  },
  {
   "cell_type": "markdown",
   "metadata": {},
   "source": [
    "Podemos declarar tuplas con la función `tuple()`"
   ]
  },
  {
   "cell_type": "code",
   "execution_count": 3,
   "metadata": {},
   "outputs": [
    {
     "data": {
      "text/plain": [
       "tuple"
      ]
     },
     "execution_count": 3,
     "metadata": {},
     "output_type": "execute_result"
    }
   ],
   "source": [
    "t = tuple(('Juan', 32, 'Profesor', True))\n",
    "type(t)"
   ]
  },
  {
   "cell_type": "markdown",
   "metadata": {},
   "source": [
    "#### Elementos de una tupla\n",
    "\n",
    "Podemos acceder a los elementos de una tupla mediante el índice que ocupan con la sintaxis de claudator, `[]`"
   ]
  },
  {
   "cell_type": "code",
   "execution_count": 4,
   "metadata": {},
   "outputs": [
    {
     "name": "stdout",
     "output_type": "stream",
     "text": [
      "1\n",
      "i\n"
     ]
    }
   ],
   "source": [
    "t = 1, 'a', 2, '3', 3, 'i', 4, 'o', 5, 'u'\n",
    "print(t[0])\n",
    "print(t[5])"
   ]
  },
  {
   "cell_type": "markdown",
   "metadata": {},
   "source": [
    "Al igual que con las listas, podemos acceder a los elementos de tuplas mediante el uso de índices negativos"
   ]
  },
  {
   "cell_type": "code",
   "execution_count": 5,
   "metadata": {},
   "outputs": [
    {
     "name": "stdout",
     "output_type": "stream",
     "text": [
      "u\n",
      "4\n"
     ]
    }
   ],
   "source": [
    "print(t[-1])\n",
    "print(t[-4])"
   ]
  },
  {
   "cell_type": "markdown",
   "metadata": {},
   "source": [
    "Para acceder a múltiples entradas de una tupla a la vez, podemos utilizar la función `:` para indicar un intervalo de índices."
   ]
  },
  {
   "cell_type": "code",
   "execution_count": 6,
   "metadata": {},
   "outputs": [
    {
     "name": "stdout",
     "output_type": "stream",
     "text": [
      "(2, '3', 3, 'i')\n",
      "(1, 'a', 2, '3', 3)\n",
      "('i', 4, 'o', 5, 'u')\n"
     ]
    }
   ],
   "source": [
    "print(t[2:6])\n",
    "print(t[:5])\n",
    "print(t[5:])"
   ]
  },
  {
   "cell_type": "markdown",
   "metadata": {},
   "source": [
    "**Observación** Recordar que:\n",
    "\n",
    "  * el índice indicado tras los dos puntos `:`, nunca es incluido.\n",
    "  * si no se indica índice a la izquierda de `:`, se considera desde el índice 0 hasta el inmediatamente anterior al indicado a la derecha de `:`.\n",
    "  * si no se indica índice a la derecha de `:`, se considera desde el índice indicado a la izquierda de `:` hasta el último elemento\n",
    "\n",
    "También podemos usar índices negativos con la función `:`"
   ]
  },
  {
   "cell_type": "code",
   "execution_count": 7,
   "metadata": {},
   "outputs": [
    {
     "name": "stdout",
     "output_type": "stream",
     "text": [
      "('i', 4, 'o', 5)\n"
     ]
    }
   ],
   "source": [
    "print(t[-5:-1])"
   ]
  },
  {
   "cell_type": "markdown",
   "metadata": {},
   "source": [
    "Para saber si un elemento pertenece a una tupla podemos usar la palabra clave `in`"
   ]
  },
  {
   "cell_type": "code",
   "execution_count": 8,
   "metadata": {},
   "outputs": [
    {
     "name": "stdout",
     "output_type": "stream",
     "text": [
      "False\n",
      "True\n"
     ]
    }
   ],
   "source": [
    "print(6 in t)\n",
    "print('i' in t)"
   ]
  },
  {
   "cell_type": "markdown",
   "metadata": {},
   "source": [
    "Hemos dicho que las tuplas son imutables. Esto es, una vez creada la tupla, sus elementos no pueden ser modificados."
   ]
  },
  {
   "cell_type": "code",
   "execution_count": 9,
   "metadata": {},
   "outputs": [],
   "source": [
    "t = 'Cereza', 'Manzana', 'Pera'"
   ]
  },
  {
   "cell_type": "code",
   "execution_count": 10,
   "metadata": {},
   "outputs": [
    {
     "ename": "TypeError",
     "evalue": "'tuple' object does not support item assignment",
     "output_type": "error",
     "traceback": [
      "\u001b[0;31m---------------------------------------------------------------------------\u001b[0m",
      "\u001b[0;31mTypeError\u001b[0m                                 Traceback (most recent call last)",
      "Cell \u001b[0;32mIn [10], line 1\u001b[0m\n\u001b[0;32m----> 1\u001b[0m t[\u001b[39m1\u001b[39;49m] \u001b[39m=\u001b[39m \u001b[39m'\u001b[39m\u001b[39mKiwi\u001b[39m\u001b[39m'\u001b[39m\n",
      "\u001b[0;31mTypeError\u001b[0m: 'tuple' object does not support item assignment"
     ]
    }
   ],
   "source": [
    "t[1] = 'Kiwi'"
   ]
  },
  {
   "cell_type": "markdown",
   "metadata": {},
   "source": [
    "Una alternativa sería convertir a lista, realizar la modificación y reconvertir a tupla"
   ]
  },
  {
   "cell_type": "code",
   "execution_count": 11,
   "metadata": {},
   "outputs": [
    {
     "name": "stdout",
     "output_type": "stream",
     "text": [
      "('Cereza', 'Kiwi', 'Pera')\n",
      "<class 'tuple'>\n"
     ]
    }
   ],
   "source": [
    "t = 'Cereza', 'Manzana', 'Pera'\n",
    "t = list(t)\n",
    "t[1] = 'Kiwi'\n",
    "t = tuple(t)\n",
    "\n",
    "print(t)\n",
    "print(type(t))"
   ]
  },
  {
   "cell_type": "markdown",
   "metadata": {},
   "source": [
    "#### El método de unpacking\n",
    "\n",
    "Podemos extraer los valores de una tupla en variables. Este proceso es conocido como **unpacking**."
   ]
  },
  {
   "cell_type": "code",
   "execution_count": 12,
   "metadata": {},
   "outputs": [
    {
     "name": "stdout",
     "output_type": "stream",
     "text": [
      "<class 'tuple'>\n",
      "Cereza\n",
      "Kiwi\n",
      "Pera\n",
      "Naranja\n"
     ]
    }
   ],
   "source": [
    "fruits = 'Cereza', 'Kiwi', 'Pera', 'Naranja'\n",
    "print(type(fruits))\n",
    "\n",
    "# Con paréntesis\n",
    "\n",
    "(fruit1, fruit2, fruit3, fruit4) = fruits\n",
    "\n",
    "print(fruit1)\n",
    "print(fruit2)\n",
    "print(fruit3)\n",
    "print(fruit4)"
   ]
  },
  {
   "cell_type": "markdown",
   "metadata": {},
   "source": [
    "Funciona igual si no declaramos las variables entre paréntesis."
   ]
  },
  {
   "cell_type": "code",
   "execution_count": 13,
   "metadata": {},
   "outputs": [
    {
     "name": "stdout",
     "output_type": "stream",
     "text": [
      "<class 'tuple'>\n",
      "Cereza\n",
      "Kiwi\n",
      "Pera\n",
      "Naranja\n"
     ]
    }
   ],
   "source": [
    "fruits = 'Cereza', 'Kiwi', 'Pera', 'Naranja'\n",
    "print(type(fruits))\n",
    "\n",
    "# Sin paréntesis\n",
    "fruit1, fruit2, fruit3, fruit4 = fruits\n",
    "\n",
    "print(fruit1)\n",
    "print(fruit2)\n",
    "print(fruit3)\n",
    "print(fruit4)"
   ]
  },
  {
   "cell_type": "markdown",
   "metadata": {},
   "source": [
    "**¡Cuidado!** El número de variables debe coincidir con el número de elementos de la tupla. De lo contrario, debe usarse un asterisco para guardar los elementos restantes de una lista."
   ]
  },
  {
   "cell_type": "code",
   "execution_count": 14,
   "metadata": {},
   "outputs": [
    {
     "name": "stdout",
     "output_type": "stream",
     "text": [
      "Cereza\n",
      "Kiwi\n",
      "['Pera', 'Naranja']\n",
      "<class 'list'>\n"
     ]
    }
   ],
   "source": [
    "fruits = 'Cereza', 'Kiwi', 'Pera', 'Naranja'\n",
    "\n",
    "(fruit1, fruit2, *restFruits) = fruits\n",
    "\n",
    "print(fruit1)\n",
    "print(fruit2)\n",
    "print(restFruits)\n",
    "print(type(restFruits))"
   ]
  },
  {
   "cell_type": "markdown",
   "metadata": {},
   "source": [
    "**Observación**. Si el asterisco es añadido en alguna variable que no sea la última, `Python` almacenará tantos elementos en la lista como sea necesario para que el número de elementos restantes coincida con el número de variables restantes."
   ]
  },
  {
   "cell_type": "code",
   "execution_count": 2,
   "metadata": {},
   "outputs": [
    {
     "name": "stdout",
     "output_type": "stream",
     "text": [
      "Cereza\n",
      "['Kiwi', 'Pera', 'Naranja', 'Melocotón']\n",
      "Sandía\n",
      "Melón\n"
     ]
    }
   ],
   "source": [
    "fruits = 'Cereza', 'Kiwi', 'Pera', 'Naranja', 'Melocotón', 'Sandía', 'Melón'\n",
    "\n",
    "(fruit1, *restFruits, fruit2, fruit3) = fruits\n",
    "\n",
    "print(fruit1)\n",
    "print(restFruits)\n",
    "print(fruit2)\n",
    "print(fruit3)"
   ]
  },
  {
   "cell_type": "code",
   "execution_count": 6,
   "metadata": {},
   "outputs": [
    {
     "name": "stdout",
     "output_type": "stream",
     "text": [
      "4\n"
     ]
    }
   ],
   "source": [
    "punto = (1, 2, 3)\n",
    "x, _, z = punto # _ = no me importa lo que haya en esa posición, variable que no se vaya a utilizar\n",
    "print(x + z)"
   ]
  },
  {
   "cell_type": "markdown",
   "metadata": {},
   "source": [
    "#### Concatenación de tuplas\n",
    "\n",
    "Podemos concatenar tuplas con la función `+`, aunque el resultado será una nueva tupla, ya que recordemos éstas no pueden ser modificadas."
   ]
  },
  {
   "cell_type": "code",
   "execution_count": 7,
   "metadata": {},
   "outputs": [
    {
     "data": {
      "text/plain": [
       "(1, 3, 2, 4)"
      ]
     },
     "execution_count": 7,
     "metadata": {},
     "output_type": "execute_result"
    }
   ],
   "source": [
    "t1 = 1, 3\n",
    "t2 = 2, 4\n",
    "\n",
    "t1 + t2"
   ]
  },
  {
   "cell_type": "markdown",
   "metadata": {},
   "source": [
    "#### Repetición de tuplas\n",
    "\n",
    "Podemos repetir tuplas un número `n` de veces con la función `*`"
   ]
  },
  {
   "cell_type": "code",
   "execution_count": 8,
   "metadata": {},
   "outputs": [
    {
     "data": {
      "text/plain": [
       "('a', 'b', 'c', 'a', 'b', 'c', 'a', 'b', 'c', 'a', 'b', 'c', 'a', 'b', 'c')"
      ]
     },
     "execution_count": 8,
     "metadata": {},
     "output_type": "execute_result"
    }
   ],
   "source": [
    "t = ('a', 'b', 'c')\n",
    "t * 5"
   ]
  },
  {
   "cell_type": "markdown",
   "metadata": {},
   "source": [
    "#### Tamaño de una tupla\n",
    "\n",
    "Podemos calcular el número de elementos de una tupla con la función `len()`"
   ]
  },
  {
   "cell_type": "code",
   "execution_count": 9,
   "metadata": {},
   "outputs": [
    {
     "data": {
      "text/plain": [
       "4"
      ]
     },
     "execution_count": 9,
     "metadata": {},
     "output_type": "execute_result"
    }
   ],
   "source": [
    "t = 'Juan', 32, 'Profesor', True\n",
    "len(t)"
   ]
  },
  {
   "cell_type": "markdown",
   "metadata": {},
   "source": [
    "**¡Cuidado!** Si quisiésemos crear una tupla de un solo elemento, tendríamos que hacer lo siguiente"
   ]
  },
  {
   "cell_type": "code",
   "execution_count": 10,
   "metadata": {},
   "outputs": [
    {
     "name": "stdout",
     "output_type": "stream",
     "text": [
      "<class 'tuple'>\n",
      "<class 'str'>\n"
     ]
    }
   ],
   "source": [
    "t1 = ('manzana', )\n",
    "print( type(t1) )\n",
    "\n",
    "# Lo siguiente no es una tupla\n",
    "t2 = ('manzana')\n",
    "print( type(t2) )"
   ]
  },
  {
   "cell_type": "markdown",
   "metadata": {},
   "source": [
    "#### Bucles y tuplas\n",
    "\n",
    "Podemos iterar una tupla utilizando un bucle `for`"
   ]
  },
  {
   "cell_type": "code",
   "execution_count": 1,
   "metadata": {},
   "outputs": [
    {
     "name": "stdout",
     "output_type": "stream",
     "text": [
      "Cereza\n",
      "Kiwi\n",
      "Pera\n",
      "Naranja\n",
      "Melocotón\n",
      "Sandía\n",
      "Melón\n"
     ]
    }
   ],
   "source": [
    "fruits = 'Cereza', 'Kiwi', 'Pera', 'Naranja', 'Melocotón', 'Sandía', 'Melón'\n",
    "\n",
    "for fruit in fruits:\n",
    "  print(fruit)"
   ]
  },
  {
   "cell_type": "markdown",
   "metadata": {},
   "source": [
    "También podemos usar la técnica de unpacking en los bucles"
   ]
  },
  {
   "cell_type": "code",
   "execution_count": 2,
   "metadata": {},
   "outputs": [
    {
     "name": "stdout",
     "output_type": "stream",
     "text": [
      "La Cereza es Roja\n",
      "El color del Kiwi es Amarillo\n",
      "La Pera es Verde\n",
      "La Naranja es Naranja\n"
     ]
    }
   ],
   "source": [
    "t = ('Cereza', 'Roja'), ('Kiwi', 'Amarillo'), ('Pera', 'Verde'), ('Naranja', 'Naranja')\n",
    "\n",
    "for fruit, color in t:\n",
    "  if fruit == 'Kiwi':\n",
    "    print('El color del',fruit, 'es', color)\n",
    "  else:\n",
    "    print('La {} es {}'.format(fruit, color))"
   ]
  },
  {
   "cell_type": "markdown",
   "metadata": {},
   "source": [
    "#### Tuplas y el resto de estructuras de datos\n",
    "\n",
    "Una tupla puede contener listas, diccionarios, conjuntos y tuplas"
   ]
  },
  {
   "cell_type": "code",
   "execution_count": 3,
   "metadata": {},
   "outputs": [
    {
     "data": {
      "text/plain": [
       "tuple"
      ]
     },
     "execution_count": 3,
     "metadata": {},
     "output_type": "execute_result"
    }
   ],
   "source": [
    "t = [4, 5, 6], {'vowels': ('a', 'e', 'i', 'o', 'u')}, {1, 2, 3}, ('x', 'y')\n",
    "type(t)"
   ]
  },
  {
   "cell_type": "markdown",
   "metadata": {},
   "source": [
    "Asimismo:\n",
    "  \n",
    "  * Las listas pueden contener diccionarios, conjuntos, tuplas y otras listas.\n",
    "  * Los diccionarios pueden contener listas, conjuntos, tuplas y otros diccionarios.\n",
    "  * Los conjuntos no pueden contener ni listas, ni diccionarios, ni tuplas, ni siquiera otros conjuntos."
   ]
  },
  {
   "cell_type": "code",
   "execution_count": 4,
   "metadata": {},
   "outputs": [
    {
     "data": {
      "text/plain": [
       "list"
      ]
     },
     "execution_count": 4,
     "metadata": {},
     "output_type": "execute_result"
    }
   ],
   "source": [
    "l = [{'vowels': ('a', 'e', 'i', 'o', 'u')}, {1, 2, 3}, ('x', 'y'), [4, 5, 6]]\n",
    "type(l)"
   ]
  },
  {
   "cell_type": "code",
   "execution_count": 5,
   "metadata": {},
   "outputs": [
    {
     "data": {
      "text/plain": [
       "dict"
      ]
     },
     "execution_count": 5,
     "metadata": {},
     "output_type": "execute_result"
    }
   ],
   "source": [
    "dicc = {'list': [4, 5, 6], 'set': {1, 2, 3}, 'tuple': ('x', 'y'), 'dict': {'vowels': ('a', 'e', 'i', 'o', 'u')}}\n",
    "type(dicc)"
   ]
  },
  {
   "cell_type": "code",
   "execution_count": 6,
   "metadata": {},
   "outputs": [
    {
     "ename": "TypeError",
     "evalue": "unhashable type: 'list'",
     "output_type": "error",
     "traceback": [
      "\u001b[0;31m---------------------------------------------------------------------------\u001b[0m",
      "\u001b[0;31mTypeError\u001b[0m                                 Traceback (most recent call last)",
      "Cell \u001b[0;32mIn [6], line 1\u001b[0m\n\u001b[0;32m----> 1\u001b[0m set1 \u001b[39m=\u001b[39m {[\u001b[39m4\u001b[39m, \u001b[39m5\u001b[39m, \u001b[39m6\u001b[39m], {\u001b[39m'\u001b[39m\u001b[39mvowels\u001b[39m\u001b[39m'\u001b[39m: (\u001b[39m'\u001b[39m\u001b[39ma\u001b[39m\u001b[39m'\u001b[39m, \u001b[39m'\u001b[39m\u001b[39me\u001b[39m\u001b[39m'\u001b[39m, \u001b[39m'\u001b[39m\u001b[39mi\u001b[39m\u001b[39m'\u001b[39m, \u001b[39m'\u001b[39m\u001b[39mo\u001b[39m\u001b[39m'\u001b[39m, \u001b[39m'\u001b[39m\u001b[39mu\u001b[39m\u001b[39m'\u001b[39m)}, (\u001b[39m'\u001b[39m\u001b[39mx\u001b[39m\u001b[39m'\u001b[39m, \u001b[39m'\u001b[39m\u001b[39my\u001b[39m\u001b[39m'\u001b[39m), {\u001b[39m1\u001b[39m, \u001b[39m2\u001b[39m, \u001b[39m3\u001b[39m}}\n",
      "\u001b[0;31mTypeError\u001b[0m: unhashable type: 'list'"
     ]
    }
   ],
   "source": [
    "set1 = {[4, 5, 6], {'vowels': ('a', 'e', 'i', 'o', 'u')}, ('x', 'y'), {1, 2, 3}}"
   ]
  },
  {
   "cell_type": "markdown",
   "metadata": {},
   "source": [
    "Dado cualquier objeto iterable en `Python`, lo podemos convertir a tupla con la función `tuple()`"
   ]
  },
  {
   "cell_type": "code",
   "execution_count": 8,
   "metadata": {},
   "outputs": [
    {
     "name": "stdout",
     "output_type": "stream",
     "text": [
      "({'vowels': ('a', 'e', 'i', 'o', 'u')}, {1, 2, 3}, ('x', 'y'), [4, 5, 6])\n",
      "<class 'tuple'>\n",
      "('list', 'set', 'tuple', 'dict')\n",
      "<class 'tuple'>\n",
      "(1, 2, 3, 4, 5)\n",
      "<class 'tuple'>\n"
     ]
    }
   ],
   "source": [
    "print(tuple(l)) # A partir de una lista\n",
    "print(type(tuple(l)))\n",
    "\n",
    "print(tuple(dicc)) # A partir de un diccionario solo se guardan las claves en la tupla\n",
    "print(type(tuple(dicc)))\n",
    "\n",
    "print(tuple({1, 2, 3, 4, 5})) # A partir de un conjunto\n",
    "print(type(tuple({1, 2, 3, 4, 5})))"
   ]
  },
  {
   "cell_type": "markdown",
   "metadata": {},
   "source": [
    "#### La función `zip()`\n",
    "\n",
    "La función `zip()` sirve para juntar listas en tuplas"
   ]
  },
  {
   "cell_type": "code",
   "execution_count": 9,
   "metadata": {},
   "outputs": [
    {
     "name": "stdout",
     "output_type": "stream",
     "text": [
      "<zip object at 0x7f2c41e3a140>\n"
     ]
    }
   ],
   "source": [
    "objects = ['libreta', 'pluma', 'portaminas', 'pack_minas']\n",
    "price = [5.00, 3.30, 1.29, 0.50]\n",
    "items = zip(objects, price)\n",
    "print( items )"
   ]
  },
  {
   "cell_type": "markdown",
   "metadata": {},
   "source": [
    "Podemos convertir el resultado de una función `zip()` a una lista"
   ]
  },
  {
   "cell_type": "code",
   "execution_count": 10,
   "metadata": {},
   "outputs": [
    {
     "data": {
      "text/plain": [
       "[('libreta', 5.0), ('pluma', 3.3), ('portaminas', 1.29), ('pack_minas', 0.5)]"
      ]
     },
     "execution_count": 10,
     "metadata": {},
     "output_type": "execute_result"
    }
   ],
   "source": [
    "items = zip(objects, price)\n",
    "list(items)"
   ]
  },
  {
   "cell_type": "markdown",
   "metadata": {},
   "source": [
    "Podemos convertir el resultado de una función `zip()` a un diccionario"
   ]
  },
  {
   "cell_type": "code",
   "execution_count": 11,
   "metadata": {},
   "outputs": [
    {
     "data": {
      "text/plain": [
       "{'libreta': 5.0, 'pluma': 3.3, 'portaminas': 1.29, 'pack_minas': 0.5}"
      ]
     },
     "execution_count": 11,
     "metadata": {},
     "output_type": "execute_result"
    }
   ],
   "source": [
    "items = zip(objects, price)\n",
    "dict(items)"
   ]
  },
  {
   "cell_type": "markdown",
   "metadata": {},
   "source": [
    "**¡Cuidado!** Hay que crear de nuevo el objeto `zip()`, pues el resultado de esta función es un iterador y, una vez ha sido convertido a una lista, diccionario o tupla, se considera una iteración completa y no será capaz de generar más valores.\n",
    "\n",
    "Podemos convertir el resultado de una función `zip()` a una tupla:"
   ]
  },
  {
   "cell_type": "code",
   "execution_count": 12,
   "metadata": {},
   "outputs": [
    {
     "data": {
      "text/plain": [
       "(('libreta', 5.0), ('pluma', 3.3), ('portaminas', 1.29), ('pack_minas', 0.5))"
      ]
     },
     "execution_count": 12,
     "metadata": {},
     "output_type": "execute_result"
    }
   ],
   "source": [
    "items = zip(objects, price)\n",
    "tuple(items)"
   ]
  },
  {
   "cell_type": "code",
   "execution_count": 13,
   "metadata": {},
   "outputs": [
    {
     "name": "stdout",
     "output_type": "stream",
     "text": [
      "El objeto libreta cuesta 5.0 €.\n",
      "El objeto pluma cuesta 3.3 €.\n",
      "El objeto portaminas cuesta 1.29 €.\n",
      "El objeto pack_minas cuesta 0.5 €.\n"
     ]
    }
   ],
   "source": [
    "for obj, pr in zip(objects, price):\n",
    "  print('El objeto {} cuesta {} €.'.format(obj, pr))"
   ]
  },
  {
   "cell_type": "code",
   "execution_count": null,
   "metadata": {},
   "outputs": [],
   "source": []
  }
 ],
 "metadata": {
  "kernelspec": {
   "display_name": "Python 3.10.6 64-bit",
   "language": "python",
   "name": "python3"
  },
  "language_info": {
   "codemirror_mode": {
    "name": "ipython",
    "version": 3
   },
   "file_extension": ".py",
   "mimetype": "text/x-python",
   "name": "python",
   "nbconvert_exporter": "python",
   "pygments_lexer": "ipython3",
   "version": "3.10.6"
  },
  "orig_nbformat": 4,
  "vscode": {
   "interpreter": {
    "hash": "916dbcbb3f70747c44a77c7bcd40155683ae19c65e1c03b4aa3499c5328201f1"
   }
  }
 },
 "nbformat": 4,
 "nbformat_minor": 2
}
