{
 "cells": [
  {
   "attachments": {},
   "cell_type": "markdown",
   "metadata": {},
   "source": [
    "# Funciones\n",
    "\n",
    "#### Función\n",
    "\n",
    "**Función.** Una función en `Python` es una pieza de código reutilizable que solo se ejecuta cuando es llamada.\n",
    "\n",
    "Se define usando la palabra reservada `def` y estructura de general es la siguiente:"
   ]
  },
  {
   "cell_type": "code",
   "execution_count": null,
   "metadata": {},
   "outputs": [],
   "source": [
    "def nombre_funcion(input1, input2, ..., inputn):\n",
    "  cuerpo de la función\n",
    "  return output"
   ]
  },
  {
   "attachments": {},
   "cell_type": "markdown",
   "metadata": {},
   "source": [
    "**Observación.** La instrucción `return` finaliza la ejecución de la función y devuelve el resultado que se indica a continuación. Si no se indicase nada, la función fnializaría, pero no retornaría nada.\n",
    "\n",
    "Como hemos visto, en general, las funciones constan de 3 partes:\n",
    "  * **Inputs (parámetros o argumentos).** Son los valores que le pasamos como entrada a la función.\n",
    "  * **Cuerpo.** Son todas las operaciones que lleva a cabo la función.\n",
    "  * **Output.** Es el resultado que devuelve la función.\n",
    "\n",
    "**Observación.** Los parámetros son variables internas de la función. Si probásemos a ejecutar una de dichas variables en el entorno global, nos saltaría un error. Este tema lo trataremos más en detalle más adelante.\n",
    "\n",
    "Con lo visto anteriormente, a la hora de construir una función hay que hacerse las siguientes preguntas.\n",
    "\n",
    "* ¿Qué datos necesita conocer la función? (inputs)\n",
    "* ¿Qué hace la función? (cuerpo)\n",
    "* ¿Qué devuelve? (output)\n",
    "\n",
    "**Observación.** Los inputs y el output son opcionales: podemos definir una función sin necesidad de proporcionarle inputs y sin que nos devuelva nada.\n",
    "\n",
    "Una vez definida una función, para llamarla utilizamos su nombre seguido de paréntesis:"
   ]
  },
  {
   "cell_type": "code",
   "execution_count": 1,
   "metadata": {},
   "outputs": [],
   "source": [
    "def my_first_function():\n",
    "  print('Tu primera función te saluda')"
   ]
  },
  {
   "cell_type": "code",
   "execution_count": 2,
   "metadata": {},
   "outputs": [
    {
     "name": "stdout",
     "output_type": "stream",
     "text": [
      "Tu primera función te saluda\n"
     ]
    }
   ],
   "source": [
    "my_first_function()"
   ]
  },
  {
   "attachments": {},
   "cell_type": "markdown",
   "metadata": {},
   "source": [
    "Hemos dicho que tanto los inputs como los output son opcionales. Veamos algunos ejemplos con diferentes casos."
   ]
  },
  {
   "attachments": {},
   "cell_type": "markdown",
   "metadata": {},
   "source": [
    "#### Ejemplo 1\n",
    "\n",
    "Veamos otro ejemplo que no necesite ningún parámetro y no nos devuelva nada, tal y como ocurría con `my_first_function()`"
   ]
  },
  {
   "cell_type": "code",
   "execution_count": 1,
   "metadata": {},
   "outputs": [],
   "source": [
    "def hello_world():\n",
    "  print('Hola mundo!')"
   ]
  },
  {
   "cell_type": "code",
   "execution_count": 2,
   "metadata": {},
   "outputs": [
    {
     "name": "stdout",
     "output_type": "stream",
     "text": [
      "Hola mundo!\n"
     ]
    }
   ],
   "source": [
    "hello_world()"
   ]
  },
  {
   "attachments": {},
   "cell_type": "markdown",
   "metadata": {},
   "source": [
    "Nuestra función `hello_world()`, cuando es llamada, imprime \"Hola mundo!\", pero no devuelve absolutamente nada."
   ]
  },
  {
   "attachments": {},
   "cell_type": "markdown",
   "metadata": {},
   "source": [
    "#### Ejemplo 2\n",
    "\n",
    "Veamos un ejemplo de función que no necesita ningún input, pero que devuelve un output. Por ejemplo, una función que nos devuelve \"¡Buenos días!\""
   ]
  },
  {
   "cell_type": "code",
   "execution_count": 3,
   "metadata": {},
   "outputs": [],
   "source": [
    "def good_morning():\n",
    "  return \"¡Buenos días!\""
   ]
  },
  {
   "attachments": {},
   "cell_type": "markdown",
   "metadata": {},
   "source": [
    "Ya hemos declarado la función. Si la llamamos, obtenemos el siguiente resultado:"
   ]
  },
  {
   "cell_type": "code",
   "execution_count": 4,
   "metadata": {},
   "outputs": [
    {
     "data": {
      "text/plain": [
       "'¡Buenos días!'"
      ]
     },
     "execution_count": 4,
     "metadata": {},
     "output_type": "execute_result"
    }
   ],
   "source": [
    "good_morning()"
   ]
  },
  {
   "attachments": {},
   "cell_type": "markdown",
   "metadata": {},
   "source": [
    "Como nos devuelve el saludo, lo podemos guardar en una variable, que será de tipo string"
   ]
  },
  {
   "cell_type": "code",
   "execution_count": 5,
   "metadata": {},
   "outputs": [
    {
     "name": "stdout",
     "output_type": "stream",
     "text": [
      "¡Buenos días!\n",
      "<class 'str'>\n"
     ]
    }
   ],
   "source": [
    "goodMorning: str = good_morning()\n",
    "print( goodMorning )\n",
    "print( type( goodMorning ) )"
   ]
  },
  {
   "attachments": {},
   "cell_type": "markdown",
   "metadata": {},
   "source": [
    "#### Ejemplo 3\n",
    "\n",
    "Veamos ahora un ejemplo de función que no nos devuelva nada, pero que sí toma algún parámetro"
   ]
  },
  {
   "cell_type": "code",
   "execution_count": 6,
   "metadata": {},
   "outputs": [],
   "source": [
    "def good_morning( name: str ) -> None:\n",
    "  print( f'¡Buenos días, {name}!' )"
   ]
  },
  {
   "cell_type": "markdown",
   "metadata": {},
   "source": [
    "#### Ejemplo 4\n",
    "\n",
    "Por último, vamos a crear uan función que nos calcule la división entera de dos números y nos retorne el cociente y el resto."
   ]
  },
  {
   "cell_type": "code",
   "execution_count": 5,
   "metadata": {},
   "outputs": [],
   "source": [
    "def euclidean_division( x: int, y: int ) -> tuple[int, int]:\n",
    "  q = x // y\n",
    "  r = x % y\n",
    "  return q, r"
   ]
  },
  {
   "cell_type": "markdown",
   "metadata": {},
   "source": [
    "Esta función, a la que hemos llamado `euclidean_division`, calcula el cociente y el resto de dos números cualesquiera y devuelve como resultado esos números calculados.\n",
    "\n",
    "Utilicemos ahora nuestra función para calcular el cociente y el resto de la división 41 / 7"
   ]
  },
  {
   "cell_type": "code",
   "execution_count": 8,
   "metadata": {},
   "outputs": [
    {
     "data": {
      "text/plain": [
       "(5, 6)"
      ]
     },
     "execution_count": 8,
     "metadata": {},
     "output_type": "execute_result"
    }
   ],
   "source": [
    "euclidean_division(x = 41, y = 7)"
   ]
  },
  {
   "cell_type": "markdown",
   "metadata": {},
   "source": [
    "Al llamar a la función e indicarle por parámetros `x = 41` e `y = 7`, hemos obtenido como resultado la tupla `(5, 6)`. El significado de dicho resultado es que el cocientet entero de 41 / 7 es 5, mientras que el resto es 6.\n",
    "\n",
    "También podríamos aguardar en variables diferentes los resultados que nos devuelve nuestra función, para poder trabajar con ellos en el entorno global."
   ]
  },
  {
   "cell_type": "code",
   "execution_count": 9,
   "metadata": {},
   "outputs": [
    {
     "name": "stdout",
     "output_type": "stream",
     "text": [
      "5\n",
      "6\n",
      "False\n"
     ]
    }
   ],
   "source": [
    "quotient, remainder = euclidean_division(x = 41, y = 7)\n",
    "print( quotient )\n",
    "print( remainder )\n",
    "print( 41 == 7 * quotient * remainder )"
   ]
  },
  {
   "cell_type": "markdown",
   "metadata": {},
   "source": [
    "#### Parámetros\n",
    "\n",
    "Por defecto, una función debe ser llamada con el número correcto de argumentos. Esto es, si la función espera 2 argumentos, tenemos que llamar a la función con estos 2 argumentos. Ni más, ni menos."
   ]
  },
  {
   "cell_type": "code",
   "execution_count": 10,
   "metadata": {},
   "outputs": [],
   "source": [
    "def complete_name( name: str, surname: str ) -> None:\n",
    "  print(f'El nombre completo es: {name} {surname}')"
   ]
  },
  {
   "cell_type": "markdown",
   "metadata": {},
   "source": [
    "Si intentamos llamar a la función `complete_name()` pasando 1 solo parámetrot o 3 parámetros, entonces la función devuelve error."
   ]
  },
  {
   "cell_type": "code",
   "execution_count": 11,
   "metadata": {},
   "outputs": [
    {
     "ename": "TypeError",
     "evalue": "complete_name() missing 1 required positional argument: 'surname'",
     "output_type": "error",
     "traceback": [
      "\u001b[1;31m---------------------------------------------------------------------------\u001b[0m",
      "\u001b[1;31mTypeError\u001b[0m                                 Traceback (most recent call last)",
      "Cell \u001b[1;32mIn[11], line 1\u001b[0m\n\u001b[1;32m----> 1\u001b[0m complete_name(name\u001b[39m=\u001b[39;49m\u001b[39m'\u001b[39;49m\u001b[39mMaria\u001b[39;49m\u001b[39m'\u001b[39;49m)\n",
      "\u001b[1;31mTypeError\u001b[0m: complete_name() missing 1 required positional argument: 'surname'"
     ]
    }
   ],
   "source": [
    "complete_name(name='Maria')"
   ]
  },
  {
   "cell_type": "markdown",
   "metadata": {},
   "source": [
    "#### Número arbitrario de argumentos\n",
    "\n",
    "Si no sabemos el número de parámetros que van a ser introducidos, enttonces añadimos un asterisco `*` previo al nombre del parámetro en la definición de la función. Los valores introducidos serán guardados en una tupla."
   ]
  },
  {
   "cell_type": "code",
   "execution_count": 12,
   "metadata": {},
   "outputs": [],
   "source": [
    "def sum_numbers( *numbers: tuple[int] ):\n",
    "  sum = 0\n",
    "  for n in numbers:\n",
    "    sum += n\n",
    "  \n",
    "  return sum"
   ]
  },
  {
   "cell_type": "code",
   "execution_count": 13,
   "metadata": {},
   "outputs": [
    {
     "data": {
      "text/plain": [
       "6"
      ]
     },
     "execution_count": 13,
     "metadata": {},
     "output_type": "execute_result"
    }
   ],
   "source": [
    "sum_numbers(1, 2, 3)"
   ]
  },
  {
   "cell_type": "code",
   "execution_count": 14,
   "metadata": {},
   "outputs": [
    {
     "data": {
      "text/plain": [
       "30"
      ]
     },
     "execution_count": 14,
     "metadata": {},
     "output_type": "execute_result"
    }
   ],
   "source": [
    "sum_numbers(2, 4, 6, 8, 10)"
   ]
  },
  {
   "cell_type": "markdown",
   "metadata": {},
   "source": [
    "#### Número arbitrtario de claves de argumento\n",
    "\n",
    "Hasta ahora hemos visto que al pasar valores por parámetro a la función, podemos hacerlo con la sintaxis `clave_argumento = valor` o directamente pasar por parámetro el valor siguiendo el orden posicional de la definición de la función."
   ]
  },
  {
   "cell_type": "code",
   "execution_count": 15,
   "metadata": {},
   "outputs": [],
   "source": [
    "def complete_name( name: str, surname: str ) -> None:\n",
    "  print(f'El nombre completo es {name} {surname}')"
   ]
  },
  {
   "cell_type": "code",
   "execution_count": 16,
   "metadata": {},
   "outputs": [
    {
     "name": "stdout",
     "output_type": "stream",
     "text": [
      "El nombre completo es María Santos\n"
     ]
    }
   ],
   "source": [
    "complete_name(name='María', surname='Santos')"
   ]
  },
  {
   "cell_type": "markdown",
   "metadata": {},
   "source": [
    "En realidad, los nombres completos pueden tener dos o incluso más apellidos, pero no sabemos si el usuario tiene 1 o 2 o más. Entonces, podemos añadir dos asteriscos `**` antes del nombre del parámetro para así poder introducir tantos como queramos sin que salte error."
   ]
  },
  {
   "cell_type": "code",
   "execution_count": 17,
   "metadata": {},
   "outputs": [],
   "source": [
    "def complete_name( name: str, **surname: str ) -> None:\n",
    "  print(f'El nombre completo es name', end=' ')\n",
    "  for i in surname.items():\n",
    "    print(f'{i[1]}', end=' ')"
   ]
  },
  {
   "cell_type": "code",
   "execution_count": 18,
   "metadata": {},
   "outputs": [
    {
     "name": "stdout",
     "output_type": "stream",
     "text": [
      "El nombre completo es name Santos Fernández "
     ]
    }
   ],
   "source": [
    "complete_name(name='María', surname1='Santos', surname2='Fernández')"
   ]
  },
  {
   "cell_type": "code",
   "execution_count": 19,
   "metadata": {},
   "outputs": [
    {
     "name": "stdout",
     "output_type": "stream",
     "text": [
      "El nombre completo es name Santos "
     ]
    }
   ],
   "source": [
    "complete_name(name='María', surname='Santos')"
   ]
  },
  {
   "cell_type": "markdown",
   "metadata": {},
   "source": [
    "#### Parámetros por defecto\n",
    "\n",
    "Hemos visto que una función en `Python` puede tener o no parámetros.\n",
    "\n",
    "En caso de tener, podemos indicar que alguno tenga un valor por defecto.\n",
    "\n",
    "La función `diff()` calcula la diferencia entre los dos números que introducimos por parámetros. Podemos hacer que el sustraendo por defecto valga 1 del siguiente modo:"
   ]
  },
  {
   "cell_type": "code",
   "execution_count": 20,
   "metadata": {},
   "outputs": [],
   "source": [
    "def diff( x, y = 1):\n",
    "  return x - y"
   ]
  },
  {
   "cell_type": "markdown",
   "metadata": {},
   "source": [
    "Si ahora llamamos a la función indicando únicamente el valor del parámetro `x`, ocurre lo siguiente:"
   ]
  },
  {
   "cell_type": "code",
   "execution_count": 21,
   "metadata": {},
   "outputs": [
    {
     "data": {
      "text/plain": [
       "19"
      ]
     },
     "execution_count": 21,
     "metadata": {},
     "output_type": "execute_result"
    }
   ],
   "source": [
    "diff(x = 20)"
   ]
  },
  {
   "cell_type": "markdown",
   "metadata": {},
   "source": [
    "Como resultado hemos obtenido 19, ya que el valor que ha tomado el parámetro `y` ha sido el que le hemos dicho que tome por defecto, es decir, y = 1, consecuentemente x - y = 20 - 1 = 19"
   ]
  },
  {
   "attachments": {},
   "cell_type": "markdown",
   "metadata": {},
   "source": [
    "#### Docstring\n",
    "\n",
    "**Docstring.** Son comentarios explicativos que ayudan a comprender el funcionamiento de una función.\n",
    "\n",
    "* Van entre triple comilla doble.\n",
    "* Pueden ser multilínea.\n",
    "* Se sitúan al principio de la definición de la función.\n",
    "\n",
    "Retomando el ejemplo de la división entera, podríamos utilizar doctring del siguiente modo:"
   ]
  },
  {
   "cell_type": "code",
   "execution_count": 1,
   "metadata": {},
   "outputs": [],
   "source": [
    "def euclidean_division( x, y ) -> None:\n",
    "  \"\"\"\n",
    "  Esta función calcula el cociente y el resto de la división entera de x entre y\n",
    "\n",
    "  Args:\n",
    "    x (int): dividendo\n",
    "    y (int): divisor\n",
    "\n",
    "  Returns:\n",
    "    (q, r): tupla con el valor de (cociente, resto)\n",
    "  \"\"\"\n",
    "  q = x // y\n",
    "  r = x % y\n",
    "  return q, r"
   ]
  },
  {
   "attachments": {},
   "cell_type": "markdown",
   "metadata": {},
   "source": [
    "Con la ayuda del método `.__doc__` podemos acceder directamente a la información indicada en el docstring de una función."
   ]
  },
  {
   "cell_type": "code",
   "execution_count": 2,
   "metadata": {},
   "outputs": [
    {
     "name": "stdout",
     "output_type": "stream",
     "text": [
      "\n",
      "  Esta función calcula el cociente y el resto de la división entera de x entre y\n",
      "\n",
      "  Args:\n",
      "    x (int): dividendo\n",
      "    y (int): divisor\n",
      "\n",
      "  Returns:\n",
      "    (q, r): tupla con el valor de (cociente, resto)\n",
      "  \n"
     ]
    }
   ],
   "source": [
    "print( euclidean_division.__doc__ )"
   ]
  },
  {
   "cell_type": "markdown",
   "metadata": {},
   "source": [
    "#### Variables de una función\n",
    "\n",
    "Dentro de una función `Python` existen dos tipos de variables:\n",
    "\n",
    "* **Variable local.** Aquella que es creada y solamente existe dentro de la función.\n",
    "* **Variable global.** Aquella que es creada en el entorno global.\n",
    "\n",
    "Dada la siguiente función:"
   ]
  },
  {
   "cell_type": "code",
   "execution_count": 3,
   "metadata": {},
   "outputs": [],
   "source": [
    "def arithmetic_operations( x: int, y: int ) -> None:\n",
    "  sum = x + y\n",
    "  diff = x - y\n",
    "  prod = x * y\n",
    "  div = x / y\n",
    "  return {\n",
    "    'sum': sum,\n",
    "    'difference': diff,\n",
    "    'product': prod,\n",
    "    'division': div\n",
    "  }"
   ]
  },
  {
   "cell_type": "markdown",
   "metadata": {},
   "source": [
    "Si nosotros queremos imprimir por ejemplo el valor que toma la variable `prod` en el entorno global nos saltará un error, pues esta variable no existe a nivel global porque no ha sido declarada en dicho entorno ya que solamente ha sido declarada a nivel local, dentro de la función `arithmetic_operations()`."
   ]
  },
  {
   "cell_type": "code",
   "execution_count": 4,
   "metadata": {},
   "outputs": [
    {
     "name": "stdout",
     "output_type": "stream",
     "text": [
      "{'sum': 8, 'difference': 2, 'product': 15, 'division': 1.6666666666666667}\n"
     ]
    }
   ],
   "source": [
    "print( arithmetic_operations(x = 5, y = 3) )"
   ]
  },
  {
   "cell_type": "code",
   "execution_count": 5,
   "metadata": {},
   "outputs": [
    {
     "ename": "NameError",
     "evalue": "name 'prod' is not defined",
     "output_type": "error",
     "traceback": [
      "\u001b[1;31m---------------------------------------------------------------------------\u001b[0m",
      "\u001b[1;31mNameError\u001b[0m                                 Traceback (most recent call last)",
      "Cell \u001b[1;32mIn[5], line 1\u001b[0m\n\u001b[1;32m----> 1\u001b[0m \u001b[39mprint\u001b[39m(prod)\n",
      "\u001b[1;31mNameError\u001b[0m: name 'prod' is not defined"
     ]
    }
   ],
   "source": [
    "print(prod)"
   ]
  },
  {
   "cell_type": "markdown",
   "metadata": {},
   "source": [
    "Si se diese el caso de que sí hubiese sido definida la variable `prod` en el entorno global, como lo que ocurre en el siguiente bloque de código, por mucho que la variable local tenga el mismo nombre y por mucho que ejecutemos la función, el valor de la variable global no se ve modificado."
   ]
  },
  {
   "cell_type": "code",
   "execution_count": 6,
   "metadata": {},
   "outputs": [
    {
     "name": "stdout",
     "output_type": "stream",
     "text": [
      "{'sum': 8, 'difference': 2, 'product': 15, 'division': 1.6666666666666667}\n",
      "10\n"
     ]
    }
   ],
   "source": [
    "prod = 10\n",
    "print( arithmetic_operations(x = 5, y = 3) )\n",
    "print( prod )"
   ]
  },
  {
   "cell_type": "markdown",
   "metadata": {},
   "source": [
    "Si dentro de una función utilizamos la palabra reservada `global` a una variable local, ésta automáticamente pasa a ser una variable global previamente definida.\n",
    "\n",
    "Veamos un ejemplo de función que nos devuelva el siguiente número del entero `n` definido en el entorno global."
   ]
  },
  {
   "cell_type": "code",
   "execution_count": 7,
   "metadata": {},
   "outputs": [
    {
     "data": {
      "text/plain": [
       "8"
      ]
     },
     "execution_count": 7,
     "metadata": {},
     "output_type": "execute_result"
    }
   ],
   "source": [
    "n = 7\n",
    "\n",
    "def next_n():\n",
    "  global n\n",
    "  return n + 1\n",
    "\n",
    "next_n()"
   ]
  },
  {
   "cell_type": "markdown",
   "metadata": {},
   "source": [
    "#### Paso por copia vs. paso por referencia\n",
    "\n",
    "Dependiendo de ltipo de dato que pasemos por parámetro a la función, podemos diferenciar entre\n",
    "\n",
    "* **Paso por copia.** Se crea una copia local de la variable dentro de la función.\n",
    "* **Paso por referencia.** Se maneja directamente la variable y los cambios realizados dentro de la función afectan también a nivel global.\n",
    "\n",
    "En general, los tipos de datos básicos como enteros, en coma flotante, strings o booleanos se pasan por copia, mientras que estructuras de datos como listas, diccionarios, conjuntos o tuplas u otros objetos se pasan por referencia.\n",
    "\n",
    "Un ejemplo de paso por copia sería."
   ]
  },
  {
   "cell_type": "code",
   "execution_count": 1,
   "metadata": {},
   "outputs": [],
   "source": [
    "def double_value(n):\n",
    "  return n * 2"
   ]
  },
  {
   "cell_type": "code",
   "execution_count": 2,
   "metadata": {},
   "outputs": [
    {
     "name": "stdout",
     "output_type": "stream",
     "text": [
      "10\n",
      "5\n"
     ]
    }
   ],
   "source": [
    "num = 5\n",
    "print( double_value(num) )\n",
    "print( num )"
   ]
  },
  {
   "cell_type": "markdown",
   "metadata": {},
   "source": [
    "Un ejemplo de paso por referencia sería"
   ]
  },
  {
   "cell_type": "code",
   "execution_count": 5,
   "metadata": {},
   "outputs": [],
   "source": [
    "def double_values( ns: list[int] ):\n",
    "  for i, n in enumerate(ns):\n",
    "    ns[i] *= 2\n",
    "  \n",
    "  return ns"
   ]
  },
  {
   "cell_type": "code",
   "execution_count": 6,
   "metadata": {},
   "outputs": [
    {
     "name": "stdout",
     "output_type": "stream",
     "text": [
      "[2, 4, 6, 8, 10]\n",
      "[2, 4, 6, 8, 10]\n"
     ]
    }
   ],
   "source": [
    "nums = [1, 2, 3, 4, 5]\n",
    "print( double_values( nums ) )\n",
    "print( nums )"
   ]
  },
  {
   "cell_type": "markdown",
   "metadata": {},
   "source": [
    "Para evitar la modificación de la lista original, podemos hacerlo introduciendo por parámetro una copia de dicha lista"
   ]
  },
  {
   "cell_type": "code",
   "execution_count": 7,
   "metadata": {},
   "outputs": [
    {
     "name": "stdout",
     "output_type": "stream",
     "text": [
      "[2, 4, 6, 8, 10]\n",
      "[1, 2, 3, 4, 5]\n"
     ]
    }
   ],
   "source": [
    "nums = [1, 2, 3, 4, 5]\n",
    "print( double_values(nums[:]) )\n",
    "print( nums )"
   ]
  },
  {
   "cell_type": "markdown",
   "metadata": {},
   "source": [
    "#### Funciones más complejas\n",
    "\n",
    "Las funciones pueden ser más complejas, pues admiten tanto operadores de decisión como de iteración.\n",
    "\n",
    "Volviendo al ejemplo 4, la función creada claramente es muy sencilla, pues suponemos que el usuario va a introducir por parámetros números enteros, siendo el primero mayor o igual en valor absoluto al segundo.\n",
    "\n",
    "**Ejercicio**. Mejora la función `euclidean_division()` para que\n",
    "\n",
    "* Compruebe que los números introducidos son enteros. En caso de no ser así, indicar que se ha tomado la parte entera de los valores introducidos.\n",
    "* Realice la división entera del mayor parámetro (en valor absoluto) entre el menor parámetro. Esto es, si el usuario introduce `x = -2` e `y = -10`, como 10 > 2, entonces la función debe llevar a cabo la división entera de -10 entre -2.\n",
    "* Imprima por pantalla una frase indicando la división realizada y el cociente y el resto obtenidos.\n",
    "* Devuelva el cociente y el resto a modo de tupla."
   ]
  },
  {
   "cell_type": "code",
   "execution_count": 10,
   "metadata": {},
   "outputs": [],
   "source": [
    "def euclidean_division( x, y ):\n",
    "  ints = (x == int(x)) and (y == int(y))\n",
    "\n",
    "  if not ints:\n",
    "    x = int(x)\n",
    "    y = int(y)\n",
    "    print('Se tomarán como parámetros la parte entera de los valores introducidos')\n",
    "\n",
    "  if abs(x) >= abs(y):\n",
    "    q = x // y\n",
    "    r = x % y\n",
    "    print(f'Se ha realizado la división {x} entre {y} y se ha obtenido como cociente q = {q} y como resto, r = {r}')\n",
    "\n",
    "  else:\n",
    "    q = y // x\n",
    "    r = y % x\n",
    "    print(f'Se ha realizado la división {y} entre {x} y se ha obtenido como cociente q = {q} t como resto, r = {r}')\n",
    "  \n",
    "  return q, r"
   ]
  },
  {
   "cell_type": "code",
   "execution_count": 11,
   "metadata": {},
   "outputs": [
    {
     "name": "stdout",
     "output_type": "stream",
     "text": [
      "Se tomarán como parámetros la parte entera de los valores introducidos\n",
      "Se ha realizado la división -10 entre -5 y se ha obtenido como cociente q = 2 y como resto, r = 0\n"
     ]
    }
   ],
   "source": [
    "quotient, remainder = euclidean_division( x = -10.3, y = -5 )"
   ]
  },
  {
   "cell_type": "code",
   "execution_count": 12,
   "metadata": {},
   "outputs": [
    {
     "data": {
      "text/plain": [
       "True"
      ]
     },
     "execution_count": 12,
     "metadata": {},
     "output_type": "execute_result"
    }
   ],
   "source": [
    "-10 == -5 * quotient + remainder"
   ]
  },
  {
   "cell_type": "code",
   "execution_count": 13,
   "metadata": {},
   "outputs": [
    {
     "name": "stdout",
     "output_type": "stream",
     "text": [
      "Se ha realizado la división 19 entre -3 y se ha obtenido como cociente q = -7 t como resto, r = -2\n"
     ]
    },
    {
     "data": {
      "text/plain": [
       "(-7, -2)"
      ]
     },
     "execution_count": 13,
     "metadata": {},
     "output_type": "execute_result"
    }
   ],
   "source": [
    "euclidean_division(x = -3, y = 19)"
   ]
  },
  {
   "cell_type": "markdown",
   "metadata": {},
   "source": [
    "#### Ejemplo 5\n",
    "\n",
    "Veamos una función que dado un número, nos dice si éste es positivo, negativo o vale 0"
   ]
  },
  {
   "cell_type": "code",
   "execution_count": 14,
   "metadata": {},
   "outputs": [],
   "source": [
    "def sign( num: int ) -> str:\n",
    "  if num > 0:\n",
    "    return 'Positivo'\n",
    "  elif num < 0:\n",
    "    return 'Negativo'\n",
    "  else:\n",
    "    return 'Cero'"
   ]
  },
  {
   "cell_type": "code",
   "execution_count": 15,
   "metadata": {},
   "outputs": [
    {
     "name": "stdout",
     "output_type": "stream",
     "text": [
      "Positivo\n"
     ]
    }
   ],
   "source": [
    "print( sign( num = 23 ) )"
   ]
  },
  {
   "cell_type": "code",
   "execution_count": 16,
   "metadata": {},
   "outputs": [
    {
     "name": "stdout",
     "output_type": "stream",
     "text": [
      "Negativo\n"
     ]
    }
   ],
   "source": [
    "print( sign( num = -100 ) )"
   ]
  },
  {
   "cell_type": "code",
   "execution_count": 17,
   "metadata": {},
   "outputs": [
    {
     "name": "stdout",
     "output_type": "stream",
     "text": [
      "Cero\n"
     ]
    }
   ],
   "source": [
    "print( sign( 0 ) )"
   ]
  },
  {
   "cell_type": "markdown",
   "metadata": {},
   "source": [
    "#### Funciones recursivas\n",
    "\n",
    "**Función recursiva**. Es una función que se llama a sí misma.\n",
    "\n",
    "**¡Cuidado!** Hay que tener mucho cuidado con este tipo de funciones porque podemos caer en un bucle infinito. Es decir, que la función no acabara nunca de ejecutarse.\n",
    "\n",
    "Una función recursiva que entraría en bucle infinito sería la sigueinte."
   ]
  },
  {
   "cell_type": "code",
   "execution_count": null,
   "metadata": {},
   "outputs": [],
   "source": [
    "def powers(x, n):\n",
    "  print( x ** n )\n",
    "  powers(x, n + 1)"
   ]
  },
  {
   "cell_type": "markdown",
   "metadata": {},
   "source": [
    "¿Por qué decimos que entra en un bucle infinito? Pues porque solo parará si nosotros interrumpimos la ejecución.\n",
    "\n",
    "Esto se debe a que no le hemos indicado un caso de parada a la función, denominado caso final.\n",
    "\n",
    "**Caso final**. Es el caso que indica cuándo debe romperse la recursión. Hay que indicarlo siempre para no caer en un bucle infinito.\n",
    "\n",
    "En el caso de la función `powers()`, podemos indicar como caso final cuando el valor resultante supere 100000. Lo indicamos con un `if`."
   ]
  },
  {
   "cell_type": "code",
   "execution_count": 29,
   "metadata": {},
   "outputs": [],
   "source": [
    "def powers( x: int, n: int ) -> int:\n",
    "  if x ** n > 100000:\n",
    "    return x ** n\n",
    "  \n",
    "  print( x ** n )\n",
    "  powers( x, n + 1 )"
   ]
  },
  {
   "cell_type": "code",
   "execution_count": 30,
   "metadata": {},
   "outputs": [
    {
     "name": "stdout",
     "output_type": "stream",
     "text": [
      "2\n",
      "4\n",
      "8\n",
      "16\n",
      "32\n",
      "64\n",
      "128\n",
      "256\n",
      "512\n",
      "1024\n",
      "2048\n",
      "4096\n",
      "8192\n",
      "16384\n",
      "32768\n",
      "65536\n"
     ]
    }
   ],
   "source": [
    "powers(2, 1)"
   ]
  },
  {
   "cell_type": "markdown",
   "metadata": {},
   "source": [
    "#### Funciones helper\n",
    "\n",
    "Al igual que las funciones pueden llamarse a sí mismas, también pueden llamar a otras funciones.\n",
    "\n",
    "**Función helper**. Es una función cuyo propósito es evitar la repetición de código.\n",
    "\n",
    "Si nos dan la siguiente función."
   ]
  },
  {
   "cell_type": "code",
   "execution_count": 31,
   "metadata": {},
   "outputs": [],
   "source": [
    "def sign_sum( x, y ):\n",
    "  if x + y > 0:\n",
    "    print(f'El resultado de sumar {x} más {y} es positivo')\n",
    "  elif x + y == 0:\n",
    "    print(f'El resultado de sumar {x} más {y} es cero')\n",
    "  else:\n",
    "    print(f'El resultado de sumar {x} más {y} es negativo')"
   ]
  },
  {
   "cell_type": "code",
   "execution_count": 32,
   "metadata": {},
   "outputs": [
    {
     "name": "stdout",
     "output_type": "stream",
     "text": [
      "El resultado de sumar 5 más 4 es positivo\n",
      "El resultado de sumar 3 más -3 es cero\n",
      "El resultado de sumar 1 más -8 es negativo\n"
     ]
    }
   ],
   "source": [
    "sign_sum(5, 4)\n",
    "sign_sum(3, -3)\n",
    "sign_sum(1, -8)"
   ]
  },
  {
   "cell_type": "markdown",
   "metadata": {},
   "source": [
    "Vemos que el `print` se repite salvo por la última palabra.\n",
    "\n",
    "Podríamos pensar en crear la función helper siguiente:"
   ]
  },
  {
   "cell_type": "code",
   "execution_count": 35,
   "metadata": {},
   "outputs": [],
   "source": [
    "def helper_print(x: int, y: int, sign: str) -> None:\n",
    "  print(f'El resultado de sumar {x} más {y} es {sign}')"
   ]
  },
  {
   "cell_type": "markdown",
   "metadata": {},
   "source": [
    "Si utilizamos la función helper, la función `sign_sum()` quedaría modificada del siguiente modo:"
   ]
  },
  {
   "cell_type": "code",
   "execution_count": 36,
   "metadata": {},
   "outputs": [],
   "source": [
    "def sign_sum(x, y):\n",
    "  if x + y > 0:\n",
    "    helper_print(x, y, 'positivo')\n",
    "  elif x + y == 0:\n",
    "    helper_print(x, y, 'cero')\n",
    "  else:\n",
    "    helper_print(x, y, 'negativo')"
   ]
  },
  {
   "cell_type": "code",
   "execution_count": 37,
   "metadata": {},
   "outputs": [
    {
     "name": "stdout",
     "output_type": "stream",
     "text": [
      "El resultado de sumar 5 más 4 es positivo\n",
      "El resultado de sumar 3 más -3 es cero\n",
      "El resultado de sumar 1 más -8 es negativo\n"
     ]
    }
   ],
   "source": [
    "sign_sum(5, 4)\n",
    "sign_sum(3, -3)\n",
    "sign_sum(1, -8)"
   ]
  },
  {
   "cell_type": "markdown",
   "metadata": {},
   "source": [
    "Con lo cual ya no hay código repetido.\n",
    "\n",
    "Y com ose puede observar, la función original funciona correctamente."
   ]
  },
  {
   "cell_type": "markdown",
   "metadata": {},
   "source": []
  }
 ],
 "metadata": {
  "kernelspec": {
   "display_name": "Python 3",
   "language": "python",
   "name": "python3"
  },
  "language_info": {
   "codemirror_mode": {
    "name": "ipython",
    "version": 3
   },
   "file_extension": ".py",
   "mimetype": "text/x-python",
   "name": "python",
   "nbconvert_exporter": "python",
   "pygments_lexer": "ipython3",
   "version": "3.10.6 (main, Nov 14 2022, 16:10:14) [GCC 11.3.0]"
  },
  "orig_nbformat": 4,
  "vscode": {
   "interpreter": {
    "hash": "916dbcbb3f70747c44a77c7bcd40155683ae19c65e1c03b4aa3499c5328201f1"
   }
  }
 },
 "nbformat": 4,
 "nbformat_minor": 2
}
