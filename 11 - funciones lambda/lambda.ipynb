{
 "cells": [
  {
   "cell_type": "markdown",
   "metadata": {},
   "source": [
    "## Funciones `lambda` "
   ]
  },
  {
   "cell_type": "markdown",
   "metadata": {},
   "source": [
    "#### Funciones `lambda`\n",
    "\n",
    "Son un tipo especial de funciones de `Python` que tiene la sintaxis siguiente"
   ]
  },
  {
   "cell_type": "code",
   "execution_count": null,
   "metadata": {},
   "outputs": [],
   "source": [
    "lambda parámetros: expresión"
   ]
  },
  {
   "cell_type": "markdown",
   "metadata": {},
   "source": [
    "* Son útiles para ejecutar funcioens en una sola línea.\n",
    "* Pueden tomar cualquier número de argumentos\n",
    "* Tienen una limitación: solamente pueden contener una expresión.\n",
    "\n",
    "Veamos algunos ejemplos:\n",
    "\n",
    "___"
   ]
  },
  {
   "cell_type": "markdown",
   "metadata": {},
   "source": [
    "#### Ejemplo 1\n",
    "\n",
    "Función que dado un número, le sume 10 puntos más:"
   ]
  },
  {
   "cell_type": "code",
   "execution_count": 1,
   "metadata": {},
   "outputs": [
    {
     "data": {
      "text/plain": [
       "15"
      ]
     },
     "execution_count": 1,
     "metadata": {},
     "output_type": "execute_result"
    }
   ],
   "source": [
    "plus10 = lambda x: x + 10\n",
    "plus10(5)"
   ]
  },
  {
   "cell_type": "markdown",
   "metadata": {},
   "source": [
    "#### Ejemplo 2\n",
    "\n",
    "Función que calcula el producto de dos números:"
   ]
  },
  {
   "cell_type": "code",
   "execution_count": 2,
   "metadata": {},
   "outputs": [],
   "source": [
    "prod = lambda x, y: x * y"
   ]
  },
  {
   "cell_type": "code",
   "execution_count": 3,
   "metadata": {},
   "outputs": [
    {
     "data": {
      "text/plain": [
       "50"
      ]
     },
     "execution_count": 3,
     "metadata": {},
     "output_type": "execute_result"
    }
   ],
   "source": [
    "prod(5, 10)"
   ]
  },
  {
   "cell_type": "markdown",
   "metadata": {},
   "source": [
    "#### Ejemplo 3\n",
    "\n",
    "Función que dados 3 números, calcula el discriminante de la ecuación de segundo grado."
   ]
  },
  {
   "cell_type": "code",
   "execution_count": 4,
   "metadata": {},
   "outputs": [],
   "source": [
    "discriminante = lambda a, b, c: b ** 2 - 4 * a * c\n",
    "discriminante( 1, 2, 1 ) # Se corresponde a la ecuación x^2 + 2x + 1 = 0, cuya única solución"
   ]
  },
  {
   "cell_type": "markdown",
   "metadata": {},
   "source": [
    "#### La función `filter()`\n",
    "\n",
    "* Aplica una función a todos los elementos de un objeto iterable.\n",
    "* Devuelve un objeto generador, de ahí usamos la función `list()` para convertirlo a lista.\n",
    "* Como output, devuelve los elementos para los cuales el aplica la función ha devuelto `True`\n",
    "\n",
    "Con la ayuda de las funciones `lambda`, apliquemos `filter()` para quedarnos con los números múltiplos de 7 de la siguiente lista llamada `nums`"
   ]
  },
  {
   "cell_type": "code",
   "execution_count": 5,
   "metadata": {},
   "outputs": [
    {
     "data": {
      "text/plain": [
       "[49, 147]"
      ]
     },
     "execution_count": 5,
     "metadata": {},
     "output_type": "execute_result"
    }
   ],
   "source": [
    "nums = [ 49, 57, 62, 147, 2101, 22 ]\n",
    "list( filter( lambda x: (x % 7 == 0), nums ) )"
   ]
  },
  {
   "cell_type": "markdown",
   "metadata": {},
   "source": [
    "La función proporcionada a `filter()` no tiene por qué ser `lambda`, sino que puede ser una ya existente, o bien una creada por nosotros mismos.\n",
    "\n",
    "Con las siguientes líneas de código vamos a obtener todas las palabra cuya tercera letra sea `s` haciendo uso de `filter()` y la función creada `third_letter_is_s()`:"
   ]
  },
  {
   "cell_type": "code",
   "execution_count": 6,
   "metadata": {},
   "outputs": [],
   "source": [
    "def third_letter_is_s( word: str ) -> bool:\n",
    "  return word[2] == 's'"
   ]
  },
  {
   "cell_type": "code",
   "execution_count": 7,
   "metadata": {},
   "outputs": [
    {
     "data": {
      "text/plain": [
       "['castaña', 'masa', 'tostada']"
      ]
     },
     "execution_count": 7,
     "metadata": {},
     "output_type": "execute_result"
    }
   ],
   "source": [
    "words: list[str] = [ 'castaña', 'astronomía', 'masa', 'bolígrafo', 'mando', 'tostada' ]\n",
    "list( filter( third_letter_is_s, words ) )"
   ]
  },
  {
   "cell_type": "markdown",
   "metadata": {},
   "source": [
    "#### La función `reduce()`\n",
    "\n",
    "* Aplica continuamente uan misma función a los elementos de un iterable.\n",
    "\n",
    "  1. Aplica la función a los primeros dos elementos.\n",
    "  2. Aplica la función al resultado del paso anterior y el tercer elemento.\n",
    "  3. Aplica la función al resultado del paso anterior y el cuarto elemento.\n",
    "  4. Sigue así hasta que solo queda un elemento.\n",
    "\n",
    "* Devuelve el valor resultantet.\n",
    "\n",
    "Con la ayuda de las funciones `lambda`, apliquemos `reduce()` para calcular el producto de todos los elementos de una lista."
   ]
  },
  {
   "cell_type": "code",
   "execution_count": 9,
   "metadata": {},
   "outputs": [],
   "source": [
    "from functools import reduce"
   ]
  },
  {
   "cell_type": "code",
   "execution_count": 11,
   "metadata": {},
   "outputs": [
    {
     "data": {
      "text/plain": [
       "720"
      ]
     },
     "execution_count": 11,
     "metadata": {},
     "output_type": "execute_result"
    }
   ],
   "source": [
    "nums = [ 1, 2, 3, 4, 5, 6 ]\n",
    "reduce( lambda x, y: x * y, nums)"
   ]
  },
  {
   "cell_type": "markdown",
   "metadata": {},
   "source": [
    "De nuevo, la función proporcionada a `reduce()` no tiene por qué ser `lambda`, sino que puede ser una ya existente o bien una creada por nosotros mismos.\n",
    "\n",
    "Con las siguientes líneas de código, vamos a obtener el máximo de una lista dada, haciendo uso de `reduce()` y la función creada `bigger_than()`:"
   ]
  },
  {
   "cell_type": "code",
   "execution_count": 12,
   "metadata": {},
   "outputs": [],
   "source": [
    "def bigger_than( a, b ):\n",
    "  if a > b:\n",
    "    return a\n",
    "  return b"
   ]
  },
  {
   "cell_type": "code",
   "execution_count": 13,
   "metadata": {},
   "outputs": [
    {
     "data": {
      "text/plain": [
       "14"
      ]
     },
     "execution_count": 13,
     "metadata": {},
     "output_type": "execute_result"
    }
   ],
   "source": [
    "bigger_than(14, 7)"
   ]
  },
  {
   "cell_type": "code",
   "execution_count": 14,
   "metadata": {},
   "outputs": [
    {
     "data": {
      "text/plain": [
       "33"
      ]
     },
     "execution_count": 14,
     "metadata": {},
     "output_type": "execute_result"
    }
   ],
   "source": [
    "nums = [ -10, 5, 7, -3, 16, -30, 2, 33 ]\n",
    "reduce( bigger_than, nums)"
   ]
  },
  {
   "cell_type": "markdown",
   "metadata": {},
   "source": [
    "#### La función `map()`\n",
    "\n",
    "* Aplica una misma función a todos los elementos de un objeto iterable.\n",
    "* Devuelve un objeto como generador, de ahí que usemos la función `list()` para convertirlo a lista.\n",
    "* Como output, devuelve el resultatdo de aplicar la función a cada elemento.\n",
    "\n",
    "Con la ayuda de las funciones `lambda`, apliquemos `map()` para calcular las longitudes de las siguientes palabras."
   ]
  },
  {
   "cell_type": "code",
   "execution_count": 15,
   "metadata": {},
   "outputs": [
    {
     "data": {
      "text/plain": [
       "[6, 5, 4, 5, 8, 6]"
      ]
     },
     "execution_count": 15,
     "metadata": {},
     "output_type": "execute_result"
    }
   ],
   "source": [
    "words: list[str] = [ 'zapato', 'amigo', 'yoyo', 'barco', 'xilófono', 'césped' ]\n",
    "list( map( lambda w: len(w), words ))"
   ]
  },
  {
   "cell_type": "markdown",
   "metadata": {},
   "source": [
    "Sin embargo, para este caso en concreto no haría falta usar funciones `lambda`, pues podríamos hacer directamente."
   ]
  },
  {
   "cell_type": "code",
   "execution_count": 16,
   "metadata": {},
   "outputs": [
    {
     "data": {
      "text/plain": [
       "[6, 5, 4, 5, 8, 6]"
      ]
     },
     "execution_count": 16,
     "metadata": {},
     "output_type": "execute_result"
    }
   ],
   "source": [
    "list( map( len, words ))"
   ]
  },
  {
   "cell_type": "markdown",
   "metadata": {},
   "source": [
    "#### La función `sorted()`\n",
    "\n",
    "* Ordena los elementos del objeto iterable que indiquemos de acuerdo a la función que pasemos por parámetro.\n",
    "* Como output, devuelve una permutación del objeto iterable ordenado según la función indicada.\n",
    "\n",
    "Con la ayuda de las funciones `lambda`, apliquemos `sorted()` para obtener la lista `words` en función de las longitudes de las palabras en orden descendente."
   ]
  },
  {
   "cell_type": "markdown",
   "metadata": {},
   "source": []
  },
  {
   "cell_type": "code",
   "execution_count": 17,
   "metadata": {},
   "outputs": [
    {
     "data": {
      "text/plain": [
       "['xilófono', 'zapato', 'césped', 'amigo', 'barco', 'yoyo']"
      ]
     },
     "execution_count": 17,
     "metadata": {},
     "output_type": "execute_result"
    }
   ],
   "source": [
    "words = [ 'zapato', 'amigo', 'yoyo', 'barco', 'xilófono', 'césped' ]\n",
    "sorted( words, key = lambda x: len(x), reverse = True )"
   ]
  },
  {
   "cell_type": "markdown",
   "metadata": {},
   "source": [
    "De nuevo, así podríamso en este caso evitar el uso de las funciones `lambda` haciendo uso del siguiente código."
   ]
  },
  {
   "cell_type": "code",
   "execution_count": 18,
   "metadata": {},
   "outputs": [
    {
     "data": {
      "text/plain": [
       "['xilófono', 'zapato', 'césped', 'amigo', 'barco', 'yoyo']"
      ]
     },
     "execution_count": 18,
     "metadata": {},
     "output_type": "execute_result"
    }
   ],
   "source": [
    "sorted( words, key = len, reverse = True)"
   ]
  },
  {
   "cell_type": "markdown",
   "metadata": {},
   "source": [
    "**Observación**. Si quisiésemos ordenar en orden ascendente, simplemente tendríamos que indicar `reverse = False`, que al ser el valor por defecto, bastaría con omitir dicho parámetro.\n",
    "\n",
    "**Observación**. Si el tipo de objeto a ser ordenado es un string y no indicamos parámetro `key`, entonces se ordenan por defecto: orden alfabético ascendente."
   ]
  },
  {
   "cell_type": "code",
   "execution_count": 19,
   "metadata": {},
   "outputs": [
    {
     "data": {
      "text/plain": [
       "['yoyo', 'amigo', 'barco', 'zapato', 'césped', 'xilófono']"
      ]
     },
     "execution_count": 19,
     "metadata": {},
     "output_type": "execute_result"
    }
   ],
   "source": [
    "sorted(words, key = len)"
   ]
  },
  {
   "cell_type": "code",
   "execution_count": 20,
   "metadata": {},
   "outputs": [
    {
     "data": {
      "text/plain": [
       "['amigo', 'barco', 'césped', 'xilófono', 'yoyo', 'zapato']"
      ]
     },
     "execution_count": 20,
     "metadata": {},
     "output_type": "execute_result"
    }
   ],
   "source": [
    "sorted(words)"
   ]
  },
  {
   "cell_type": "code",
   "execution_count": null,
   "metadata": {},
   "outputs": [],
   "source": []
  }
 ],
 "metadata": {
  "kernelspec": {
   "display_name": "Python 3.11.0 64-bit",
   "language": "python",
   "name": "python3"
  },
  "language_info": {
   "codemirror_mode": {
    "name": "ipython",
    "version": 3
   },
   "file_extension": ".py",
   "mimetype": "text/x-python",
   "name": "python",
   "nbconvert_exporter": "python",
   "pygments_lexer": "ipython3",
   "version": "3.11.0"
  },
  "orig_nbformat": 4,
  "vscode": {
   "interpreter": {
    "hash": "72b2382ece9768098284d92bbc69d35954e75b60d1e25897d1389c232f4796f0"
   }
  }
 },
 "nbformat": 4,
 "nbformat_minor": 2
}
