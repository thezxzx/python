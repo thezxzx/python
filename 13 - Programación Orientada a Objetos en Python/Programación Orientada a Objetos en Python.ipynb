{
 "cells": [
  {
   "cell_type": "markdown",
   "metadata": {},
   "source": [
    "#### Clases\n",
    "\n",
    "**Clase**. Una clase es una plantilla para crear objetos. Las clases contienen la definición de los objetos con los que trabajamos y definen sus propiedades (**atributos**) además de especificar las modificaciones que se pueden hacer a esos objetos (**métodos**).\n",
    "\n",
    "Cada vez que construimos un objeto de una clase, estamos creando una instancia de dicha clase.\n",
    "\n",
    "**Objeto**. Es la instancia de una clase y consta de:\n",
    "\n",
    "* **Estado**. Representado por los atributos del objeto, que reflejan sus propiedades.\n",
    "* **Comportamiento**. Representado por los métodos del objeto, que reflejan su respuesta a otros objetos.\n",
    "* **Identidad**. Cada objeto tiene un nombre único que le permite interactuar con otros objetos.\n",
    "\n",
    "Las clases son fundamentales para lenguajes de programación orientada a objetos, como por ejemplo `Python`.\n",
    "\n",
    "En definitiva, una clase es una plantilla y una instancia es una copia de la clase con valores determinados: un objeto."
   ]
  },
  {
   "cell_type": "markdown",
   "metadata": {},
   "source": [
    "#### Mi primera clase en `Python`\n",
    "\n",
    "Vamos a crear nuestra primera clase: la clase `Book`. Las clases se crean con la palabra reservada `class`.\n",
    "\n",
    "De momento nuestra clase constará únicamente de una variable estática llamada `is_electronic`, que valdrá `False`, indicando así que todos los objetos de esta clase serán libros no electrónicos.\n",
    "\n",
    "**Variable estática**. Son las variables que pertenecen a la clase."
   ]
  },
  {
   "cell_type": "code",
   "execution_count": 1,
   "metadata": {},
   "outputs": [],
   "source": [
    "class Book():\n",
    "  is_electronic = False"
   ]
  },
  {
   "cell_type": "markdown",
   "metadata": {},
   "source": [
    "Ya hemos creado nuestra plantilla del objeto `Book`, que únicamente contiene si el libro en cuestión es electrónico o no.\n",
    "\n",
    "Si ahora nosotros queremos crear un objeto de la clase `Book`, tendremos que instanciarlo del siguiente modo:"
   ]
  },
  {
   "cell_type": "code",
   "execution_count": 4,
   "metadata": {},
   "outputs": [],
   "source": [
    "book1 = Book()"
   ]
  },
  {
   "cell_type": "markdown",
   "metadata": {},
   "source": [
    "Hemos construido un objeto de la clase `Book` con nuestra plantilla, por lo tanto `book1` se trata de un libro no electrónico.\n",
    "\n",
    "Tal cual hacíamos anteriormente, si queremos saber a qué clase pertenece el objeto `book1`, le aplicamos la función `type()`"
   ]
  },
  {
   "cell_type": "code",
   "execution_count": 3,
   "metadata": {},
   "outputs": [
    {
     "data": {
      "text/plain": [
       "__main__.Book"
      ]
     },
     "execution_count": 3,
     "metadata": {},
     "output_type": "execute_result"
    }
   ],
   "source": [
    "type(book1)"
   ]
  },
  {
   "cell_type": "markdown",
   "metadata": {},
   "source": [
    "Si ahora queremos acceder a su único atributo, `is_electronic`, entonces introducimos"
   ]
  },
  {
   "cell_type": "code",
   "execution_count": 4,
   "metadata": {},
   "outputs": [
    {
     "data": {
      "text/plain": [
       "False"
      ]
     },
     "execution_count": 4,
     "metadata": {},
     "output_type": "execute_result"
    }
   ],
   "source": [
    "book1.is_electronic"
   ]
  },
  {
   "cell_type": "markdown",
   "metadata": {},
   "source": [
    "Y comprobamos así que efectivamente, `book1` se trata de un libro no electrónico.\n",
    "\n",
    "Vamos a mejorar nuestra clase `Book` añadiendo docstrings."
   ]
  },
  {
   "cell_type": "code",
   "execution_count": 5,
   "metadata": {},
   "outputs": [],
   "source": [
    "class Book():\n",
    "  \"\"\"\n",
    "  Clase para trabajar con libros\n",
    "  \"\"\"\n",
    "\n",
    "  is_electronic = False"
   ]
  },
  {
   "cell_type": "markdown",
   "metadata": {},
   "source": [
    "Ahora podemos acceder a ese docstring con el método `.__doc__`"
   ]
  },
  {
   "cell_type": "code",
   "execution_count": 6,
   "metadata": {},
   "outputs": [
    {
     "name": "stdout",
     "output_type": "stream",
     "text": [
      "\n",
      "  Clase para trabajar con libros\n",
      "  \n"
     ]
    }
   ],
   "source": [
    "print( Book.__doc__ )"
   ]
  },
  {
   "cell_type": "markdown",
   "metadata": {},
   "source": [
    "#### El método constructor\n",
    "\n",
    "Sigamos mejorando nuestra clase, esta vez modificando el método `.__init__()` que es llamado cuando inicializamos un objeto de la clase. Se trata del método constructor. Por parámetro puede recibir valores para los atributos de cada objeto.\n",
    "\n",
    "**Atributo**. Son las variables que definen a los objetos de una clase. Son sus características."
   ]
  },
  {
   "cell_type": "code",
   "execution_count": 7,
   "metadata": {},
   "outputs": [],
   "source": [
    "class Book():\n",
    "  \"\"\"\n",
    "  Clase para trabajar con libros\n",
    "  \"\"\"\n",
    "\n",
    "  def __init__(self, title: str, author: str, electronic: bool) -> None:\n",
    "    self.title = title\n",
    "    self.author = author\n",
    "    self.is_electronic = electronic"
   ]
  },
  {
   "cell_type": "markdown",
   "metadata": {},
   "source": [
    "**Observación**. Hablaremos del parámetro `self` más adelante, cuando hablemos de métodos de instancia.\n",
    "\n",
    "Ahora, si queremos crear un objeto de la clase `Book`, por como hemos construido el método `.__init__` tendremos que indicar el título y autor del libro."
   ]
  },
  {
   "cell_type": "code",
   "execution_count": 8,
   "metadata": {},
   "outputs": [],
   "source": [
    "book2 = Book('El señor de los anillos', 'J.R.R. Tolkien', False)"
   ]
  },
  {
   "cell_type": "code",
   "execution_count": 9,
   "metadata": {},
   "outputs": [
    {
     "data": {
      "text/plain": [
       "'El señor de los anillos'"
      ]
     },
     "execution_count": 9,
     "metadata": {},
     "output_type": "execute_result"
    }
   ],
   "source": [
    "book2.title"
   ]
  },
  {
   "cell_type": "code",
   "execution_count": 11,
   "metadata": {},
   "outputs": [
    {
     "data": {
      "text/plain": [
       "'J.R.R. Tolkien'"
      ]
     },
     "execution_count": 11,
     "metadata": {},
     "output_type": "execute_result"
    }
   ],
   "source": [
    "book2.author"
   ]
  },
  {
   "cell_type": "code",
   "execution_count": 12,
   "metadata": {},
   "outputs": [
    {
     "data": {
      "text/plain": [
       "False"
      ]
     },
     "execution_count": 12,
     "metadata": {},
     "output_type": "execute_result"
    }
   ],
   "source": [
    "book2.is_electronic"
   ]
  },
  {
   "cell_type": "markdown",
   "metadata": {},
   "source": [
    "Para acceder a todos los atributos de un objeto y a los valores que tiene asignados, podemos usar el método `.__dict__`."
   ]
  },
  {
   "cell_type": "code",
   "execution_count": 10,
   "metadata": {},
   "outputs": [
    {
     "data": {
      "text/plain": [
       "{'title': 'El señor de los anillos',\n",
       " 'author': 'J.R.R. Tolkien',\n",
       " 'is_electronic': False}"
      ]
     },
     "execution_count": 10,
     "metadata": {},
     "output_type": "execute_result"
    }
   ],
   "source": [
    "book2.__dict__"
   ]
  },
  {
   "cell_type": "markdown",
   "metadata": {},
   "source": [
    "Si queremos evitar tener que introducir alguno de esos parámetros cada vez que inicialicemos un objeto de la clase `Book`, recordar que podemos poner valores por defecto a dichos parámetros."
   ]
  },
  {
   "cell_type": "code",
   "execution_count": 13,
   "metadata": {},
   "outputs": [],
   "source": [
    "class Book():\n",
    "  \"\"\"\n",
    "  Clase para trabajar con libros\n",
    "  \"\"\"\n",
    "\n",
    "  def __init__(self, title: str, author: str = '', electronic: bool = False) -> None:\n",
    "    self.title = title\n",
    "    self.author = author\n",
    "    self.is_electronic = electronic"
   ]
  },
  {
   "cell_type": "code",
   "execution_count": 14,
   "metadata": {},
   "outputs": [],
   "source": [
    "book3 = Book(title='Las mil y una noches')"
   ]
  },
  {
   "cell_type": "code",
   "execution_count": 15,
   "metadata": {},
   "outputs": [
    {
     "data": {
      "text/plain": [
       "'Las mil y una noches'"
      ]
     },
     "execution_count": 15,
     "metadata": {},
     "output_type": "execute_result"
    }
   ],
   "source": [
    "book3.title"
   ]
  },
  {
   "cell_type": "code",
   "execution_count": 16,
   "metadata": {},
   "outputs": [
    {
     "data": {
      "text/plain": [
       "False"
      ]
     },
     "execution_count": 16,
     "metadata": {},
     "output_type": "execute_result"
    }
   ],
   "source": [
    "book3.is_electronic"
   ]
  },
  {
   "cell_type": "markdown",
   "metadata": {},
   "source": [
    "Con lo cual, el único argumento obligatorio a introducir es el título. El resto son opcionales pues tienen valores por defecto."
   ]
  },
  {
   "cell_type": "markdown",
   "metadata": {},
   "source": [
    "#### El método destructor\n",
    "\n",
    "Así como existe un método constructor, existe un método destructor cuyo cometido consiste en eliminar instancias de una clase. Es decir, elimina un objeto.\n",
    "\n",
    "El método destructor es el método `.__del__()`"
   ]
  },
  {
   "cell_type": "code",
   "execution_count": 17,
   "metadata": {},
   "outputs": [],
   "source": [
    "class Book():\n",
    "  \"\"\"\n",
    "  Clase para trabajar con libros\n",
    "  \"\"\"\n",
    "\n",
    "  def __init__(self, title, author: str = '', electronic: bool = False):\n",
    "    self.title = title\n",
    "    self.author = author\n",
    "    self.is_electronic = electronic\n",
    "\n",
    "  def __del__(self):\n",
    "    print('Acabas de llamar al método destructor. El objeto acaba de ser eliminado')"
   ]
  },
  {
   "cell_type": "markdown",
   "metadata": {},
   "source": [
    "Para eliminar un objeto utilizamos la palabra reservada `del`"
   ]
  },
  {
   "cell_type": "code",
   "execution_count": 18,
   "metadata": {},
   "outputs": [
    {
     "data": {
      "text/plain": [
       "'Lazarillo de Tormes'"
      ]
     },
     "execution_count": 18,
     "metadata": {},
     "output_type": "execute_result"
    }
   ],
   "source": [
    "book = Book('Lazarillo de Tormes')\n",
    "book.title"
   ]
  },
  {
   "cell_type": "code",
   "execution_count": 19,
   "metadata": {},
   "outputs": [
    {
     "name": "stdout",
     "output_type": "stream",
     "text": [
      "Acabas de llamar al método destructor. El objeto acaba de ser eliminado\n"
     ]
    }
   ],
   "source": [
    "del book"
   ]
  },
  {
   "cell_type": "markdown",
   "metadata": {},
   "source": [
    "Si intentásemos acceder al objeto `book`, obtendríamos un error pues ha dejado de ser una instancia de la clase `Book` porque lo hemos eliminado."
   ]
  },
  {
   "cell_type": "code",
   "execution_count": 20,
   "metadata": {},
   "outputs": [
    {
     "ename": "NameError",
     "evalue": "name 'book' is not defined",
     "output_type": "error",
     "traceback": [
      "\u001b[1;31m---------------------------------------------------------------------------\u001b[0m",
      "\u001b[1;31mNameError\u001b[0m                                 Traceback (most recent call last)",
      "Cell \u001b[1;32mIn[20], line 1\u001b[0m\n\u001b[1;32m----> 1\u001b[0m book\n",
      "\u001b[1;31mNameError\u001b[0m: name 'book' is not defined"
     ]
    }
   ],
   "source": [
    "book"
   ]
  },
  {
   "cell_type": "markdown",
   "metadata": {},
   "source": [
    "#### Métodos de una clase\n",
    "\n",
    "##### Existen 3 tipos de métodos:\n",
    "\n",
    "* Métodos de instancia.\n",
    "* Métodos estáticos.\n",
    "* Métodos de clase."
   ]
  },
  {
   "cell_type": "markdown",
   "metadata": {},
   "source": [
    "#### Métodos de instancia\n",
    "\n",
    "Siempre toman el parámetro `self` como primer parámetro.\n",
    "\n",
    "El parámetro `self` representa la instancia del método. Lo que hace `Python` es pasar el propio objeto como argumento del método."
   ]
  },
  {
   "cell_type": "code",
   "execution_count": 4,
   "metadata": {},
   "outputs": [],
   "source": [
    "class Rectangle():\n",
    "\n",
    "  def __init__(self, base: int = 1, height: int = 1, color: str = 'blue') -> None:\n",
    "    self.base = base\n",
    "    self.height = height\n",
    "    self.color = color\n",
    "\n",
    "  def perimeter(self) -> int:\n",
    "    return 2 * self.base + 2 * self.height\n",
    "\n",
    "  def area(self) -> int:\n",
    "    return self.base * self.height"
   ]
  },
  {
   "cell_type": "code",
   "execution_count": 22,
   "metadata": {},
   "outputs": [
    {
     "name": "stdout",
     "output_type": "stream",
     "text": [
      "El perímetro es 14\n",
      "El área es 10\n"
     ]
    }
   ],
   "source": [
    "rect1 = Rectangle(5, 2, 'red')\n",
    "print(f'El perímetro es {rect1.perimeter()}')\n",
    "print(f'El área es {rect1.area()}')"
   ]
  },
  {
   "cell_type": "markdown",
   "metadata": {},
   "source": [
    "Si ahora modificamos la base, entonces tanto el perímetro como el área también cambiarán su valor:"
   ]
  },
  {
   "cell_type": "code",
   "execution_count": 23,
   "metadata": {},
   "outputs": [
    {
     "name": "stdout",
     "output_type": "stream",
     "text": [
      "Habiendo cambiado el valor de la base a 3, el perímetro es 10\n",
      "Habiendo cambiado el valor de la base a 3, el área es 6\n"
     ]
    }
   ],
   "source": [
    "rect1.base = 3\n",
    "print(f'Habiendo cambiado el valor de la base a 3, el perímetro es {rect1.perimeter()}')\n",
    "print(f'Habiendo cambiado el valor de la base a 3, el área es {rect1.area()}')"
   ]
  },
  {
   "cell_type": "markdown",
   "metadata": {},
   "source": [
    "Los métodos de instancia pueden tener más inputs aparte del `self`. Añadamos un método que nos devuelva verdadero si la base es mayor a un valor mínimo al que llamaremos `min` y que por defecto haremos que valga 5:"
   ]
  },
  {
   "cell_type": "code",
   "execution_count": 24,
   "metadata": {},
   "outputs": [],
   "source": [
    "class Rectangle():\n",
    "\n",
    "  def __init__(self, base: int = 1, height: int = 1, color: str = 'blue') -> None:\n",
    "    self.base = base\n",
    "    self.height = height\n",
    "    self.color = color\n",
    "\n",
    "  def perimeter(self) -> int:\n",
    "    return 2 * self.base + 2 * self.height\n",
    "\n",
    "  def area(self) -> int:\n",
    "    return self.base * self.height\n",
    "\n",
    "  def is_base_big(self, min: int = 5) -> bool:\n",
    "    if self.base > 5:\n",
    "      return True\n",
    "      \n",
    "    return False"
   ]
  },
  {
   "cell_type": "code",
   "execution_count": 25,
   "metadata": {},
   "outputs": [
    {
     "data": {
      "text/plain": [
       "False"
      ]
     },
     "execution_count": 25,
     "metadata": {},
     "output_type": "execute_result"
    }
   ],
   "source": [
    "rect1 = Rectangle(3, 2, 'red') # Como hemos modificado la clase, hay que volver a construir la instancia de la clase\n",
    "rect1.is_base_big()"
   ]
  },
  {
   "cell_type": "markdown",
   "metadata": {},
   "source": [
    "El método `.__str__` es un método de instancia. Es el método que debe ser llamado cuando el objeto se representa como un `string`. Es decir, lo que este métodoo devuelve es lo que se muesta cuando hacemos un `print` del objeto en cuestión."
   ]
  },
  {
   "cell_type": "code",
   "execution_count": 26,
   "metadata": {},
   "outputs": [],
   "source": [
    "class Rectangle():\n",
    "\n",
    "  def __init__(self, base: int = 1, height: int = 1, color: str = 'blue') -> None:\n",
    "    self.base = base\n",
    "    self.height = height\n",
    "    self.color = color\n",
    "\n",
    "  def perimeter(self) -> int:\n",
    "    return 2 * self.base + 2 * self.height\n",
    "\n",
    "  def area(self) -> int:\n",
    "    return self.base * self.height\n",
    "\n",
    "  def is_base_big(self, min: int =  5) -> bool:\n",
    "    if self.base > 5:\n",
    "      return True\n",
    "\n",
    "    return False\n",
    "\n",
    "  def __str__(self) -> str:\n",
    "    return (f'Base: {self.base}\\nAltura: {self.height}')"
   ]
  },
  {
   "cell_type": "markdown",
   "metadata": {},
   "source": [
    "De modo que si ahora creamos un objeto de la clase `Rectangle` y pasamos por parámetro dicho objeto a la función `print()`, obtenemos lo siguiente:"
   ]
  },
  {
   "cell_type": "code",
   "execution_count": 27,
   "metadata": {},
   "outputs": [
    {
     "name": "stdout",
     "output_type": "stream",
     "text": [
      "Base: 15\n",
      "Altura: 9\n"
     ]
    }
   ],
   "source": [
    "rect3 = Rectangle(15, 9, 'pink')\n",
    "print( rect3 )"
   ]
  },
  {
   "cell_type": "markdown",
   "metadata": {},
   "source": [
    "#### Métodos estáticos\n",
    "\n",
    "A diferencia de los métodos de instancia, los métodos estáticos no pasan como parámetro el argumento posicional `self`.\n",
    "\n",
    "Los métodos estáticos se definen usando el decorador `@staticmethod`, que se añade antes de definir el método estático respectivo.\n",
    "\n",
    "Los decoradores nos permiten alterar el comportamiento de las funciones o clases. Son utilizados para guardar utilidades relacionadas con la clase.\n",
    "\n",
    "Vamos a crear un método que nos diga si dos rectángulos son iguales o no."
   ]
  },
  {
   "cell_type": "code",
   "execution_count": 28,
   "metadata": {},
   "outputs": [],
   "source": [
    "class Rectangle():\n",
    "\n",
    "  def __init__(self, base: int = 1, height: int = 1, color: str = 'blue') -> None:\n",
    "    self.base = base\n",
    "    self.height = height\n",
    "    self.color = color\n",
    "\n",
    "  def perimeter(self) -> int:\n",
    "    return 2 * self.base + 2 * self.height\n",
    "\n",
    "  def area(self) -> int:\n",
    "    return self.base * self.height\n",
    "\n",
    "  def is_base_big(self, min: int =  5) -> bool:\n",
    "    if self.base > 5:\n",
    "      return True\n",
    "\n",
    "    return False\n",
    "\n",
    "  def __str__(self) -> str:\n",
    "    return (f'Base: {self.base}\\nAltura: {self.height}')\n",
    "\n",
    "  @staticmethod\n",
    "  def are_equal_size(rect1: Rectangle, rect2: Rectangle) -> bool:\n",
    "    if rect1.base == rect2.base and rect1.height == rect2.height:\n",
    "      return True\n",
    "    \n",
    "    return False"
   ]
  },
  {
   "cell_type": "code",
   "execution_count": 29,
   "metadata": {},
   "outputs": [
    {
     "name": "stdout",
     "output_type": "stream",
     "text": [
      "Base: 7\n",
      "Altura: 5 \n",
      "\n",
      "Base: 7\n",
      "Altura: 5 \n",
      "\n",
      "True\n"
     ]
    }
   ],
   "source": [
    "rect1 = Rectangle(7, 5, 'green')\n",
    "rect2 = Rectangle(3 + 4, 7 - 2, 'blue')\n",
    "print(rect1, '\\n')\n",
    "print(rect2, '\\n')\n",
    "print(Rectangle.are_equal_size( rect1, rect2 ))"
   ]
  },
  {
   "cell_type": "markdown",
   "metadata": {},
   "source": [
    "#### Métodos de clase\n",
    "\n",
    "La característica de estos métodos es que la clase entera es pasada como primer argumento, `cls`. Para los métodos de clase vuelve a usarse un decorador, `@classmethod`.\n",
    "\n",
    "Vamos a crear un método que genere un rectángulo aleatoriamente. Para ello necesitamos importar la librería `random`."
   ]
  },
  {
   "cell_type": "code",
   "execution_count": 1,
   "metadata": {},
   "outputs": [],
   "source": [
    "import random"
   ]
  },
  {
   "cell_type": "code",
   "execution_count": 31,
   "metadata": {},
   "outputs": [],
   "source": [
    "class Rectangle():\n",
    "\n",
    "  def __init__(self, base: int = 1, height: int = 1, color: str = 'blue') -> None:\n",
    "    self.base = base\n",
    "    self.height = height\n",
    "    self.color = color\n",
    "\n",
    "  def perimeter(self) -> int:\n",
    "    return 2 * self.base + 2 * self.height\n",
    "\n",
    "  def area(self) -> int:\n",
    "    return self.base * self.height\n",
    "\n",
    "  def is_base_big(self, min: int =  5) -> bool:\n",
    "    if self.base > 5:\n",
    "      return True\n",
    "\n",
    "    return False\n",
    "\n",
    "  def __str__(self) -> str:\n",
    "    return (f'Base: {self.base}\\nAltura: {self.height}')\n",
    "\n",
    "  @staticmethod\n",
    "  def are_equal_size(rect1: Rectangle, rect2: Rectangle) -> bool:\n",
    "    if rect1.base == rect2.base and rect1.height == rect2.height:\n",
    "      return True\n",
    "    \n",
    "    return False\n",
    "\n",
    "  @classmethod\n",
    "  def random_rectangle(cls):\n",
    "    base: int = random.randrange(1, 10)\n",
    "    height: int = random.randrange(1, 10)\n",
    "    return cls(base, height)"
   ]
  },
  {
   "cell_type": "code",
   "execution_count": 32,
   "metadata": {},
   "outputs": [
    {
     "name": "stdout",
     "output_type": "stream",
     "text": [
      "Base: 8\n",
      "Altura: 4\n"
     ]
    }
   ],
   "source": [
    "rect3 = Rectangle().random_rectangle()\n",
    "print( rect3 )"
   ]
  },
  {
   "cell_type": "markdown",
   "metadata": {},
   "source": [
    "#### Propiedades\n",
    "\n",
    "Para manejar los atributos de un objeto, podemos utilizar el decorador `@property` que permite a un método ser accedido como un atributo, omitiendo así el uso de paréntesis vacíos.\n",
    "\n",
    "**Observación**. Los paréntesis son vacíos cuando en un método no hay parámetro que indicar."
   ]
  },
  {
   "cell_type": "markdown",
   "metadata": {},
   "source": [
    "Los métodos `.perimeter()` y `.area()` son el ejemplo perfecto para ser modificados por el decorador `@property` pues siempre que son llamados, nunca toman valores por parámetro."
   ]
  },
  {
   "cell_type": "code",
   "execution_count": 9,
   "metadata": {},
   "outputs": [],
   "source": [
    "class Rectangle():\n",
    "\n",
    "  def __init__(self, base: int = 1, height: int = 1, color: str = 'blue') -> None:\n",
    "    self.base = base\n",
    "    self.height = height\n",
    "    self.color = color\n",
    "\n",
    "  @property\n",
    "  def perimeter(self) -> int:\n",
    "    return 2 * self.base + 2 * self.height\n",
    "\n",
    "  @property\n",
    "  def area(self) -> int:\n",
    "    return self.base * self.height\n",
    "\n",
    "  def is_base_big(self, min: int =  5) -> bool:\n",
    "    if self.base > min:\n",
    "      return True\n",
    "\n",
    "    return False\n",
    "\n",
    "  def __str__(self) -> str:\n",
    "    return (f'Base: {self.base}\\nAltura: {self.height}')\n",
    "\n",
    "  @staticmethod\n",
    "  def are_equal_size(rect1: Rectangle, rect2: Rectangle) -> bool:\n",
    "    if rect1.base == rect2.base and rect1.height == rect2.height:\n",
    "      return True\n",
    "    \n",
    "    return False\n",
    "\n",
    "  @classmethod\n",
    "  def random_rectangle(cls):\n",
    "    base: int = random.randrange(1, 10)\n",
    "    height: int = random.randrange(1, 10)\n",
    "    return cls(base, height)"
   ]
  },
  {
   "cell_type": "code",
   "execution_count": 10,
   "metadata": {},
   "outputs": [],
   "source": [
    "rect4 = Rectangle(2, 3, 'yellow')"
   ]
  },
  {
   "cell_type": "code",
   "execution_count": 11,
   "metadata": {},
   "outputs": [
    {
     "data": {
      "text/plain": [
       "10"
      ]
     },
     "execution_count": 11,
     "metadata": {},
     "output_type": "execute_result"
    }
   ],
   "source": [
    "rect4.perimeter"
   ]
  },
  {
   "cell_type": "code",
   "execution_count": 12,
   "metadata": {},
   "outputs": [
    {
     "data": {
      "text/plain": [
       "6"
      ]
     },
     "execution_count": 12,
     "metadata": {},
     "output_type": "execute_result"
    }
   ],
   "source": [
    "rect4.area"
   ]
  },
  {
   "cell_type": "markdown",
   "metadata": {},
   "source": [
    "**¡Cuidado!** El modificador únicamente nos permite acceder al método como si fuera un atributo, pero no significa que pueda ser tratado como tal. Si intentamos modificarlo somo si fuera un atributo, nos saltará error."
   ]
  },
  {
   "cell_type": "code",
   "execution_count": 13,
   "metadata": {},
   "outputs": [
    {
     "ename": "AttributeError",
     "evalue": "property 'perimeter' of 'Rectangle' object has no setter",
     "output_type": "error",
     "traceback": [
      "\u001b[1;31m---------------------------------------------------------------------------\u001b[0m",
      "\u001b[1;31mAttributeError\u001b[0m                            Traceback (most recent call last)",
      "Cell \u001b[1;32mIn[13], line 1\u001b[0m\n\u001b[1;32m----> 1\u001b[0m rect4\u001b[39m.\u001b[39;49mperimeter \u001b[39m=\u001b[39m \u001b[39m12\u001b[39m\n",
      "\u001b[1;31mAttributeError\u001b[0m: property 'perimeter' of 'Rectangle' object has no setter"
     ]
    }
   ],
   "source": [
    "rect4.perimeter = 12"
   ]
  },
  {
   "cell_type": "markdown",
   "metadata": {},
   "source": [
    "Para poder modificar una propiedad, necesitamos utilizar el método `.setter()`\n",
    "\n",
    "Veámos con un ejemplo:"
   ]
  },
  {
   "cell_type": "code",
   "execution_count": 16,
   "metadata": {},
   "outputs": [],
   "source": [
    "class Person():\n",
    "\n",
    "  def __init__(self, name: str, surname: str) -> None:\n",
    "    self.name = name\n",
    "    self.surname = surname\n",
    "\n",
    "  @property\n",
    "  def complete_name(self):\n",
    "    return f'{self.name} {self.surname}'\n",
    "\n",
    "  @complete_name.setter\n",
    "  def complete_name(self, name_surname: str):\n",
    "    name, surname = name_surname.split(' ')\n",
    "    self.name = name\n",
    "    self.surname = surname"
   ]
  },
  {
   "cell_type": "markdown",
   "metadata": {},
   "source": [
    "La clase `Person` toma como parámetros nombre y apellido de una persona. Tiene una propiedad que devuelve el nombre completo de dicha persona.\n",
    "\n",
    "Gracias al método `.setter` somos capaces de modificar dicha propiedad. Lo hemos conseguido usando un decorador con el nombre de la propiedad seguido de `.setter`.\n",
    "\n",
    "Para modificar el nombre completo, debemos introducir este por parámetro."
   ]
  },
  {
   "cell_type": "code",
   "execution_count": 17,
   "metadata": {},
   "outputs": [
    {
     "data": {
      "text/plain": [
       "'María Gomila'"
      ]
     },
     "execution_count": 17,
     "metadata": {},
     "output_type": "execute_result"
    }
   ],
   "source": [
    "person1 = Person('María', 'Gomila')\n",
    "person1.complete_name"
   ]
  },
  {
   "cell_type": "code",
   "execution_count": 18,
   "metadata": {},
   "outputs": [
    {
     "data": {
      "text/plain": [
       "'Santos'"
      ]
     },
     "execution_count": 18,
     "metadata": {},
     "output_type": "execute_result"
    }
   ],
   "source": [
    "person1.complete_name = 'María Santos'\n",
    "person1.surname"
   ]
  },
  {
   "cell_type": "markdown",
   "metadata": {},
   "source": [
    "Otro uso muy común del método `.setter` es prevenir al usuario de introducir valores que no deberían estar permitidos.\n",
    "\n",
    "Por ejemplo, un círculo no puede tener un diámetro que valga 0 o menos."
   ]
  },
  {
   "cell_type": "code",
   "execution_count": 19,
   "metadata": {},
   "outputs": [],
   "source": [
    "class Circle():\n",
    "\n",
    "  def __init__(self, center: tuple[int, int] = (0, 0), radius: int = 1) -> None:\n",
    "    self.center = center\n",
    "    self.radius = radius\n",
    "\n",
    "  @property\n",
    "  def diameter(self):\n",
    "    return 2 * self.radius\n",
    "\n",
    "  @diameter.setter\n",
    "  def diameter(self, value):\n",
    "    if value <= 0:\n",
    "      raise ValueError('El diámetro no puede valer menor o igual a 0')\n",
    "    self.radius = value / 2"
   ]
  },
  {
   "cell_type": "markdown",
   "metadata": {},
   "source": [
    "Si probamos ahora de modificar el diámetro para que valga un valor 0 o negativo, entonces no saltará el `ValueError` que hemos configurado previamente."
   ]
  },
  {
   "cell_type": "code",
   "execution_count": 20,
   "metadata": {},
   "outputs": [
    {
     "ename": "ValueError",
     "evalue": "El diámetro no puede valer menor o igual a 0",
     "output_type": "error",
     "traceback": [
      "\u001b[1;31m---------------------------------------------------------------------------\u001b[0m",
      "\u001b[1;31mValueError\u001b[0m                                Traceback (most recent call last)",
      "Cell \u001b[1;32mIn[20], line 2\u001b[0m\n\u001b[0;32m      1\u001b[0m circle1 \u001b[39m=\u001b[39m Circle( radius \u001b[39m=\u001b[39m \u001b[39m2\u001b[39m )\n\u001b[1;32m----> 2\u001b[0m circle1\u001b[39m.\u001b[39;49mdiameter \u001b[39m=\u001b[39m \u001b[39m-\u001b[39m\u001b[39m2\u001b[39m\n",
      "Cell \u001b[1;32mIn[19], line 14\u001b[0m, in \u001b[0;36mCircle.diameter\u001b[1;34m(self, value)\u001b[0m\n\u001b[0;32m     11\u001b[0m \u001b[39m@diameter\u001b[39m\u001b[39m.\u001b[39msetter\n\u001b[0;32m     12\u001b[0m \u001b[39mdef\u001b[39;00m \u001b[39mdiameter\u001b[39m(\u001b[39mself\u001b[39m, value):\n\u001b[0;32m     13\u001b[0m   \u001b[39mif\u001b[39;00m value \u001b[39m<\u001b[39m\u001b[39m=\u001b[39m \u001b[39m0\u001b[39m:\n\u001b[1;32m---> 14\u001b[0m     \u001b[39mraise\u001b[39;00m \u001b[39mValueError\u001b[39;00m(\u001b[39m'\u001b[39m\u001b[39mEl diámetro no puede valer menor o igual a 0\u001b[39m\u001b[39m'\u001b[39m)\n\u001b[0;32m     15\u001b[0m   \u001b[39mself\u001b[39m\u001b[39m.\u001b[39mradius \u001b[39m=\u001b[39m value \u001b[39m/\u001b[39m \u001b[39m2\u001b[39m\n",
      "\u001b[1;31mValueError\u001b[0m: El diámetro no puede valer menor o igual a 0"
     ]
    }
   ],
   "source": [
    "circle1 = Circle( radius = 2 )\n",
    "circle1.diameter = -2"
   ]
  },
  {
   "cell_type": "markdown",
   "metadata": {},
   "source": [
    "#### Clase `inheritance` (herencia)\n",
    "\n",
    "Esta clase permite a los atributos y métodos ser pasados de una clase a otra. Es útil cuando ya existe una clase que hace todo lo que necesitamos, a la cuál querríamos añadir algún atributo o método extra.\n",
    "\n",
    "Supongamos que queremos crear dos clases: una representando niños (personas menores de edad) y otra representando adultos.\n",
    "\n",
    "La clase `Children` sería:"
   ]
  },
  {
   "cell_type": "code",
   "execution_count": 21,
   "metadata": {},
   "outputs": [],
   "source": [
    "class Children():\n",
    "\n",
    "  is_adult = False\n",
    "\n",
    "  def __init__(self, name: str, surname: str, age: int) -> None:\n",
    "    self.name = name\n",
    "    self.surname = surname\n",
    "    self.age = age\n",
    "\n",
    "  @property\n",
    "  def complete_name(self) -> str:\n",
    "    return f'{self.name} {self.surname}'\n",
    "\n",
    "  @complete_name.setter\n",
    "  def complete_name(self, name_surname: str) -> None:\n",
    "    name, surname = name_surname.split(' ')\n",
    "    self.name = name\n",
    "    self.surname = surname"
   ]
  },
  {
   "cell_type": "markdown",
   "metadata": {},
   "source": [
    "Y la clase `Adult`"
   ]
  },
  {
   "cell_type": "code",
   "execution_count": 22,
   "metadata": {},
   "outputs": [],
   "source": [
    "class Adult():\n",
    "\n",
    "  is_adult = True\n",
    "\n",
    "  def __init__(self, name: str, surname: str, age: int) -> None:\n",
    "    self.name = name\n",
    "    self.surname = surname\n",
    "    self.age = age\n",
    "\n",
    "  @property\n",
    "  def complete_name(self) -> str:\n",
    "    return f'{self.name} {self.surname}'\n",
    "\n",
    "  @complete_name.setter\n",
    "  def complete_name(self, name_surname: str) -> None:\n",
    "    name, surname = name_surname.split(' ')\n",
    "    self.name = name\n",
    "    self.surname = surname"
   ]
  },
  {
   "cell_type": "markdown",
   "metadata": {},
   "source": [
    "Estamos replicando mucho código. Para ser exactos, la única diferencia entre ambas clases es el atributo `is_adult`, que en `Children` vale `False` y en `Adult` vale `True`."
   ]
  },
  {
   "cell_type": "markdown",
   "metadata": {},
   "source": [
    "#### Single inheritance (Herencia simple)\n",
    "\n",
    "Implica crear clases hijo que heredan atributos y métodos de una sola clase padre. Tomando las dos clases anteriores `Children` y `Adult`, tenemos la clase `Person` que representan las partes comunes de las clases `Children` y `Adult`."
   ]
  },
  {
   "cell_type": "code",
   "execution_count": 23,
   "metadata": {},
   "outputs": [],
   "source": [
    "class Person():\n",
    "\n",
    "  def __init__(self, name: str, surname: str, age: int) -> None:\n",
    "    self.name = name\n",
    "    self.surname = surname\n",
    "    self.age = age\n",
    "\n",
    "  @property\n",
    "  def complete_name(self) -> str:\n",
    "    return f'{self.name} {self.surname}'\n",
    "\n",
    "  @complete_name.setter\n",
    "  def complete_name(self, name_surname: str) -> None:\n",
    "    name, surname = name_surname.split(' ')\n",
    "    self.name = name\n",
    "    self.surname = surname"
   ]
  },
  {
   "cell_type": "markdown",
   "metadata": {},
   "source": [
    "De modo que ahora las clases `Children` y `Adult` pueden ser creadas como hijos de la clase padre `Person`"
   ]
  },
  {
   "cell_type": "code",
   "execution_count": 25,
   "metadata": {},
   "outputs": [],
   "source": [
    "class Children(Person):\n",
    "  is_adult = False"
   ]
  },
  {
   "cell_type": "code",
   "execution_count": 26,
   "metadata": {},
   "outputs": [],
   "source": [
    "class Adult(Person):\n",
    "  is_adult = True"
   ]
  },
  {
   "cell_type": "code",
   "execution_count": 28,
   "metadata": {},
   "outputs": [
    {
     "data": {
      "text/plain": [
       "'Juan'"
      ]
     },
     "execution_count": 28,
     "metadata": {},
     "output_type": "execute_result"
    }
   ],
   "source": [
    "child = Children('Juan', 'Sánchez', 6)\n",
    "child.name"
   ]
  },
  {
   "cell_type": "markdown",
   "metadata": {},
   "source": [
    "De este modo, la lógica del `.__init__()` solo se especifica una vez, haciendo mucho más sencillo el modificarlo desde la clase padre. Del mismo modo, también será más sencillo crear subclases diferentes de la clase `Person`. Además, también es posible crear subclases de la ya subclase `Children`, como por ejemplo `Teenager` dependiendo del rango de edad dentro del intervalo (0, 18).\n",
    "\n",
    "![](https://media.discordapp.net/attachments/1051367858237624400/1058861580613333052/image.png?width=1295&height=632)"
   ]
  },
  {
   "cell_type": "markdown",
   "metadata": {},
   "source": [
    "Así como hemos hereado de la clase que hemos creado, `Person`, podemos heredar de uan clase ya existente en `Python`, como por ejemplo la clase `int`"
   ]
  },
  {
   "cell_type": "code",
   "execution_count": 29,
   "metadata": {},
   "outputs": [],
   "source": [
    "class MyInt(int):\n",
    "  def is_divisible_by(self, divisor):\n",
    "    return self % divisor == 0"
   ]
  },
  {
   "cell_type": "code",
   "execution_count": 30,
   "metadata": {},
   "outputs": [
    {
     "data": {
      "text/plain": [
       "True"
      ]
     },
     "execution_count": 30,
     "metadata": {},
     "output_type": "execute_result"
    }
   ],
   "source": [
    "n = MyInt(27)\n",
    "n.is_divisible_by(9)"
   ]
  },
  {
   "cell_type": "markdown",
   "metadata": {},
   "source": [
    "#### Sobreescribiendo métodos\n",
    "\n",
    "Con la herencia de clases, no solo podemos extender el comportamiento de clases más generales, sino que también podemos modificar algunos atributos o métodos heredados de la clase padre.\n",
    "\n",
    "Supongamos que tenemos la clase `Person()`"
   ]
  },
  {
   "cell_type": "code",
   "execution_count": 31,
   "metadata": {},
   "outputs": [],
   "source": [
    "class Person():\n",
    "\n",
    "  def __init__(self, name: str, surname: str, age: int) -> None:\n",
    "    self.name = name\n",
    "    self.surname = surname\n",
    "    self.age = age\n",
    "\n",
    "  @property\n",
    "  def complete_name(self) -> str:\n",
    "    return f'{self.name} {self.surname}'\n",
    "\n",
    "  @complete_name.setter\n",
    "  def complete_name(self, name_surname: str) -> None:\n",
    "    name, surname = name_surname.split(' ')\n",
    "    self.name = name\n",
    "    self.surname = surname"
   ]
  },
  {
   "cell_type": "markdown",
   "metadata": {},
   "source": [
    "Pero que a la hora de introducir el nombre completo, tenemos problemas pues la persona tiene segundo nombre. Entonces podríamos crear una clase `SecondNamePerson` que tomase en consideración estos aspectos con respecto al nombre completo."
   ]
  },
  {
   "cell_type": "code",
   "execution_count": 32,
   "metadata": {},
   "outputs": [],
   "source": [
    "class SecondNamePerson(Person):\n",
    "  \n",
    "  @property\n",
    "  def complete_name(self) -> str:\n",
    "    return super().complete_name\n",
    "\n",
    "  @complete_name.setter\n",
    "  def complete_name(self, names_surname: str) -> None:\n",
    "    names = names_surname.split(' ')\n",
    "    self.surname = names[-1]\n",
    "    if len(names) > 2:\n",
    "      self.name = ' '.join(names[:2])\n",
    "    elif len(names) == 2:\n",
    "      self.name = names[0]"
   ]
  },
  {
   "cell_type": "code",
   "execution_count": 33,
   "metadata": {},
   "outputs": [
    {
     "name": "stdout",
     "output_type": "stream",
     "text": [
      "Juan Gabriel\n",
      "Gomila\n"
     ]
    }
   ],
   "source": [
    "person2 = SecondNamePerson('Juan', 'Gomila', 32)\n",
    "person2.complete_name = 'Juan Gabriel Gomila'\n",
    "print( person2.name )\n",
    "print( person2.surname )"
   ]
  },
  {
   "cell_type": "markdown",
   "metadata": {},
   "source": [
    "#### El método `.super()`\n",
    "\n",
    "El método `.super()` nos sirve para acceder a un método de la clase padre."
   ]
  },
  {
   "cell_type": "code",
   "execution_count": 1,
   "metadata": {},
   "outputs": [],
   "source": [
    "class Person():\n",
    "\n",
    "  def __init__(self, name: str, surname: str, age: int) -> None:\n",
    "    self.name = name\n",
    "    self.surname = surname\n",
    "    self.age = age\n",
    "\n",
    "  @property\n",
    "  def complete_name(self) -> str:\n",
    "    return f'{self.name} {self.surname}'\n",
    "\n",
    "  @complete_name.setter\n",
    "  def complete_name(self, name_surname: str) -> None:\n",
    "    name, surname = name_surname.split(' ')\n",
    "    self.name = name\n",
    "    self.surname = surname\n",
    "\n",
    "  @property\n",
    "  def introduction(self) -> None:\n",
    "    print(f'Hola, mi nombre es {self.complete_name}')"
   ]
  },
  {
   "cell_type": "markdown",
   "metadata": {},
   "source": [
    "Supongamos que queremos crear una subclase para que una persona diga muchas más cosas a la hora de presentarse:"
   ]
  },
  {
   "cell_type": "code",
   "execution_count": 2,
   "metadata": {},
   "outputs": [],
   "source": [
    "class TalkativePerson(Person):\n",
    "\n",
    "  @property\n",
    "  def introduction(self):\n",
    "    print(f'Hola, mi nombre es {self.complete_name}')\n",
    "    print('Un placer conocerte!')"
   ]
  },
  {
   "cell_type": "code",
   "execution_count": 3,
   "metadata": {},
   "outputs": [
    {
     "name": "stdout",
     "output_type": "stream",
     "text": [
      "Hola, mi nombre es Paula Olivera\n",
      "Un placer conocerte!\n"
     ]
    }
   ],
   "source": [
    "person3 = TalkativePerson('Paula', 'Olivera', 16)\n",
    "person3.introduction"
   ]
  },
  {
   "cell_type": "markdown",
   "metadata": {},
   "source": [
    "Lo hecho anteriormente es correcto, aunque estamos copiando la primera frase tal cual está en la clase `Person`. Para evitar dicha copia, lo que podemos hacer es utilizar el método `.super()`"
   ]
  },
  {
   "cell_type": "code",
   "execution_count": 4,
   "metadata": {},
   "outputs": [],
   "source": [
    "class TalkativePerson(Person):\n",
    "\n",
    "  @property\n",
    "  def introduction(self) -> None:\n",
    "    super().introduction\n",
    "    print('Un placer conoceter!')"
   ]
  },
  {
   "cell_type": "code",
   "execution_count": 5,
   "metadata": {},
   "outputs": [
    {
     "name": "stdout",
     "output_type": "stream",
     "text": [
      "Hola, mi nombre es Marta Fernández\n",
      "Un placer conoceter!\n"
     ]
    }
   ],
   "source": [
    "person4 = TalkativePerson('Marta', 'Fernández', 16)\n",
    "person4.introduction"
   ]
  },
  {
   "cell_type": "markdown",
   "metadata": {},
   "source": [
    "#### Multiple Inheritance (Herencia Múltiple)\n",
    "\n",
    "Implica crear clases hijo que heredan atributos y métodos de múltiples clases padre.\n",
    "\n",
    "![](https://media.discordapp.net/attachments/1051367858237624400/1058988559870218250/image.png)\n",
    "\n",
    "En este caso, además de la clase `Adult`, que hereda de la clase `Person`, vamos a tener la clase `Calendar`."
   ]
  },
  {
   "cell_type": "code",
   "execution_count": 6,
   "metadata": {},
   "outputs": [],
   "source": [
    "class Person(object):\n",
    "\n",
    "  def __init__(self, name: str, surname: str, age: int) -> None:\n",
    "    self.name = name\n",
    "    self.surname = surname\n",
    "    self.age = age\n",
    "\n",
    "  @property\n",
    "  def complete_name(self) -> str:\n",
    "    return f'{self.name} {self.surname}'\n",
    "\n",
    "  @complete_name.setter\n",
    "  def complete_name(self, name_surname: str) -> None:\n",
    "    name, surname = name_surname.split(' ')\n",
    "    self.name = name\n",
    "    self.surname = surname\n",
    "\n",
    "  @property\n",
    "  def introduction(self) -> None:\n",
    "    print(f'Hola, mi nombre es {self.complete_name}')\n",
    "\n",
    "class Adult(Person):\n",
    "  is_adult = True"
   ]
  },
  {
   "cell_type": "code",
   "execution_count": 10,
   "metadata": {},
   "outputs": [],
   "source": [
    "class Calendar():\n",
    "\n",
    "  @staticmethod\n",
    "  def new_event(title: str, day: str, hour: str, duration: str = 'All day') -> None:\n",
    "    print(f'Reservado el día {day} a las {hour} durante {duration} para {title}')"
   ]
  },
  {
   "cell_type": "markdown",
   "metadata": {},
   "source": [
    "Por último, vamos a crear una subclase que herede tanto de `Adult` como de `Calendar`, a la que llamaremos `Bussinessman` que no tendrá ningún método ni argumento adicional. Por tanto, tendremos que hacer uso de la intrucción `pass`."
   ]
  },
  {
   "cell_type": "code",
   "execution_count": 8,
   "metadata": {},
   "outputs": [],
   "source": [
    "class Bussinessman(Adult, Calendar):\n",
    "  pass"
   ]
  },
  {
   "cell_type": "code",
   "execution_count": 11,
   "metadata": {},
   "outputs": [
    {
     "name": "stdout",
     "output_type": "stream",
     "text": [
      "Hola, mi nombre es Manuel Gómez\n",
      "Reservado el día 30 de Septiembre a las 16:30 durante 2 horas para Reunión\n"
     ]
    }
   ],
   "source": [
    "bussinessman = Bussinessman('Manuel', 'Gómez', 38)\n",
    "bussinessman.introduction\n",
    "bussinessman.new_event('Reunión', '30 de Septiembre', '16:30', '2 horas')"
   ]
  },
  {
   "cell_type": "markdown",
   "metadata": {},
   "source": [
    "#### El método `.super()`\n",
    "\n",
    "Ahora que heredamos de más de una clase padre ¿qué ocurre cuando usamos el método `.super()`?\n",
    "\n",
    "Si ninguna de las clases padres tiene algún método con el mismo nombre, entonces no hay ningún problema. No obstante, si nos encontramos en el caso contrario, donde hay uno o más métodos con el mismo nombre en ambas clases, entoncess el método que va a ser usado al llamarlo con el método `.super()` es el perteneciente a la primera clase padre de la cual se hereda.\n",
    "\n",
    "Veámoslo con un ejemplo: tenemos la clase `ClassAB` que heredará de las clases `ClassA` y `ClassB`."
   ]
  },
  {
   "cell_type": "code",
   "execution_count": 12,
   "metadata": {},
   "outputs": [],
   "source": [
    "class ClassA():\n",
    "  \n",
    "  def say_letter(self) -> None:\n",
    "    print('Mi letrita es la A')\n",
    "\n",
    "class ClassB():\n",
    "\n",
    "  def say_letter(self) -> None:\n",
    "    print('Mi letrita es la B')"
   ]
  },
  {
   "cell_type": "code",
   "execution_count": 13,
   "metadata": {},
   "outputs": [],
   "source": [
    "class ClassAB(ClassA, ClassB):\n",
    "\n",
    "  def my_letter(self):\n",
    "    print('A pesar de que heredo a las letras A y B (así lo indica mi nombre)')\n",
    "    super().say_letter()"
   ]
  },
  {
   "cell_type": "code",
   "execution_count": 15,
   "metadata": {},
   "outputs": [
    {
     "name": "stdout",
     "output_type": "stream",
     "text": [
      "A pesar de que heredo a las letras A y B (así lo indica mi nombre)\n",
      "Mi letrita es la A\n"
     ]
    }
   ],
   "source": [
    "ab = ClassAB()\n",
    "ab.my_letter()"
   ]
  },
  {
   "cell_type": "code",
   "execution_count": 16,
   "metadata": {},
   "outputs": [],
   "source": [
    "class ClassAB(ClassB, ClassA):\n",
    "\n",
    "  def my_letter(self) -> None:\n",
    "    print('A pesar de que heredo las letras A y B (así lo indica mi nombre)')\n",
    "    super().say_letter()"
   ]
  },
  {
   "cell_type": "code",
   "execution_count": 17,
   "metadata": {},
   "outputs": [
    {
     "name": "stdout",
     "output_type": "stream",
     "text": [
      "A pesar de que heredo las letras A y B (así lo indica mi nombre)\n",
      "Mi letrita es la B\n"
     ]
    }
   ],
   "source": [
    "ab = ClassAB()\n",
    "ab.my_letter()"
   ]
  },
  {
   "cell_type": "markdown",
   "metadata": {},
   "source": [
    "**Observación**. Esto no solo ocurre cuando usamos el método `.super()`, sino también cuando queremos acceder a un método cuyo nombre está presente en más de una clase padre."
   ]
  },
  {
   "cell_type": "code",
   "execution_count": 20,
   "metadata": {},
   "outputs": [],
   "source": [
    "class ClassAB(ClassB, ClassA):\n",
    "  pass\n"
   ]
  },
  {
   "cell_type": "code",
   "execution_count": 21,
   "metadata": {},
   "outputs": [
    {
     "name": "stdout",
     "output_type": "stream",
     "text": [
      "Mi letrita es la B\n"
     ]
    }
   ],
   "source": [
    "ab = ClassAB()\n",
    "ab.say_letter()"
   ]
  },
  {
   "cell_type": "markdown",
   "metadata": {},
   "source": [
    "#### Polimorfismo\n",
    "\n",
    "**Polimorfismo**. Significa que una función con el mismo nombre se utiliza para diferentes tipos de objeto.\n",
    "\n",
    "Un ejemplo perfecto es la función `len()` que sirve tanto para los objetos detipo `string` como listas."
   ]
  },
  {
   "cell_type": "code",
   "execution_count": 22,
   "metadata": {},
   "outputs": [
    {
     "data": {
      "text/plain": [
       "3"
      ]
     },
     "execution_count": 22,
     "metadata": {},
     "output_type": "execute_result"
    }
   ],
   "source": [
    "len('matematicas') # Aplica a string\n",
    "len([1, 2, 3]) # Aplica a lista"
   ]
  },
  {
   "cell_type": "markdown",
   "metadata": {},
   "source": [
    "En la programación orientada a objetos también nos encontramos con funciones que tienen el mismo nombre, pero pueden ser aplicadas a diferentes objetos."
   ]
  },
  {
   "cell_type": "code",
   "execution_count": 23,
   "metadata": {},
   "outputs": [
    {
     "name": "stdout",
     "output_type": "stream",
     "text": [
      "Madrid es la capital de España\n",
      "En España se habla el español\n",
      "\n",
      "Lisboa es la capital de Portugal\n",
      "En Portugal se habla el portugués\n",
      "\n"
     ]
    }
   ],
   "source": [
    "class Spain():\n",
    "  def capital(self):\n",
    "    print('Madrid es la capital de España')\n",
    "\n",
    "  def language(self):\n",
    "    print('En España se habla el español')\n",
    "\n",
    "class Portugal():\n",
    "  def capital(self):\n",
    "    print('Lisboa es la capital de Portugal')\n",
    "\n",
    "  def language(self):\n",
    "    print('En Portugal se habla el portugués')\n",
    "\n",
    "spain = Spain()\n",
    "portugal = Portugal()\n",
    "for country in (spain, portugal):\n",
    "  country.capital()\n",
    "  country.language()\n",
    "  print('')"
   ]
  },
  {
   "cell_type": "markdown",
   "metadata": {},
   "source": [
    "Incluso cuando hablamos de herencia, también podemos encontrarnos con polimorfismo tal y como vimos por ejemplo con las clases `Person` y `SecondNamePerson`, donde ambas compartían el método `.complete_name()`"
   ]
  },
  {
   "cell_type": "code",
   "execution_count": 24,
   "metadata": {},
   "outputs": [],
   "source": [
    "class Person():\n",
    "\n",
    "  def __init__(self, name: str, surname: str, age: int) -> None:\n",
    "    self.name = name\n",
    "    self.surname = surname\n",
    "    self.age = age\n",
    "\n",
    "  @property\n",
    "  def complete_name(self) -> str:\n",
    "    return f'{self.name} {self.surname}'\n",
    "\n",
    "  @complete_name.setter\n",
    "  def complete_name(self, name_surname: str) -> None:\n",
    "    name, surname = name_surname.split(' ')\n",
    "    self.name = name\n",
    "    self.surname = surname"
   ]
  },
  {
   "cell_type": "code",
   "execution_count": 27,
   "metadata": {},
   "outputs": [],
   "source": [
    "class SecondNamePerson(Person):\n",
    "\n",
    "  @property\n",
    "  def complete_name(self):\n",
    "    return f'{self.name} {self.surname}'\n",
    "\n",
    "  @complete_name.setter\n",
    "  def complete_name(self, names_surname: str) -> None:\n",
    "    names = names_surname.split(' ')\n",
    "    self.surname = names[-1]\n",
    "    if len(names) > 2:\n",
    "      self.name = ' '.join(names[:(len(names)-1)])\n",
    "    elif len(names) == 2:\n",
    "      self.name = names[0]"
   ]
  },
  {
   "cell_type": "code",
   "execution_count": 28,
   "metadata": {},
   "outputs": [
    {
     "name": "stdout",
     "output_type": "stream",
     "text": [
      "Juan Gabriel\n",
      "Gomila\n"
     ]
    }
   ],
   "source": [
    "person2 = SecondNamePerson('Juan', 'Gomila', 32)\n",
    "person2.complete_name = 'Juan Gabriel Gomila'\n",
    "print( person2.name )\n",
    "print( person2.surname )"
   ]
  },
  {
   "cell_type": "markdown",
   "metadata": {},
   "source": [
    "#### Variables privadas en Python la técnica del Mangling"
   ]
  },
  {
   "cell_type": "code",
   "execution_count": 37,
   "metadata": {},
   "outputs": [],
   "source": [
    "class A:\n",
    "  def __init__(self) -> None:\n",
    "    self.__var = 123\n",
    "    self.name = 'Juan Gabriel'\n",
    "\n",
    "  def printVar(self):\n",
    "    print( self.__var )\n",
    "\n",
    "  def __printName(self):\n",
    "    print(self.name)"
   ]
  },
  {
   "cell_type": "code",
   "execution_count": 35,
   "metadata": {},
   "outputs": [],
   "source": [
    "x = A()"
   ]
  },
  {
   "cell_type": "code",
   "execution_count": 31,
   "metadata": {},
   "outputs": [
    {
     "name": "stdout",
     "output_type": "stream",
     "text": [
      "123\n"
     ]
    }
   ],
   "source": [
    "x.printVar()"
   ]
  },
  {
   "cell_type": "code",
   "execution_count": 32,
   "metadata": {},
   "outputs": [
    {
     "ename": "AttributeError",
     "evalue": "'A' object has no attribute '__var'",
     "output_type": "error",
     "traceback": [
      "\u001b[1;31m---------------------------------------------------------------------------\u001b[0m",
      "\u001b[1;31mAttributeError\u001b[0m                            Traceback (most recent call last)",
      "Cell \u001b[1;32mIn[32], line 1\u001b[0m\n\u001b[1;32m----> 1\u001b[0m x\u001b[39m.\u001b[39;49m__var\n",
      "\u001b[1;31mAttributeError\u001b[0m: 'A' object has no attribute '__var'"
     ]
    }
   ],
   "source": [
    "x.__var"
   ]
  },
  {
   "cell_type": "code",
   "execution_count": 36,
   "metadata": {},
   "outputs": [
    {
     "data": {
      "text/plain": [
       "'Juan Gabriel'"
      ]
     },
     "execution_count": 36,
     "metadata": {},
     "output_type": "execute_result"
    }
   ],
   "source": [
    "x.name"
   ]
  },
  {
   "cell_type": "code",
   "execution_count": 38,
   "metadata": {},
   "outputs": [
    {
     "ename": "AttributeError",
     "evalue": "'A' object has no attribute '__printName'",
     "output_type": "error",
     "traceback": [
      "\u001b[1;31m---------------------------------------------------------------------------\u001b[0m",
      "\u001b[1;31mAttributeError\u001b[0m                            Traceback (most recent call last)",
      "Cell \u001b[1;32mIn[38], line 1\u001b[0m\n\u001b[1;32m----> 1\u001b[0m x\u001b[39m.\u001b[39;49m__printName()\n",
      "\u001b[1;31mAttributeError\u001b[0m: 'A' object has no attribute '__printName'"
     ]
    }
   ],
   "source": [
    "x.__printName()"
   ]
  },
  {
   "cell_type": "code",
   "execution_count": 39,
   "metadata": {},
   "outputs": [],
   "source": [
    "class Info():\n",
    "  \n",
    "  def __init__(self, iterate):\n",
    "    self.list = []\n",
    "    self.__generatedate(iterate)\n",
    "\n",
    "  def generateData(self, iterate):\n",
    "    for item in iterate:\n",
    "      self.list.append(item)\n",
    "\n",
    "  __generateData = generateData\n",
    "\n",
    "class InfoSubClass(Info):\n",
    "\n",
    "  def generateData(self, keys, values):\n",
    "    for i in zip(keys, values):\n",
    "      self.list.append(i)\n",
    "\n",
    "class InfoSubclass(Info):\n",
    "  def generateData(self, keys, values):\n",
    "    for i in zip(keys, values):\n",
    "      self.list.append(i)"
   ]
  },
  {
   "cell_type": "code",
   "execution_count": null,
   "metadata": {},
   "outputs": [],
   "source": []
  }
 ],
 "metadata": {
  "kernelspec": {
   "display_name": "Python 3.11.0 64-bit",
   "language": "python",
   "name": "python3"
  },
  "language_info": {
   "codemirror_mode": {
    "name": "ipython",
    "version": 3
   },
   "file_extension": ".py",
   "mimetype": "text/x-python",
   "name": "python",
   "nbconvert_exporter": "python",
   "pygments_lexer": "ipython3",
   "version": "3.11.0"
  },
  "orig_nbformat": 4,
  "vscode": {
   "interpreter": {
    "hash": "72b2382ece9768098284d92bbc69d35954e75b60d1e25897d1389c232f4796f0"
   }
  }
 },
 "nbformat": 4,
 "nbformat_minor": 2
}
