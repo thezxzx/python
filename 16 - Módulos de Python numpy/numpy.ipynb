{
 "cells": [
  {
   "attachments": {},
   "cell_type": "markdown",
   "metadata": {},
   "source": [
    "#### Módulos de `Python`: `numpy`"
   ]
  },
  {
   "attachments": {},
   "cell_type": "markdown",
   "metadata": {},
   "source": [
    "###### `numpy`\n",
    "\n",
    "`numpy` es un módulo para trabajar con arrays, que son un tipo de lista, lo que mucho más rápido de procesar.\n",
    "\n",
    "El objeto array de `numpy` recibe el nombre de `ndarray`. Este tipo de dato es muy usado en el mundo de la ciencia de datos, donde la velocidad y los recursos son de gran importancia."
   ]
  },
  {
   "cell_type": "code",
   "execution_count": 1,
   "metadata": {},
   "outputs": [],
   "source": [
    "import numpy as np"
   ]
  },
  {
   "attachments": {},
   "cell_type": "markdown",
   "metadata": {},
   "source": [
    "Podemos comprobar la versión de `numpy` con la siguiente línea de código."
   ]
  },
  {
   "cell_type": "code",
   "execution_count": 3,
   "metadata": {},
   "outputs": [
    {
     "name": "stdout",
     "output_type": "stream",
     "text": [
      "1.24.1\n"
     ]
    }
   ],
   "source": [
    "print(np.__version__)"
   ]
  },
  {
   "attachments": {},
   "cell_type": "markdown",
   "metadata": {},
   "source": [
    "#### Creando arrays\n",
    "\n",
    "Para crear un `ndarray` usamos el método `.array()`.\n",
    "\n",
    "Lo podemos hacer a partir de una lista:"
   ]
  },
  {
   "cell_type": "code",
   "execution_count": 8,
   "metadata": {},
   "outputs": [
    {
     "name": "stdout",
     "output_type": "stream",
     "text": [
      "[1 2 3 4 5]\n"
     ]
    }
   ],
   "source": [
    "a: np.ndarray = np.array([1, 2, 3, 4, 5])\n",
    "print( a )"
   ]
  },
  {
   "cell_type": "code",
   "execution_count": 9,
   "metadata": {},
   "outputs": [
    {
     "name": "stdout",
     "output_type": "stream",
     "text": [
      "<class 'numpy.ndarray'>\n"
     ]
    }
   ],
   "source": [
    "print(type(a))"
   ]
  },
  {
   "attachments": {},
   "cell_type": "markdown",
   "metadata": {},
   "source": [
    "O bien, a partir de una tupla:"
   ]
  },
  {
   "cell_type": "code",
   "execution_count": 10,
   "metadata": {},
   "outputs": [
    {
     "name": "stdout",
     "output_type": "stream",
     "text": [
      "[1 2 3 4 5 6 7]\n"
     ]
    }
   ],
   "source": [
    "b = np.array((1, 2, 3, 4, 5, 6, 7))\n",
    "print( b )"
   ]
  },
  {
   "cell_type": "code",
   "execution_count": 11,
   "metadata": {},
   "outputs": [
    {
     "name": "stdout",
     "output_type": "stream",
     "text": [
      "<class 'numpy.ndarray'>\n"
     ]
    }
   ],
   "source": [
    "print(type(b))"
   ]
  },
  {
   "attachments": {},
   "cell_type": "markdown",
   "metadata": {},
   "source": [
    "#### Dimensiones de un array\n",
    "\n",
    "La dimensión de un array viene dada por el nivel de profundidad de éste.\n",
    "\n",
    "Para saber la dimensión de un array, podemos usar la propiedad `.ndim`.\n",
    "\n",
    "**¡Cuidado!**. En las versiones actuales de `Python`, si creamos un array *n*-dimensional, entonces todos los arrays de dimensión fija *m* < *n*, deben contener el mismo número de elementos. Es decir, si creamos un array de 4 dimensiones, todos los arrays de 3 dimensiones deben tener el mismo número de elementos; por su parte, todos los arrays de 2 dimensiones, deben tener el mismo número de elementos; y lo mismo para los arrays 1-dimensionales. Esto se debe a que en caso contrario, el atributo `.shape` que veremos a continuación no tendría sentido."
   ]
  },
  {
   "attachments": {},
   "cell_type": "markdown",
   "metadata": {},
   "source": [
    "##### Arrays 0-dimensionales\n",
    "\n",
    "Son los arrays constantes:"
   ]
  },
  {
   "cell_type": "code",
   "execution_count": 12,
   "metadata": {},
   "outputs": [
    {
     "data": {
      "text/plain": [
       "0"
      ]
     },
     "execution_count": 12,
     "metadata": {},
     "output_type": "execute_result"
    }
   ],
   "source": [
    "d0 = np.array(77)\n",
    "d0.ndim"
   ]
  },
  {
   "attachments": {},
   "cell_type": "markdown",
   "metadata": {},
   "source": [
    "##### Arrays 1-dimensionales\n",
    "\n",
    "Son los arrays con un solo nivel de profundidad:"
   ]
  },
  {
   "cell_type": "code",
   "execution_count": 13,
   "metadata": {},
   "outputs": [
    {
     "data": {
      "text/plain": [
       "1"
      ]
     },
     "execution_count": 13,
     "metadata": {},
     "output_type": "execute_result"
    }
   ],
   "source": [
    "d1 = np.array([-1, 0, 1])\n",
    "d1.ndim"
   ]
  },
  {
   "attachments": {},
   "cell_type": "markdown",
   "metadata": {},
   "source": [
    "##### Arrays 2-dimensionales\n",
    "\n",
    "Son los arrays que tienen por elementos arrays unidimensionales:"
   ]
  },
  {
   "cell_type": "code",
   "execution_count": 15,
   "metadata": {},
   "outputs": [
    {
     "data": {
      "text/plain": [
       "2"
      ]
     },
     "execution_count": 15,
     "metadata": {},
     "output_type": "execute_result"
    }
   ],
   "source": [
    "d2 = np.array( [ [-3, -2], [-1, 0] ] )\n",
    "d2.ndim"
   ]
  },
  {
   "attachments": {},
   "cell_type": "markdown",
   "metadata": {},
   "source": [
    "##### Arrays 3-dimensionales\n",
    "\n",
    "Son los arrays que tienen por elementos arrays bidimensionales:"
   ]
  },
  {
   "cell_type": "code",
   "execution_count": 16,
   "metadata": {},
   "outputs": [
    {
     "data": {
      "text/plain": [
       "3"
      ]
     },
     "execution_count": 16,
     "metadata": {},
     "output_type": "execute_result"
    }
   ],
   "source": [
    "d3 = np.array([ [[1,2,3,4], [4,3,2,1,]], [[1,0,1,0], [-1,1,-1,1]] ])\n",
    "d3.ndim"
   ]
  },
  {
   "attachments": {},
   "cell_type": "markdown",
   "metadata": {},
   "source": [
    "#### Arrays multidimensionales\n",
    "\n",
    "Un array puede tener cualquier número finito de dimensiones.\n",
    "\n",
    "A la hora de crear un `ndarray`, podemos indicar como parámetro el número de dimensiones que queramos que tenga dicho array con el argumento `ndmin`."
   ]
  },
  {
   "cell_type": "code",
   "execution_count": 17,
   "metadata": {},
   "outputs": [
    {
     "name": "stdout",
     "output_type": "stream",
     "text": [
      "El array a tiene 7 dimensiones\n",
      "[[[[[[[-2 -1  0  1  2]]]]]]]\n"
     ]
    }
   ],
   "source": [
    "a = np.array([-2, -1, 0, 1, 2], ndmin=7)\n",
    "print(f'El array a tiene {a.ndim} dimensiones')\n",
    "print( a )"
   ]
  },
  {
   "attachments": {},
   "cell_type": "markdown",
   "metadata": {},
   "source": [
    "#### `Shape` de un array\n",
    "\n",
    "`Shape`. Es el número de elementos de cada dimensión.\n",
    "\n",
    "Lo calculamos con el atributo `.shape`"
   ]
  },
  {
   "cell_type": "code",
   "execution_count": 2,
   "metadata": {},
   "outputs": [
    {
     "data": {
      "text/plain": [
       "(3,)"
      ]
     },
     "execution_count": 2,
     "metadata": {},
     "output_type": "execute_result"
    }
   ],
   "source": [
    "# Hay 3 elementos en el array 1-dimensional\n",
    "d1 = np.array([-1, 0, 1])\n",
    "d1.shape"
   ]
  },
  {
   "cell_type": "code",
   "execution_count": 3,
   "metadata": {},
   "outputs": [
    {
     "data": {
      "text/plain": [
       "(2, 2)"
      ]
     },
     "execution_count": 3,
     "metadata": {},
     "output_type": "execute_result"
    }
   ],
   "source": [
    "# Hay 2 elementos en el array 2D y 2 elementtos en los arrays 1D\n",
    "d2 = np.array([[-3, -2], [-1, 0]])\n",
    "d2.shape"
   ]
  },
  {
   "cell_type": "code",
   "execution_count": 4,
   "metadata": {},
   "outputs": [
    {
     "data": {
      "text/plain": [
       "(2, 2, 4)"
      ]
     },
     "execution_count": 4,
     "metadata": {},
     "output_type": "execute_result"
    }
   ],
   "source": [
    "# Hay 2 elementos en el array 3D, 2 elementos en cada array 2D y 4 elementos en cada array 1D\n",
    "\n",
    "d3 = np.array([[[1, 2, 3, 4], [4, 3, 2, 1]], [[1, 0, 1, 0], [-1, 1, -1, 1]]])\n",
    "d3.shape"
   ]
  },
  {
   "attachments": {},
   "cell_type": "markdown",
   "metadata": {},
   "source": [
    "La tupla resultantet del atribut `.shape` se interpreta del siguiente modo:\n",
    "\n",
    "* Cada elementos de la tupla nos indica el número de elementos que hay en cada dimensión.\n",
    "* El primer índice se corresponde con la mayor dimensión, correspondiente al valor obtenido con `ndim`.\n",
    "* El último índice se corresponde con la menor dimensión (dimensión 1).\n",
    "\n",
    "Aquí es donde podemos observar la razón por la cuál todos los arrays de misma dimensión *m* perttenecientes a un array *n*-dimensional, debe ttener el mismo número de elementos.\n",
    "\n",
    "Por ejemplo, dado un array 4D, todos los arrays 2D pertetnecientes a este deben tener el mismo número de elementos, que será el que nos devuelva la tupla, resultante de aplicar `.shape` en el índice correspondiente, que en este caso sería el índice 2 (tercer y penúltimo elemento de la tupla)."
   ]
  },
  {
   "attachments": {},
   "cell_type": "markdown",
   "metadata": {},
   "source": [
    "#### Reshape de un array\n",
    "\n",
    "**Reshape**. Cambiar la `shape` de un array.\n",
    "\n",
    "Mediante el proceso de reshape, podemos añadir o eliminar dimensiones, o bien cambiar el número de elementos de cada dimensión.\n",
    "\n",
    "___"
   ]
  },
  {
   "attachments": {},
   "cell_type": "markdown",
   "metadata": {},
   "source": [
    "##### Ejemplo 1\n",
    "\n",
    "Partiremos de un array 1D con 8 elementos y lo transformaremos en un array 2D con 2 arrays 1D, cada uno de ellos con 4 elementos."
   ]
  },
  {
   "cell_type": "code",
   "execution_count": 5,
   "metadata": {},
   "outputs": [
    {
     "name": "stdout",
     "output_type": "stream",
     "text": [
      "d1 = [1 2 3 4 5 6 7 8]\n",
      "Dimensión: $1\n",
      "Shape: (8,)\n"
     ]
    }
   ],
   "source": [
    "d1 = np.array([1, 2, 3, 4, 5, 6, 7, 8])\n",
    "print(f'd1 = {d1}')\n",
    "print(f'Dimensión: ${d1.ndim}')\n",
    "print(f'Shape: {d1.shape}')"
   ]
  },
  {
   "attachments": {},
   "cell_type": "markdown",
   "metadata": {},
   "source": [
    "Nuestro array 1D `d1` consta de 8 elementos."
   ]
  },
  {
   "cell_type": "code",
   "execution_count": 6,
   "metadata": {},
   "outputs": [
    {
     "name": "stdout",
     "output_type": "stream",
     "text": [
      "d2 = [[1 2 3 4]\n",
      " [5 6 7 8]]\n",
      "Dimensión: 2\n",
      "Shape: (2, 4)\n"
     ]
    }
   ],
   "source": [
    "d2 = d1.reshape(2, 4)\n",
    "print(f'd2 = {d2}')\n",
    "print(f'Dimensión: {d2.ndim}')\n",
    "print(f'Shape: {d2.shape}')"
   ]
  },
  {
   "attachments": {},
   "cell_type": "markdown",
   "metadata": {},
   "source": [
    "Nuestro nuevo array 2D `d2` consta de 2 arrays de dimensión 1, con 4 elementos cada uno. De modo que en total, seguimos teniendo los 8 elementos originales, pero con diferentes `shape`.\n",
    "\n",
    "**¡Cuidado!** A la hora de llevar a cabo un reshape, el producto de los elementos de la tupla resultante de aplicar `.shape` debe coincidir con el número total de elementos que tiene el array original.\n",
    "\n",
    "En este caso, partíamos de 8 elementos en 1 dimensión y hemos acabado en 2 * 4 = 8 elementos distribuidos en 2 dimensiones.\n",
    "\n",
    "___\n",
    "\n",
    "___"
   ]
  },
  {
   "attachments": {},
   "cell_type": "markdown",
   "metadata": {},
   "source": [
    "##### Ejemplo 2\n",
    "\n",
    "En este caso, partiremos de un array 1D y lo transformaremos en un array 3D"
   ]
  },
  {
   "cell_type": "code",
   "execution_count": 7,
   "metadata": {},
   "outputs": [
    {
     "name": "stdout",
     "output_type": "stream",
     "text": [
      "d1 = [ 1  2  3  4  5  6  7  8  9 10 11 12 13 14 15 16]\n",
      "Dimensión: 1\n",
      "Shape: (16,)\n"
     ]
    }
   ],
   "source": [
    "d1 = np.array([1, 2, 3, 4, 5, 6, 7, 8, 9, 10, 11, 12, 13, 14, 15, 16])\n",
    "print(f'd1 = {d1}')\n",
    "print(f'Dimensión: {d1.ndim}')\n",
    "print(f'Shape: {d1.shape}')"
   ]
  },
  {
   "attachments": {},
   "cell_type": "markdown",
   "metadata": {},
   "source": [
    "Nuestro array 1D consta de 16 elementos."
   ]
  },
  {
   "cell_type": "code",
   "execution_count": 9,
   "metadata": {},
   "outputs": [
    {
     "name": "stdout",
     "output_type": "stream",
     "text": [
      "d3 = [[[ 1  2]\n",
      "  [ 3  4]\n",
      "  [ 5  6]\n",
      "  [ 7  8]]\n",
      "\n",
      " [[ 9 10]\n",
      "  [11 12]\n",
      "  [13 14]\n",
      "  [15 16]]]\n",
      "Dimensión: 3\n",
      "Shape: (2, 4, 2)\n"
     ]
    }
   ],
   "source": [
    "d3 = d1.reshape(2, 4, 2)\n",
    "print(f'd3 = {d3}')\n",
    "print(f'Dimensión: {d3.ndim}')\n",
    "print(f'Shape: {d3.shape}')"
   ]
  },
  {
   "attachments": {},
   "cell_type": "markdown",
   "metadata": {},
   "source": [
    "Nuestro array 3D constat de 2 arrays bidimensionales, cada uno con 4 arrays 1D, cada cual contiene 2 elementtos.\n",
    "\n",
    "En total, hay 2 * 4 * 2 = 16 elementos, tal y como teníamos originalmente.\n",
    "\n",
    "___"
   ]
  },
  {
   "attachments": {},
   "cell_type": "markdown",
   "metadata": {},
   "source": [
    "##### Ejemplo 3\n",
    "\n",
    "En este caso, vamos a transformar un array 2D a un array 5D"
   ]
  },
  {
   "cell_type": "code",
   "execution_count": 10,
   "metadata": {},
   "outputs": [
    {
     "name": "stdout",
     "output_type": "stream",
     "text": [
      "d2 = [[-10  -9  -8  -7]\n",
      " [ -6  -5  -4  -3]\n",
      " [ -2  -1   1   2]\n",
      " [  3   4   5   6]\n",
      " [  7   8   9  10]]\n",
      "Dimensión: 2\n",
      "Shape: (5, 4)\n"
     ]
    }
   ],
   "source": [
    "d2 = np.array([[-10, -9, -8, -7], [-6, -5, -4, -3], [-2, -1, 1, 2], [3, 4, 5, 6], [7, 8, 9, 10]])\n",
    "print(f'd2 = {d2}')\n",
    "print(f'Dimensión: {d2.ndim}')\n",
    "print(f'Shape: {d2.shape}')"
   ]
  },
  {
   "attachments": {},
   "cell_type": "markdown",
   "metadata": {},
   "source": [
    "Partimos de un array 2D, que tiene 5 arrays 1D, cada uno con 4 elementos. En total hay 20 elementos."
   ]
  },
  {
   "cell_type": "code",
   "execution_count": 11,
   "metadata": {},
   "outputs": [
    {
     "name": "stdout",
     "output_type": "stream",
     "text": [
      "d5 = [[[[[-10  -9  -8  -7  -6]]\n",
      "\n",
      "   [[ -5  -4  -3  -2  -1]]]]\n",
      "\n",
      "\n",
      "\n",
      " [[[[  1   2   3   4   5]]\n",
      "\n",
      "   [[  6   7   8   9  10]]]]]\n",
      "Dimensión: 5\n",
      "Shape: (2, 1, 2, 1, 5)\n"
     ]
    }
   ],
   "source": [
    "d5 = d2.reshape(2, 1, 2, 1, 5)\n",
    "print(f'd5 = {d5}')\n",
    "print(f'Dimensión: {d5.ndim}')\n",
    "print(f'Shape: {d5.shape}')"
   ]
  },
  {
   "attachments": {},
   "cell_type": "markdown",
   "metadata": {},
   "source": [
    "Hemos transformado nuestro array original 2D en un array 5D que consta de 2 arrays 4D, cada uno de los cuales contiene un array 3D, que tiene 2 arrays 2D con 1 array 1D en su interior que constta de 5 elementos. En total, 2 * 1 * 2 * 1 * 5 = 20\n",
    "\n",
    "___\n",
    "\n",
    "**Observación**. El resultatdo de un `.reshape()` es una `view` del array original."
   ]
  },
  {
   "cell_type": "code",
   "execution_count": 12,
   "metadata": {},
   "outputs": [
    {
     "name": "stdout",
     "output_type": "stream",
     "text": [
      "El array transformado a partir del array d2 del Ejemplo 3 es una view, \n",
      "pues al aplicar .base se nos devuelve el array 2D original: \n",
      " [[-10  -9  -8  -7]\n",
      " [ -6  -5  -4  -3]\n",
      " [ -2  -1   1   2]\n",
      " [  3   4   5   6]\n",
      " [  7   8   9  10]]\n"
     ]
    }
   ],
   "source": [
    "print('El array transformado a partir del array d2 del Ejemplo 3 es una view, \\npues al aplicar .base se nos devuelve el array 2D original: \\n', d5.base)"
   ]
  },
  {
   "attachments": {},
   "cell_type": "markdown",
   "metadata": {},
   "source": [
    "#### Dimensión desconocida\n",
    "\n",
    "Al hacer un reshape no siempre hay que especificar el número exacto de una de las dimensiones como parámetro del método `.reshape()`.\n",
    "\n",
    "Si desconocemos una dimensión, basta con indicar -1 en el lugar adecuado y `numpy` la calculará por nosotros.\n",
    "\n",
    "Tomando el array 2D del Ejemplo 3."
   ]
  },
  {
   "cell_type": "code",
   "execution_count": 13,
   "metadata": {},
   "outputs": [],
   "source": [
    "d2 = np.array([[-10, -9, -8, -7], [-6, -5, -4, -3], [-2, -1, 1, 2], [3, 4, 5, 6], [7, 8, 9, 10]])"
   ]
  },
  {
   "attachments": {},
   "cell_type": "markdown",
   "metadata": {},
   "source": [
    "Supongamos que no sabemos la última dimensión a la hora de transformarlo al array 5D. En ese caso, introducimos -1 como parámetro."
   ]
  },
  {
   "cell_type": "code",
   "execution_count": 14,
   "metadata": {},
   "outputs": [
    {
     "name": "stdout",
     "output_type": "stream",
     "text": [
      "d5 = [[[[[-10  -9  -8  -7  -6]]\n",
      "\n",
      "   [[ -5  -4  -3  -2  -1]]]]\n",
      "\n",
      "\n",
      "\n",
      " [[[[  1   2   3   4   5]]\n",
      "\n",
      "   [[  6   7   8   9  10]]]]]\n",
      "Dimensión: 5\n",
      "Shape: (2, 1, 2, 1, 5)\n"
     ]
    }
   ],
   "source": [
    "d5 = d2.reshape(2, 1, 2, 1, -1)\n",
    "print(f'd5 = {d5}')\n",
    "print(f'Dimensión: {d5.ndim}')\n",
    "print(f'Shape: {d5.shape}')"
   ]
  },
  {
   "attachments": {},
   "cell_type": "markdown",
   "metadata": {},
   "source": [
    "Observamos que `numpy` ha calculado dicha dimensión por nosotros, que coincide con el resultado indicado en el Ejemplo 3.\n",
    "\n",
    "**¡Cuidado!** Solamentte podemos pasar -1 por parámetro al método `.reshape()` para una sola dimensión.\n",
    "\n",
    "**Observación**. El uso del -1 nos puede ser muy útil cuando queramos transformar cualquier array multidimensional a un array unidimensional.\n",
    "\n",
    "Por ejemplo, partiendo del array 5D del Ejemplo 3, lo podemos transformar a un array unidimensional del siguientte modo:"
   ]
  },
  {
   "cell_type": "code",
   "execution_count": 15,
   "metadata": {},
   "outputs": [
    {
     "name": "stdout",
     "output_type": "stream",
     "text": [
      "d1 = [-10  -9  -8  -7  -6  -5  -4  -3  -2  -1   1   2   3   4   5   6   7   8\n",
      "   9  10]\n",
      "Dimensión: 1\n",
      "Shape: (20,)\n"
     ]
    }
   ],
   "source": [
    "d1 = d5.reshape(-1)\n",
    "print(f'd1 = {d1}')\n",
    "print(f'Dimensión: {d1.ndim}')\n",
    "print(f'Shape: {d1.shape}')"
   ]
  },
  {
   "attachments": {},
   "cell_type": "markdown",
   "metadata": {},
   "source": [
    "#### Elementos de un array\n",
    "\n",
    "##### Caso unidimensional\n",
    "\n",
    "Podemos acceder a los elementos de un array con la sintaxis `[]`.\n",
    "\n",
    "**Observación**. Recordar que en `Python` los índices empezaban por 0."
   ]
  },
  {
   "cell_type": "code",
   "execution_count": 16,
   "metadata": {},
   "outputs": [
    {
     "name": "stdout",
     "output_type": "stream",
     "text": [
      "[2 3 4 5 6]\n",
      "Primer elemento = 2\n",
      "Segundo elemento = 3\n",
      "Último elemento = 6\n"
     ]
    }
   ],
   "source": [
    "a = np.array([2, 3, 4, 5, 6])\n",
    "print( a )\n",
    "\n",
    "print(f'Primer elemento = {a[0]}')\n",
    "print(f'Segundo elemento = {a[1]}')\n",
    "print(f'Último elemento = {a[-1]}')"
   ]
  },
  {
   "attachments": {},
   "cell_type": "markdown",
   "metadata": {},
   "source": [
    "##### Caso multidimensional\n",
    "\n",
    "A la hora de acceder a elementos de un array multidimensional, tendremos que empezar indicando el índice del elemento en el nivel menos profundo y acabar indicando el índice del elemento en nivel más profundo, todos entre `[]` separados por comas.\n",
    "\n",
    "En el caso de un array bidimensional, como el que se muestra a continuación."
   ]
  },
  {
   "cell_type": "code",
   "execution_count": 17,
   "metadata": {},
   "outputs": [
    {
     "data": {
      "text/plain": [
       "2"
      ]
     },
     "execution_count": 17,
     "metadata": {},
     "output_type": "execute_result"
    }
   ],
   "source": [
    "a = np.array([[-10, -9], [7, 8]])\n",
    "a.ndim"
   ]
  },
  {
   "attachments": {},
   "cell_type": "markdown",
   "metadata": {},
   "source": [
    "Para acceder al elemento -9, primero habrá que indicar el índice 0, pues el array unidimensional al que pertenece se encuentra en el índice 0 del nivel más profundo. A continuación, indicaremos el índice 1, pues esa es la posición que ocupa el elemento de nuestro interés dentro del array unidimensional, que se trata del nivel más profundo en este caso:"
   ]
  },
  {
   "cell_type": "code",
   "execution_count": 18,
   "metadata": {},
   "outputs": [
    {
     "data": {
      "text/plain": [
       "-9"
      ]
     },
     "execution_count": 18,
     "metadata": {},
     "output_type": "execute_result"
    }
   ],
   "source": [
    "a[0, 1]"
   ]
  },
  {
   "attachments": {},
   "cell_type": "markdown",
   "metadata": {},
   "source": [
    "En el caso de un array tridimensinoal, como el que se muestra a continuación."
   ]
  },
  {
   "cell_type": "code",
   "execution_count": 19,
   "metadata": {},
   "outputs": [
    {
     "data": {
      "text/plain": [
       "3"
      ]
     },
     "execution_count": 19,
     "metadata": {},
     "output_type": "execute_result"
    }
   ],
   "source": [
    "a = np.array([[[1, 2, 3], [-3, -2, -1]], [[4, 5, 6], [7, 8, 9]]])\n",
    "a.ndim"
   ]
  },
  {
   "attachments": {},
   "cell_type": "markdown",
   "metadata": {},
   "source": [
    "Para acceder al elemento 7, primero habrá que indicar el índice 1, pues el array 2-dimensional al que pertenece se encuentra en la posición 1 del nivel menos profundo, entramos en el siguiente nivel, el array 2-dimensional. Ahora, la posición que hay que indicar es la 1, pues el array 1-dimensional ocupa dicho índice dentro del array 2-dimensional. Finalmente, llegamos al nivel más profundo, el array 1-dimensional, y ahora hay que indiciar el índice 0, pues esa es la posición que ocupa el elemento de nuestrto interés dentro del array unidimensional."
   ]
  },
  {
   "cell_type": "code",
   "execution_count": 20,
   "metadata": {},
   "outputs": [
    {
     "data": {
      "text/plain": [
       "7"
      ]
     },
     "execution_count": 20,
     "metadata": {},
     "output_type": "execute_result"
    }
   ],
   "source": [
    "a[1, 1, 0]"
   ]
  },
  {
   "attachments": {},
   "cell_type": "markdown",
   "metadata": {},
   "source": [
    "Dado un array multidimensional, si lo que queremos es que se nos devuelva un array de dimensión menor, entonces solamente tenemos que indicar sus índices tal cuál hacíamos para obtener un elemento.\n",
    "\n",
    "Dado el array `a` tridimensional anterior, si queremos acceder al array unidimensional `[-3, -2, -1]`, entonces indicaremos entre `[]` los índices 0 y, a continuación, 1. Pues dicho array se encuentra en el primer array bidimensional y dentro de éste, ocupa la segunda posición, es decir, el índice 1:"
   ]
  },
  {
   "cell_type": "code",
   "execution_count": 21,
   "metadata": {},
   "outputs": [
    {
     "data": {
      "text/plain": [
       "array([-3, -2, -1])"
      ]
     },
     "execution_count": 21,
     "metadata": {},
     "output_type": "execute_result"
    }
   ],
   "source": [
    "a[0, 1]"
   ]
  },
  {
   "attachments": {},
   "cell_type": "markdown",
   "metadata": {},
   "source": [
    "##### Índices negativos\n",
    "\n",
    "Al igual que para el caso de las listas, los elementos de los `ndarrays` también pueden ser accedidos mediante índices negativos.\n",
    "\n",
    "El índice `-1` hace referencia al último elemento; el `-2`, al penúltimo; el `-3` al antepenúltimo; y así sucesivamente."
   ]
  },
  {
   "attachments": {},
   "cell_type": "markdown",
   "metadata": {},
   "source": [
    "#### Slicing\n",
    "\n",
    "En `Python`, **slicing** hace referencia a tomar elemenetos desde un índice dado hasta otro proporcionado.\n",
    "\n",
    "Ya conocemos la sintaxis:\n",
    "\n",
    "* `[inicio:fin]` donde iremos desde el índice `inicio` hasta el índice `fin`-1, y lo haremos de 1 en 1.\n",
    "* `[inicio:fin:paso]` donde iremos desde el índice `inicio` hasta el índice `fin`-1, y lo haremos de `paso` en `paso`."
   ]
  },
  {
   "attachments": {},
   "cell_type": "markdown",
   "metadata": {},
   "source": [
    "##### Caso unidimensional"
   ]
  },
  {
   "cell_type": "code",
   "execution_count": 22,
   "metadata": {},
   "outputs": [],
   "source": [
    "# Array unidimensional\n",
    "al = [9, 8, 7, 6, 5, 4, 3]"
   ]
  },
  {
   "cell_type": "code",
   "execution_count": 23,
   "metadata": {},
   "outputs": [
    {
     "data": {
      "text/plain": [
       "[8, 7, 6]"
      ]
     },
     "execution_count": 23,
     "metadata": {},
     "output_type": "execute_result"
    }
   ],
   "source": [
    "# Del segundo elemento al cuarto de 1 en 1\n",
    "al[1:4]"
   ]
  },
  {
   "cell_type": "code",
   "execution_count": 24,
   "metadata": {},
   "outputs": [
    {
     "data": {
      "text/plain": [
       "[9, 8, 7, 6, 5, 4]"
      ]
     },
     "execution_count": 24,
     "metadata": {},
     "output_type": "execute_result"
    }
   ],
   "source": [
    "# Del primer elemento al sexto de 1 en 1\n",
    "al[:6]"
   ]
  },
  {
   "cell_type": "code",
   "execution_count": 25,
   "metadata": {},
   "outputs": [
    {
     "data": {
      "text/plain": [
       "[7, 6, 5, 4, 3]"
      ]
     },
     "execution_count": 25,
     "metadata": {},
     "output_type": "execute_result"
    }
   ],
   "source": [
    "# Del tercer elemento al último de 1 en 1\n",
    "al[2:]"
   ]
  },
  {
   "cell_type": "code",
   "execution_count": 26,
   "metadata": {},
   "outputs": [
    {
     "data": {
      "text/plain": [
       "[8, 6, 4]"
      ]
     },
     "execution_count": 26,
     "metadata": {},
     "output_type": "execute_result"
    }
   ],
   "source": [
    "# Del segundo elemento al sexto de 2 en 2\n",
    "al[1:6:2]"
   ]
  },
  {
   "cell_type": "code",
   "execution_count": 27,
   "metadata": {},
   "outputs": [
    {
     "data": {
      "text/plain": [
       "[9, 7, 5]"
      ]
     },
     "execution_count": 27,
     "metadata": {},
     "output_type": "execute_result"
    }
   ],
   "source": [
    "# Del primer elemento al quinto de 2 en 2\n",
    "al[:5:2]"
   ]
  },
  {
   "cell_type": "code",
   "execution_count": 28,
   "metadata": {},
   "outputs": [
    {
     "data": {
      "text/plain": [
       "[7, 4]"
      ]
     },
     "execution_count": 28,
     "metadata": {},
     "output_type": "execute_result"
    }
   ],
   "source": [
    "# Del segundo elemento al último de 3 en 3\n",
    "al[2::3]"
   ]
  },
  {
   "cell_type": "code",
   "execution_count": 29,
   "metadata": {},
   "outputs": [
    {
     "data": {
      "text/plain": [
       "[9, 5]"
      ]
     },
     "execution_count": 29,
     "metadata": {},
     "output_type": "execute_result"
    }
   ],
   "source": [
    "# Del primer elemento al último de 4 en 4\n",
    "al[::4]"
   ]
  },
  {
   "attachments": {},
   "cell_type": "markdown",
   "metadata": {},
   "source": [
    "#### Caso multidimensional"
   ]
  },
  {
   "cell_type": "code",
   "execution_count": 8,
   "metadata": {},
   "outputs": [
    {
     "data": {
      "text/plain": [
       "4"
      ]
     },
     "execution_count": 8,
     "metadata": {},
     "output_type": "execute_result"
    }
   ],
   "source": [
    "a4 = np.array(\n",
    "  [\n",
    "    [[[-211, -210,], [-29, -28], [-27, -26]], [[-25, -24], [-23, -22], [-21, -20]]],\n",
    "    [[[-111, -110], [-19, -18], [-17, -16]], [[-15, -14], [-13, -12], [-11, -10]]],\n",
    "    [[[111, 110], [19, 18], [17, 16]], [[15, 14], [13, 12], [11, 10]]],\n",
    "    [[[211, 210], [29, 28], [27, 26]], [[25, 24], [23, 22], [21, 20]]]\n",
    "  ]\n",
    ")\n",
    "\n",
    "a4.ndim"
   ]
  },
  {
   "attachments": {},
   "cell_type": "markdown",
   "metadata": {},
   "source": [
    "El array 4-dimensional `a4` consta de arrays tridimensionales, cada uno de ellos con 2 arrays bidimensionales que contienen cada uno 3 arrays dimensionales."
   ]
  },
  {
   "cell_type": "code",
   "execution_count": 9,
   "metadata": {},
   "outputs": [
    {
     "data": {
      "text/plain": [
       "array([[[[-111, -110],\n",
       "         [ -19,  -18],\n",
       "         [ -17,  -16]],\n",
       "\n",
       "        [[ -15,  -14],\n",
       "         [ -13,  -12],\n",
       "         [ -11,  -10]]],\n",
       "\n",
       "\n",
       "       [[[ 111,  110],\n",
       "         [  19,   18],\n",
       "         [  17,   16]],\n",
       "\n",
       "        [[  15,   14],\n",
       "         [  13,   12],\n",
       "         [  11,   10]]]])"
      ]
     },
     "execution_count": 9,
     "metadata": {},
     "output_type": "execute_result"
    }
   ],
   "source": [
    "# Mostramos del segundo al tercer array 3D\n",
    "a4[1:3]"
   ]
  },
  {
   "cell_type": "code",
   "execution_count": 11,
   "metadata": {},
   "outputs": [
    {
     "data": {
      "text/plain": [
       "array([[-25, -24],\n",
       "       [-23, -22]])"
      ]
     },
     "execution_count": 11,
     "metadata": {},
     "output_type": "execute_result"
    }
   ],
   "source": [
    "# Del segundo array 2D del primer array 3D, mostramos los dos primeros arrays 1D\n",
    "a4[0, 1, :2]"
   ]
  },
  {
   "cell_type": "code",
   "execution_count": 13,
   "metadata": {},
   "outputs": [
    {
     "data": {
      "text/plain": [
       "array([[-19, -18],\n",
       "       [ 19,  18],\n",
       "       [ 29,  28]])"
      ]
     },
     "execution_count": 13,
     "metadata": {},
     "output_type": "execute_result"
    }
   ],
   "source": [
    "# Del segundo al último array 3D, mostramos el segundo array 1D del primer array 2D\n",
    "a4[1:, 0, 1]"
   ]
  },
  {
   "attachments": {},
   "cell_type": "markdown",
   "metadata": {},
   "source": [
    "**Observación.** Al giaul que para acceder a elementos, los índices negativos también funcionan en el slicing de arrays (Negative Slicing)"
   ]
  },
  {
   "cell_type": "code",
   "execution_count": 14,
   "metadata": {},
   "outputs": [
    {
     "data": {
      "text/plain": [
       "array([[16, 10],\n",
       "       [26, 20]])"
      ]
     },
     "execution_count": 14,
     "metadata": {},
     "output_type": "execute_result"
    }
   ],
   "source": [
    "# De los últimos arrays 3D, mostramos el último elemento del array 1D de cada array 2D\n",
    "a4[-2:, :, -1, -1]"
   ]
  },
  {
   "attachments": {},
   "cell_type": "markdown",
   "metadata": {},
   "source": [
    "#### Filtrando arrays\n",
    "\n",
    "Filtrar un array implica la selección de elementos de un array existent que satisfagan una condición y crear un nuevo array con dichos elementos.\n",
    "\n",
    "La sintaxis es muy similar al slicing, pero en vez de eso, entre corchetes indicamos una condición booleana. Los elementos que satisfagan la condición serán los que permanezcan, mientras que el resto serán omitidos.\n",
    "\n",
    "Visto de otro modo, la condición crea un array booleano. Aquellas posiciones ocuapdas por un `True` serán las contenidas en el array filtrado, mientrás que las que estén ocupadas por `False` (porque no satisfacen la condición), serán descargadas."
   ]
  },
  {
   "cell_type": "code",
   "execution_count": 15,
   "metadata": {},
   "outputs": [
    {
     "name": "stdout",
     "output_type": "stream",
     "text": [
      "[4]\n"
     ]
    }
   ],
   "source": [
    "a = np.array([4, 3, 2, 1])\n",
    "b = a[a == 4]\n",
    "print( b )"
   ]
  },
  {
   "cell_type": "code",
   "execution_count": 16,
   "metadata": {},
   "outputs": [
    {
     "name": "stdout",
     "output_type": "stream",
     "text": [
      "[4 2]\n"
     ]
    }
   ],
   "source": [
    "c = a[a % 2 == 0]\n",
    "print( c )"
   ]
  },
  {
   "cell_type": "code",
   "execution_count": 18,
   "metadata": {},
   "outputs": [
    {
     "name": "stdout",
     "output_type": "stream",
     "text": [
      "[2 1]\n"
     ]
    }
   ],
   "source": [
    "d = a[a <= 2]\n",
    "print( d )"
   ]
  },
  {
   "attachments": {},
   "cell_type": "markdown",
   "metadata": {},
   "source": [
    "#### Tipos de datos en `numpy`\n",
    "\n",
    "Por defecto, `Python` tiene los siguientes tipos de dato:\n",
    "\n",
    "* `int`: integer\n",
    "* `float`: float\n",
    "* `complex`: complex float\n",
    "* `bool`: boolean\n",
    "* `str`: string\n",
    "\n",
    "En `numpy` encontramos tipos de datos adicionales:\n",
    "\n",
    "* `i`: integer\n",
    "* `u`: unsigned integer\n",
    "* `f`: float\n",
    "* `c`: complex float\n",
    "* `b`: boolean\n",
    "* `m`: timedelta\n",
    "* `M`: datetime\n",
    "* `o`: object\n",
    "* `s`: string\n",
    "* `U`: unicode string\n",
    "* `V`: void"
   ]
  },
  {
   "attachments": {},
   "cell_type": "markdown",
   "metadata": {},
   "source": [
    "Para comprobar el tipo de dato de un array, usamos el método `.dtype`"
   ]
  },
  {
   "cell_type": "code",
   "execution_count": 19,
   "metadata": {},
   "outputs": [
    {
     "name": "stdout",
     "output_type": "stream",
     "text": [
      "[1 2 3]\n"
     ]
    },
    {
     "data": {
      "text/plain": [
       "dtype('int64')"
      ]
     },
     "execution_count": 19,
     "metadata": {},
     "output_type": "execute_result"
    }
   ],
   "source": [
    "a = np.array([1,2,3])\n",
    "print( a )\n",
    "a.dtype"
   ]
  },
  {
   "attachments": {},
   "cell_type": "markdown",
   "metadata": {},
   "source": [
    "**Observación**. Como podemos ver, no solo muesta el tipo de dato, sino también el tamaño."
   ]
  },
  {
   "cell_type": "code",
   "execution_count": 20,
   "metadata": {},
   "outputs": [
    {
     "name": "stdout",
     "output_type": "stream",
     "text": [
      "[1.5 2.4 3.7]\n"
     ]
    },
    {
     "data": {
      "text/plain": [
       "dtype('float64')"
      ]
     },
     "execution_count": 20,
     "metadata": {},
     "output_type": "execute_result"
    }
   ],
   "source": [
    "a = np.array([1.5, 2.4, 3.7])\n",
    "print( a )\n",
    "a.dtype"
   ]
  },
  {
   "cell_type": "code",
   "execution_count": 21,
   "metadata": {},
   "outputs": [
    {
     "name": "stdout",
     "output_type": "stream",
     "text": [
      "[0.+1.j 2.+3.j 3.-7.j]\n"
     ]
    },
    {
     "data": {
      "text/plain": [
       "dtype('complex128')"
      ]
     },
     "execution_count": 21,
     "metadata": {},
     "output_type": "execute_result"
    }
   ],
   "source": [
    "a = np.array([1j, 2 + 3j, 3- 7j])\n",
    "print( a )\n",
    "a.dtype"
   ]
  },
  {
   "cell_type": "code",
   "execution_count": 22,
   "metadata": {},
   "outputs": [
    {
     "name": "stdout",
     "output_type": "stream",
     "text": [
      "['araña' 'barco' 'colonia']\n"
     ]
    },
    {
     "data": {
      "text/plain": [
       "dtype('<U7')"
      ]
     },
     "execution_count": 22,
     "metadata": {},
     "output_type": "execute_result"
    }
   ],
   "source": [
    "a = np.array(['araña', 'barco', 'colonia'])\n",
    "print( a )\n",
    "a.dtype"
   ]
  },
  {
   "cell_type": "code",
   "execution_count": 23,
   "metadata": {},
   "outputs": [
    {
     "name": "stdout",
     "output_type": "stream",
     "text": [
      "['a' 'b' 'c']\n"
     ]
    },
    {
     "data": {
      "text/plain": [
       "dtype('<U1')"
      ]
     },
     "execution_count": 23,
     "metadata": {},
     "output_type": "execute_result"
    }
   ],
   "source": [
    "a = np.array(['a', 'b', 'c'])\n",
    "print( a )\n",
    "a.dtype"
   ]
  },
  {
   "attachments": {},
   "cell_type": "markdown",
   "metadata": {},
   "source": [
    "Al usar el método `.array()`, existe un parámetro `dtype` que nos permite definir el tipo de dato que queremos que tengan los elementos de dicho ndarray."
   ]
  },
  {
   "cell_type": "code",
   "execution_count": 24,
   "metadata": {},
   "outputs": [
    {
     "name": "stdout",
     "output_type": "stream",
     "text": [
      "[b'1' b'2' b'3' b'4' b'5']\n"
     ]
    },
    {
     "data": {
      "text/plain": [
       "dtype('S1')"
      ]
     },
     "execution_count": 24,
     "metadata": {},
     "output_type": "execute_result"
    }
   ],
   "source": [
    "a = np.array([1, 2, 3, 4, 5], dtype = 'S')\n",
    "print( a )\n",
    "a.dtype"
   ]
  },
  {
   "attachments": {},
   "cell_type": "markdown",
   "metadata": {},
   "source": [
    "**Observación**. Para el caso de los tipos de dato `i`, `u`, `f`, `S` y `U`, con el parámetro `dtype` también podemos definir el tamaño."
   ]
  },
  {
   "cell_type": "code",
   "execution_count": 25,
   "metadata": {},
   "outputs": [
    {
     "name": "stdout",
     "output_type": "stream",
     "text": [
      "[1 2 3 4 5]\n"
     ]
    },
    {
     "data": {
      "text/plain": [
       "dtype('int8')"
      ]
     },
     "execution_count": 25,
     "metadata": {},
     "output_type": "execute_result"
    }
   ],
   "source": [
    "a = np.array([1, 2, 3, 4, 5], dtype='i1')\n",
    "print( a )\n",
    "a.dtype"
   ]
  },
  {
   "cell_type": "code",
   "execution_count": 26,
   "metadata": {},
   "outputs": [
    {
     "name": "stdout",
     "output_type": "stream",
     "text": [
      "[1 2 3 4 5]\n"
     ]
    },
    {
     "data": {
      "text/plain": [
       "dtype('int16')"
      ]
     },
     "execution_count": 26,
     "metadata": {},
     "output_type": "execute_result"
    }
   ],
   "source": [
    "a = np.array([1, 2, 3, 4, 5], dtype='i2')\n",
    "print( a )\n",
    "a.dtype"
   ]
  },
  {
   "cell_type": "code",
   "execution_count": 27,
   "metadata": {},
   "outputs": [
    {
     "name": "stdout",
     "output_type": "stream",
     "text": [
      "[1. 2. 3. 4. 5.]\n"
     ]
    },
    {
     "data": {
      "text/plain": [
       "dtype('float64')"
      ]
     },
     "execution_count": 27,
     "metadata": {},
     "output_type": "execute_result"
    }
   ],
   "source": [
    "a = np.array([1, 2, 3, 4, 5], dtype='f8')\n",
    "print( a )\n",
    "a.dtype"
   ]
  },
  {
   "cell_type": "code",
   "execution_count": 28,
   "metadata": {},
   "outputs": [
    {
     "name": "stdout",
     "output_type": "stream",
     "text": [
      "[1.+0.j 2.+0.j 3.+0.j 4.+0.j 5.+0.j]\n"
     ]
    },
    {
     "data": {
      "text/plain": [
       "dtype('complex128')"
      ]
     },
     "execution_count": 28,
     "metadata": {},
     "output_type": "execute_result"
    }
   ],
   "source": [
    "a = np.array([1, 2, 3, 4, 5], dtype='c16')\n",
    "print( a )\n",
    "a.dtype"
   ]
  },
  {
   "cell_type": "code",
   "execution_count": 29,
   "metadata": {},
   "outputs": [
    {
     "name": "stdout",
     "output_type": "stream",
     "text": [
      "[b'1' b'2' b'3' b'4' b'5']\n"
     ]
    },
    {
     "data": {
      "text/plain": [
       "dtype('S2')"
      ]
     },
     "execution_count": 29,
     "metadata": {},
     "output_type": "execute_result"
    }
   ],
   "source": [
    "a = np.array([1, 2, 3, 4, 5], dtype='S2')\n",
    "print( a )\n",
    "a.dtype"
   ]
  },
  {
   "attachments": {},
   "cell_type": "markdown",
   "metadata": {},
   "source": [
    "Si queremos cambiar el tipo de dato de un array existente, usamos el método `.astype()`."
   ]
  },
  {
   "cell_type": "code",
   "execution_count": 30,
   "metadata": {},
   "outputs": [
    {
     "name": "stdout",
     "output_type": "stream",
     "text": [
      "El array a es de tipo float128\n",
      "El array b es de tipo int32\n"
     ]
    }
   ],
   "source": [
    "a = np.array([1, 2, 3, 4, 5], dtype='f16')\n",
    "print('El array a es de tipo', a.dtype)\n",
    "b = a.astype('i')\n",
    "print('El array b es de tipo', b.dtype)"
   ]
  },
  {
   "attachments": {},
   "cell_type": "markdown",
   "metadata": {},
   "source": [
    "#### Copias y Views de arrays\n",
    "\n",
    "**Copia**. Una copia de un array crea un nuevo array exactamente igual al original.\n",
    "\n",
    "La copia no es afectada por los cambios aplicados en el array original."
   ]
  },
  {
   "cell_type": "code",
   "execution_count": 31,
   "metadata": {},
   "outputs": [
    {
     "name": "stdout",
     "output_type": "stream",
     "text": [
      "['a' 'b' 'c']\n",
      "['a' 'b' 'c']\n"
     ]
    }
   ],
   "source": [
    "x = np.array(['a', 'b', 'c'])\n",
    "print( x )\n",
    "x_copy = x.copy()\n",
    "print( x_copy )"
   ]
  },
  {
   "attachments": {},
   "cell_type": "markdown",
   "metadata": {},
   "source": [
    "**View**. Una view de un array es una referencia al array original.\n",
    "\n",
    "Los cambios aplicados al array original afectan también a la view, y viceversa."
   ]
  },
  {
   "cell_type": "code",
   "execution_count": 32,
   "metadata": {},
   "outputs": [
    {
     "name": "stdout",
     "output_type": "stream",
     "text": [
      "y = [1 2 3]\n",
      "y_view = [1 2 3]\n"
     ]
    }
   ],
   "source": [
    "y = np.array([1, 2, 3])\n",
    "print('y =', y)\n",
    "y_view = y.view()\n",
    "print('y_view =', y_view)"
   ]
  },
  {
   "attachments": {},
   "cell_type": "markdown",
   "metadata": {},
   "source": [
    "Si modificamos el original, veremos los cambios también aplicados en la view."
   ]
  },
  {
   "cell_type": "code",
   "execution_count": 33,
   "metadata": {},
   "outputs": [
    {
     "name": "stdout",
     "output_type": "stream",
     "text": [
      "y = [1 0 3]\n",
      "y_view = [1 0 3]\n"
     ]
    }
   ],
   "source": [
    "y[1] = 0\n",
    "print('y =', y)\n",
    "print('y_view =', y_view)"
   ]
  },
  {
   "attachments": {},
   "cell_type": "markdown",
   "metadata": {},
   "source": [
    "Si modificamos la view, veremos los cambios también aplicados en el array original."
   ]
  },
  {
   "cell_type": "code",
   "execution_count": 34,
   "metadata": {},
   "outputs": [
    {
     "name": "stdout",
     "output_type": "stream",
     "text": [
      "y = [-3  0  3]\n",
      "y_view = [-3  0  3]\n"
     ]
    }
   ],
   "source": [
    "y_view[0] = -3\n",
    "print('y =', y)\n",
    "print('y_view =', y_view)"
   ]
  },
  {
   "attachments": {},
   "cell_type": "markdown",
   "metadata": {},
   "source": [
    "Para asegurarnos de si hemos hecho una copia o uan view, podemos usar el método `.base` que nos devolverá `None` si se trata de una copia y nos devolverá el array original si se trata de una view."
   ]
  },
  {
   "cell_type": "code",
   "execution_count": 37,
   "metadata": {},
   "outputs": [
    {
     "name": "stdout",
     "output_type": "stream",
     "text": [
      "z_copy nos devuelve None porque es una copia\n",
      "z_view nos devuelve [ 0.+1.j  0.+0.j -0.-1.j] porque es una view\n"
     ]
    }
   ],
   "source": [
    "z = np.array([1j, 0, -1j])\n",
    "z_copy = z.copy()\n",
    "z_view = z.view()\n",
    "\n",
    "print(f'z_copy nos devuelve {z_copy.base} porque es una copia')\n",
    "print(f'z_view nos devuelve {z_view.base} porque es una view')"
   ]
  },
  {
   "attachments": {},
   "cell_type": "markdown",
   "metadata": {},
   "source": [
    "#### Arrays y bucles\n",
    "\n",
    "Podemos iterar un array tal cual lo hacíamos con listas:"
   ]
  },
  {
   "attachments": {},
   "cell_type": "markdown",
   "metadata": {},
   "source": [
    "##### Array 1D"
   ]
  },
  {
   "cell_type": "code",
   "execution_count": 38,
   "metadata": {},
   "outputs": [
    {
     "name": "stdout",
     "output_type": "stream",
     "text": [
      "a\n",
      "b\n",
      "c\n"
     ]
    }
   ],
   "source": [
    "d1 = np.array(['a', 'b', 'c'])\n",
    "\n",
    "for i in d1:\n",
    "  print( i )"
   ]
  },
  {
   "attachments": {},
   "cell_type": "markdown",
   "metadata": {},
   "source": [
    "##### Array 2D"
   ]
  },
  {
   "cell_type": "code",
   "execution_count": 39,
   "metadata": {},
   "outputs": [],
   "source": [
    "d2 = np.array([['a', 'b', 'c'], [1, 2, 3]])"
   ]
  },
  {
   "cell_type": "code",
   "execution_count": 40,
   "metadata": {},
   "outputs": [
    {
     "name": "stdout",
     "output_type": "stream",
     "text": [
      "['a' 'b' 'c']\n",
      "['1' '2' '3']\n"
     ]
    }
   ],
   "source": [
    "# Imprimimos los elementos del array 2D\n",
    "for d1 in d2:\n",
    "  print( d1 )"
   ]
  },
  {
   "cell_type": "code",
   "execution_count": 41,
   "metadata": {},
   "outputs": [
    {
     "name": "stdout",
     "output_type": "stream",
     "text": [
      "a\n",
      "b\n",
      "c\n",
      "1\n",
      "2\n",
      "3\n"
     ]
    }
   ],
   "source": [
    "# Imprimimos los elementos de los arrays 1D\n",
    "for d1 in d2:\n",
    "  for i in d1:\n",
    "    print( i )"
   ]
  },
  {
   "attachments": {},
   "cell_type": "markdown",
   "metadata": {},
   "source": [
    "##### Array 3D"
   ]
  },
  {
   "cell_type": "code",
   "execution_count": 42,
   "metadata": {},
   "outputs": [
    {
     "data": {
      "text/plain": [
       "dtype('<U21')"
      ]
     },
     "execution_count": 42,
     "metadata": {},
     "output_type": "execute_result"
    }
   ],
   "source": [
    "d3 = np.array(\n",
    "  [[['a', 'b', 'c', 'd'],\n",
    "  ['e', 'f', 'g', 'h']],\n",
    "  [[1, 2, 3, 4],\n",
    "  [5, 6, 7, 8]]]\n",
    ")\n",
    "d3.dtype"
   ]
  },
  {
   "cell_type": "code",
   "execution_count": 44,
   "metadata": {},
   "outputs": [
    {
     "name": "stdout",
     "output_type": "stream",
     "text": [
      "[['a' 'b' 'c' 'd']\n",
      " ['e' 'f' 'g' 'h']]\n",
      "[['1' '2' '3' '4']\n",
      " ['5' '6' '7' '8']]\n"
     ]
    }
   ],
   "source": [
    "# Imprimimos los elementos del array 3D\n",
    "for d2 in d3:\n",
    "  print( d2 ) "
   ]
  },
  {
   "cell_type": "code",
   "execution_count": 47,
   "metadata": {},
   "outputs": [
    {
     "name": "stdout",
     "output_type": "stream",
     "text": [
      "['a' 'b' 'c' 'd']\n",
      "['e' 'f' 'g' 'h']\n",
      "['1' '2' '3' '4']\n",
      "['5' '6' '7' '8']\n"
     ]
    }
   ],
   "source": [
    "# Imprimimos los elementos de los arrays 2D\n",
    "for d2 in d3:\n",
    "  for d1 in d2:\n",
    "    print( d1 )"
   ]
  },
  {
   "cell_type": "code",
   "execution_count": 48,
   "metadata": {},
   "outputs": [
    {
     "name": "stdout",
     "output_type": "stream",
     "text": [
      "a\n",
      "b\n",
      "c\n",
      "d\n",
      "e\n",
      "f\n",
      "g\n",
      "h\n",
      "1\n",
      "2\n",
      "3\n",
      "4\n",
      "5\n",
      "6\n",
      "7\n",
      "8\n"
     ]
    }
   ],
   "source": [
    "# Imprimimos los elementos de los arrays 1D\n",
    "for d2 in d3:\n",
    "  for d1 in d2:\n",
    "    for i in d1:\n",
    "      print( i )"
   ]
  },
  {
   "attachments": {},
   "cell_type": "markdown",
   "metadata": {},
   "source": [
    "Como vemos, cada vez que aumentamos la dimensión del array, hay que anidar bucles `for` para imprimir cada un ode los elementos de los arrays 1D.\n",
    "\n",
    "Como alternativa podríamos hacer un reshape del array multidimensional a un array unidimensional, pero dado un array con dimensión suficientemente grande, este proceso sería computacionalmente muy costoso:"
   ]
  },
  {
   "cell_type": "code",
   "execution_count": 49,
   "metadata": {},
   "outputs": [
    {
     "name": "stdout",
     "output_type": "stream",
     "text": [
      "a\n",
      "b\n",
      "c\n",
      "d\n",
      "e\n",
      "f\n",
      "g\n",
      "h\n",
      "1\n",
      "2\n",
      "3\n",
      "4\n",
      "5\n",
      "6\n",
      "7\n",
      "8\n"
     ]
    }
   ],
   "source": [
    "for i in d3.reshape(-1):\n",
    "  print( i )"
   ]
  },
  {
   "attachments": {},
   "cell_type": "markdown",
   "metadata": {},
   "source": [
    "##### El método `.nditer()`\n",
    "\n",
    "Para evitarnos tantas líneas de código y tanto coste computacional, tenemos el método `.nditer()`, que nos crea un iterable el cual nos permite imprimir todos los elementos de los arrays 1D, tal cuál hemos estado obteniendo hasta ahora:"
   ]
  },
  {
   "cell_type": "code",
   "execution_count": 50,
   "metadata": {},
   "outputs": [
    {
     "name": "stdout",
     "output_type": "stream",
     "text": [
      "a\n",
      "b\n",
      "c\n",
      "d\n",
      "e\n",
      "f\n",
      "g\n",
      "h\n",
      "1\n",
      "2\n",
      "3\n",
      "4\n",
      "5\n",
      "6\n",
      "7\n",
      "8\n"
     ]
    }
   ],
   "source": [
    "for i in np.nditer(d3):\n",
    "  print( i )"
   ]
  },
  {
   "attachments": {},
   "cell_type": "markdown",
   "metadata": {},
   "source": [
    "El método `.nditer()` también nos permite cambiar el tipo de dato de los elementos de un array durante la iteración mediante el parámetro `op_dtypes`.\n",
    "\n",
    "`numpy` no cambia el tipo de dato de los elementos de un array en el sitio, de modo que necesita algún otro espacio para lleva a cabo esta acción. Este espacio extra es llamado **buffer** y se lo proporcionamos al método `.nditer()` con el argumento `flags = [\"buffered\"]`"
   ]
  },
  {
   "cell_type": "code",
   "execution_count": 51,
   "metadata": {},
   "outputs": [
    {
     "name": "stdout",
     "output_type": "stream",
     "text": [
      "b'1'\n",
      "b'2'\n",
      "b'3'\n",
      "b'4'\n",
      "b'5'\n",
      "b'6'\n"
     ]
    }
   ],
   "source": [
    "d2 = np.array([[1, 2], [3, 4], [5, 6]])\n",
    "for i in np.nditer(d2, flags=['buffered'], op_dtypes=['S']):\n",
    "  print(i)"
   ]
  },
  {
   "attachments": {},
   "cell_type": "markdown",
   "metadata": {},
   "source": [
    "El método `.nditer()` también nos permite iterar con distinto paso (de 1 en 1, de 2 en 2, ...)."
   ]
  },
  {
   "cell_type": "code",
   "execution_count": 52,
   "metadata": {},
   "outputs": [
    {
     "name": "stdout",
     "output_type": "stream",
     "text": [
      "1\n",
      "3\n",
      "5\n"
     ]
    }
   ],
   "source": [
    "d2 = np.array([[1, 2], [3, 4], [5, 6]])\n",
    "for i in np.nditer(d2[:, ::2]):\n",
    "  print( i )"
   ]
  },
  {
   "attachments": {},
   "cell_type": "markdown",
   "metadata": {},
   "source": [
    "##### El método `.ndenumerate()`\n",
    "\n",
    "A veces necesitamos el índice correspondiente al elemento durante la iteración. El método `.ndenumerate()` nos proporciona dicha información."
   ]
  },
  {
   "cell_type": "code",
   "execution_count": 53,
   "metadata": {},
   "outputs": [
    {
     "name": "stdout",
     "output_type": "stream",
     "text": [
      "Índice: (0,), Elemento: a\n",
      "Índice: (1,), Elemento: b\n",
      "Índice: (2,), Elemento: c\n"
     ]
    }
   ],
   "source": [
    "d1 = np.array(['a', 'b', 'c'])\n",
    "for idx, i in np.ndenumerate(d1):\n",
    "  print(f'Índice: {idx}, Elemento: {i}')"
   ]
  },
  {
   "cell_type": "code",
   "execution_count": 54,
   "metadata": {},
   "outputs": [
    {
     "name": "stdout",
     "output_type": "stream",
     "text": [
      "Índice: (0, 0) Elemento: 1\n",
      "Índice: (0, 1) Elemento: 2\n",
      "Índice: (1, 0) Elemento: 3\n",
      "Índice: (1, 1) Elemento: 4\n",
      "Índice: (2, 0) Elemento: 5\n",
      "Índice: (2, 1) Elemento: 6\n"
     ]
    }
   ],
   "source": [
    "d2 = np.array([[1, 2], [3, 4], [5, 6]])\n",
    "\n",
    "for idx, i in np.ndenumerate(d2):\n",
    "  print(f'Índice: {idx} Elemento: {i}')"
   ]
  },
  {
   "cell_type": "code",
   "execution_count": 58,
   "metadata": {},
   "outputs": [
    {
     "name": "stdout",
     "output_type": "stream",
     "text": [
      "Índice (0, 0, 0) Elemento: a\n",
      "Índice (0, 0, 1) Elemento: b\n",
      "Índice (0, 0, 2) Elemento: c\n",
      "Índice (0, 0, 3) Elemento: d\n",
      "Índice (0, 1, 0) Elemento: e\n",
      "Índice (0, 1, 1) Elemento: f\n",
      "Índice (0, 1, 2) Elemento: g\n",
      "Índice (0, 1, 3) Elemento: h\n",
      "Índice (1, 0, 0) Elemento: 1\n",
      "Índice (1, 0, 1) Elemento: 2\n",
      "Índice (1, 0, 2) Elemento: 3\n",
      "Índice (1, 0, 3) Elemento: 4\n",
      "Índice (1, 1, 0) Elemento: 5\n",
      "Índice (1, 1, 1) Elemento: 6\n",
      "Índice (1, 1, 2) Elemento: 7\n",
      "Índice (1, 1, 3) Elemento: 8\n"
     ]
    }
   ],
   "source": [
    "d3 = np.array([[['a', 'b', 'c', 'd'], ['e', 'f', 'g', 'h']], [[1, 2, 3, 4], [5, 6, 7, 8]]])\n",
    "\n",
    "for idx, i in np.ndenumerate(d3):\n",
    "  print(f'Índice {idx} Elemento: {i}')"
   ]
  },
  {
   "attachments": {},
   "cell_type": "markdown",
   "metadata": {},
   "source": [
    "#### Concatenación de arrays\n",
    "\n",
    "Para concatenar arrays, es decir, juntar dos o más arrays en un único array, usamos el método `.concatenate()`."
   ]
  },
  {
   "cell_type": "code",
   "execution_count": 59,
   "metadata": {},
   "outputs": [
    {
     "name": "stdout",
     "output_type": "stream",
     "text": [
      "[-3 -2 -1 -3 -2 -1]\n"
     ]
    }
   ],
   "source": [
    "# Concatenamos arrays 1D\n",
    "a1 = np.array([-3, -2, -1])\n",
    "a2 = np.array([1, 2, 3])\n",
    "a = np.concatenate((a1, a1))\n",
    "print( a )"
   ]
  },
  {
   "cell_type": "code",
   "execution_count": 60,
   "metadata": {},
   "outputs": [
    {
     "name": "stdout",
     "output_type": "stream",
     "text": [
      "axis = 0 nos devuelve \n",
      " [[-6 -5]\n",
      " [-4 -3]\n",
      " [-2 -1]\n",
      " [ 1  2]\n",
      " [ 3  4]\n",
      " [ 5  6]]\n",
      "\n",
      "axis = 1 nos devuelve\n",
      " [[-6 -5  1  2]\n",
      " [-4 -3  3  4]\n",
      " [-2 -1  5  6]]\n"
     ]
    }
   ],
   "source": [
    "# Concatenamos arrays 2D\n",
    "b1 = np.array([[-6, -5], [-4, -3], [-2, -1]])\n",
    "b2 = np.array([[1, 2], [3, 4], [5, 6]])\n",
    "\n",
    "# Con axis = 0\n",
    "b = np.concatenate((b1, b2), axis=0)\n",
    "print('axis = 0 nos devuelve \\n', b)\n",
    "\n",
    "# Con axis = 1\n",
    "b = np.concatenate((b1, b2), axis=1)\n",
    "print('\\naxis = 1 nos devuelve\\n', b)"
   ]
  },
  {
   "attachments": {},
   "cell_type": "markdown",
   "metadata": {},
   "source": [
    "**Observación**. En este caso, nos funcionan ambas configuraciones del valor `axis` pues los dos arrays 2D, `b1` y `b2` tienen tanto el mismo número de arrays 1D como el mismo número de elementos dentro de cada array 1D.\n",
    "\n",
    "Si indicamos `axis = 0`, se nos combinan ambos arrays 2D en un solo array 2D. En ese caso es necesario que todos los arrays 1D tengan el mismo número de elementos.\n",
    "\n",
    "Sin embargo, si seleccionamos `axis = 1`, entonces obtenemos como resultado un array 2D con cada uno de los arrays 1D concatenados. En este caso necesitamos que en ambos arrays 2D haya el mismo número de arrays 1D."
   ]
  },
  {
   "cell_type": "code",
   "execution_count": 2,
   "metadata": {},
   "outputs": [
    {
     "name": "stdout",
     "output_type": "stream",
     "text": [
      "axis = 0 nos devuelve\n",
      " [[[-10  -9]\n",
      "  [ -8  -7]\n",
      "  [ -6  -5]]\n",
      "\n",
      " [[ -4  -3]\n",
      "  [ -2  -1]\n",
      "  [  0   0]]\n",
      "\n",
      " [[  0   0]\n",
      "  [  1   2]\n",
      "  [  3   4]]\n",
      "\n",
      " [[  5   6]\n",
      "  [  7   8]\n",
      "  [  9  10]]]\n",
      "\n",
      "axis = 1 nos devuelve\n",
      " [[[-10  -9]\n",
      "  [ -8  -7]\n",
      "  [ -6  -5]\n",
      "  [  0   0]\n",
      "  [  1   2]\n",
      "  [  3   4]]\n",
      "\n",
      " [[ -4  -3]\n",
      "  [ -2  -1]\n",
      "  [  0   0]\n",
      "  [  5   6]\n",
      "  [  7   8]\n",
      "  [  9  10]]]\n",
      "\n",
      "axis = 2 nos devuelve\n",
      " [[[-10  -9   0   0]\n",
      "  [ -8  -7   1   2]\n",
      "  [ -6  -5   3   4]]\n",
      "\n",
      " [[ -4  -3   5   6]\n",
      "  [ -2  -1   7   8]\n",
      "  [  0   0   9  10]]]\n"
     ]
    }
   ],
   "source": [
    "# Concatenamos arrays 3D\n",
    "c1 = np.array([[[-10, -9], [-8, -7], [-6, -5]], [[-4, -3], [-2, -1], [0, 0]]])\n",
    "c2 = np.array([[[0, 0], [1, 2], [3, 4]], [[5, 6], [7, 8], [9, 10]]])\n",
    "\n",
    "# Con axis = 0\n",
    "c = np.concatenate((c1, c2), axis=0)\n",
    "print('axis = 0 nos devuelve\\n', c)\n",
    "\n",
    "# Con axis = 1\n",
    "c = np.concatenate((c1, c2), axis=1)\n",
    "print('\\naxis = 1 nos devuelve\\n', c)\n",
    "\n",
    "# Con axis = 2\n",
    "c = np.concatenate((c1, c2), axis=2)\n",
    "print('\\naxis = 2 nos devuelve\\n', c)"
   ]
  },
  {
   "attachments": {},
   "cell_type": "markdown",
   "metadata": {},
   "source": [
    "**Observación**. En este caso, nos vuelven a funcionar todas las configuraciones del valor `axis` pues los dos arrays 3D, `c1` y `c2` tienen tanto el mismo número de arrays 2D, como el mismo número de arrays 1D en cada array 2D, como el mismo número de elementos dentro de cada array 1D.\n",
    "\n",
    "Si indicamos `axis = 0`, se nos combinan ambos arrays 3D en un solo array 3D. Por su parte, si seleccionamos `axis = 1`, entonces obtenemos como resultado un array 3D con cada uno de los arrays 2D concatenados. Por último, si indicamos `axis = 2`, obtendremos un array 3D donde los arrays 1D han sido concatenados.\n",
    "\n",
    "`Observación`. Si queremos concatenar arrays n-dimensinoales, tendremos n - 1 opciones para el parámetro `axis`."
   ]
  },
  {
   "attachments": {},
   "cell_type": "markdown",
   "metadata": {},
   "source": [
    "##### Concatenación de arrays usando `.stack()`\n",
    "\n",
    "Llevar a cabo un stack es lo mismo que concatenar, solo que el stack se hace sobre un eje nuevo.\n",
    "\n",
    "Por ejemplo, podemos concatenar dos arrays unidimensionales sobre un segundo eje, lo que resultaría en poner un array sobre el otro: realizar un stack."
   ]
  },
  {
   "cell_type": "code",
   "execution_count": 3,
   "metadata": {},
   "outputs": [],
   "source": [
    "a1 = np.array([-3, -2, -1])\n",
    "a2 = np.array([1, 2, 3])"
   ]
  },
  {
   "cell_type": "code",
   "execution_count": 4,
   "metadata": {},
   "outputs": [
    {
     "name": "stdout",
     "output_type": "stream",
     "text": [
      "[[-3 -2 -1]\n",
      " [ 1  2  3]]\n"
     ]
    }
   ],
   "source": [
    "# Hacemos stack de arrays 1D con axis = 0\n",
    "a = np.stack((a1, a2), axis=0)\n",
    "print( a )"
   ]
  },
  {
   "cell_type": "code",
   "execution_count": 5,
   "metadata": {},
   "outputs": [
    {
     "name": "stdout",
     "output_type": "stream",
     "text": [
      "[[-3  1]\n",
      " [-2  2]\n",
      " [-1  3]]\n"
     ]
    }
   ],
   "source": [
    "# Hacemos stack de arrays 1D con axis = 1\n",
    "a = np.stack((a1, a2), axis=1)\n",
    "print( a )"
   ]
  },
  {
   "attachments": {},
   "cell_type": "markdown",
   "metadata": {},
   "source": [
    "**Observación**. Al hacer stack de los arrays 1D, habiendo seleccionado `axis = 0`, obtenemos como resultado un array 2D con los dos arrays 1D originales. Sin embargo, si elegimos `axis = 1`, obtenemos un array 2D, pero éste consta de 3 elementos 1D (en este ejemplo en concreto), cada cual con 2 elementos (el primero se corresponde con un elemento del array original `a1`, mientras que el segundo, con un elemento del array `a2`)"
   ]
  },
  {
   "cell_type": "code",
   "execution_count": 6,
   "metadata": {},
   "outputs": [],
   "source": [
    "b1 = np.array([[-6, -5], [-4, -3], [-2, -1]])\n",
    "b2 = np.array([[1, 2], [3 ,4], [5, 6]])"
   ]
  },
  {
   "cell_type": "code",
   "execution_count": 8,
   "metadata": {},
   "outputs": [
    {
     "name": "stdout",
     "output_type": "stream",
     "text": [
      "[[[-6 -5]\n",
      "  [-4 -3]\n",
      "  [-2 -1]]\n",
      "\n",
      " [[ 1  2]\n",
      "  [ 3  4]\n",
      "  [ 5  6]]]\n"
     ]
    }
   ],
   "source": [
    "# Hacemos stack de arrays 2D con axis = 0\n",
    "b = np.stack((b1, b2), axis = 0)\n",
    "print( b )"
   ]
  },
  {
   "cell_type": "code",
   "execution_count": 9,
   "metadata": {},
   "outputs": [
    {
     "name": "stdout",
     "output_type": "stream",
     "text": [
      "[[[-6 -5]\n",
      "  [ 1  2]]\n",
      "\n",
      " [[-4 -3]\n",
      "  [ 3  4]]\n",
      "\n",
      " [[-2 -1]\n",
      "  [ 5  6]]]\n"
     ]
    }
   ],
   "source": [
    "# Hacemos stack de arrays 2D con axis = 1\n",
    "b = np.stack((b1, b2), axis = 1)\n",
    "print( b )"
   ]
  },
  {
   "cell_type": "code",
   "execution_count": 10,
   "metadata": {},
   "outputs": [
    {
     "name": "stdout",
     "output_type": "stream",
     "text": [
      "[[[-6  1]\n",
      "  [-5  2]]\n",
      "\n",
      " [[-4  3]\n",
      "  [-3  4]]\n",
      "\n",
      " [[-2  5]\n",
      "  [-1  6]]]\n"
     ]
    }
   ],
   "source": [
    "# Hacemos stack de arrays 2D con axis = 2\n",
    "b = np.stack((b1, b2), axis = 2)\n",
    "print( b )"
   ]
  },
  {
   "attachments": {},
   "cell_type": "markdown",
   "metadata": {},
   "source": [
    "**Observación**. Al hacer stack de los arrays 2D, habiendo seleccionado `axis = 0`, obtenemos como resultado un array 3D con los dos arrays 2D originales. Por su parte, si elegimos `axis = 1`, obtenemos nuevamente un array 3D, pero éste consta de 3 elementos 2D (en este ejemplo en concreto), cada cual con 2 elementos 1D (el primero se corresponde con un elemento del array original `b1`, mientras que el segundo, con un elemento del array `b2`). Por último, si consideramos `axis = 2`, obtenemos un array 3D, que consta de 3 elementos 2D (en este ejemplo en concreto), cada uno con 2 elementos 1D que han sido concatenados del siguiente modo: el primer elemento del array 1D se corresponde con un elemento original del array `b1`, mientras que el segundo y último del array 1D procede del array `b2`.\n",
    "\n",
    "**Observación**. SI queremos hacer un stack de arrays n-dimensionales, tendremos n opciones para el parámetro `axis` y siempre obtendremos como resultado un array de dimensión n + 1 que ha sido combinado según el `axis` seleccionado."
   ]
  },
  {
   "attachments": {},
   "cell_type": "markdown",
   "metadata": {},
   "source": [
    "##### Concatenando por filas\n",
    "\n",
    "`numpy` proporciona la función helper `hstack()` que lleva a cabo una concatenación por filas:"
   ]
  },
  {
   "cell_type": "code",
   "execution_count": 12,
   "metadata": {},
   "outputs": [
    {
     "name": "stdout",
     "output_type": "stream",
     "text": [
      "[-3 -2 -1  1  2  3]\n"
     ]
    }
   ],
   "source": [
    "# Caso 1D (se corresponde con el resultado .concatenate())\n",
    "a1 = np.array([-3, -2, -1])\n",
    "a2 = np.array([1, 2, 3])\n",
    "a = np.hstack((a1, a2))\n",
    "print( a )"
   ]
  },
  {
   "cell_type": "code",
   "execution_count": 13,
   "metadata": {},
   "outputs": [
    {
     "name": "stdout",
     "output_type": "stream",
     "text": [
      "[[-6 -5  1  2]\n",
      " [-4 -3  3  4]\n",
      " [-2 -1  5  6]]\n"
     ]
    }
   ],
   "source": [
    "# Caso 2D (se corresponde con el resultado de .concatenate() con axis = 1)\n",
    "b1 = np.array([[-6, -5], [-4, -3], [-2, -1]])\n",
    "b2 = np.array([[1, 2], [3, 4], [5, 6]])\n",
    "b = np.hstack((b1, b2))\n",
    "print( b )"
   ]
  },
  {
   "cell_type": "code",
   "execution_count": 14,
   "metadata": {},
   "outputs": [
    {
     "name": "stdout",
     "output_type": "stream",
     "text": [
      "[[[-10  -9]\n",
      "  [ -8  -7]\n",
      "  [ -6  -5]\n",
      "  [  0   0]\n",
      "  [  1   2]\n",
      "  [  3   4]]\n",
      "\n",
      " [[ -4  -3]\n",
      "  [ -2  -1]\n",
      "  [  0   0]\n",
      "  [  5   6]\n",
      "  [  7   8]\n",
      "  [  9  10]]]\n"
     ]
    }
   ],
   "source": [
    "# Caso 3D (se corresponde con el resultado de .concatenate() con axis = 2)\n",
    "c1 = np.array([[[-10, -9], [-8, -7], [-6, -5]], [[-4, -3], [-2, -1], [0, 0]]])\n",
    "c2 = np.array([[[0, 0], [1, 2], [3, 4]], [[5, 6], [7, 8], [9, 10]]])\n",
    "c = np.hstack((c1, c2))\n",
    "print( c )"
   ]
  },
  {
   "attachments": {},
   "cell_type": "markdown",
   "metadata": {},
   "source": [
    "##### Concatenando por columnas\n",
    "\n",
    "`numpy` proporciona la función helper `vstack()` que lleva a cabo una concatenación por columnas:"
   ]
  },
  {
   "cell_type": "code",
   "execution_count": 15,
   "metadata": {},
   "outputs": [
    {
     "name": "stdout",
     "output_type": "stream",
     "text": [
      "[[-3 -2 -1]\n",
      " [ 1  2  3]]\n"
     ]
    }
   ],
   "source": [
    "# Caso 1D (se corresponde con el resultado de .stack() con axis = 0)\n",
    "a1 = np.array([-3, -2, -1])\n",
    "a2 = np.array([1, 2, 3])\n",
    "a = np.vstack((a1, a2))\n",
    "print( a )"
   ]
  },
  {
   "cell_type": "code",
   "execution_count": 16,
   "metadata": {},
   "outputs": [
    {
     "name": "stdout",
     "output_type": "stream",
     "text": [
      "[[-6 -5]\n",
      " [-4 -3]\n",
      " [-2 -1]\n",
      " [ 1  2]\n",
      " [ 3  4]\n",
      " [ 5  6]]\n"
     ]
    }
   ],
   "source": [
    "# Caso 2D (se corresponde con el resultado de .concatenate() con axis = 1)\n",
    "b1 = np.array([[-6, -5], [-4, -3], [-2, -1]])\n",
    "b2 = np.array([[1, 2], [3, 4], [5, 6]])\n",
    "b = np.vstack((b1, b2))\n",
    "print( b )"
   ]
  },
  {
   "cell_type": "code",
   "execution_count": 17,
   "metadata": {},
   "outputs": [
    {
     "name": "stdout",
     "output_type": "stream",
     "text": [
      "[[[-10  -9]\n",
      "  [ -8  -7]\n",
      "  [ -6  -5]]\n",
      "\n",
      " [[ -4  -3]\n",
      "  [ -2  -1]\n",
      "  [  0   0]]\n",
      "\n",
      " [[  0   0]\n",
      "  [  1   2]\n",
      "  [  3   4]]\n",
      "\n",
      " [[  5   6]\n",
      "  [  7   8]\n",
      "  [  9  10]]]\n"
     ]
    }
   ],
   "source": [
    "# Caso 3D (se corresponde con el resultado de .concatenate() con axis = 0)\n",
    "c1 = np.array([[[-10, -9], [-8, -7], [-6, -5]], [[-4, -3], [-2, -1], [0, 0]]])\n",
    "c2 = np.array([[[0, 0], [1, 2], [3, 4]], [[5, 6], [7, 8], [9, 10]]])\n",
    "c = np.vstack((c1, c2))\n",
    "print( c )"
   ]
  },
  {
   "attachments": {},
   "cell_type": "markdown",
   "metadata": {},
   "source": [
    "##### Concatenando por profundidad\n",
    "\n",
    "`numpy` proporciona la función helper `dstack()` que lleva a cabo una concatenación por profundidad:"
   ]
  },
  {
   "cell_type": "code",
   "execution_count": 18,
   "metadata": {},
   "outputs": [
    {
     "name": "stdout",
     "output_type": "stream",
     "text": [
      "[[[-3  1]\n",
      "  [-2  2]\n",
      "  [-1  3]]]\n"
     ]
    }
   ],
   "source": [
    "# Caso 1D (se corresponde con el resultado de .stack() con axis = 1)\n",
    "a1 = np.array([-3, -2, -1])\n",
    "a2 = np.array([1, 2, 3])\n",
    "a = np.dstack((a1, a2))\n",
    "print( a )"
   ]
  },
  {
   "cell_type": "code",
   "execution_count": 19,
   "metadata": {},
   "outputs": [
    {
     "name": "stdout",
     "output_type": "stream",
     "text": [
      "[[[-6  1]\n",
      "  [-5  2]]\n",
      "\n",
      " [[-4  3]\n",
      "  [-3  4]]\n",
      "\n",
      " [[-2  5]\n",
      "  [-1  6]]]\n"
     ]
    }
   ],
   "source": [
    "# Caso 2D (se corresponde con el resultado de .stack() con axis = 2)\n",
    "b1 = np.array([[-6, -5], [-4, -3], [-2, -1]])\n",
    "b2 = np.array([[1, 2], [3, 4], [5, 6]])\n",
    "b = np.dstack((b1, b2))\n",
    "print( b )"
   ]
  },
  {
   "cell_type": "code",
   "execution_count": 20,
   "metadata": {},
   "outputs": [
    {
     "name": "stdout",
     "output_type": "stream",
     "text": [
      "[[[-10  -9   0   0]\n",
      "  [ -8  -7   1   2]\n",
      "  [ -6  -5   3   4]]\n",
      "\n",
      " [[ -4  -3   5   6]\n",
      "  [ -2  -1   7   8]\n",
      "  [  0   0   9  10]]]\n"
     ]
    }
   ],
   "source": [
    "# Caso 3D (se corresponde con el resultado de .concatenate() con axis = 2)\n",
    "c1 = np.array([[[-10, -9], [-8, -7], [-6, -5]], [[-4, -3], [-2, -1], [0, 0]]])\n",
    "c2 = np.array([[[0, 0], [1, 2], [3, 4]], [[5, 6], [7, 8], [9, 10]]])\n",
    "c = np.dstack((c1, c2))\n",
    "print( c )"
   ]
  },
  {
   "attachments": {},
   "cell_type": "markdown",
   "metadata": {},
   "source": [
    "#### División de arrays\n",
    "\n",
    "El proceso inverso a la concatenación es la división de arrays. La división de arrays consiste en romper un array en múltiples arrays."
   ]
  },
  {
   "attachments": {},
   "cell_type": "markdown",
   "metadata": {},
   "source": [
    "##### Dividiendo arrays 1D"
   ]
  },
  {
   "cell_type": "code",
   "execution_count": 21,
   "metadata": {},
   "outputs": [
    {
     "name": "stdout",
     "output_type": "stream",
     "text": [
      "Del array original x = [1 2 3 4 5 6 7 8]\n",
      "Dividiéndolo en 4 obtenemos [array([1, 2]), array([3, 4]), array([5, 6]), array([7, 8])]\n"
     ]
    }
   ],
   "source": [
    "x = np.array([1, 2, 3, 4, 5, 6, 7, 8])\n",
    "y = np.array_split(x, 4)\n",
    "print(f'Del array original x = {x}')\n",
    "print(f'Dividiéndolo en 4 obtenemos {y}')"
   ]
  },
  {
   "attachments": {},
   "cell_type": "markdown",
   "metadata": {},
   "source": [
    "Como resultado, obtenemos una lista con el número de arrays 1D que hemos indicado por parámetro.\n",
    "\n",
    "**Observación**. El array original lo podemos dividir en 2, 3,... hasta en tantos arrays como elementos contenga. Es decir, dado por ejemplo un array 1D con 8 elementos, podemos dividirlo en 2, 3, 4, ..., 8 arrays:"
   ]
  },
  {
   "cell_type": "code",
   "execution_count": 22,
   "metadata": {},
   "outputs": [
    {
     "name": "stdout",
     "output_type": "stream",
     "text": [
      "Dividimos en 2 arrays: [array([1, 2, 3, 4]), array([5, 6, 7, 8])]\n",
      "Dividimos en 3 arrays: [array([1, 2, 3]), array([4, 5, 6]), array([7, 8])]\n",
      "Dividimos en 4 arrays: [array([1, 2]), array([3, 4]), array([5, 6]), array([7, 8])]\n",
      "Dividimos en 5 arrays: [array([1, 2]), array([3, 4]), array([5, 6]), array([7]), array([8])]\n",
      "Dividimos en 6 arrays: [array([1, 2]), array([3, 4]), array([5]), array([6]), array([7]), array([8])]\n",
      "Dividimos en 7 arrays: [array([1, 2]), array([3]), array([4]), array([5]), array([6]), array([7]), array([8])]\n",
      "Dividimos en 8 arrays: [array([1]), array([2]), array([3]), array([4]), array([5]), array([6]), array([7]), array([8])]\n"
     ]
    }
   ],
   "source": [
    "for i in range(2, x.shape[0] + 1):\n",
    "  print(f'Dividimos en {i} arrays: {np.array_split(x, i)}')"
   ]
  },
  {
   "attachments": {},
   "cell_type": "markdown",
   "metadata": {},
   "source": [
    "**Observación**. Si el número de arrays en que queremos dividir el array original, m, es divisor del número de elementos que tiene el array original, n, entonces todos los arrays resultantes tendrán el mismo número de elementos, q, donde q es el cociente de la división entera de n entre m.\n",
    "\n",
    "En cambio, si el número introducido por parámetro, m, no es divisor del número total de elementos del array original, n, entonces los r primeros arrays resultantes, siendo r el resto de la división entera de n entre m, tendrán cada uno de ellos q + 1 elementos, mientras que el resto de arrays, los m - r restantes, tendrán q elementos. De modo que\n",
    "\n",
    "<center>\n",
    "  n = r * (q + 1) + (m - r) * q = qr + r + mq - qr = mq + r\n",
    "</center>"
   ]
  },
  {
   "attachments": {},
   "cell_type": "markdown",
   "metadata": {},
   "source": [
    "###### Ejemplo 4\n",
    "\n",
    "Consideremos un array 1D con 20 elementos. Entonces"
   ]
  },
  {
   "cell_type": "code",
   "execution_count": 23,
   "metadata": {},
   "outputs": [
    {
     "name": "stdout",
     "output_type": "stream",
     "text": [
      "\n",
      "Dividimos el array original en 2 arrays\n",
      "n = 20, m = 2, q = 10, r = 0\n",
      "Los primeros 0 arrays tienen 11 elementos. El resto de los arrays tienen 10 elementos\n",
      "[ 1  2  3  4  5  6  7  8  9 10]\n",
      "[11 12 13 14 15 16 17 18 19 20]\n",
      "\n",
      "Dividimos el array original en 3 arrays\n",
      "n = 20, m = 3, q = 6, r = 2\n",
      "Los primeros 2 arrays tienen 7 elementos. El resto de los arrays tienen 6 elementos\n",
      "[1 2 3 4 5 6 7]\n",
      "[ 8  9 10 11 12 13 14]\n",
      "[15 16 17 18 19 20]\n",
      "\n",
      "Dividimos el array original en 4 arrays\n",
      "n = 20, m = 4, q = 5, r = 0\n",
      "Los primeros 0 arrays tienen 6 elementos. El resto de los arrays tienen 5 elementos\n",
      "[1 2 3 4 5]\n",
      "[ 6  7  8  9 10]\n",
      "[11 12 13 14 15]\n",
      "[16 17 18 19 20]\n",
      "\n",
      "Dividimos el array original en 5 arrays\n",
      "n = 20, m = 5, q = 4, r = 0\n",
      "Los primeros 0 arrays tienen 5 elementos. El resto de los arrays tienen 4 elementos\n",
      "[1 2 3 4]\n",
      "[5 6 7 8]\n",
      "[ 9 10 11 12]\n",
      "[13 14 15 16]\n",
      "[17 18 19 20]\n",
      "\n",
      "Dividimos el array original en 6 arrays\n",
      "n = 20, m = 6, q = 3, r = 2\n",
      "Los primeros 2 arrays tienen 4 elementos. El resto de los arrays tienen 3 elementos\n",
      "[1 2 3 4]\n",
      "[5 6 7 8]\n",
      "[ 9 10 11]\n",
      "[12 13 14]\n",
      "[15 16 17]\n",
      "[18 19 20]\n",
      "\n",
      "Dividimos el array original en 7 arrays\n",
      "n = 20, m = 7, q = 2, r = 6\n",
      "Los primeros 6 arrays tienen 3 elementos. El resto de los arrays tienen 2 elementos\n",
      "[1 2 3]\n",
      "[4 5 6]\n",
      "[7 8 9]\n",
      "[10 11 12]\n",
      "[13 14 15]\n",
      "[16 17 18]\n",
      "[19 20]\n",
      "\n",
      "Dividimos el array original en 8 arrays\n",
      "n = 20, m = 8, q = 2, r = 4\n",
      "Los primeros 4 arrays tienen 3 elementos. El resto de los arrays tienen 2 elementos\n",
      "[1 2 3]\n",
      "[4 5 6]\n",
      "[7 8 9]\n",
      "[10 11 12]\n",
      "[13 14]\n",
      "[15 16]\n",
      "[17 18]\n",
      "[19 20]\n",
      "\n",
      "Dividimos el array original en 9 arrays\n",
      "n = 20, m = 9, q = 2, r = 2\n",
      "Los primeros 2 arrays tienen 3 elementos. El resto de los arrays tienen 2 elementos\n",
      "[1 2 3]\n",
      "[4 5 6]\n",
      "[7 8]\n",
      "[ 9 10]\n",
      "[11 12]\n",
      "[13 14]\n",
      "[15 16]\n",
      "[17 18]\n",
      "[19 20]\n",
      "\n",
      "Dividimos el array original en 10 arrays\n",
      "n = 20, m = 10, q = 2, r = 0\n",
      "Los primeros 0 arrays tienen 3 elementos. El resto de los arrays tienen 2 elementos\n",
      "[1 2]\n",
      "[3 4]\n",
      "[5 6]\n",
      "[7 8]\n",
      "[ 9 10]\n",
      "[11 12]\n",
      "[13 14]\n",
      "[15 16]\n",
      "[17 18]\n",
      "[19 20]\n",
      "\n",
      "Dividimos el array original en 11 arrays\n",
      "n = 20, m = 11, q = 1, r = 9\n",
      "Los primeros 9 arrays tienen 2 elementos. El resto de los arrays tienen 1 elementos\n",
      "[1 2]\n",
      "[3 4]\n",
      "[5 6]\n",
      "[7 8]\n",
      "[ 9 10]\n",
      "[11 12]\n",
      "[13 14]\n",
      "[15 16]\n",
      "[17 18]\n",
      "[19]\n",
      "[20]\n",
      "\n",
      "Dividimos el array original en 12 arrays\n",
      "n = 20, m = 12, q = 1, r = 8\n",
      "Los primeros 8 arrays tienen 2 elementos. El resto de los arrays tienen 1 elementos\n",
      "[1 2]\n",
      "[3 4]\n",
      "[5 6]\n",
      "[7 8]\n",
      "[ 9 10]\n",
      "[11 12]\n",
      "[13 14]\n",
      "[15 16]\n",
      "[17]\n",
      "[18]\n",
      "[19]\n",
      "[20]\n",
      "\n",
      "Dividimos el array original en 13 arrays\n",
      "n = 20, m = 13, q = 1, r = 7\n",
      "Los primeros 7 arrays tienen 2 elementos. El resto de los arrays tienen 1 elementos\n",
      "[1 2]\n",
      "[3 4]\n",
      "[5 6]\n",
      "[7 8]\n",
      "[ 9 10]\n",
      "[11 12]\n",
      "[13 14]\n",
      "[15]\n",
      "[16]\n",
      "[17]\n",
      "[18]\n",
      "[19]\n",
      "[20]\n",
      "\n",
      "Dividimos el array original en 14 arrays\n",
      "n = 20, m = 14, q = 1, r = 6\n",
      "Los primeros 6 arrays tienen 2 elementos. El resto de los arrays tienen 1 elementos\n",
      "[1 2]\n",
      "[3 4]\n",
      "[5 6]\n",
      "[7 8]\n",
      "[ 9 10]\n",
      "[11 12]\n",
      "[13]\n",
      "[14]\n",
      "[15]\n",
      "[16]\n",
      "[17]\n",
      "[18]\n",
      "[19]\n",
      "[20]\n",
      "\n",
      "Dividimos el array original en 15 arrays\n",
      "n = 20, m = 15, q = 1, r = 5\n",
      "Los primeros 5 arrays tienen 2 elementos. El resto de los arrays tienen 1 elementos\n",
      "[1 2]\n",
      "[3 4]\n",
      "[5 6]\n",
      "[7 8]\n",
      "[ 9 10]\n",
      "[11]\n",
      "[12]\n",
      "[13]\n",
      "[14]\n",
      "[15]\n",
      "[16]\n",
      "[17]\n",
      "[18]\n",
      "[19]\n",
      "[20]\n",
      "\n",
      "Dividimos el array original en 16 arrays\n",
      "n = 20, m = 16, q = 1, r = 4\n",
      "Los primeros 4 arrays tienen 2 elementos. El resto de los arrays tienen 1 elementos\n",
      "[1 2]\n",
      "[3 4]\n",
      "[5 6]\n",
      "[7 8]\n",
      "[9]\n",
      "[10]\n",
      "[11]\n",
      "[12]\n",
      "[13]\n",
      "[14]\n",
      "[15]\n",
      "[16]\n",
      "[17]\n",
      "[18]\n",
      "[19]\n",
      "[20]\n",
      "\n",
      "Dividimos el array original en 17 arrays\n",
      "n = 20, m = 17, q = 1, r = 3\n",
      "Los primeros 3 arrays tienen 2 elementos. El resto de los arrays tienen 1 elementos\n",
      "[1 2]\n",
      "[3 4]\n",
      "[5 6]\n",
      "[7]\n",
      "[8]\n",
      "[9]\n",
      "[10]\n",
      "[11]\n",
      "[12]\n",
      "[13]\n",
      "[14]\n",
      "[15]\n",
      "[16]\n",
      "[17]\n",
      "[18]\n",
      "[19]\n",
      "[20]\n",
      "\n",
      "Dividimos el array original en 18 arrays\n",
      "n = 20, m = 18, q = 1, r = 2\n",
      "Los primeros 2 arrays tienen 2 elementos. El resto de los arrays tienen 1 elementos\n",
      "[1 2]\n",
      "[3 4]\n",
      "[5]\n",
      "[6]\n",
      "[7]\n",
      "[8]\n",
      "[9]\n",
      "[10]\n",
      "[11]\n",
      "[12]\n",
      "[13]\n",
      "[14]\n",
      "[15]\n",
      "[16]\n",
      "[17]\n",
      "[18]\n",
      "[19]\n",
      "[20]\n",
      "\n",
      "Dividimos el array original en 19 arrays\n",
      "n = 20, m = 19, q = 1, r = 1\n",
      "Los primeros 1 arrays tienen 2 elementos. El resto de los arrays tienen 1 elementos\n",
      "[1 2]\n",
      "[3]\n",
      "[4]\n",
      "[5]\n",
      "[6]\n",
      "[7]\n",
      "[8]\n",
      "[9]\n",
      "[10]\n",
      "[11]\n",
      "[12]\n",
      "[13]\n",
      "[14]\n",
      "[15]\n",
      "[16]\n",
      "[17]\n",
      "[18]\n",
      "[19]\n",
      "[20]\n",
      "\n",
      "Dividimos el array original en 20 arrays\n",
      "n = 20, m = 20, q = 1, r = 0\n",
      "Los 20 arrays resultantes tienen el mismo número de elementos 1\n",
      "[1]\n",
      "[2]\n",
      "[3]\n",
      "[4]\n",
      "[5]\n",
      "[6]\n",
      "[7]\n",
      "[8]\n",
      "[9]\n",
      "[10]\n",
      "[11]\n",
      "[12]\n",
      "[13]\n",
      "[14]\n",
      "[15]\n",
      "[16]\n",
      "[17]\n",
      "[18]\n",
      "[19]\n",
      "[20]\n"
     ]
    }
   ],
   "source": [
    "a = np.array([1, 2, 3, 4, 5, 6, 7, 8, 9, 10,\n",
    "  11, 12, 13, 14, 15, 16, 17, 18, 19, 20\n",
    "])\n",
    "\n",
    "n = a.shape[0]\n",
    "for m in range(2, n + 1):\n",
    "  print(f'\\nDividimos el array original en {m} arrays')\n",
    "  q = n // m\n",
    "  r = n % m\n",
    "  print(f'n = {n}, m = {m}, q = {q}, r = {r}')\n",
    "\n",
    "  if m % n == 0:\n",
    "    print(f'Los {m} arrays resultantes tienen el mismo número de elementos {q}')\n",
    "\n",
    "  else:\n",
    "    print(f'Los primeros {r} arrays tienen {q + 1} elementos. El resto de los arrays tienen {q} elementos')\n",
    "\n",
    "  for i in np.array_split(a, m):\n",
    "    print( i )"
   ]
  },
  {
   "attachments": {},
   "cell_type": "markdown",
   "metadata": {},
   "source": [
    "#### El método `.split()`\n",
    "\n",
    "A la hora de dividir arrays tenemos también el método `.split()`, pero falla en caso de que el número de arrays que queramos dividir el array original no sea divisor del número de elementos del array."
   ]
  },
  {
   "cell_type": "code",
   "execution_count": 24,
   "metadata": {},
   "outputs": [
    {
     "name": "stdout",
     "output_type": "stream",
     "text": [
      "Del array original x = [1 2 3 4 5 6 7 8]\n",
      "Dividiéndolo en 4 obtenemos: [array([1, 2]), array([3, 4]), array([5, 6]), array([7, 8])]\n"
     ]
    }
   ],
   "source": [
    "x = np.array([1, 2, 3, 4, 5, 6, 7, 8])\n",
    "y = np.split(x, 4)\n",
    "print(f'Del array original x = {x}')\n",
    "print(f'Dividiéndolo en 4 obtenemos: {y}')"
   ]
  },
  {
   "attachments": {},
   "cell_type": "markdown",
   "metadata": {},
   "source": [
    "Al cumplirse que el número de arrays en que queremos dividir el array original es divisor del número de elementos del array, obtenemos el mismo resultado que al usar el método `.array_split()`.\n",
    "\n",
    "El siguiente caso, donde queremos dividir los 8 elementos en 3 arrays, nos dará error pues la división no es exacta."
   ]
  },
  {
   "cell_type": "code",
   "execution_count": 25,
   "metadata": {},
   "outputs": [
    {
     "ename": "ValueError",
     "evalue": "array split does not result in an equal division",
     "output_type": "error",
     "traceback": [
      "\u001b[0;31m---------------------------------------------------------------------------\u001b[0m",
      "\u001b[0;31mValueError\u001b[0m                                Traceback (most recent call last)",
      "Cell \u001b[0;32mIn[25], line 2\u001b[0m\n\u001b[1;32m      1\u001b[0m x \u001b[39m=\u001b[39m np\u001b[39m.\u001b[39marray([\u001b[39m1\u001b[39m, \u001b[39m2\u001b[39m, \u001b[39m3\u001b[39m, \u001b[39m4\u001b[39m, \u001b[39m5\u001b[39m, \u001b[39m6\u001b[39m, \u001b[39m7\u001b[39m, \u001b[39m8\u001b[39m])\n\u001b[0;32m----> 2\u001b[0m y \u001b[39m=\u001b[39m np\u001b[39m.\u001b[39;49msplit(x, \u001b[39m3\u001b[39;49m)\n",
      "File \u001b[0;32m<__array_function__ internals>:200\u001b[0m, in \u001b[0;36msplit\u001b[0;34m(*args, **kwargs)\u001b[0m\n",
      "File \u001b[0;32m~/.local/lib/python3.10/site-packages/numpy/lib/shape_base.py:872\u001b[0m, in \u001b[0;36msplit\u001b[0;34m(ary, indices_or_sections, axis)\u001b[0m\n\u001b[1;32m    870\u001b[0m     N \u001b[39m=\u001b[39m ary\u001b[39m.\u001b[39mshape[axis]\n\u001b[1;32m    871\u001b[0m     \u001b[39mif\u001b[39;00m N \u001b[39m%\u001b[39m sections:\n\u001b[0;32m--> 872\u001b[0m         \u001b[39mraise\u001b[39;00m \u001b[39mValueError\u001b[39;00m(\n\u001b[1;32m    873\u001b[0m             \u001b[39m'\u001b[39m\u001b[39marray split does not result in an equal division\u001b[39m\u001b[39m'\u001b[39m) \u001b[39mfrom\u001b[39;00m \u001b[39mNone\u001b[39m\n\u001b[1;32m    874\u001b[0m \u001b[39mreturn\u001b[39;00m array_split(ary, indices_or_sections, axis)\n",
      "\u001b[0;31mValueError\u001b[0m: array split does not result in an equal division"
     ]
    }
   ],
   "source": [
    "x = np.array([1, 2, 3, 4, 5, 6, 7, 8])\n",
    "y = np.split(x, 3)"
   ]
  },
  {
   "attachments": {},
   "cell_type": "markdown",
   "metadata": {},
   "source": [
    "#### Dividiendo arrays 2D\n",
    "\n",
    "Podemos también dividir arrays 2D en múltiples arrays 2D:"
   ]
  },
  {
   "cell_type": "code",
   "execution_count": 2,
   "metadata": {},
   "outputs": [
    {
     "name": "stdout",
     "output_type": "stream",
     "text": [
      "Del array original x =\n",
      " [[-1  0  1]\n",
      " [-2  0  2]\n",
      " [-3  0  3]\n",
      " [-4  0  4]\n",
      " [-5  0  5]\n",
      " [-6  0  6]]\n",
      "Dividiéndolo en 3 obtenemos:\n",
      "[[-1  0  1]\n",
      " [-2  0  2]]\n",
      "[[-3  0  3]\n",
      " [-4  0  4]]\n",
      "[[-5  0  5]\n",
      " [-6  0  6]]\n"
     ]
    }
   ],
   "source": [
    "x = np.array([\n",
    "  [-1, 0, 1], [-2, 0, 2], [-3, 0, 3],\n",
    "  [-4, 0, 4], [-5, 0, 5], [-6, 0, 6]\n",
    "])\n",
    "\n",
    "y = np.array_split(x, 3)\n",
    "print('Del array original x =\\n', x)\n",
    "print('Dividiéndolo en 3 obtenemos:')\n",
    "for i in y:\n",
    "  print( i )"
   ]
  },
  {
   "attachments": {},
   "cell_type": "markdown",
   "metadata": {},
   "source": [
    "Como resultado, obtenemos una lista con el número de arrays 2D que hemos indicado por parámetro.\n",
    "\n",
    "De nuevo, el array 2D original lo podemos dividir en 2, 3,... hasta en tantos arrays como elementos 1D contenga. Es decir, dado por ejemplo un array 2D con 6 arrays 1D, podemos dividirlo en 2, 3, 4, ..., 6 arrays 2D:"
   ]
  },
  {
   "cell_type": "code",
   "execution_count": 3,
   "metadata": {},
   "outputs": [
    {
     "name": "stdout",
     "output_type": "stream",
     "text": [
      "\n",
      "Dividimos el array original en 2\n",
      "[[-1  0  1]\n",
      " [-2  0  2]\n",
      " [-3  0  3]]\n",
      "[[-4  0  4]\n",
      " [-5  0  5]\n",
      " [-6  0  6]]\n",
      "\n",
      "Dividimos el array original en 3\n",
      "[[-1  0  1]\n",
      " [-2  0  2]]\n",
      "[[-3  0  3]\n",
      " [-4  0  4]]\n",
      "[[-5  0  5]\n",
      " [-6  0  6]]\n",
      "\n",
      "Dividimos el array original en 4\n",
      "[[-1  0  1]\n",
      " [-2  0  2]]\n",
      "[[-3  0  3]\n",
      " [-4  0  4]]\n",
      "[[-5  0  5]]\n",
      "[[-6  0  6]]\n",
      "\n",
      "Dividimos el array original en 5\n",
      "[[-1  0  1]\n",
      " [-2  0  2]]\n",
      "[[-3  0  3]]\n",
      "[[-4  0  4]]\n",
      "[[-5  0  5]]\n",
      "[[-6  0  6]]\n",
      "\n",
      "Dividimos el array original en 6\n",
      "[[-1  0  1]]\n",
      "[[-2  0  2]]\n",
      "[[-3  0  3]]\n",
      "[[-4  0  4]]\n",
      "[[-5  0  5]]\n",
      "[[-6  0  6]]\n"
     ]
    }
   ],
   "source": [
    "for i in range(2, x.shape[0] + 1):\n",
    "  print(f'\\nDividimos el array original en {i}')\n",
    "  for j in np.array_split(x, i):\n",
    "    print(j)"
   ]
  },
  {
   "attachments": {},
   "cell_type": "markdown",
   "metadata": {},
   "source": [
    "**Observación**. En el caso 2D, vuelve a satisfacerse que si el número de arrays en que queremos dividir el array 2D original, m es divisor del número de elementos 1D que tiene el array original 2D, n, entonces todos los arrays 2D resultantes tendrán el mismo número de arrays 1D, q, donde q es el cociente de la división entera de n entre m.\n",
    "\n",
    "En cambio, si el número introducido por parámetro, m, no es divisor del número total de arrays 1D que contiene el array original, n, entonces los r primeros arrays 2D resultantes, siendo r el resto de la división entera de n entre m, tendrán cada uno de ellos q + 1 elementos, mientras que el resto de arrays 2D, los m - r restantes, tendrán q elementos. De modo que:\n",
    "\n",
    "<center>\n",
    "  n = r * (q + 1) + (m - r) * q = ar + r + mq - qr = mq + r\n",
    "</center>\n",
    "\n",
    "En el caso de dividir arrays multidimensionales, volvemos a tener la opción de configurar el parámetro `axis`."
   ]
  },
  {
   "cell_type": "code",
   "execution_count": 5,
   "metadata": {},
   "outputs": [
    {
     "name": "stdout",
     "output_type": "stream",
     "text": [
      "Del array original x = \n",
      " [[-1  0  1]\n",
      " [-2  0  2]\n",
      " [-3  0  3]\n",
      " [-4  0  4]\n",
      " [-5  0  5]\n",
      " [-6  0  6]]\n",
      "Dividiéndolo en 3 con axis = 0 obtenemos:\n",
      "[[-1  0  1]\n",
      " [-2  0  2]]\n",
      "[[-3  0  3]\n",
      " [-4  0  4]]\n",
      "[[-5  0  5]\n",
      " [-6  0  6]]\n",
      "\n",
      "Dividiéndolo en 3 con axis = 1 obtenemos:\n",
      "[[-1]\n",
      " [-2]\n",
      " [-3]\n",
      " [-4]\n",
      " [-5]\n",
      " [-6]]\n",
      "[[0]\n",
      " [0]\n",
      " [0]\n",
      " [0]\n",
      " [0]\n",
      " [0]]\n",
      "[[1]\n",
      " [2]\n",
      " [3]\n",
      " [4]\n",
      " [5]\n",
      " [6]]\n"
     ]
    }
   ],
   "source": [
    "x = np.array([\n",
    "  [-1, 0, 1], [-2, 0, 2], [-3, 0, 3],\n",
    "  [-4, 0, 4], [-5, 0, 5], [-6, 0, 6]\n",
    "])\n",
    "\n",
    "print('Del array original x = \\n', x)\n",
    "\n",
    "print('Dividiéndolo en 3 con axis = 0 obtenemos:')\n",
    "y = np.array_split(x, 3, axis = 0)\n",
    "for i in y:\n",
    "  print( i )\n",
    "\n",
    "print('\\nDividiéndolo en 3 con axis = 1 obtenemos:')\n",
    "y = np.array_split(x, 3, axis = 1)\n",
    "for i in y:\n",
    "  print( i )"
   ]
  },
  {
   "attachments": {},
   "cell_type": "markdown",
   "metadata": {},
   "source": [
    "En el caso de `axis = 0`, obtenemos como resultado una lista de arrays 2D donde se han repartido los arrays 1D en el número de arrays 2D indicado por parámetro a la función y del modo que hemos explicado anteriormente.\n",
    "\n",
    "En el caso de `axis = 1`, obtenemos como resultado una lista de arrays 2D, tantos como se ha indicado por parámetro, donde se han repartido los elementos de cada array 1D.\n",
    "\n",
    "**Observación**. En el caso 2D, si configuramos `axis = 1`, si el número de arrays que queremos dividir el array 2D original, m, es divisor del número de elementos contenidos en cada array 1D del array original 2D, n, entonces todos los arrays 2D resultantes tendrán tantos arrays 1D como tenían originalmente, los cuales tendrán todos el mismo número de elementos, q, donde q es el cociente de la división entera de n entre m.\n",
    "\n",
    "En cambio, si el número introducido por parámetro, m, no es divisor del número total de elementos contenidos en cada array 1D del array original 2D, n, entonces todos los arrays 2D resultantes tendrán el mismo número de arrays 1D que el original, pero los arrays 1D de los r primeros arrays 2D resultantes, siendo r el resto de la división entera de n entre m, tendrán cada uno de ellos q + 1 elementos, mientras que los arrays 1D para el resto de arrays 2D, los m - r restantes, tendrán q elementos cada uno de ellos. De modo que:\n",
    "\n",
    "<center>\n",
    "  n = r * (q + 1) + (m - r) * q = qr + r + mq - qr = mq + r\n",
    "</center>\n",
    "\n",
    "**Observación**. Para el caso de `axis = 1`, podremos dividir el array original en 2, 3, ..., hasta el número de elementos que contengan cada uno de los arrays 1D del array 2D original."
   ]
  },
  {
   "attachments": {},
   "cell_type": "markdown",
   "metadata": {},
   "source": [
    "##### El método `.hsplit()`\n",
    "\n",
    "`numpy` nos proporciona una función helper, el método `.hsplitt()` que lleva a cabo el procecso inverso a `.hstack()`"
   ]
  },
  {
   "cell_type": "code",
   "execution_count": 2,
   "metadata": {},
   "outputs": [
    {
     "name": "stdout",
     "output_type": "stream",
     "text": [
      "[[ 1]\n",
      " [ 6]\n",
      " [11]\n",
      " [16]]\n",
      "[[ 2]\n",
      " [ 7]\n",
      " [12]\n",
      " [17]]\n",
      "[[ 3]\n",
      " [ 8]\n",
      " [13]\n",
      " [18]]\n",
      "[[ 4]\n",
      " [ 9]\n",
      " [14]\n",
      " [19]]\n",
      "[[ 5]\n",
      " [10]\n",
      " [15]\n",
      " [20]]\n"
     ]
    }
   ],
   "source": [
    "a = np.array([[1, 2, 3, 4, 5],\n",
    "[6, 7, 8, 9, 10],\n",
    "[11, 12, 13, 14, 15],\n",
    "[16, 17, 18, 19, 20]])\n",
    "\n",
    "for i in np.hsplit(a, 5):\n",
    "  print( i )"
   ]
  },
  {
   "attachments": {},
   "cell_type": "markdown",
   "metadata": {},
   "source": [
    "El resultado de este método es equivalente al que obtendríamos si usáramos el método `.array_split()` con `axis = 1`. No obstantte, este método dará error si el número de arrays en que queremos dividir el array original, m, no coincide con el número de elementos que contiene cada array 1D del array original 2D, n."
   ]
  },
  {
   "attachments": {},
   "cell_type": "markdown",
   "metadata": {},
   "source": [
    "##### El método `.vsplit()`\n",
    "\n",
    "`numpy` nos proporciona una función helper, el método `.vsplit()` que lleva a cabo el proceso inverso a `.vstack()`"
   ]
  },
  {
   "cell_type": "code",
   "execution_count": 3,
   "metadata": {},
   "outputs": [
    {
     "name": "stdout",
     "output_type": "stream",
     "text": [
      "[[ 1  2  3  4  5]\n",
      " [ 6  7  8  9 10]]\n",
      "[[11 12 13 14 15]\n",
      " [16 17 18 19 20]]\n"
     ]
    }
   ],
   "source": [
    "a = np.array([[1, 2, 3, 4, 5],\n",
    "[6, 7, 8, 9, 10],\n",
    "[11, 12, 13, 14, 15],\n",
    "[16, 17, 18, 19, 20]])\n",
    "\n",
    "for i in np.vsplit(a, 2):\n",
    "  print( i )"
   ]
  },
  {
   "attachments": {},
   "cell_type": "markdown",
   "metadata": {},
   "source": [
    "El resultado de este método es equivalente al que obtendríamos si usáramos el método `.array_split()` con `axis = 0`. No obstante, este método dará error si el número de arrays en que queremos dividir el array original, m, no coincide co nel número de arrays 1D del array original 2Dm, n.\n",
    "\n",
    "\n",
    "#### Dividiendo arrays multidimensionales\n",
    "\n",
    "Para dividir arrays d-dimensionales, siendo d > 2, podemos usar el método `.array_split()` como hasta ahora.\n",
    "\n",
    "A medidad que d sea mayor, tendremos más posibilidades para el parámetro `axis`. En concreto, tendremos d posibles elecciones: `axis = 0`, `axis = 1`, ..., hasta `axis = d - 1`.\n",
    "\n",
    "##### El método `.dsplit()`\n",
    "\n",
    "Si tenemos arrays multidimensionales, cuya función es mayor o igual a 3, entonces podremos usar el método `.dsplit()`, que se trata de una función helper, la inversa a `.dstack()` y se corresponde con el resultado de `.array_split()` con `axis = 2`.\n",
    "\n",
    "Lo que hay que tener en cuenta que `.dsplit()` funcionará únicamente si el número de arrays d-dimensionales en que queremos dividir el array d-dimensional original, m, es divisor del número de elementos que contiene cada array (d - 2)-dimensional del array original.\n",
    "\n",
    "Si d = 3, entonces el número de arrays tridimensionales m que indiquemos por parámetro deberá ser divisor del número de elementos que contiene cada array unidimensional (d - 2 = 1) del array tridimensional original."
   ]
  },
  {
   "cell_type": "code",
   "execution_count": 4,
   "metadata": {},
   "outputs": [
    {
     "name": "stdout",
     "output_type": "stream",
     "text": [
      "[[[ 1]\n",
      "  [ 6]\n",
      "  [11]\n",
      "  [16]]\n",
      "\n",
      " [[ 1]\n",
      "  [ 6]\n",
      "  [11]\n",
      "  [16]]]\n",
      "[[[ 2]\n",
      "  [ 7]\n",
      "  [12]\n",
      "  [17]]\n",
      "\n",
      " [[ 2]\n",
      "  [ 7]\n",
      "  [12]\n",
      "  [17]]]\n",
      "[[[ 3]\n",
      "  [ 8]\n",
      "  [13]\n",
      "  [18]]\n",
      "\n",
      " [[ 3]\n",
      "  [ 8]\n",
      "  [13]\n",
      "  [18]]]\n",
      "[[[ 4]\n",
      "  [ 9]\n",
      "  [14]\n",
      "  [19]]\n",
      "\n",
      " [[ 4]\n",
      "  [ 9]\n",
      "  [14]\n",
      "  [19]]]\n",
      "[[[ 5]\n",
      "  [10]\n",
      "  [15]\n",
      "  [20]]\n",
      "\n",
      " [[ 5]\n",
      "  [10]\n",
      "  [15]\n",
      "  [20]]]\n"
     ]
    }
   ],
   "source": [
    "a = np.array([[[1, 2, 3, 4, 5],\n",
    "              [6, 7, 8, 9, 10],\n",
    "              [11, 12, 13, 14, 15],\n",
    "              [16, 17, 18, 19, 20]],\n",
    "              \n",
    "              [[1, 2, 3, 4, 5],\n",
    "              [6, 7, 8, 9, 10],\n",
    "              [11, 12, 13, 14, 15],\n",
    "              [16, 17, 18, 19, 20]]])\n",
    "\n",
    "for i in np.dsplit(a, 5):\n",
    "  print( i )"
   ]
  },
  {
   "attachments": {},
   "cell_type": "markdown",
   "metadata": {},
   "source": [
    "#### Buscando elementos en un array\n",
    "\n",
    "Podemos buscar elementos en concreto de un array con el método `.where()` que nos devolverá un array de índices en los cuales se encuentra el elemento que estamos buscando.\n",
    "\n",
    "Por ejemplo, dado el siguiente array 1D `x`, busquemos en qué posiciones éste toma el valor 0."
   ]
  },
  {
   "cell_type": "code",
   "execution_count": 5,
   "metadata": {},
   "outputs": [
    {
     "name": "stdout",
     "output_type": "stream",
     "text": [
      "(array([1, 3, 5, 7]),)\n"
     ]
    }
   ],
   "source": [
    "x = np.array([1, 0, -1, 0, 2, 0, -2, 0])\n",
    "idx0 = np.where( x == 0 )\n",
    "print( idx0 )"
   ]
  },
  {
   "attachments": {},
   "cell_type": "markdown",
   "metadata": {},
   "source": [
    "Como resultado hemos obtenido los índices 1, 3, 5 y 7 del array `x` se toma el valor 0.\n",
    "\n",
    "**Observación**. Podemos poner cualquier tipo de condición a modo de argumento del método `.where()`.\n",
    "\n",
    "Dado el siguiente array 1D `y`, busquemos en qué índices se toman valores pares."
   ]
  },
  {
   "cell_type": "code",
   "execution_count": 6,
   "metadata": {},
   "outputs": [
    {
     "name": "stdout",
     "output_type": "stream",
     "text": [
      "(array([0, 2, 4, 6]),)\n"
     ]
    }
   ],
   "source": [
    "y = np.array([2, 3, 6, 7, 14, 15, 30, 31])\n",
    "z = np.where(y % 2 == 0)\n",
    "\n",
    "print( z )"
   ]
  },
  {
   "attachments": {},
   "cell_type": "markdown",
   "metadata": {},
   "source": [
    "##### El método `.searchsorted()`\n",
    "\n",
    "EL método `.searchsorted()` lleva a cabo una búsqueda binaria en el array y devuelve los índices donde el valor indicado por parámetro sería colocado de modo que se mantuviese el orden de búsqueda:"
   ]
  },
  {
   "cell_type": "code",
   "execution_count": 7,
   "metadata": {},
   "outputs": [
    {
     "name": "stdout",
     "output_type": "stream",
     "text": [
      "El elemento -9.5 deberá ocupar el índice 1\n",
      "El elemento -6.5 deberá ocupar el índice 4\n"
     ]
    }
   ],
   "source": [
    "a = np.array([-10, -9, -8, -7])\n",
    "b = np.searchsorted(a, -9.5)\n",
    "c = np.searchsorted(a, -6.5)\n",
    "\n",
    "print(f'El elemento -9.5 deberá ocupar el índice {b}')\n",
    "print(f'El elemento -6.5 deberá ocupar el índice {c}')"
   ]
  },
  {
   "attachments": {},
   "cell_type": "markdown",
   "metadata": {},
   "source": [
    "**Observación**. En caso de no proporcionar un array ya ordenado, `numpy` lo ordena por defecto:\n",
    "\n",
    "* Los números van en orden ascendente.\n",
    "* Las letras y strings en orden alfabético."
   ]
  },
  {
   "cell_type": "code",
   "execution_count": 8,
   "metadata": {},
   "outputs": [
    {
     "name": "stdout",
     "output_type": "stream",
     "text": [
      "El elemento -9.5 deberá ocupar el índice 1\n",
      "El elemento -6.5 deberá ocupar el índice 4\n"
     ]
    }
   ],
   "source": [
    "a = np.array([-10, -9, -8, -7])\n",
    "b = np.searchsorted(a, -9.5)\n",
    "c = np.searchsorted(a, -6.5)\n",
    "\n",
    "print(f'El elemento -9.5 deberá ocupar el índice {b}')\n",
    "print(f'El elemento -6.5 deberá ocupar el índice {c}')"
   ]
  },
  {
   "attachments": {},
   "cell_type": "markdown",
   "metadata": {},
   "source": [
    "Por defecto, se nos devuelve el primer índice (empezando por la izquierda) que podría ocupar el elemento que queremos introducir dentro del array. Para mostrar el último índice que podría ocupar dicho elemento, existe un parámetro llamado `side` y habrá que igualarlo a `right` para obtener dicho índice:"
   ]
  },
  {
   "cell_type": "code",
   "execution_count": 9,
   "metadata": {},
   "outputs": [
    {
     "name": "stdout",
     "output_type": "stream",
     "text": [
      "El elemento -9 puede ocupar como pronto el índice 1\n",
      "El elemento -9 puede ocupar como tarde el índice 2\n",
      "El elemento -7 puede ocupar como pronto el índice 3\n",
      "El elemento -7 puede ocupar como tarde el índice 4\n"
     ]
    }
   ],
   "source": [
    "a = np.array([-10, -9, -8, -7])\n",
    "b_left = np.searchsorted(a, -9, side='left')\n",
    "b_right = np.searchsorted(a, -9, side='right')\n",
    "c_left = np.searchsorted(a, -7, side='left')\n",
    "c_right = np.searchsorted(a, -7, side='right')\n",
    "\n",
    "print(f'El elemento -9 puede ocupar como pronto el índice {b_left}')\n",
    "print(f'El elemento -9 puede ocupar como tarde el índice {b_right}')\n",
    "print(f'El elemento -7 puede ocupar como pronto el índice {c_left}')\n",
    "print(f'El elemento -7 puede ocupar como tarde el índice {c_right}')"
   ]
  },
  {
   "attachments": {},
   "cell_type": "markdown",
   "metadata": {},
   "source": [
    "En vez de ir elemento en elemento, podemos introducir por parámetro una lista de elementos a introducir en el array:"
   ]
  },
  {
   "cell_type": "code",
   "execution_count": 10,
   "metadata": {},
   "outputs": [
    {
     "name": "stdout",
     "output_type": "stream",
     "text": [
      "[0 1 2]\n"
     ]
    }
   ],
   "source": [
    "x = np.array([4, 8, 12, 16])\n",
    "y = np.searchsorted(x, [3, 6, 9])\n",
    "print( y )"
   ]
  },
  {
   "attachments": {},
   "cell_type": "markdown",
   "metadata": {},
   "source": [
    "Como resultado obtendremos un array con los índices en que se introducirían cada uno de los elementos de la lista dentro del array:\n",
    "\n",
    "* El elemento 3 ocuparía el índice 0 dentro del array original `x`, quedando como resultado `[3, 4, 8, 12, 16]`\n",
    "* El elemento 6 ocuparía el índice 1 dentro del array original `x`, quedando como resultado `[4, 6, 8, 12, 16]`\n",
    "* El elemento 9 ocuparía el índice 2 dentro del array original `x`, quedando como resultado `[4, 8, 9, 12, 16]`"
   ]
  },
  {
   "attachments": {},
   "cell_type": "markdown",
   "metadata": {},
   "source": [
    "#### Ordenando arrays\n",
    "\n",
    "Ordenar arrays implica reordenar los elementos siguiendo una secuencia ordenada.\n",
    "\n",
    "A su vez, una secuencia ordenada es cualquier sucesión que tiene un orden que ciertos elementos siguen, como por ejemplo el orden alfabético o numérico, tanto ascendente como descendentte.\n",
    "\n",
    "Para ordenar los elementos de un array, disponemos del método `.sort()`"
   ]
  },
  {
   "cell_type": "code",
   "execution_count": 11,
   "metadata": {},
   "outputs": [
    {
     "name": "stdout",
     "output_type": "stream",
     "text": [
      "['a' 'c' 'k' 'm' 'z']\n"
     ]
    }
   ],
   "source": [
    "x = np.array(['c', 'm', 'k', 'z', 'a'])\n",
    "print( np.sort(x) )"
   ]
  },
  {
   "cell_type": "code",
   "execution_count": 12,
   "metadata": {},
   "outputs": [
    {
     "name": "stdout",
     "output_type": "stream",
     "text": [
      "['armadillo' 'caracol' 'escarabajo' 'mariposa' 'perezoso']\n"
     ]
    }
   ],
   "source": [
    "x = np.array(['caracol', 'mariposa', 'escarabajo', 'perezoso', 'armadillo'])\n",
    "print( np.sort(x) )"
   ]
  },
  {
   "cell_type": "code",
   "execution_count": 14,
   "metadata": {},
   "outputs": [
    {
     "name": "stdout",
     "output_type": "stream",
     "text": [
      "[-10  -5  -2   0   2   5  10]\n"
     ]
    }
   ],
   "source": [
    "x = np.array([2, -2, 5, -5, 10, -10, 0])\n",
    "print( np.sort(x) )"
   ]
  },
  {
   "cell_type": "code",
   "execution_count": 15,
   "metadata": {},
   "outputs": [
    {
     "name": "stdout",
     "output_type": "stream",
     "text": [
      "[-10.6  -5.7  -2.3   0.4   2.5   5.1  10.9]\n"
     ]
    }
   ],
   "source": [
    "x = np.array([2.5, -2.3, 5.1, -5.7, 10.9, -10.6, .4])\n",
    "print( np.sort(x) )"
   ]
  },
  {
   "cell_type": "code",
   "execution_count": 16,
   "metadata": {},
   "outputs": [
    {
     "name": "stdout",
     "output_type": "stream",
     "text": [
      "[False False  True  True]\n"
     ]
    }
   ],
   "source": [
    "x = np.array([True, False, True, False])\n",
    "print( np.sort(x) )"
   ]
  },
  {
   "attachments": {},
   "cell_type": "markdown",
   "metadata": {},
   "source": [
    "A modo de resultado obtenemos una copia del array original, con los elementos ordenados por defecto de forma ascendente.\n",
    "\n",
    "También podemos ordenar arrays multidimensionales:"
   ]
  },
  {
   "cell_type": "code",
   "execution_count": 17,
   "metadata": {},
   "outputs": [
    {
     "name": "stdout",
     "output_type": "stream",
     "text": [
      "[[ 2  3  4]\n",
      " [-4 -3 -2]]\n"
     ]
    }
   ],
   "source": [
    "y = np.array([[2, 4, 3], [-4, -2, -3]])\n",
    "print( np.sort(y) )"
   ]
  },
  {
   "attachments": {},
   "cell_type": "markdown",
   "metadata": {},
   "source": [
    "Y podemos elegir sobre qué eje ordenarlos con el parámetro `axis`"
   ]
  },
  {
   "cell_type": "code",
   "execution_count": 18,
   "metadata": {},
   "outputs": [
    {
     "name": "stdout",
     "output_type": "stream",
     "text": [
      "[[-4 -2 -3]\n",
      " [ 2  4  3]]\n",
      "[[ 2  3  4]\n",
      " [-4 -3 -2]]\n"
     ]
    }
   ],
   "source": [
    "y = np.array([[2, 4, 3], [-4, -2, -3]])\n",
    "print(np.sort(y, axis = 0))\n",
    "print(np.sort(y, axis = 1))"
   ]
  },
  {
   "attachments": {},
   "cell_type": "markdown",
   "metadata": {},
   "source": [
    "Por defecto, si no indicamos el parámetro `axis` se ordena siempre con respecto al último eje.\n",
    "\n",
    "`axis = 0` ordena los elementos dentro de la mayor dimensión. En este caso, ordena los arrays 1D dentro del array 2D.\n",
    "`axis = 1` ordena los elementos dentro de la segunda mayor dimensión. En este caso, ordena los elementos de los arrays 1D.\n",
    "\n",
    "**Observación**. Dado un array n-dimensional, tendremos n opciones para `axis`: 0 (dimensión mayor), 1 (segunda mayor dimensión), ..., n - 1 (dimensión menor, equivalentet a no indicar parámetro `axis` o igualar `axis = 1`)."
   ]
  },
  {
   "attachments": {},
   "cell_type": "markdown",
   "metadata": {},
   "source": [
    "#### Elementos aleatorios en `numpy`\n",
    "\n",
    "**Número aleatorio**. Un número aleatorio significa que se trata de un número que no puede ser predico lógicamente.\n",
    "\n",
    "**¡Cuidado!** No hay que confundir número aleatorio con que se genere un número diferente cada vez que ejecutemos.\n",
    "\n",
    "Como los ordenadores trabajan mediante algoritmos, un programa destinado a generar números aleatorios implica que los números no serán realmente aleatorios. Los números generados mediante un algoritmo son conocidos como **números pseudoaleatorios**.\n",
    "\n",
    "En este apartado trabajaremos con números pseudoaleatorios y veremos como generarlos."
   ]
  },
  {
   "attachments": {},
   "cell_type": "markdown",
   "metadata": {},
   "source": [
    "#### El módulo `random`\n",
    "\n",
    "`numpy` tiene el módulo `random` dedicado a trabajar con número aleatorios.\n",
    "\n",
    "Para generar números enteros aleatorios, usamos el método `.randint()`"
   ]
  },
  {
   "cell_type": "code",
   "execution_count": 3,
   "metadata": {},
   "outputs": [],
   "source": [
    "from numpy import random"
   ]
  },
  {
   "cell_type": "code",
   "execution_count": 21,
   "metadata": {},
   "outputs": [
    {
     "name": "stdout",
     "output_type": "stream",
     "text": [
      "4\n"
     ]
    }
   ],
   "source": [
    "# Generamos un número entero aleatorio del 1 al 20\n",
    "n = random.randint(1, 20)\n",
    "print( n )"
   ]
  },
  {
   "cell_type": "code",
   "execution_count": 22,
   "metadata": {},
   "outputs": [
    {
     "name": "stdout",
     "output_type": "stream",
     "text": [
      "6\n"
     ]
    }
   ],
   "source": [
    "# Generamos un número entero aleatorio del 0 al 10\n",
    "m = random.randint(10)\n",
    "print( m )"
   ]
  },
  {
   "attachments": {},
   "cell_type": "markdown",
   "metadata": {},
   "source": [
    "Para generar números reales aleatorios dentro del intervalo [0, 1], usamos el método `.rand()`"
   ]
  },
  {
   "cell_type": "code",
   "execution_count": 23,
   "metadata": {},
   "outputs": [
    {
     "name": "stdout",
     "output_type": "stream",
     "text": [
      "0.4224935018422452\n"
     ]
    }
   ],
   "source": [
    "# Generamos un número real aleatorio entre el 0 y el 1\n",
    "x = random.rand()\n",
    "print( x )"
   ]
  },
  {
   "attachments": {},
   "cell_type": "markdown",
   "metadata": {},
   "source": [
    "#### Arrays aleatorios\n",
    "\n",
    "Podemos generar arrays aleatorios tanto con el método `.randint()` como con el método `.rand()`"
   ]
  },
  {
   "cell_type": "code",
   "execution_count": 24,
   "metadata": {},
   "outputs": [
    {
     "name": "stdout",
     "output_type": "stream",
     "text": [
      "[83 37 66 98 22]\n"
     ]
    }
   ],
   "source": [
    "# Generamos un array 1D de 5 elementos enteros aleatorios\n",
    "a = random.randint(100, size=5)\n",
    "print( a )"
   ]
  },
  {
   "cell_type": "code",
   "execution_count": 25,
   "metadata": {},
   "outputs": [
    {
     "name": "stdout",
     "output_type": "stream",
     "text": [
      "[0.03477993 0.82175145 0.64096775]\n"
     ]
    }
   ],
   "source": [
    "# Generamos un arra 1D de 3 elementos reales aleatorios\n",
    "b = random.rand(3)\n",
    "print( b )"
   ]
  },
  {
   "cell_type": "code",
   "execution_count": 27,
   "metadata": {},
   "outputs": [
    {
     "name": "stdout",
     "output_type": "stream",
     "text": [
      "[[46  3 45 39]\n",
      " [41 24 11  1]\n",
      " [ 3  0  6 28]\n",
      " [31 33  1 17]\n",
      " [ 9 38 35 34]]\n"
     ]
    }
   ],
   "source": [
    "# Generamos un array 2D de 5 arrays 1D cada uno con 4 enteros aleatorios\n",
    "c = random.randint(50, size=(5, 4))\n",
    "print( c )"
   ]
  },
  {
   "cell_type": "code",
   "execution_count": 28,
   "metadata": {},
   "outputs": [
    {
     "name": "stdout",
     "output_type": "stream",
     "text": [
      "[[[0.3376015  0.21798673 0.46734571]\n",
      "  [0.55069993 0.79877342 0.90344679]\n",
      "  [0.96224576 0.68060579 0.71071193]\n",
      "  [0.03402523 0.79854627 0.54115461]]\n",
      "\n",
      " [[0.79604846 0.56761656 0.03886661]\n",
      "  [0.49444019 0.111821   0.8378823 ]\n",
      "  [0.08318799 0.54934208 0.78695925]\n",
      "  [0.47751419 0.39834084 0.95066382]]]\n"
     ]
    }
   ],
   "source": [
    "# Generamos un array 3D de 2 arrays 2D cada uno con 4 arrays 1D\n",
    "# cada uno con 3 reales aleatorios\n",
    "d = random.rand(2, 4, 3)\n",
    "print( d )"
   ]
  },
  {
   "attachments": {},
   "cell_type": "markdown",
   "metadata": {},
   "source": [
    "#### Elegir un elemento aleatorio de un array\n",
    "\n",
    "Dado un array, podemos elegir aleatoriamente un elemento suyo con el método `.choice()`"
   ]
  },
  {
   "cell_type": "code",
   "execution_count": 29,
   "metadata": {},
   "outputs": [
    {
     "name": "stdout",
     "output_type": "stream",
     "text": [
      "-2\n"
     ]
    }
   ],
   "source": [
    "x = np.array([1, 2, 3, 4, 5, -5, -4, -3, -2, -1])\n",
    "print( random.choice(x) )"
   ]
  },
  {
   "attachments": {},
   "cell_type": "markdown",
   "metadata": {},
   "source": [
    "El método `.choice()` también consta del parámetro `size`, con lo cual podemos generar un array con los elementos de un array dado:"
   ]
  },
  {
   "cell_type": "code",
   "execution_count": 30,
   "metadata": {},
   "outputs": [
    {
     "name": "stdout",
     "output_type": "stream",
     "text": [
      "[[-1 -1  2  2  1  2]\n",
      " [ 3  2  5  5 -3  4]\n",
      " [-5 -5 -4 -5 -4 -3]]\n"
     ]
    }
   ],
   "source": [
    "print( random.choice(x, size=(3, 6)) )"
   ]
  },
  {
   "attachments": {},
   "cell_type": "markdown",
   "metadata": {},
   "source": [
    "**¡Cuidado!** El método `.choice()` solamente toma como parámetro arrays unidimensionales.\n",
    "\n",
    "Existe otro parámetro del método `.choice()` que nos permite modificar las probabilidades de cada elemento. Éste es el parámetro `p`, al que le tendremos que proporcionar una lista de probabilidades (todos los elementos deben ser menores o iguales a 1 y la suam de todos ellos debe ser 1).\n",
    "\n",
    "**Observación**. Por defecto, todos los elementos son equiprobables, es decir, tienen la misma probabilidad que es 1/n, siendn el número de elementos del array."
   ]
  },
  {
   "cell_type": "code",
   "execution_count": 33,
   "metadata": {},
   "outputs": [
    {
     "name": "stdout",
     "output_type": "stream",
     "text": [
      "[[-1  2 -1 -4  1 -3]\n",
      " [ 2 -2  2  2  3 -3]]\n"
     ]
    }
   ],
   "source": [
    "x = np.array([1, 2, 3, 4, 5, -5, -4, -3, -2, -1])\n",
    "print( random.choice(x,\n",
    "  p=[.2, .2, .05, .05, .05, .05, .1, .1, .05, .15],\n",
    "  size=(2, 6)))"
   ]
  },
  {
   "attachments": {},
   "cell_type": "markdown",
   "metadata": {},
   "source": [
    "En el chunk anterior se ha generado un array 2D con 2 arrays 1D cada uno con 6 elementos, donde las probabilidades del array son:\n",
    "\n",
    "* Los elementos `1` y `2` tienen probabilidad .2 de salir.\n",
    "* El elmento `-1` tiene probabilidad .15.\n",
    "* Los elementos `-4` y `-3` tienen probabilidad .1 de salir.\n",
    "* Los elementos `3`, `4`, `5`, `6` y `-2` tienen probabilidad .05.\n",
    "\n",
    "Todas las probabilidades se encuentran en el intervalo [0, 1] y si las sumamos dan 1."
   ]
  },
  {
   "attachments": {},
   "cell_type": "markdown",
   "metadata": {},
   "source": [
    "#### Permutaciones aleatorias\n",
    "\n",
    "**Permutación**. Una permutación de un array se refiere a la reordenación de sus elementos.\n",
    "\n",
    "El módulo `random` de `numpy` nos proporciona dos métodos para crear permutaciones aleatorias de un array dado:\n",
    "\n",
    "* `.shuffle()` modifica el array original.\n",
    "* `.permutation()` que crea una copia."
   ]
  },
  {
   "cell_type": "code",
   "execution_count": 6,
   "metadata": {},
   "outputs": [
    {
     "name": "stdout",
     "output_type": "stream",
     "text": [
      "Array original permutado: [2 3 4 1]\n"
     ]
    }
   ],
   "source": [
    "a = np.array([1, 2, 3, 4])\n",
    "random.shuffle( a )\n",
    "\n",
    "print(f'Array original permutado: {a}')"
   ]
  },
  {
   "cell_type": "code",
   "execution_count": 7,
   "metadata": {},
   "outputs": [
    {
     "name": "stdout",
     "output_type": "stream",
     "text": [
      "Array original permutado: [1 3 4 2]\n",
      "Array original: [1 2 3 4]\n"
     ]
    }
   ],
   "source": [
    "a = np.array([1, 2, 3, 4])\n",
    "b = random.permutation(a)\n",
    "\n",
    "print(f'Array original permutado: {b}')\n",
    "print(f'Array original: {a}')"
   ]
  },
  {
   "attachments": {},
   "cell_type": "markdown",
   "metadata": {},
   "source": [
    "#### Funciones universales\n",
    "\n",
    "Las funciones universales son aquellas que operan sobre el objeto ndarray.\n",
    "\n",
    "Podemos comprobar si un método se trata de una función universal con la función `type`. Cuando se trata de una función universal, obtenemos que es de tipo `np.ufunc`."
   ]
  },
  {
   "cell_type": "code",
   "execution_count": 8,
   "metadata": {},
   "outputs": [
    {
     "name": "stdout",
     "output_type": "stream",
     "text": [
      "<class 'numpy.ufunc'>\n"
     ]
    }
   ],
   "source": [
    "# Es una función unviersal\n",
    "print( type(np.multiply) )"
   ]
  },
  {
   "cell_type": "code",
   "execution_count": 9,
   "metadata": {},
   "outputs": [
    {
     "data": {
      "text/plain": [
       "True"
      ]
     },
     "execution_count": 9,
     "metadata": {},
     "output_type": "execute_result"
    }
   ],
   "source": [
    "type(np.multiply) == np.ufunc"
   ]
  },
  {
   "cell_type": "code",
   "execution_count": 10,
   "metadata": {},
   "outputs": [
    {
     "name": "stdout",
     "output_type": "stream",
     "text": [
      "<class 'function'>\n"
     ]
    }
   ],
   "source": [
    "# No es una función universal\n",
    "print( type(np.concatenate) )"
   ]
  },
  {
   "cell_type": "code",
   "execution_count": 11,
   "metadata": {},
   "outputs": [
    {
     "data": {
      "text/plain": [
       "False"
      ]
     },
     "execution_count": 11,
     "metadata": {},
     "output_type": "execute_result"
    }
   ],
   "source": [
    "type(np.concatenate) == np.ufunc"
   ]
  },
  {
   "attachments": {},
   "cell_type": "markdown",
   "metadata": {},
   "source": [
    "#### Creando nuestras propias funciones universales\n",
    "\n",
    "Para crear una función universal propia, primero necesitamos definir una función tal cual aprendimos. A continuación, hay que añadirla a `numpy` con el método `.frompyfunc()`, que tomará por parámetros la función `function`, el número de inputs (arrays), `inputs` y el número de arrays que devuelve, `outsputs`:"
   ]
  },
  {
   "cell_type": "code",
   "execution_count": 13,
   "metadata": {},
   "outputs": [
    {
     "name": "stdout",
     "output_type": "stream",
     "text": [
      "[0 2 12]\n"
     ]
    }
   ],
   "source": [
    "def my_sum(x, y):\n",
    "  return x + y\n",
    "\n",
    "my_sum = np.frompyfunc(my_sum, 2, 1)\n",
    "# function = my_sum\n",
    "# inputs = 2, pues my_sum toma dos arrays\n",
    "# outpus = 1, pues my_sum devuelve un array, el array suma\n",
    "\n",
    "a = np.array([1, 0, 7])\n",
    "b = np.array([-1, 2, 5])\n",
    "print( my_sum(a, b) )"
   ]
  },
  {
   "cell_type": "code",
   "execution_count": 14,
   "metadata": {},
   "outputs": [
    {
     "data": {
      "text/plain": [
       "array([[2, 2],\n",
       "       [2, 4]], dtype=object)"
      ]
     },
     "execution_count": 14,
     "metadata": {},
     "output_type": "execute_result"
    }
   ],
   "source": [
    "my_sum(np.array([[1, 2], [3, 4]]), np.array([[1, 0], [-1, 0]]))"
   ]
  },
  {
   "cell_type": "code",
   "execution_count": 15,
   "metadata": {},
   "outputs": [
    {
     "name": "stdout",
     "output_type": "stream",
     "text": [
      "<class 'numpy.ufunc'>\n"
     ]
    }
   ],
   "source": [
    "print( type(my_sum) )"
   ]
  },
  {
   "attachments": {},
   "cell_type": "markdown",
   "metadata": {},
   "source": [
    "#### Aritmética"
   ]
  },
  {
   "cell_type": "code",
   "execution_count": 16,
   "metadata": {},
   "outputs": [],
   "source": [
    "a = np.array([12, 0, 7])\n",
    "b = np.array([8, 2, 5])"
   ]
  },
  {
   "attachments": {},
   "cell_type": "markdown",
   "metadata": {},
   "source": [
    "El método `.add()` suma arrays elemento a elemento"
   ]
  },
  {
   "cell_type": "code",
   "execution_count": 17,
   "metadata": {},
   "outputs": [
    {
     "name": "stdout",
     "output_type": "stream",
     "text": [
      "[20  2 12]\n"
     ]
    }
   ],
   "source": [
    "print( np.add(a, b) )"
   ]
  },
  {
   "attachments": {},
   "cell_type": "markdown",
   "metadata": {},
   "source": [
    "El método `.substract()` resta arrays elemento a elemento"
   ]
  },
  {
   "cell_type": "code",
   "execution_count": 18,
   "metadata": {},
   "outputs": [
    {
     "name": "stdout",
     "output_type": "stream",
     "text": [
      "[ 4 -2  2]\n"
     ]
    }
   ],
   "source": [
    "print( np.subtract(a, b) )"
   ]
  },
  {
   "attachments": {},
   "cell_type": "markdown",
   "metadata": {},
   "source": [
    "El método `.multiply()` multiplica arrays elemento a elemento"
   ]
  },
  {
   "cell_type": "code",
   "execution_count": 19,
   "metadata": {},
   "outputs": [
    {
     "name": "stdout",
     "output_type": "stream",
     "text": [
      "[96  0 35]\n"
     ]
    }
   ],
   "source": [
    "print( np.multiply(a, b) )"
   ]
  },
  {
   "attachments": {},
   "cell_type": "markdown",
   "metadata": {},
   "source": [
    "El método `.divide()` divide arrays elemento a elemento"
   ]
  },
  {
   "cell_type": "code",
   "execution_count": 20,
   "metadata": {},
   "outputs": [
    {
     "name": "stdout",
     "output_type": "stream",
     "text": [
      "[1.5 0.  1.4]\n"
     ]
    }
   ],
   "source": [
    "print( np.divide(a, b) )"
   ]
  },
  {
   "attachments": {},
   "cell_type": "markdown",
   "metadata": {},
   "source": [
    "El método `.power()` calcula la potencia del primer array elevado al segundo elemento a elemento"
   ]
  },
  {
   "cell_type": "code",
   "execution_count": 21,
   "metadata": {},
   "outputs": [
    {
     "name": "stdout",
     "output_type": "stream",
     "text": [
      "[429981696         0     16807]\n"
     ]
    }
   ],
   "source": [
    "print( np.power(a, b) )"
   ]
  },
  {
   "attachments": {},
   "cell_type": "markdown",
   "metadata": {},
   "source": [
    "Tanto el método `.mod()` como el método `.remainder()` calculan el resto de la división entera del primer array entre el segundo, elemento a elemento"
   ]
  },
  {
   "cell_type": "code",
   "execution_count": 22,
   "metadata": {},
   "outputs": [
    {
     "name": "stdout",
     "output_type": "stream",
     "text": [
      "[4 0 2]\n",
      "[4 0 2]\n"
     ]
    }
   ],
   "source": [
    "print( np.mod(a, b) )\n",
    "print( np.remainder(a, b) )"
   ]
  },
  {
   "attachments": {},
   "cell_type": "markdown",
   "metadata": {},
   "source": [
    "El método `.divmod()` devuelve una tupla con 2 arrays, el primero contiene los cocientes y el segundo los restos de las divisiones entteras"
   ]
  },
  {
   "cell_type": "code",
   "execution_count": 23,
   "metadata": {},
   "outputs": [
    {
     "name": "stdout",
     "output_type": "stream",
     "text": [
      "(array([1, 0, 1]), array([4, 0, 2]))\n"
     ]
    }
   ],
   "source": [
    "print( np.divmod(a, b) )"
   ]
  },
  {
   "attachments": {},
   "cell_type": "markdown",
   "metadata": {},
   "source": [
    "El método `.absolute()` devuelve el valor absoluto de cada elemento de un array"
   ]
  },
  {
   "cell_type": "code",
   "execution_count": 24,
   "metadata": {},
   "outputs": [
    {
     "name": "stdout",
     "output_type": "stream",
     "text": [
      "[1 0 2 1 2]\n"
     ]
    }
   ],
   "source": [
    "print( np.absolute(np.array([-1, 0, -2, 1, 2])) )"
   ]
  },
  {
   "attachments": {},
   "cell_type": "markdown",
   "metadata": {},
   "source": [
    "#### Redondeando decimales\n",
    "\n",
    "En `numpy` tenemos 5 formas de redondear los decimales de un número:\n",
    "\n",
    "* `.trunc()` para truncar \n",
    "* `.fix()` también para truncar\n",
    "* `.around()` para redondear\n",
    "* `.floor()` para redondear a la baja\n",
    "* `.ceil()` para redondear a la alza"
   ]
  },
  {
   "cell_type": "code",
   "execution_count": 25,
   "metadata": {},
   "outputs": [],
   "source": [
    "a = np.array([-5.1777, 5.7778, 5.5234])"
   ]
  },
  {
   "cell_type": "code",
   "execution_count": 26,
   "metadata": {},
   "outputs": [
    {
     "name": "stdout",
     "output_type": "stream",
     "text": [
      "Si truncamos con .trunc(), obtendremos [-5.  5.  5.]\n",
      "Si truncamos con .fix(), obtendremos [-5.  5.  5.]\n"
     ]
    }
   ],
   "source": [
    "print(f'Si truncamos con .trunc(), obtendremos {np.trunc(a)}')\n",
    "print(f'Si truncamos con .fix(), obtendremos {np.fix(a)}')"
   ]
  },
  {
   "cell_type": "code",
   "execution_count": 27,
   "metadata": {},
   "outputs": [
    {
     "name": "stdout",
     "output_type": "stream",
     "text": [
      "Si redondeamos con .around(), obtendremos [-5.  6.  6.]\n"
     ]
    }
   ],
   "source": [
    "print(f'Si redondeamos con .around(), obtendremos {np.around(a)}')"
   ]
  },
  {
   "attachments": {},
   "cell_type": "markdown",
   "metadata": {},
   "source": [
    "**Observación**. Como segundo parámetro, podemos indicar a cuántas cifras decimales queremos redondear."
   ]
  },
  {
   "cell_type": "code",
   "execution_count": 28,
   "metadata": {},
   "outputs": [
    {
     "name": "stdout",
     "output_type": "stream",
     "text": [
      "Si redondeamos con .around() a 3 cifras decimales, obtendremos [-5.178  5.778  5.523]\n"
     ]
    }
   ],
   "source": [
    "print(f'Si redondeamos con .around() a 3 cifras decimales, obtendremos {np.around(a, 3)}')"
   ]
  },
  {
   "cell_type": "code",
   "execution_count": 29,
   "metadata": {},
   "outputs": [
    {
     "name": "stdout",
     "output_type": "stream",
     "text": [
      "Si redondeamos a la baja con .floor(), obtendremos [-6.  5.  5.]\n"
     ]
    }
   ],
   "source": [
    "print(f'Si redondeamos a la baja con .floor(), obtendremos {np.floor(a)}')"
   ]
  },
  {
   "cell_type": "code",
   "execution_count": 30,
   "metadata": {},
   "outputs": [
    {
     "name": "stdout",
     "output_type": "stream",
     "text": [
      "Si redondeamos a la alza con .ceil(), obtendremos [-5.  6.  6.]\n"
     ]
    }
   ],
   "source": [
    "print(f'Si redondeamos a la alza con .ceil(), obtendremos {np.ceil(a)}')"
   ]
  },
  {
   "attachments": {},
   "cell_type": "markdown",
   "metadata": {},
   "source": [
    "#### Sumas y Diferencias\n",
    "\n",
    "Ya conocemos el método `.add()` que dados dos arrays los suma elemento a elemento"
   ]
  },
  {
   "cell_type": "code",
   "execution_count": 31,
   "metadata": {},
   "outputs": [],
   "source": [
    "x = np.array([2, 3, 7])\n",
    "y = np.array([-1, 5, 0])"
   ]
  },
  {
   "cell_type": "code",
   "execution_count": 32,
   "metadata": {},
   "outputs": [
    {
     "name": "stdout",
     "output_type": "stream",
     "text": [
      "[1 8 7]\n"
     ]
    }
   ],
   "source": [
    "print(np.add(x, y))"
   ]
  },
  {
   "attachments": {},
   "cell_type": "markdown",
   "metadata": {},
   "source": [
    "El método `.sum()` nos calcula la suma de los elementos de un array"
   ]
  },
  {
   "cell_type": "code",
   "execution_count": 33,
   "metadata": {},
   "outputs": [
    {
     "name": "stdout",
     "output_type": "stream",
     "text": [
      "La suma de los elementos de x es 12\n",
      "La suma de los elementos de y es 4\n"
     ]
    }
   ],
   "source": [
    "print(f'La suma de los elementos de x es {np.sum(x)}')\n",
    "print(f'La suma de los elementos de y es {np.sum(y)}')"
   ]
  },
  {
   "attachments": {},
   "cell_type": "markdown",
   "metadata": {},
   "source": [
    "**Observación**. Cuando por parámetro pasamos un array multidimensional, volvemos a tener disponible el ya más conocido parámetro `axis`, para seleccionar sobre qué eje queremos realizar la suma."
   ]
  },
  {
   "cell_type": "code",
   "execution_count": 35,
   "metadata": {},
   "outputs": [
    {
     "name": "stdout",
     "output_type": "stream",
     "text": [
      "\n",
      "La suma de los elementos de z sobre el axis 0 es\n",
      "[[ 4  9]\n",
      " [ 8 14]\n",
      " [14 21]\n",
      " [18 26]]\n",
      "\n",
      "La suma de los elementos de z sobre el axis 1 es\n",
      "[[16 20]\n",
      " [14 28]\n",
      " [14 22]]\n",
      "\n",
      "La suma de los elementos de z sobre el axis 2 es\n",
      "[[ 3  7 11 15]\n",
      " [ 6  9 12 15]\n",
      " [ 4  6 12 14]]\n",
      "\n",
      "La suma de todos los elementos de z es 114\n"
     ]
    }
   ],
   "source": [
    "z = np.array([[\n",
    "  [1, 2], [3, 4], [5, 6], [7, 8]],\n",
    "  [[2, 4], [3, 6], [4, 8], [5, 10]],\n",
    "  [[1, 3], [2, 4], [5, 7], [6, 8]]\n",
    "])\n",
    "\n",
    "for i in range(z.ndim):\n",
    "  print(f'\\nLa suma de los elementos de z sobre el axis {i} es\\n{np.sum(z, axis = i)}')\n",
    "\n",
    "print(f'\\nLa suma de todos los elementos de z es {np.sum(z)}')"
   ]
  },
  {
   "attachments": {},
   "cell_type": "markdown",
   "metadata": {},
   "source": [
    "Para calcular la suma acumulada de los elementos de un array, disponemos del método `.cumsum()`"
   ]
  },
  {
   "cell_type": "code",
   "execution_count": 36,
   "metadata": {},
   "outputs": [
    {
     "name": "stdout",
     "output_type": "stream",
     "text": [
      "La suma acumulada de los elementos de x es [ 2  5 12]\n",
      "La suma acumulada de los elementosde y es [-1  4  4]\n"
     ]
    }
   ],
   "source": [
    "print(f'La suma acumulada de los elementos de x es {np.cumsum(x)}')\n",
    "print(f'La suma acumulada de los elementosde y es {np.cumsum(y)}')"
   ]
  },
  {
   "attachments": {},
   "cell_type": "markdown",
   "metadata": {},
   "source": [
    "**Observación**. Cuando por parámetro pasamos un array multidimensional, volvemos a tener disponible el ya más que conocido parámetro `axis`, para seleccionar sobre qué eje queremos realizar la suma acumulada."
   ]
  },
  {
   "cell_type": "code",
   "execution_count": 37,
   "metadata": {},
   "outputs": [
    {
     "name": "stdout",
     "output_type": "stream",
     "text": [
      "\n",
      "La suma acumulada de los elementos de z sobre el axis 0 es\n",
      "[[[ 1  2]\n",
      "  [ 3  4]\n",
      "  [ 5  6]\n",
      "  [ 7  8]]\n",
      "\n",
      " [[ 3  6]\n",
      "  [ 6 10]\n",
      "  [ 9 14]\n",
      "  [12 18]]\n",
      "\n",
      " [[ 4  9]\n",
      "  [ 8 14]\n",
      "  [14 21]\n",
      "  [18 26]]]\n",
      "\n",
      "La suma acumulada de los elementos de z sobre el axis 1 es\n",
      "[[[ 1  2]\n",
      "  [ 4  6]\n",
      "  [ 9 12]\n",
      "  [16 20]]\n",
      "\n",
      " [[ 2  4]\n",
      "  [ 5 10]\n",
      "  [ 9 18]\n",
      "  [14 28]]\n",
      "\n",
      " [[ 1  3]\n",
      "  [ 3  7]\n",
      "  [ 8 14]\n",
      "  [14 22]]]\n",
      "\n",
      "La suma acumulada de los elementos de z sobre el axis 2 es\n",
      "[[[ 1  3]\n",
      "  [ 3  7]\n",
      "  [ 5 11]\n",
      "  [ 7 15]]\n",
      "\n",
      " [[ 2  6]\n",
      "  [ 3  9]\n",
      "  [ 4 12]\n",
      "  [ 5 15]]\n",
      "\n",
      " [[ 1  4]\n",
      "  [ 2  6]\n",
      "  [ 5 12]\n",
      "  [ 6 14]]]\n",
      "\n",
      "La suma acumulada de todos los elementos de z es [  1   3   6  10  15  21  28  36  38  42  45  51  55  63  68  78  79  82\n",
      "  84  88  93 100 106 114]\n"
     ]
    }
   ],
   "source": [
    "z = np.array([[\n",
    "  [1, 2], [3, 4], [5, 6], [7, 8]],\n",
    "  [[2, 4], [3, 6], [4, 8], [5, 10]],\n",
    "  [[1, 3], [2, 4], [5, 7], [6, 8]]\n",
    "])\n",
    "\n",
    "for i in range(z.ndim):\n",
    "  print(f'\\nLa suma acumulada de los elementos de z sobre el axis {i} es\\n{np.cumsum(z, axis = i)}')\n",
    "\n",
    "print(f'\\nLa suma acumulada de todos los elementos de z es {np.cumsum(z)}')"
   ]
  },
  {
   "attachments": {},
   "cell_type": "markdown",
   "metadata": {},
   "source": [
    "Para calcular las diferencias entre los elementos de un array, disponemos del método `.diff()`"
   ]
  },
  {
   "cell_type": "code",
   "execution_count": 38,
   "metadata": {},
   "outputs": [
    {
     "name": "stdout",
     "output_type": "stream",
     "text": [
      "La diferencia de elementos sucesivos de x es [1 4]\n",
      "La diferencia de elementos sucesivos de y es [ 6 -5]\n"
     ]
    }
   ],
   "source": [
    "print(f'La diferencia de elementos sucesivos de x es {np.diff(x)}')\n",
    "print(f'La diferencia de elementos sucesivos de y es {np.diff(y)}')"
   ]
  },
  {
   "attachments": {},
   "cell_type": "markdown",
   "metadata": {},
   "source": [
    "**Observación**. Cuando por parámetro pasamos un array multidimensional, volvemos a tener disponible el ya más que conocido parámetro `axis`, para seleccionar sobre qué eje queremos realizar la diferencia."
   ]
  },
  {
   "cell_type": "code",
   "execution_count": 39,
   "metadata": {},
   "outputs": [
    {
     "name": "stdout",
     "output_type": "stream",
     "text": [
      "\n",
      "La diferencia de los elementos sucesivos de z sobre el axis 0 es\n",
      "[[[ 1  2]\n",
      "  [ 0  2]\n",
      "  [-1  2]\n",
      "  [-2  2]]\n",
      "\n",
      " [[-1 -1]\n",
      "  [-1 -2]\n",
      "  [ 1 -1]\n",
      "  [ 1 -2]]]\n",
      "\n",
      "La diferencia de los elementos sucesivos de z sobre el axis 1 es\n",
      "[[[2 2]\n",
      "  [2 2]\n",
      "  [2 2]]\n",
      "\n",
      " [[1 2]\n",
      "  [1 2]\n",
      "  [1 2]]\n",
      "\n",
      " [[1 1]\n",
      "  [3 3]\n",
      "  [1 1]]]\n",
      "\n",
      "La diferencia de los elementos sucesivos de z sobre el axis 2 es\n",
      "[[[1]\n",
      "  [1]\n",
      "  [1]\n",
      "  [1]]\n",
      "\n",
      " [[2]\n",
      "  [3]\n",
      "  [4]\n",
      "  [5]]\n",
      "\n",
      " [[2]\n",
      "  [2]\n",
      "  [2]\n",
      "  [2]]]\n"
     ]
    }
   ],
   "source": [
    "z = np.array([[\n",
    "  [1, 2], [3, 4], [5, 6], [7, 8]],\n",
    "  [[2, 4], [3, 6], [4, 8], [5, 10]],\n",
    "  [[1, 3], [2, 4], [5, 7], [6, 8]]\n",
    "])\n",
    "\n",
    "for i in range(z.ndim):\n",
    "  print(f'\\nLa diferencia de los elementos sucesivos de z sobre el axis {i} es\\n{np.diff(z, axis = i)}')"
   ]
  },
  {
   "attachments": {},
   "cell_type": "markdown",
   "metadata": {},
   "source": [
    "El parámetrto `n` nos permite elegir cuántas veces queremos calcular la diferencia entre los slementos sucesivos de un array:"
   ]
  },
  {
   "cell_type": "code",
   "execution_count": 40,
   "metadata": {},
   "outputs": [
    {
     "name": "stdout",
     "output_type": "stream",
     "text": [
      "x = [2 3 7]\n",
      "Realizando la diferencia entre sus elementos sucesivos obtenemos [1 4]\n",
      "Realizando 2 veces la diferenia entre sus elementos sucesivos obtenemos [3]\n"
     ]
    }
   ],
   "source": [
    "print(f'x = {x}')\n",
    "print(f'Realizando la diferencia entre sus elementos sucesivos obtenemos {np.diff(x)}')\n",
    "print(f'Realizando 2 veces la diferenia entre sus elementos sucesivos obtenemos {np.diff(x, n=2)}')"
   ]
  },
  {
   "cell_type": "code",
   "execution_count": 41,
   "metadata": {},
   "outputs": [
    {
     "name": "stdout",
     "output_type": "stream",
     "text": [
      "y = [-1  5  0]\n",
      "Realizando la diferencia entre sus elementos sucesivos obtenemos [ 6 -5]\n",
      "Realizando 2 veces la diferenia entre sus elementos sucesivos obtenemos [-11]\n"
     ]
    }
   ],
   "source": [
    "print(f'y = {y}')\n",
    "print(f'Realizando la diferencia entre sus elementos sucesivos obtenemos {np.diff(y)}')\n",
    "print(f'Realizando 2 veces la diferenia entre sus elementos sucesivos obtenemos {np.diff(y, n=2)}')"
   ]
  },
  {
   "attachments": {},
   "cell_type": "markdown",
   "metadata": {},
   "source": [
    "#### Productos\n",
    "\n",
    "El método `.prod()` calcula el producto de los elementos de un array"
   ]
  },
  {
   "cell_type": "code",
   "execution_count": 42,
   "metadata": {},
   "outputs": [
    {
     "data": {
      "text/plain": [
       "384"
      ]
     },
     "execution_count": 42,
     "metadata": {},
     "output_type": "execute_result"
    }
   ],
   "source": [
    "a = np.array([2, 4, 6, 8])\n",
    "np.prod(a)"
   ]
  },
  {
   "attachments": {},
   "cell_type": "markdown",
   "metadata": {},
   "source": [
    "**Observación**. Cuando por parámetro pasamos un array multidimensional, volvemos a tener disponible el parámetro `axis`, para seleccionar sobre qué eje queremos realizar el producto de los elementos"
   ]
  },
  {
   "cell_type": "code",
   "execution_count": 49,
   "metadata": {},
   "outputs": [
    {
     "name": "stdout",
     "output_type": "stream",
     "text": [
      "\n",
      "El producto de los elementos de b sobre el axis 0 es\n",
      "[[  -2  -24]\n",
      " [ -18  -96]\n",
      " [-100 -336]\n",
      " [-210 -640]]\n",
      "\n",
      "El producto de los elementos de b sobre el axis 1 es\n",
      "[[ 105  384]\n",
      " [ 120 1920]\n",
      " [  60  672]]\n",
      "\n",
      "El producto de los elementos de b sobre el axis 2 es\n",
      "[[  2  12  30  56]\n",
      " [ -8 -18 -32 -50]\n",
      " [ -3  -8 -35 -48]]\n",
      "\n",
      "El producto de todos los elemetnos de b es 374561832960000\n"
     ]
    }
   ],
   "source": [
    "b = np.array([[\n",
    "  [1, 2], [3, 4], [5, 6], [7, 8]],\n",
    "  [[2, -4], [3, -6], [4, -8], [5, -10]],\n",
    "  [[-1, 3], [-2, 4], [-5, 7], [-6, 8]]\n",
    "])\n",
    "\n",
    "for i in range(b.ndim):\n",
    "  print(f'\\nEl producto de los elementos de b sobre el axis {i} es\\n{np.prod(b, axis = i)}')\n",
    "\n",
    "print(f'\\nEl producto de todos los elemetnos de b es {np.prod(b)}')"
   ]
  },
  {
   "attachments": {},
   "cell_type": "markdown",
   "metadata": {},
   "source": [
    "Con el método `.cumprod()` podemos calcular el producto acumulado de un array"
   ]
  },
  {
   "cell_type": "code",
   "execution_count": 48,
   "metadata": {},
   "outputs": [
    {
     "data": {
      "text/plain": [
       "array([  2,   8,  48, 384])"
      ]
     },
     "execution_count": 48,
     "metadata": {},
     "output_type": "execute_result"
    }
   ],
   "source": [
    "a = np.array([2, 4, 6, 8])\n",
    "np.cumprod(a)"
   ]
  },
  {
   "attachments": {},
   "cell_type": "markdown",
   "metadata": {},
   "source": [
    "**Observación**. Cuando por parámetro pasamos un array multidimensional, volvemos a tener disponible el parámetro `axis`, para seleccionar sobre qué eje queremos realizar el producto de los elementos"
   ]
  },
  {
   "cell_type": "code",
   "execution_count": 50,
   "metadata": {},
   "outputs": [
    {
     "name": "stdout",
     "output_type": "stream",
     "text": [
      "\n",
      "El producto acumulado de los elementos de b sobre el axis 0 es\n",
      "[[[   1    2]\n",
      "  [   3    4]\n",
      "  [   5    6]\n",
      "  [   7    8]]\n",
      "\n",
      " [[   2   -8]\n",
      "  [   9  -24]\n",
      "  [  20  -48]\n",
      "  [  35  -80]]\n",
      "\n",
      " [[  -2  -24]\n",
      "  [ -18  -96]\n",
      "  [-100 -336]\n",
      "  [-210 -640]]]\n",
      "\n",
      "El producto acumulado de los elementos de b sobre el axis 1 es\n",
      "[[[   1    2]\n",
      "  [   3    8]\n",
      "  [  15   48]\n",
      "  [ 105  384]]\n",
      "\n",
      " [[   2   -4]\n",
      "  [   6   24]\n",
      "  [  24 -192]\n",
      "  [ 120 1920]]\n",
      "\n",
      " [[  -1    3]\n",
      "  [   2   12]\n",
      "  [ -10   84]\n",
      "  [  60  672]]]\n",
      "\n",
      "El producto acumulado de los elementos de b sobre el axis 2 es\n",
      "[[[  1   2]\n",
      "  [  3  12]\n",
      "  [  5  30]\n",
      "  [  7  56]]\n",
      "\n",
      " [[  2  -8]\n",
      "  [  3 -18]\n",
      "  [  4 -32]\n",
      "  [  5 -50]]\n",
      "\n",
      " [[ -1  -3]\n",
      "  [ -2  -8]\n",
      "  [ -5 -35]\n",
      "  [ -6 -48]]]\n",
      "\n",
      "El producto acumulado de todos los elemetnos de b es [              1               2               6              24\n",
      "             120             720            5040           40320\n",
      "           80640         -322560         -967680         5806080\n",
      "        23224320      -185794560      -928972800      9289728000\n",
      "     -9289728000    -27869184000     55738368000    222953472000\n",
      "  -1114767360000  -7803371520000  46820229120000 374561832960000]\n"
     ]
    }
   ],
   "source": [
    "b = np.array([[\n",
    "  [1, 2], [3, 4], [5, 6], [7, 8]],\n",
    "  [[2, -4], [3, -6], [4, -8], [5, -10]],\n",
    "  [[-1, 3], [-2, 4], [-5, 7], [-6, 8]]\n",
    "])\n",
    "\n",
    "for i in range(b.ndim):\n",
    "  print(f'\\nEl producto acumulado de los elementos de b sobre el axis {i} es\\n{np.cumprod(b, axis = i)}')\n",
    "\n",
    "print(f'\\nEl producto acumulado de todos los elemetnos de b es {np.cumprod(b)}')"
   ]
  },
  {
   "attachments": {},
   "cell_type": "markdown",
   "metadata": {},
   "source": [
    "#### Logaritmos\n",
    "\n",
    "Podemos calcular el logaritmo neperiano de todos los elementos de un array con el método `.log()`"
   ]
  },
  {
   "cell_type": "code",
   "execution_count": 51,
   "metadata": {},
   "outputs": [
    {
     "name": "stdout",
     "output_type": "stream",
     "text": [
      "[1.60943791 2.48490665 3.52636052 1.94591015 4.00733319]\n"
     ]
    }
   ],
   "source": [
    "a = np.array([5, 12, 34, 7, 55])\n",
    "print(np.log(a))"
   ]
  },
  {
   "attachments": {},
   "cell_type": "markdown",
   "metadata": {},
   "source": [
    "`numpy` no ofrece ningún método que calcule logaritmos en cualquier otra base que no sea `e`. Por eso, la creamos nosotros a partir del método `math.log()`"
   ]
  },
  {
   "cell_type": "code",
   "execution_count": 52,
   "metadata": {},
   "outputs": [
    {
     "name": "stdout",
     "output_type": "stream",
     "text": [
      "[2.0 2.9999999999999996 1.6989700043360185 2.6989700043360183]\n"
     ]
    }
   ],
   "source": [
    "from math import log\n",
    "\n",
    "nplog = np.frompyfunc(log, 2, 1)\n",
    "print(nplog(np.array([100, 1000, 50, 500]), 10))"
   ]
  },
  {
   "attachments": {},
   "cell_type": "markdown",
   "metadata": {},
   "source": [
    "#### MCM y MCD\n",
    "\n",
    "Podemos calcular el Mínimo Común Múltiplo de los elementos de un array con el método `.lcm.reduce()`"
   ]
  },
  {
   "cell_type": "code",
   "execution_count": 53,
   "metadata": {},
   "outputs": [
    {
     "data": {
      "text/plain": [
       "60"
      ]
     },
     "execution_count": 53,
     "metadata": {},
     "output_type": "execute_result"
    }
   ],
   "source": [
    "a = np.array([2, 3, 5, 12])\n",
    "np.lcm.reduce( a )"
   ]
  },
  {
   "attachments": {},
   "cell_type": "markdown",
   "metadata": {},
   "source": [
    "Podemos calcular el Máximo Común Divisor de los elementos de un array con el método `.gcd.reduce()`"
   ]
  },
  {
   "cell_type": "code",
   "execution_count": 54,
   "metadata": {},
   "outputs": [
    {
     "data": {
      "text/plain": [
       "3"
      ]
     },
     "execution_count": 54,
     "metadata": {},
     "output_type": "execute_result"
    }
   ],
   "source": [
    "b = np.array([15, 12, 27])\n",
    "np.gcd.reduce(b)"
   ]
  },
  {
   "attachments": {},
   "cell_type": "markdown",
   "metadata": {},
   "source": [
    "#### Trigonometría\n",
    "\n",
    "En `numpy` el número `π` se obtiene con `np.pi`.\n",
    "\n",
    "En `numpy` disponemos de los métodos:\n",
    "\n",
    "* `sin()`\n",
    "* `cos()`\n",
    "* `tan()`\n",
    "\n",
    "Para calcular el seno, coseno y tangente de los elementos de un array (los valores se consideran en radianes)\n",
    "\n",
    "* `deg2rad()`\n",
    "* `rad2deg()`\n",
    "\n",
    "Para calcular conversión de ángulos a radianes y de radianes a ángulos respectivamente\n",
    "\n",
    "* `arcsin()`\n",
    "* `arcson()`\n",
    "* `arctan()`\n",
    "\n",
    "Para calcular el arcoseno, arcocoseno y arcotangente y hallar ángulos (el resultado es devuelto en radianes)"
   ]
  },
  {
   "attachments": {},
   "cell_type": "markdown",
   "metadata": {},
   "source": [
    "#### Funciones hiperbílicas\n",
    "\n",
    "En `numpy` disponemo de los métodos:\n",
    "\n",
    "* `sinh()`\n",
    "* `cosh()`\n",
    "* `tanh()`\n",
    "\n",
    "Para clacular el seno, coseno y tangentes hiperbólicos de los elementos de un array (los valores se consideran en radianes)\n",
    "\n",
    "* `arcsinh()`\n",
    "* `arccosh()`\n",
    "* `arctanh()`\n",
    "\n",
    "Para calcular el arcoseno, arcocoseno y arcotangente hiperbólicos y hallar ángulos (el resultado es devuelto en radianes)"
   ]
  },
  {
   "attachments": {},
   "cell_type": "markdown",
   "metadata": {},
   "source": [
    "#### Conjuntos en `numpy`\n",
    "\n",
    "Para crear un conjunto a partir de un array, usamos el método `.unique()`:"
   ]
  },
  {
   "cell_type": "code",
   "execution_count": 55,
   "metadata": {},
   "outputs": [
    {
     "name": "stdout",
     "output_type": "stream",
     "text": [
      "[-1  1  2  4  5  6]\n"
     ]
    }
   ],
   "source": [
    "a = np.array([1, 2, -1, 1, 5, 6, 2, 4, -1, 2])\n",
    "set_a = np.unique(a)\n",
    "print(set_a)"
   ]
  },
  {
   "attachments": {},
   "cell_type": "markdown",
   "metadata": {},
   "source": [
    "Para hallar la unión entre dos arrays 1D, usamos el método `.union1d()`"
   ]
  },
  {
   "cell_type": "code",
   "execution_count": 56,
   "metadata": {},
   "outputs": [
    {
     "name": "stdout",
     "output_type": "stream",
     "text": [
      "[-2 -1  0  1  2  3  4]\n"
     ]
    }
   ],
   "source": [
    "x = np.array([1, 2, 3, 4])\n",
    "y = np.array([-2, -1, 0, 1])\n",
    "print(np.union1d(x, y))"
   ]
  },
  {
   "attachments": {},
   "cell_type": "markdown",
   "metadata": {},
   "source": [
    "Para hallar la intersección entre dos arrays 1D, usamos el método `.intersect1d()`"
   ]
  },
  {
   "cell_type": "code",
   "execution_count": 57,
   "metadata": {},
   "outputs": [
    {
     "name": "stdout",
     "output_type": "stream",
     "text": [
      "[1]\n"
     ]
    }
   ],
   "source": [
    "print(np.intersect1d(x, y))"
   ]
  },
  {
   "attachments": {},
   "cell_type": "markdown",
   "metadata": {},
   "source": [
    "Para hallar la diferencia entre dos arrays 1D, disponemos del método `.setdiff1d()`"
   ]
  },
  {
   "cell_type": "code",
   "execution_count": 58,
   "metadata": {},
   "outputs": [
    {
     "name": "stdout",
     "output_type": "stream",
     "text": [
      "[2 3 4]\n",
      "[-2 -1  0]\n"
     ]
    }
   ],
   "source": [
    "print(np.setdiff1d(x, y))\n",
    "print(np.setdiff1d(y, x))"
   ]
  },
  {
   "attachments": {},
   "cell_type": "markdown",
   "metadata": {},
   "source": [
    "Para hallar la diferencia simétrica entre dos arrays 1D, usamos el método `.setxor1d()`"
   ]
  },
  {
   "cell_type": "code",
   "execution_count": 59,
   "metadata": {},
   "outputs": [
    {
     "name": "stdout",
     "output_type": "stream",
     "text": [
      "[-2 -1  0  2  3  4]\n"
     ]
    }
   ],
   "source": [
    "print(np.setxor1d(x, y))"
   ]
  }
 ],
 "metadata": {
  "kernelspec": {
   "display_name": "Python 3",
   "language": "python",
   "name": "python3"
  },
  "language_info": {
   "codemirror_mode": {
    "name": "ipython",
    "version": 3
   },
   "file_extension": ".py",
   "mimetype": "text/x-python",
   "name": "python",
   "nbconvert_exporter": "python",
   "pygments_lexer": "ipython3",
   "version": "3.10.6"
  },
  "orig_nbformat": 4,
  "vscode": {
   "interpreter": {
    "hash": "916dbcbb3f70747c44a77c7bcd40155683ae19c65e1c03b4aa3499c5328201f1"
   }
  }
 },
 "nbformat": 4,
 "nbformat_minor": 2
}
